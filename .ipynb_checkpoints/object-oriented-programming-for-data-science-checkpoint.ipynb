{
 "cells": [
  {
   "cell_type": "code",
   "execution_count": 3,
   "id": "d6924e9a",
   "metadata": {},
   "outputs": [
    {
     "data": {
      "text/html": [
       "<style>.container {width:90% !important;}</style>"
      ],
      "text/plain": [
       "<IPython.core.display.HTML object>"
      ]
     },
     "metadata": {},
     "output_type": "display_data"
    }
   ],
   "source": [
    "%run /Users/tungvuduc/Desktop/PhD/projects/python_functions/functions_urine_edited.ipynb"
   ]
  },
  {
   "cell_type": "code",
   "execution_count": 1,
   "id": "e2e699d4",
   "metadata": {
    "collapsed": true,
    "execution": {
     "iopub.execute_input": "2021-09-28T21:33:55.124492Z",
     "iopub.status.busy": "2021-09-28T21:33:55.123627Z",
     "iopub.status.idle": "2021-09-28T21:34:00.160159Z",
     "shell.execute_reply": "2021-09-28T21:34:00.159403Z",
     "shell.execute_reply.started": "2021-09-28T21:16:15.672601Z"
    },
    "papermill": {
     "duration": 5.091071,
     "end_time": "2021-09-28T21:34:00.160356",
     "exception": false,
     "start_time": "2021-09-28T21:33:55.069285",
     "status": "completed"
    },
    "tags": []
   },
   "outputs": [
    {
     "ename": "ModuleNotFoundError",
     "evalue": "No module named 'cufflinks'",
     "output_type": "error",
     "traceback": [
      "\u001b[0;31m---------------------------------------------------------------------------\u001b[0m",
      "\u001b[0;31mModuleNotFoundError\u001b[0m                       Traceback (most recent call last)",
      "\u001b[0;32m/var/folders/8z/k5tph_7d3cd3tq2s362kbfch0000gn/T/ipykernel_88734/2515992170.py\u001b[0m in \u001b[0;36m<module>\u001b[0;34m\u001b[0m\n\u001b[1;32m     11\u001b[0m \u001b[0;32mimport\u001b[0m \u001b[0mplotly\u001b[0m\u001b[0;34m.\u001b[0m\u001b[0mexpress\u001b[0m \u001b[0;32mas\u001b[0m \u001b[0mpx\u001b[0m\u001b[0;34m\u001b[0m\u001b[0;34m\u001b[0m\u001b[0m\n\u001b[1;32m     12\u001b[0m \u001b[0;32mfrom\u001b[0m \u001b[0mplotly\u001b[0m\u001b[0;34m.\u001b[0m\u001b[0moffline\u001b[0m \u001b[0;32mimport\u001b[0m \u001b[0miplot\u001b[0m\u001b[0;34m,\u001b[0m \u001b[0minit_notebook_mode\u001b[0m\u001b[0;34m\u001b[0m\u001b[0;34m\u001b[0m\u001b[0m\n\u001b[0;32m---> 13\u001b[0;31m \u001b[0;32mimport\u001b[0m \u001b[0mcufflinks\u001b[0m \u001b[0;32mas\u001b[0m \u001b[0mcf\u001b[0m\u001b[0;34m\u001b[0m\u001b[0;34m\u001b[0m\u001b[0m\n\u001b[0m\u001b[1;32m     14\u001b[0m \u001b[0;34m\u001b[0m\u001b[0m\n\u001b[1;32m     15\u001b[0m \u001b[0;31m#machine learning libraries:\u001b[0m\u001b[0;34m\u001b[0m\u001b[0;34m\u001b[0m\u001b[0m\n",
      "\u001b[0;31mModuleNotFoundError\u001b[0m: No module named 'cufflinks'"
     ]
    }
   ],
   "source": [
    "#main libraries\n",
    "import os\n",
    "import numpy as np\n",
    "import pandas as pd\n",
    "import warnings\n",
    "\n",
    "#visualization libraries\n",
    "import plotly \n",
    "import plotly.graph_objs as go\n",
    "import plotly.io as pio\n",
    "import plotly.express as px\n",
    "from plotly.offline import iplot, init_notebook_mode\n",
    "import cufflinks as cf\n",
    "\n",
    "#machine learning libraries:\n",
    "from sklearn.svm import SVR\n",
    "from sklearn.pipeline import make_pipeline\n",
    "from sklearn.model_selection import cross_validate, train_test_split, KFold, cross_val_score\n",
    "from sklearn.preprocessing  import StandardScaler, LabelEncoder, RobustScaler\n",
    "from sklearn.ensemble import RandomForestRegressor\n",
    "from xgboost import XGBRegressor\n",
    "from sklearn.linear_model import ElasticNet, Lasso,  BayesianRidge, LassoLarsIC\n",
    "from sklearn.kernel_ridge import KernelRidge\n",
    "from sklearn.ensemble import GradientBoostingRegressor\n",
    "from sklearn.metrics import mean_squared_error, mean_absolute_error, r2_score\n",
    "import xgboost as xgb\n",
    "\n",
    "# You can go offline on demand by using\n",
    "cf.go_offline() \n",
    "\n",
    "# initiate notebook for offline plot\n",
    "init_notebook_mode(connected=False)         \n",
    "\n",
    "# set some display options:\n",
    "colors = px.colors.qualitative.Prism\n",
    "pio.templates.default = \"plotly_white\"\n",
    "\n",
    "# see our files:\n",
    "# for dirname, _, filenames in os.walk('/kaggle/input'):\n",
    "#     for filename in filenames:\n",
    "#         print(os.path.join(dirname, filename))"
   ]
  },
  {
   "cell_type": "code",
   "execution_count": 2,
   "id": "a274203f",
   "metadata": {
    "execution": {
     "iopub.execute_input": "2021-09-28T21:34:00.462556Z",
     "iopub.status.busy": "2021-09-28T21:34:00.461784Z",
     "iopub.status.idle": "2021-09-28T21:34:00.464525Z",
     "shell.execute_reply": "2021-09-28T21:34:00.465000Z",
     "shell.execute_reply.started": "2021-09-28T21:16:15.855084Z"
    },
    "papermill": {
     "duration": 0.154649,
     "end_time": "2021-09-28T21:34:00.465160",
     "exception": false,
     "start_time": "2021-09-28T21:34:00.310511",
     "status": "completed"
    },
    "tags": []
   },
   "outputs": [
    {
     "name": "stdout",
     "output_type": "stream",
     "text": [
      "Warnings were ignored\n"
     ]
    }
   ],
   "source": [
    "warnings.filterwarnings('ignore')\n",
    "print(\"Warnings were ignored\")"
   ]
  },
  {
   "cell_type": "markdown",
   "id": "047810c5",
   "metadata": {
    "papermill": {
     "duration": 0.14388,
     "end_time": "2021-09-28T21:34:00.753314",
     "exception": false,
     "start_time": "2021-09-28T21:34:00.609434",
     "status": "completed"
    },
    "tags": []
   },
   "source": [
    "# <p style=\"background-color:skyblue; font-family:newtimeroman; font-size:100%; text-align:center; border-radius: 15px 50px;\">Creating our Classes 🐍</p>"
   ]
  },
  {
   "cell_type": "markdown",
   "id": "41fc79f8",
   "metadata": {
    "papermill": {
     "duration": 0.14548,
     "end_time": "2021-09-28T21:34:01.042972",
     "exception": false,
     "start_time": "2021-09-28T21:34:00.897492",
     "status": "completed"
    },
    "tags": []
   },
   "source": [
    "<a id=\"info_class\"></a>\n",
    "<h1>Information Class</h1>"
   ]
  },
  {
   "cell_type": "code",
   "execution_count": 3,
   "id": "91af69c5",
   "metadata": {
    "execution": {
     "iopub.execute_input": "2021-09-28T21:34:01.355100Z",
     "iopub.status.busy": "2021-09-28T21:34:01.354073Z",
     "iopub.status.idle": "2021-09-28T21:34:01.357215Z",
     "shell.execute_reply": "2021-09-28T21:34:01.356592Z",
     "shell.execute_reply.started": "2021-09-28T21:16:15.862465Z"
    },
    "papermill": {
     "duration": 0.16473,
     "end_time": "2021-09-28T21:34:01.357376",
     "exception": false,
     "start_time": "2021-09-28T21:34:01.192646",
     "status": "completed"
    },
    "tags": []
   },
   "outputs": [],
   "source": [
    "class Information:\n",
    "    \"\"\"\n",
    "    This class shows some information about the dataset\n",
    "    \"\"\"\n",
    "    def __init__(self):\n",
    "        \n",
    "        print()\n",
    "        print('Information object is created')\n",
    "        print()\n",
    "        \n",
    "    def get_missing_values(self, data):\n",
    "        \"\"\"\n",
    "        This function finds the missing values in the dataset\n",
    "        ...\n",
    "        Attributes\n",
    "        ----------\n",
    "        data : Pandas DataFrame\n",
    "        The data you want to see information about\n",
    "        \n",
    "        Returns\n",
    "        ----------\n",
    "        A Pandas Series contains the missing values in descending order\n",
    "        \"\"\"\n",
    "        #get the sum of all missing values in the dataset\n",
    "        missing_values = data.isnull().sum()\n",
    "        #sorting the missing values in a pandas Series\n",
    "        missing_values = missing_values.sort_values(ascending=False)\n",
    "        \n",
    "        #returning the missing values Series\n",
    "        return missing_values\n",
    "    \n",
    "    def _info_(self, data):\n",
    "        \"\"\"\n",
    "        This function shows some information about the data like \n",
    "        Feature names,data type, number of missing values for each feature \n",
    "        and ten samples of each feature\n",
    "        ...\n",
    "        Attributes\n",
    "        ----------\n",
    "        data : Pandas DataFrame\n",
    "            The data you want to see information about\n",
    "        \n",
    "        Returns\n",
    "        ----------\n",
    "        Information about the DataFrame\n",
    "        \"\"\"\n",
    "        self.data=data\n",
    "        feature_dtypes=self.data.dtypes\n",
    "        self.missing_values=self.get_missing_values(self.data)\n",
    "        feature_names=self.missing_values.index.values\n",
    "        missing_values=self.missing_values.values\n",
    "        rows, columns=data.shape\n",
    "\n",
    "        print(\"=\" * 50)\n",
    "        print('====> This data contains {} rows and {} columns'.format(rows,columns))\n",
    "        print(\"=\" * 50)\n",
    "        print()\n",
    "        \n",
    "        print(\"{:13} {:13} {:30} {:15}\".format('Feature Name'.upper(),\n",
    "                                               'Data Format'.upper(),\n",
    "                                               'Null values(Num-Perc)'.upper(),\n",
    "                                               'Seven Samples'.upper()))\n",
    "        for feature_name, dtype, missing_value in zip(feature_names,feature_dtypes[feature_names],missing_values):\n",
    "            print(\"{:15} {:14} {:20}\".format(feature_name,\n",
    "                                             str(dtype), \n",
    "                                             str(missing_value) + ' - ' + \n",
    "                                             str(round(100*missing_value/sum(self.missing_values),3))+' %'), end=\"\")\n",
    "\n",
    "            for i in np.random.randint(0,len(data),7):\n",
    "                print(data[feature_name].iloc[i], end=\",\")\n",
    "            print()\n",
    "\n",
    "        print(\"=\"*50)"
   ]
  },
  {
   "cell_type": "markdown",
   "id": "863a2b28",
   "metadata": {
    "papermill": {
     "duration": 0.145646,
     "end_time": "2021-09-28T21:34:01.648373",
     "exception": false,
     "start_time": "2021-09-28T21:34:01.502727",
     "status": "completed"
    },
    "tags": []
   },
   "source": [
    "<a href=\"#outlines\"><b>Up to outlines</b>"
   ]
  },
  {
   "cell_type": "markdown",
   "id": "625c144d",
   "metadata": {
    "papermill": {
     "duration": 0.146557,
     "end_time": "2021-09-28T21:34:01.941925",
     "exception": false,
     "start_time": "2021-09-28T21:34:01.795368",
     "status": "completed"
    },
    "tags": []
   },
   "source": [
    "<a id=\"pre_process_class\"></a>\n",
    "<h1>Data pre-processing Class</h1>"
   ]
  },
  {
   "cell_type": "code",
   "execution_count": 4,
   "id": "943d3c4e",
   "metadata": {
    "execution": {
     "iopub.execute_input": "2021-09-28T21:34:02.267851Z",
     "iopub.status.busy": "2021-09-28T21:34:02.267060Z",
     "iopub.status.idle": "2021-09-28T21:34:02.270321Z",
     "shell.execute_reply": "2021-09-28T21:34:02.270776Z",
     "shell.execute_reply.started": "2021-09-28T21:16:15.983415Z"
    },
    "papermill": {
     "duration": 0.182847,
     "end_time": "2021-09-28T21:34:02.270944",
     "exception": false,
     "start_time": "2021-09-28T21:34:02.088097",
     "status": "completed"
    },
    "tags": []
   },
   "outputs": [],
   "source": [
    "class Pre_processing:\n",
    "    \"\"\"\n",
    "    This class prepares the data berfore applying ML\n",
    "    \"\"\"\n",
    "    def __init__(self):\n",
    "        \n",
    "        print()\n",
    "        print('pre-processing object is created')\n",
    "        print()        \n",
    "        \n",
    "    def drop(self, data, drop_strategies):\n",
    "        \"\"\"\n",
    "        This function is used to drop a column or row from the dataset.\n",
    "        ...\n",
    "        Attributes\n",
    "        ----------\n",
    "        data : Pandas DataFrame\n",
    "            The data you want to drop data from.\n",
    "        drop_strategies : A list of tuples, each tuple has the data to drop,\n",
    "        and the axis(0 or 1)\n",
    "        \n",
    "        Returns\n",
    "        ----------\n",
    "        A new dataset after dropping the unwanted data.\n",
    "        \"\"\"\n",
    "        \n",
    "        self.data=data\n",
    "        \n",
    "        for columns, ax in drop_strategies:\n",
    "            if len(columns)==1:\n",
    "                self.data=self.data.drop(labels=column, axis=ax)\n",
    "            else:\n",
    "                for column in columns:\n",
    "                    self.data=self.data.drop(labels=column, axis=ax)\n",
    "        return self.data\n",
    "\n",
    "    def fillna(self, ntrain, fill_strategies):       \n",
    "        \"\"\"\n",
    "        This function fills NA/NaN values in a specific column using a specified method(zero,mean,...)\n",
    "        ...\n",
    "        Attributes\n",
    "        ----------\n",
    "        data : Pandas DataFrame\n",
    "            The data you want to impute its missing values\n",
    "        fill_strategies : A dictionary, its keys represent the columns, \n",
    "        and the values represent the value to use to fill the Nulls.\n",
    "        \n",
    "        Returns\n",
    "        ----------\n",
    "        A new dataset without null values.\n",
    "        \"\"\"\n",
    "        def fill(column, fill_with):\n",
    "            \n",
    "                if str(fill_with).lower() in ['zero', 0]:\n",
    "                    self.data[column].fillna(0, inplace=True)\n",
    "                elif str(fill_with).lower()=='mode':\n",
    "                    self.data[column].fillna(self.data[column].mode()[0], inplace=True)\n",
    "                elif str(fill_with).lower()=='mean':\n",
    "                    self.data[column].fillna(self.data[column].mean(), inplace=True)\n",
    "                elif str(fill_with).lower()=='median':\n",
    "                    self.data[column].fillna(self.data[column].median(), inplace=True)\n",
    "                else:\n",
    "                    self.data[column].fillna(fill_with, inplace=True)\n",
    "\n",
    "                return self.data\n",
    "            \n",
    "        #LotFrontage: Linear feet of street connected to property\n",
    "        self.data['LotFrontage'] = self.data.groupby('Neighborhood')['LotFrontage'].apply(lambda x: x.fillna(x.median())).values\n",
    "\n",
    "        # Meaning that NO Masonry veneer\n",
    "        self.data['MSZoning'] = self.data['MSZoning'].transform(lambda x: x.fillna(x.mode().values[0]))\n",
    "\n",
    "        #imputing columns according to its strategy\n",
    "        for columns, strategy in fill_strategies:\n",
    "            if len(columns)==1:\n",
    "                fill(columns[0], strategy)\n",
    "            else:\n",
    "                for column in columns:\n",
    "                    fill(column, strategy)\n",
    "\n",
    "        return self.data\n",
    "    \n",
    "    def feature_engineering(self):\n",
    "        \"\"\"\n",
    "        This function is used to apply some feature engineering on the data.\n",
    "        ...\n",
    "        Attributes\n",
    "        ----------\n",
    "        data : Pandas DataFrame\n",
    "            The data you want to apply feature engineering on.\n",
    "        \n",
    "        Returns\n",
    "        ----------\n",
    "        A new dataset with new columns and some additions.\n",
    "        \"\"\"\n",
    "        # creating new columns\n",
    "        self.data['TotalSF'] = self.data['TotalBsmtSF'] + self.data['1stFlrSF'] + self.data['2ndFlrSF']\n",
    "                \n",
    "        # Convert some columns from numeric to string\n",
    "        self.data[['YrSold','MSSubClass','MoSold','OverallCond']] = self.data[['YrSold','MSSubClass','MoSold','OverallCond']].astype(str)\n",
    "        \n",
    "        # Convert some columns from numeric to int\n",
    "        self.data[['BsmtHalfBath','BsmtFinSF1', 'BsmtFinSF2','BsmtFullBath','BsmtUnfSF','GarageCars','GarageArea']]\\\n",
    "        =self.data[['BsmtHalfBath','BsmtFinSF1', 'BsmtFinSF2','BsmtFullBath','BsmtUnfSF','GarageCars','GarageArea']].astype(int)\n",
    "\n",
    "        return self.data    \n",
    "   \n",
    "    def label_encoder(self, columns):\n",
    "        \"\"\"\n",
    "        This function is used to encode the data to categorical values to benefit from increasing or \n",
    "        decreasing to build the model    \n",
    "        ...\n",
    "        Attributes\n",
    "        ----------\n",
    "        data : Pandas DataFrame\n",
    "            The data you want to encode.\n",
    "        columns : columns to convert.\n",
    "        \n",
    "        Returns\n",
    "        ----------\n",
    "        A dataset without categorical data.\n",
    "        \"\"\"\n",
    "\n",
    "        # Convert all categorical collumns to numeric values\n",
    "        lbl = LabelEncoder() \n",
    "        \n",
    "        self.data[columns] = self.data[columns].apply(lambda x:lbl.fit_transform(x.astype(str)).astype(int))\n",
    "        \n",
    "        return self.data \n",
    "    \n",
    "    def get_dummies(self, columns):\n",
    "        \"\"\"\n",
    "        This function is used to convert the data to dummies values.\n",
    "        ...\n",
    "        Attributes\n",
    "        ----------\n",
    "        data : Pandas DataFrame\n",
    "            The data you want to convert.\n",
    "        \n",
    "        Returns\n",
    "        ----------\n",
    "        A dataset with dummies.\n",
    "        \"\"\"\n",
    "        \n",
    "        # convert our categorical columns to dummies\n",
    "        for col in columns:\n",
    "            dumm = pd.get_dummies(self.data[col], prefix = col, dtype=int)\n",
    "            self.data = pd.concat([self.data, dumm], axis=1)\n",
    "\n",
    "        self.data.drop(columns, axis=1, inplace=True)\n",
    "        \n",
    "        return self.data\n",
    "        \n",
    "    def norm_data(self, columns):\n",
    "        \"\"\"\n",
    "        This function is used to normalize the data.   \n",
    "        ...\n",
    "        Attributes\n",
    "        ----------\n",
    "        data : Pandas DataFrame\n",
    "            The data you want to normalize.\n",
    "        \n",
    "        Returns\n",
    "        ----------\n",
    "        A new normalized dataset.\n",
    "        \"\"\"\n",
    "        \n",
    "        # Normalize our numeric data\n",
    "        self.data[columns] = self.data[columns].apply(lambda x:np.log1p(x)) #Normalize the data with Logarithms\n",
    "        \n",
    "        return self.data      "
   ]
  },
  {
   "cell_type": "markdown",
   "id": "beed096a",
   "metadata": {
    "papermill": {
     "duration": 0.144493,
     "end_time": "2021-09-28T21:34:02.561147",
     "exception": false,
     "start_time": "2021-09-28T21:34:02.416654",
     "status": "completed"
    },
    "tags": []
   },
   "source": [
    "<a href=\"#outlines\"><b>Up to outlines</b>"
   ]
  },
  {
   "cell_type": "markdown",
   "id": "7eafff83",
   "metadata": {
    "papermill": {
     "duration": 0.144079,
     "end_time": "2021-09-28T21:34:02.849712",
     "exception": false,
     "start_time": "2021-09-28T21:34:02.705633",
     "status": "completed"
    },
    "tags": []
   },
   "source": [
    "# <h1>Processor Class</h1>\n",
    "<a id=\"processor_class\"></a>"
   ]
  },
  {
   "cell_type": "code",
   "execution_count": 5,
   "id": "9eb7649d",
   "metadata": {
    "execution": {
     "iopub.execute_input": "2021-09-28T21:34:03.152784Z",
     "iopub.status.busy": "2021-09-28T21:34:03.152072Z",
     "iopub.status.idle": "2021-09-28T21:34:03.157164Z",
     "shell.execute_reply": "2021-09-28T21:34:03.156677Z",
     "shell.execute_reply.started": "2021-09-28T21:16:16.012701Z"
    },
    "papermill": {
     "duration": 0.162669,
     "end_time": "2021-09-28T21:34:03.157326",
     "exception": false,
     "start_time": "2021-09-28T21:34:02.994657",
     "status": "completed"
    },
    "tags": []
   },
   "outputs": [],
   "source": [
    "class Preprocessor:\n",
    "    \n",
    "    def __init__(self):\n",
    "        self.data=None\n",
    "        self._preprocessor=Pre_processing()\n",
    "\n",
    "    def _process(self, data, ntrain):\n",
    "\n",
    "        self.data=data\n",
    "        \n",
    "        self.ntrain=ntrain\n",
    "        \n",
    "        cols_drop=['Utilities', 'OverallQual','TotRmsAbvGrd']\n",
    "        \n",
    "        # Numeric columns\n",
    "        num_cols = ['LotFrontage','LotArea','YearBuilt','YearRemodAdd','MasVnrArea',\n",
    "                    'BsmtFinSF1','BsmtFinSF2','BsmtUnfSF','TotalBsmtSF', '1stFlrSF', '2ndFlrSF', \n",
    "                    'LowQualFinSF','GrLivArea','BsmtFullBath','BsmtHalfBath','FullBath','HalfBath', \n",
    "                    'BedroomAbvGr','KitchenAbvGr','Fireplaces','GarageYrBlt','GarageCars','GarageArea', \n",
    "                    'WoodDeckSF','OpenPorchSF','EnclosedPorch','3SsnPorch','ScreenPorch','PoolArea','MiscVal']\n",
    "\n",
    "        # Categorical columns\n",
    "        cat_cols = ['MSSubClass','MSZoning','Street','Alley','LotShape','LandContour','LotConfig','LandSlope', \n",
    "                    'Neighborhood','Condition1','Condition2','BldgType','HouseStyle','RoofStyle','RoofMatl', \n",
    "                    'Exterior1st','Exterior2nd','MasVnrType','ExterQual','ExterCond','Foundation','BsmtQual', \n",
    "                    'BsmtCond','BsmtExposure','BsmtFinType1','BsmtFinType2','Heating','HeatingQC','CentralAir', \n",
    "                    'Electrical','KitchenQual','Functional','FireplaceQu','GarageType','GarageFinish', \n",
    "                    'GarageQual','GarageCond','PavedDrive','PoolQC','Fence','MiscFeature','MoSold','SaleType', \n",
    "                    'SaleCondition','OverallCond', 'YrSold']\n",
    "        \n",
    "        drop_strategies=[(cols_drop,1)]\n",
    "\n",
    "        fill_strategies=[(['BsmtFinType2','BsmtQual','BsmtCond','ExterQual','ExterCond','MasVnrArea',\n",
    "                          'TotalBsmtSF','HeatingQC','BsmtHalfBath','BsmtFinSF1','BsmtFinSF2','GarageYrBlt',\n",
    "                          'BsmtFullBath','BsmtUnfSF','GarageCars','GarageArea','MasVnrArea'],0),\n",
    "                         (['FireplaceQu','GarageQual','GarageCond','BsmtFinType1','MasVnrType',\n",
    "                          'BsmtExposure','GarageFinish','PoolQC','Fence','LandSlope','GarageType',\n",
    "                          'LotShape','PavedDrive','Street','Alley','CentralAir','MiscFeature',\n",
    "                          'MSSubClass','OverallCond','YrSold','MoSold'],'NA'),\n",
    "                         (['Functional'],'Typ'), # Typical Functionality\n",
    "                         (['KitchenQual'],'TA'),\n",
    "                         (['LotFrontage'],'median'),\n",
    "                         (['MSZoning'],'mode'),\n",
    "                         (['SaleType','Exterior1st','Exterior2nd','SaleType'],'Oth'), #other\n",
    "                         (['Electrical'],'SBrkr')]  # Standard Circuit Breakers & Romex\n",
    "\n",
    "        #drop\n",
    "        self.data = self._preprocessor.drop(self.data, drop_strategies)\n",
    "        \n",
    "        #fill nulls\n",
    "        self.data = self._preprocessor.fillna(self.ntrain, fill_strategies)\n",
    "        \n",
    "        #feature engineering\n",
    "        self.data = self._preprocessor.feature_engineering()\n",
    "        \n",
    "        #label encoder\n",
    "        self.data = self._preprocessor.label_encoder(cat_cols)\n",
    "        \n",
    "        #normalizing\n",
    "#         self.data = self._preprocessor.norm_data(self.data, num_cols)\n",
    "        \n",
    "        #get dummies\n",
    "        self.data = self._preprocessor.get_dummies(cat_cols)\n",
    "        return self.data"
   ]
  },
  {
   "cell_type": "markdown",
   "id": "6821f74b",
   "metadata": {
    "papermill": {
     "duration": 0.146711,
     "end_time": "2021-09-28T21:34:03.448552",
     "exception": false,
     "start_time": "2021-09-28T21:34:03.301841",
     "status": "completed"
    },
    "tags": []
   },
   "source": [
    "<a href=\"#outlines\"><b>Up to outlines</b>"
   ]
  },
  {
   "cell_type": "markdown",
   "id": "8e35bfdd",
   "metadata": {
    "papermill": {
     "duration": 0.1429,
     "end_time": "2021-09-28T21:34:03.738039",
     "exception": false,
     "start_time": "2021-09-28T21:34:03.595139",
     "status": "completed"
    },
    "tags": []
   },
   "source": [
    "<h1>Machine Learning Class</h1>\n",
    "<a id=\"ml_class\"></a>"
   ]
  },
  {
   "cell_type": "code",
   "execution_count": 6,
   "id": "66e887fb",
   "metadata": {
    "execution": {
     "iopub.execute_input": "2021-09-28T21:34:04.047931Z",
     "iopub.status.busy": "2021-09-28T21:34:04.042227Z",
     "iopub.status.idle": "2021-09-28T21:34:04.102904Z",
     "shell.execute_reply": "2021-09-28T21:34:04.102286Z",
     "shell.execute_reply.started": "2021-09-28T21:16:16.042784Z"
    },
    "papermill": {
     "duration": 0.22007,
     "end_time": "2021-09-28T21:34:04.103047",
     "exception": false,
     "start_time": "2021-09-28T21:34:03.882977",
     "status": "completed"
    },
    "tags": []
   },
   "outputs": [],
   "source": [
    "class ML: \n",
    "    def __init__(self, data, ytrain, testID, test_size, ntrain):\n",
    "         \n",
    "        print()\n",
    "        print('Machine Learning object is created')\n",
    "        print()\n",
    "\n",
    "        self.data=data\n",
    "        self.ntrain=ntrain\n",
    "        self.test_size=test_size\n",
    "        self.train=self.data[:self.ntrain]\n",
    "        self.test=self.data[self.ntrain:]\n",
    "        self.testID=testID\n",
    "        self.ytrain=ytrain\n",
    "        \n",
    "        self.reg_models={}\n",
    "\n",
    "        # define models to test:\n",
    "        self.base_models = {\n",
    "            \"Elastic Net\":make_pipeline(RobustScaler(),                   #Elastic Net model(Regularized model)\n",
    "                                        ElasticNet(alpha=0.0005,\n",
    "                                                   l1_ratio=0.9)),\n",
    "            \"Kernel Ridge\" : KernelRidge(),                               #Kernel Ridge model(Regularized model)\n",
    "            \"Bayesian Ridge\" : BayesianRidge(compute_score=True,          #Bayesian Ridge model\n",
    "                                            fit_intercept=True,\n",
    "                                            n_iter=200,\n",
    "                                            normalize=False),                             \n",
    "            \"Lasso\" : make_pipeline(RobustScaler(), Lasso(alpha =0.0005,   #Lasso model(Regularized model)\n",
    "                                                          random_state=2021)),\n",
    "            \"Lasso Lars Ic\" : LassoLarsIC(criterion='aic',                  #LassoLars IC model \n",
    "                                        fit_intercept=True,\n",
    "                                        max_iter=200,\n",
    "                                        normalize=True,\n",
    "                                        precompute='auto',\n",
    "                                        verbose=False), \n",
    "            \"Random Forest\": RandomForestRegressor(n_estimators=300),      #Random Forest model\n",
    "            \"Svm\": SVR(),                                                  #Support Vector Machines\n",
    "            \"Xgboost\": XGBRegressor(),                                     #XGBoost model                                             \n",
    "            \"Gradient Boosting\":make_pipeline(StandardScaler(),\n",
    "                                             GradientBoostingRegressor(n_estimators=3000, #GradientBoosting model\n",
    "                                                                       learning_rate=0.005,     \n",
    "                                                                       max_depth=4, max_features='sqrt',\n",
    "                                                                       min_samples_leaf=15, min_samples_split=10, \n",
    "                                                                       loss='huber', random_state = 2021))}\n",
    "        \n",
    "    def init_ml_regressors(self, algorithms):\n",
    "        \n",
    "        if algorithms.lower()=='all':\n",
    "            for model in self.base_models.keys():\n",
    "                self.reg_models[model.title()]=self.base_models[model.title()]\n",
    "                print(model.title(),(20-len(str(model)))*'=','>','Initialized')\n",
    "            \n",
    "        else:\n",
    "            for model in algorithms:\n",
    "                if model.lower() in [x.lower() for x in self.base_models.keys()]:\n",
    "                    print(self.base_models[model])\n",
    "                    print(model.title(),(20-len(str(model)))*'=','>','Initialized')\n",
    "\n",
    "                else:\n",
    "                    print(model.title(),(20-len(str(model)))*'=','>','Not Initialized')\n",
    "                    print('# Only (Elastic Net,Kernel Ridge,Lasso,Random Forest,SVM,XGBoost,LGBM,Gradient Boosting,Linear Regression)')    \n",
    "    \n",
    "\n",
    "    def show_available(self):\n",
    "        print(50*'=')\n",
    "        print('You can fit your data with the following models')\n",
    "        print(50*'=','\\n')\n",
    "        for model in [m.title() for m in self.base_models.keys()]:\n",
    "            print(model)\n",
    "        print('\\n',50*'=','\\n')\n",
    "        \n",
    "    def train_test_eval_show_results(self, show=True):\n",
    "        \n",
    "        if not self.reg_models:\n",
    "            raise TypeError('Add models first before fitting')\n",
    "      \n",
    "        self.X_train, self.X_test, self.y_train, self.y_test = train_test_split(self.train, self.ytrain, \n",
    "                                                                                test_size=self.test_size, random_state=2021)\n",
    "\n",
    "        #Preprocessing, fitting, making predictions and scoring for every model:\n",
    "        self.result_data = {'R^2':{'Training':{},'Testing':{}},\n",
    "                            'Adjusted R^2':{'Training':{},'Testing':{}},\n",
    "                            'MAE':{'Training':{},'Testing':{}},\n",
    "                            'MSE':{'Training':{},'Testing':{}},\n",
    "                            'RMSE':{'Training':{},'Testing':{}}}\n",
    "        \n",
    "        self.p = train.shape[1]\n",
    "        self.train_n = self.X_train.shape[0]\n",
    "        self.test_n = self.X_test.shape[0]\n",
    "        \n",
    "        for name in self.reg_models: \n",
    "            #fitting the model\n",
    "            model = self.reg_models[name].fit(self.X_train, self.y_train)\n",
    "            \n",
    "            #make predictions with train and test datasets\n",
    "            y_pred_train = model.predict(self.X_train)\n",
    "            y_pred_test = model.predict(self.X_test)\n",
    "\n",
    "            #calculate the R-Squared for training and testing\n",
    "            r2_train,r2_test = model.score(self.X_train, self.y_train),\\\n",
    "                               model.score(self.X_test, self.y_test)\n",
    "            self.result_data['R^2']['Training'][name],\\\n",
    "            self.result_data['R^2']['Testing'][name] = r2_train, r2_test\n",
    "\n",
    "            #calculate the Adjusted R-Squared for training and testing\n",
    "            adj_train, adj_test = (1-(1-r2_train)*(self.train_n-1)/(self.train_n-self.p-1)) ,\\\n",
    "                                  (1-(1-r2_test)*(self.train_n-1)/(self.train_n-self.p-1))\n",
    "            self.result_data['Adjusted R^2']['Training'][name],\\\n",
    "            self.result_data['Adjusted R^2']['Testing'][name] = adj_train, adj_test\n",
    "\n",
    "            #calculate the Mean absolute error for training and testing\n",
    "            mae_train, mae_test = mean_absolute_error(self.y_train, y_pred_train),\\\n",
    "                                  mean_squared_error(self.y_test, y_pred_test)         \n",
    "            self.result_data['MAE']['Training'][name],\\\n",
    "            self.result_data['MAE']['Testing'][name] = mae_train, mae_test\n",
    "\n",
    "            #calculate Mean square error for training and testing\n",
    "            mse_train, mse_test = mean_squared_error(self.y_train, y_pred_train),\\\n",
    "                                  mean_squared_error(self.y_test, y_pred_test)\n",
    "            self.result_data['MSE']['Training'][name],\\\n",
    "            self.result_data['MSE']['Testing'][name] = mse_train, mse_test\n",
    "\n",
    "            #calculate Root mean error for training and testing    \n",
    "            rmse_train, rmse_test = np.sqrt(mse_train), np.sqrt(mse_test)\n",
    "            self.result_data['RMSE']['Training'][name],\\\n",
    "            self.result_data['RMSE']['Testing'][name] = rmse_train, rmse_test\n",
    "            \n",
    "            if show:\n",
    "                print('\\n',25*'=','{}'.format(name),25*'=')\n",
    "                print(10*'*','Training',23*'*','Testing',10*'*')\n",
    "                print('R^2    : ',r2_train,' '*(25-len(str(r2_train))),r2_test) \n",
    "                print('Adj R^2: ',adj_train,' '*(25-len(str(adj_train))),adj_test) \n",
    "                print('MAE    : ',mae_train,' '*(25-len(str(mae_train))),mae_test) \n",
    "                print('MSE    : ',mse_train,' '*(25-len(str(mse_train))),mse_test) \n",
    "                print('RMSE   : ',rmse_train,' '*(25-len(str(rmse_train))),rmse_test)\n",
    " \n",
    "    def cv_eval_show_results(self, num_models=4, n_folds=5, show=False):\n",
    "        \n",
    "        # prepare configuration for cross validation test\n",
    "        #Create two dictionaries to store the results of R-Squared and RMSE \n",
    "        self.r_2_results = {'R-Squared':{},'Mean':{},'std':{}}   \n",
    "        self.rmse_results = {'RMSE':{},'Mean':{},'std':{}}\n",
    "        \n",
    "        #create a dictionary contains best Adjusted R-Squared results, then sort it\n",
    "        adj=self.result_data['Adjusted R^2']['Testing']\n",
    "        adj_R_sq_sort=dict(sorted(adj.items(), key=lambda x:x[1], reverse=True))\n",
    "        \n",
    "        #check the number of models to visualize results\n",
    "        if str(num_models).lower()=='all':\n",
    "            models_name={i:adj_R_sq_sort[i] for i in list(adj_R_sq_sort.keys())}\n",
    "            print()\n",
    "            print('Apply Cross-Validation for {} models'.format(num_models))\n",
    "            print()\n",
    "            \n",
    "        else:\n",
    "            print()\n",
    "            print('Apply Cross-Validation for {} models have highest Adjusted R-Squared value on Testing'.format(num_models))\n",
    "            print()\n",
    "            \n",
    "            num_models=min(num_models,len(self.base_models.keys()))\n",
    "            models_name={i:adj_R_sq_sort[i] for i in list(adj_R_sq_sort.keys())[:num_models]}\n",
    "        \n",
    "        models_name=dict(sorted(models_name.items(), key=lambda x:x[1], reverse=True))\n",
    "        \n",
    "        #create Kfold for the cross-validation\n",
    "        kfold = KFold(n_splits=n_folds, shuffle=True, random_state=2021).get_n_splits(self.train)\n",
    "        \n",
    "        \n",
    "        for name,_ in models_name.items():\n",
    "            model = self.base_models[name]\n",
    "            r_2 = cross_val_score(model, self.train, self.ytrain,    #R-Squared \n",
    "                                  scoring='r2', cv=kfold)          \n",
    "            rms = np.sqrt(-cross_val_score(model, self.train, self.ytrain, #RMSE\n",
    "                                           cv=kfold, scoring='neg_mean_squared_error'))\n",
    "\n",
    "            #save the R-Squared reults\n",
    "            self.r_2_results['R-Squared'][name] = r_2\n",
    "            self.r_2_results['Mean'][name] = r_2.mean()\n",
    "            self.r_2_results['std'][name] = r_2.std()\n",
    "\n",
    "            #save the RMSE reults\n",
    "            self.rmse_results['RMSE'][name] = rms\n",
    "            self.rmse_results['Mean'][name] = rms.mean()\n",
    "            self.rmse_results['std'][name] = rms.std()\n",
    "            \n",
    "            print(name,(30-len(name))*'=','>','is Done!')\n",
    "            \n",
    "        if show : return self.r_2_results, self.rmse_results\n",
    "        \n",
    "    def visualize_results(self, \n",
    "                          cv_train_test,\n",
    "                          metrics=['r_squared','adjusted r_squared','mae','mse','rmse'],\n",
    "                          metrics_cv=['r_squared','rmse']):\n",
    "        \n",
    "        if cv_train_test.lower()=='cv':\n",
    "            \n",
    "            #visualize the results of R-Squared CV for each model\n",
    "            self.r_2_cv_results = pd.DataFrame(index=self.r_2_results['R-Squared'].keys())\n",
    "            #append the max R-Squared for each model to the dataframe\n",
    "            self.r_2_cv_results['Max'] = [self.r_2_results['R-Squared'][m].max() for m in self.r_2_results['R-Squared'].keys()]\n",
    "            #append the mean of all R-Squared for each model to the dataframe\n",
    "            self.r_2_cv_results['Mean'] = [self.r_2_results['Mean'][m] for m in self.r_2_results['Mean'].keys()]\n",
    "            #append the min R-Squared for each model to the dataframe\n",
    "            self.r_2_cv_results['Min'] = [self.r_2_results['R-Squared'][m].min() for m in self.r_2_results['R-Squared'].keys()]\n",
    "            #append the std of all R-Squared for each model to the dataframe\n",
    "            self.r_2_cv_results['std'] = [self.r_2_results['std'][m] for m in self.r_2_results['std'].keys()]\n",
    "\n",
    "            #visualize the results of RMSE CV for each model\n",
    "            self.rmse_cv_results = pd.DataFrame(index=self.rmse_results['RMSE'].keys())\n",
    "            #append the max R-Squared for each model to the dataframe\n",
    "            self.rmse_cv_results['Max'] = [self.rmse_results['RMSE'][m].max() for m in self.rmse_results['RMSE'].keys()]\n",
    "            #append the mean of all R-Squared for each model to the dataframe\n",
    "            self.rmse_cv_results['Mean'] = [self.rmse_results['Mean'][m] for m in self.rmse_results['Mean'].keys()]\n",
    "            #append the min R-Squared for each model to the dataframe\n",
    "            self.rmse_cv_results['Min'] = [self.rmse_results['RMSE'][m].min() for m in self.rmse_results['RMSE'].keys()]\n",
    "            #append the std of all R-Squared for each model to the dataframe\n",
    "            self.rmse_cv_results['std'] = [self.rmse_results['std'][m] for m in self.rmse_results['std'].keys()]\n",
    "\n",
    "            for parm in metrics_cv:\n",
    "                if parm.lower() in ['rmse','root mean squared']:\n",
    "                    self.rmse_cv_results = self.rmse_cv_results.sort_values(by='Mean',ascending=True)\n",
    "                    self.rmse_cv_results.iplot(kind='bar',\n",
    "                                               title='Maximum, Minimun, Mean values and standard deviation <br>For RMSE values for each model')\n",
    "                    self.scores = pd.DataFrame(self.rmse_results['RMSE'])\n",
    "                    self.scores.iplot(kind='box',\n",
    "                                      title='Box plot for the variation of RMSE values for each model')\n",
    "\n",
    "                elif parm.lower() in ['r_squared','rsquared','r squared']:\n",
    "                    self.r_2_cv_results = self.r_2_cv_results.sort_values(by='Mean',ascending=False)\n",
    "                    self.r_2_cv_results.iplot(kind='bar',\n",
    "                                              title='Max, Min, Mean, and standard deviation <br>For R-Squared values for each model')\n",
    "                    self.scores = pd.DataFrame(self.r_2_results['R-Squared'])\n",
    "                    self.scores.iplot(kind='box',\n",
    "                                 title='Box plot for the variation of R-Squared for each model')\n",
    "                else:\n",
    "                    print('Not avilable')\n",
    "                    \n",
    "        elif cv_train_test.lower()=='train test':\n",
    "            R_2 = pd.DataFrame(self.result_data['R^2']).sort_values(by='Testing',ascending=False)\n",
    "            Adjusted_R_2 = pd.DataFrame(self.result_data['Adjusted R^2']).sort_values(by='Testing',ascending=False)\n",
    "            MAE = pd.DataFrame(self.result_data['MAE']).sort_values(by='Testing',ascending=True)\n",
    "            MSE = pd.DataFrame(self.result_data['MSE']).sort_values(by='Testing',ascending=True)\n",
    "            RMSE = pd.DataFrame(self.result_data['RMSE']).sort_values(by='Testing',ascending=True)\n",
    "\n",
    "            for parm in metrics:\n",
    "                if parm.lower()=='r_squared':\n",
    "                    #order the results by testing values\n",
    "                    fig=px.line(data_frame=R_2.reset_index(),\n",
    "                                x='index',y=['Training','Testing'],\n",
    "                                title='R-Squared for training and testing')\n",
    "                    fig.show()\n",
    "\n",
    "                elif parm.lower()=='adjusted r_squared':\n",
    "                    #order the results by testing values\n",
    "                    fig=px.line(data_frame=Adjusted_R_2.reset_index(),\n",
    "                                x='index',y=['Training','Testing'],\n",
    "                                title='Adjusted R-Squared for training and testing')\n",
    "                    fig.show()\n",
    "\n",
    "                elif parm.lower()=='mae':\n",
    "                    #order the results by testing values\n",
    "                    fig=px.line(data_frame=MAE.reset_index(),\n",
    "                                x='index',y=['Training','Testing'],\n",
    "                                title='Mean absolute error for training and testing')\n",
    "                    fig.show()\n",
    "\n",
    "                elif parm.lower()=='mse':\n",
    "                    #order the results by testing values\n",
    "                    fig=px.line(data_frame=MSE.reset_index(),\n",
    "                                x='index',y=['Training','Testing'],\n",
    "                                title='Mean square error for training and testing')\n",
    "                    fig.show()\n",
    "\n",
    "                elif parm.lower()=='rmse':\n",
    "                    #order the results by testing values\n",
    "                    fig=px.line(data_frame=RMSE.reset_index(),\n",
    "                                x='index',y=['Training','Testing'],\n",
    "                                title='Root mean square error for training and testing')\n",
    "                    fig.show()\n",
    "\n",
    "                else:\n",
    "                    print('Only (R_Squared, Adjusted R_Squared, MAE, MSE, RMSE)')\n",
    "\n",
    "        else:\n",
    "            raise TypeError('Only (CV , Train Test)')\n",
    "            \n",
    "    def fit_best_model(self):\n",
    "        self.models=list(self.r_2_results['Mean'].keys())\n",
    "        self.r_2_results_vals=np.array([r for _,r in self.r_2_results['Mean'].items()])\n",
    "        self.rmse_results_vals=np.array([r for _,r in self.rmse_results['Mean'].items()])\n",
    "        self.best_model_name=self.models[np.argmax(self.r_2_results_vals-self.rmse_results_vals)]\n",
    "        print()\n",
    "        print(30*'=')\n",
    "        print('The best model is ====> ',self.best_model_name)\n",
    "        print('It has the highest (R-Squared) and the lowest (Root Mean Square Erorr)')\n",
    "        print(30*'=')\n",
    "        print()\n",
    "        self.best_model=self.base_models[self.best_model_name]\n",
    "        self.best_model.fit(self.train, self.ytrain)\n",
    "        print(self.best_model_name,' is fitted to the data!')\n",
    "        print()\n",
    "        print(30*'=')\n",
    "        self.y_pred=self.best_model.predict(self.test)\n",
    "        self.y_pred=np.expm1(self.y_pred)              #using expm1 (The inverse of log1p)\n",
    "        self.temp=pd.DataFrame({\"Id\": self.testID,\n",
    "                                \"SalePrice\": self.y_pred })\n",
    "    \n",
    "    def show_predictions(self):\n",
    "        return self.temp\n",
    "    \n",
    "    def save_predictions(self, file_name):\n",
    "        self.temp.to_csv('{}.csv'.format(file_name))"
   ]
  },
  {
   "cell_type": "markdown",
   "id": "d549da90",
   "metadata": {
    "papermill": {
     "duration": 0.144692,
     "end_time": "2021-09-28T21:34:04.392225",
     "exception": false,
     "start_time": "2021-09-28T21:34:04.247533",
     "status": "completed"
    },
    "tags": []
   },
   "source": [
    "<a href=\"#outlines\"><b>Up to outlines</b>"
   ]
  },
  {
   "cell_type": "markdown",
   "id": "5b2b51e2",
   "metadata": {
    "papermill": {
     "duration": 0.146019,
     "end_time": "2021-09-28T21:34:04.682191",
     "exception": false,
     "start_time": "2021-09-28T21:34:04.536172",
     "status": "completed"
    },
    "tags": []
   },
   "source": [
    "<a id=\"hpopp_class\"></a>\n",
    "<h1>House Price OOP class</h1>"
   ]
  },
  {
   "cell_type": "code",
   "execution_count": 7,
   "id": "1aebae29",
   "metadata": {
    "execution": {
     "iopub.execute_input": "2021-09-28T21:34:04.996642Z",
     "iopub.status.busy": "2021-09-28T21:34:04.995746Z",
     "iopub.status.idle": "2021-09-28T21:34:04.999143Z",
     "shell.execute_reply": "2021-09-28T21:34:04.998541Z",
     "shell.execute_reply.started": "2021-09-28T21:16:16.183645Z"
    },
    "papermill": {
     "duration": 0.172314,
     "end_time": "2021-09-28T21:34:04.999304",
     "exception": false,
     "start_time": "2021-09-28T21:34:04.826990",
     "status": "completed"
    },
    "tags": []
   },
   "outputs": [],
   "source": [
    "class HouseObjectOriented:\n",
    "    \"\"\"\n",
    "    param train: train data will be used for modelling\n",
    "    param test:  test data will be used for model evaluation\n",
    "    \"\"\"\n",
    "    def __init__(self):\n",
    "        #properties\n",
    "        self.ntrain=None\n",
    "        self.testID=None\n",
    "        self.y_train=None\n",
    "        self.train=None\n",
    "        self.test=None\n",
    "        self._info=Information()\n",
    "        self._Preprocessor = Preprocessor()\n",
    "        \n",
    "        print()\n",
    "        print('HouseObjectOriented object is created')\n",
    "        print()\n",
    "        \n",
    "    def add_data(self, train, test):\n",
    "        #properties\n",
    "        self.ntrain=train.shape[0]\n",
    "        self.testID=test.reset_index().drop('index',axis=1)['Id']\n",
    "        self.y_train=train['SalePrice'].apply(lambda x:np.log1p(x))\n",
    "        self.train=train.drop('SalePrice', axis=1)\n",
    "        self.test=test\n",
    "        \n",
    "        # concatinating the whole data\n",
    "        self.data=self.concat_data(self.train, self.test)\n",
    "        self.orig_data=self.data.copy()\n",
    "        print()\n",
    "        print('Your data has been added')\n",
    "        print()\n",
    "\n",
    "    def concat_data(self, train, test):\n",
    "        \n",
    "        data = pd.concat([self.train.set_index('Id'), self.test.set_index('Id')]).reset_index(drop=True)\n",
    "\n",
    "        return data\n",
    "    \n",
    "    #using the objects\n",
    "    def information(self):\n",
    "        \"\"\"\n",
    "        using _info object gives summary about dataset\n",
    "        :return:\n",
    "        \"\"\"\n",
    "        print(self._info._info_(self.data))\n",
    "\n",
    "\n",
    "    def preprocessing(self):\n",
    "        \n",
    "        \"\"\"\n",
    "        preprocess the data before applying Ml algorithms\n",
    "        \"\"\"\n",
    "        self.data=self._Preprocessor._process(self.data, self.ntrain)\n",
    "\n",
    "        print()\n",
    "        print('Data has been Pre-Processed')\n",
    "        print()\n",
    "        \n",
    "    class visualizer:\n",
    "        \n",
    "        def __init__(self, House_Price_OOP):\n",
    "            \n",
    "            self.hp=House_Price_OOP\n",
    "            self.data=self.hp.data\n",
    "            self.ytrain=self.hp.y_train  \n",
    "            self.ntrain=self.hp.ntrain\n",
    "            self.testID=self.hp.testID\n",
    "            self.data_vis=data_visualization  \n",
    "            \n",
    "            \n",
    "        def box_plot(self, columns):\n",
    "            \n",
    "            self.data_vis.box_plot(columns)\n",
    "            \n",
    "            \n",
    "        def box_plot(self, columns):\n",
    "            \n",
    "            self.data_vis.box_plot(columns)\n",
    "        \n",
    "        \n",
    "        def bar_plot(self, columns):\n",
    "            \n",
    "            self.data_vis.bar_plot(columns)\n",
    "            \n",
    "        \n",
    "    class ml:\n",
    "        \n",
    "        def __init__(self, House_Price_OOP):\n",
    "            \n",
    "            self.hp=House_Price_OOP\n",
    "            self.data=self.hp.data\n",
    "            self.ytrain=self.hp.y_train  \n",
    "            self.ntrain=self.hp.ntrain\n",
    "            self.testID=self.hp.testID\n",
    "            self._ML_=ML(data=self.data, ytrain=self.ytrain,\n",
    "                         testID=self.testID, test_size=0.2, ntrain=self.ntrain)\n",
    "        \n",
    "        def show_available_algorithms(self):\n",
    "            \n",
    "            self._ML_.show_available()\n",
    "        \n",
    "        \n",
    "        def init_regressors(self, num_models='all'):\n",
    "        \n",
    "            self._ML_.init_ml_regressors(num_models)\n",
    "        \n",
    "        \n",
    "        def train_test_validation(self, show_results=True):\n",
    "        \n",
    "            self._ML_.train_test_eval_show_results(show=show_results)\n",
    "\n",
    "            \n",
    "        def cross_validation(self, num_models=4, n_folds=5, show_results=False):\n",
    "            \n",
    "            self._ML_.cv_eval_show_results(num_models=num_models, n_folds=n_folds, show=show_results)\n",
    "\n",
    "            \n",
    "        def visualize_trai_test(self, metrics=['r_squared','adjusted r_squared','mae','mse','rmse']):\n",
    "            \n",
    "            self._ML_.visualize_results(cv_train_test='train test', metrics=metrics)\n",
    "\n",
    "            \n",
    "        def visualize_cv(self, metrics=['r_squared','rmse']):\n",
    "            \n",
    "            self._ML_.visualize_results(cv_train_test='cv', metrics_cv=metrics)   \n",
    "            \n",
    "            \n",
    "        def fit_best_model(self):\n",
    "            \n",
    "            self._ML_.fit_best_model()\n",
    "\n",
    "            \n",
    "        def show_predictions(self):\n",
    "            \n",
    "            return self._ML_.show_predictions()\n",
    "\n",
    "        def save_predictions(self, file_name):\n",
    "            \n",
    "            self._ML_.save_predictions(file_name)\n",
    "            print('The prediction is saved')"
   ]
  },
  {
   "cell_type": "markdown",
   "id": "93722bb0",
   "metadata": {
    "papermill": {
     "duration": 0.144342,
     "end_time": "2021-09-28T21:34:05.289606",
     "exception": false,
     "start_time": "2021-09-28T21:34:05.145264",
     "status": "completed"
    },
    "tags": []
   },
   "source": [
    "<a href=\"#outlines\"><b>Up to outlines</b>"
   ]
  },
  {
   "cell_type": "markdown",
   "id": "3a171234",
   "metadata": {
    "papermill": {
     "duration": 0.428354,
     "end_time": "2021-09-28T21:34:05.863013",
     "exception": false,
     "start_time": "2021-09-28T21:34:05.434659",
     "status": "completed"
    },
    "tags": []
   },
   "source": [
    "# <p style=\"background-color:skyblue; font-family:newtimeroman; font-size:100%; text-align:center; border-radius: 15px 50px;\">Creating Objects of our Classes</p>"
   ]
  },
  {
   "cell_type": "code",
   "execution_count": 8,
   "id": "d7a980e9",
   "metadata": {
    "execution": {
     "iopub.execute_input": "2021-09-28T21:34:06.158062Z",
     "iopub.status.busy": "2021-09-28T21:34:06.157422Z",
     "iopub.status.idle": "2021-09-28T21:34:06.231841Z",
     "shell.execute_reply": "2021-09-28T21:34:06.231261Z",
     "shell.execute_reply.started": "2021-09-28T21:16:16.209283Z"
    },
    "papermill": {
     "duration": 0.22419,
     "end_time": "2021-09-28T21:34:06.231982",
     "exception": false,
     "start_time": "2021-09-28T21:34:06.007792",
     "status": "completed"
    },
    "tags": []
   },
   "outputs": [],
   "source": [
    "#collect the data\n",
    "train = pd.read_csv('../input/house-prices-advanced-regression-techniques/train.csv')\n",
    "test = pd.read_csv('../input/house-prices-advanced-regression-techniques/test.csv')"
   ]
  },
  {
   "cell_type": "markdown",
   "id": "992acc83",
   "metadata": {
    "papermill": {
     "duration": 0.166346,
     "end_time": "2021-09-28T21:34:06.544716",
     "exception": false,
     "start_time": "2021-09-28T21:34:06.378370",
     "status": "completed"
    },
    "tags": []
   },
   "source": [
    "<a id=\"1.0\"></a>\n",
    "<h1>Create HouseObjectOriented object</h1>"
   ]
  },
  {
   "cell_type": "code",
   "execution_count": 9,
   "id": "71515400",
   "metadata": {
    "_kg_hide-output": false,
    "execution": {
     "iopub.execute_input": "2021-09-28T21:34:06.842342Z",
     "iopub.status.busy": "2021-09-28T21:34:06.841500Z",
     "iopub.status.idle": "2021-09-28T21:34:06.845637Z",
     "shell.execute_reply": "2021-09-28T21:34:06.844959Z",
     "shell.execute_reply.started": "2021-09-28T21:16:16.278611Z"
    },
    "papermill": {
     "duration": 0.154411,
     "end_time": "2021-09-28T21:34:06.845789",
     "exception": false,
     "start_time": "2021-09-28T21:34:06.691378",
     "status": "completed"
    },
    "tags": []
   },
   "outputs": [
    {
     "name": "stdout",
     "output_type": "stream",
     "text": [
      "\n",
      "Information object is created\n",
      "\n",
      "\n",
      "pre-processing object is created\n",
      "\n",
      "\n",
      "HouseObjectOriented object is created\n",
      "\n"
     ]
    }
   ],
   "source": [
    "#create HouseObjectOriented object\n",
    "HOOP = HouseObjectOriented()"
   ]
  },
  {
   "cell_type": "markdown",
   "id": "187851bb",
   "metadata": {
    "papermill": {
     "duration": 0.145417,
     "end_time": "2021-09-28T21:34:07.136496",
     "exception": false,
     "start_time": "2021-09-28T21:34:06.991079",
     "status": "completed"
    },
    "tags": []
   },
   "source": [
    "<a id=\"1.1\"></a>\n",
    "<h1>Adding our data</h1>"
   ]
  },
  {
   "cell_type": "code",
   "execution_count": 10,
   "id": "ccc71104",
   "metadata": {
    "execution": {
     "iopub.execute_input": "2021-09-28T21:34:07.433964Z",
     "iopub.status.busy": "2021-09-28T21:34:07.433327Z",
     "iopub.status.idle": "2021-09-28T21:34:07.478782Z",
     "shell.execute_reply": "2021-09-28T21:34:07.479312Z",
     "shell.execute_reply.started": "2021-09-28T21:16:16.287556Z"
    },
    "papermill": {
     "duration": 0.196168,
     "end_time": "2021-09-28T21:34:07.479485",
     "exception": false,
     "start_time": "2021-09-28T21:34:07.283317",
     "status": "completed"
    },
    "tags": []
   },
   "outputs": [
    {
     "name": "stdout",
     "output_type": "stream",
     "text": [
      "\n",
      "Your data has been added\n",
      "\n"
     ]
    }
   ],
   "source": [
    "#adding the data \n",
    "HOOP.add_data(train, test)"
   ]
  },
  {
   "cell_type": "markdown",
   "id": "ca33f0ed",
   "metadata": {
    "papermill": {
     "duration": 0.144181,
     "end_time": "2021-09-28T21:34:07.768623",
     "exception": false,
     "start_time": "2021-09-28T21:34:07.624442",
     "status": "completed"
    },
    "tags": []
   },
   "source": [
    "\n",
    "\n",
    "<a id=\"2.0\"></a>\n",
    "<h1>Display Information about the data</h1>"
   ]
  },
  {
   "cell_type": "code",
   "execution_count": 11,
   "id": "1fdde67e",
   "metadata": {
    "_kg_hide-output": false,
    "execution": {
     "iopub.execute_input": "2021-09-28T21:34:08.065574Z",
     "iopub.status.busy": "2021-09-28T21:34:08.064608Z",
     "iopub.status.idle": "2021-09-28T21:34:08.182126Z",
     "shell.execute_reply": "2021-09-28T21:34:08.181436Z",
     "shell.execute_reply.started": "2021-09-28T21:16:16.333967Z"
    },
    "papermill": {
     "duration": 0.265982,
     "end_time": "2021-09-28T21:34:08.182281",
     "exception": false,
     "start_time": "2021-09-28T21:34:07.916299",
     "status": "completed"
    },
    "scrolled": true,
    "tags": []
   },
   "outputs": [
    {
     "name": "stdout",
     "output_type": "stream",
     "text": [
      "==================================================\n",
      "====> This data contains 2919 rows and 79 columns\n",
      "==================================================\n",
      "\n",
      "FEATURE NAME  DATA FORMAT   NULL VALUES(NUM-PERC)          SEVEN SAMPLES  \n",
      "PoolQC          object         2909 - 20.831 %     nan,nan,nan,nan,nan,nan,nan,\n",
      "MiscFeature     object         2814 - 20.15 %      nan,nan,nan,nan,nan,nan,nan,\n",
      "Alley           object         2721 - 19.484 %     nan,nan,nan,Grvl,nan,nan,nan,\n",
      "Fence           object         2348 - 16.813 %     nan,nan,nan,nan,nan,nan,nan,\n",
      "FireplaceQu     object         1420 - 10.168 %     nan,nan,nan,nan,Gd,nan,TA,\n",
      "LotFrontage     float64        486 - 3.48 %        43.0,nan,68.0,92.0,nan,44.0,75.0,\n",
      "GarageYrBlt     float64        159 - 1.139 %       1979.0,1971.0,1942.0,2006.0,2000.0,1926.0,1960.0,\n",
      "GarageFinish    object         159 - 1.139 %       Unf,Unf,Unf,RFn,RFn,Unf,RFn,\n",
      "GarageQual      object         159 - 1.139 %       TA,TA,Fa,TA,TA,TA,TA,\n",
      "GarageCond      object         159 - 1.139 %       TA,nan,TA,TA,TA,TA,TA,\n",
      "GarageType      object         157 - 1.124 %       Attchd,Attchd,Attchd,BuiltIn,nan,Detchd,Attchd,\n",
      "BsmtExposure    object         82 - 0.587 %        Mn,Av,Gd,Gd,Av,No,No,\n",
      "BsmtCond        object         82 - 0.587 %        TA,TA,TA,TA,TA,TA,Fa,\n",
      "BsmtQual        object         81 - 0.58 %         Gd,TA,TA,TA,TA,TA,Gd,\n",
      "BsmtFinType2    object         80 - 0.573 %        Unf,LwQ,Unf,Unf,Unf,Unf,Unf,\n",
      "BsmtFinType1    object         79 - 0.566 %        BLQ,GLQ,GLQ,GLQ,GLQ,GLQ,Unf,\n",
      "MasVnrType      object         24 - 0.172 %        None,None,None,None,None,None,None,\n",
      "MasVnrArea      float64        23 - 0.165 %        106.0,0.0,200.0,165.0,0.0,136.0,0.0,\n",
      "MSZoning        object         4 - 0.029 %         RM,RL,RM,RL,RL,RL,RL,\n",
      "Functional      object         2 - 0.014 %         Typ,Typ,Typ,Typ,Typ,Typ,Typ,\n",
      "BsmtHalfBath    float64        2 - 0.014 %         0.0,0.0,0.0,0.0,0.0,0.0,0.0,\n",
      "BsmtFullBath    float64        2 - 0.014 %         0.0,1.0,0.0,1.0,1.0,0.0,0.0,\n",
      "Utilities       object         2 - 0.014 %         AllPub,AllPub,AllPub,AllPub,AllPub,AllPub,AllPub,\n",
      "SaleType        object         1 - 0.007 %         WD,WD,WD,WD,WD,WD,ConLD,\n",
      "BsmtFinSF1      float64        1 - 0.007 %         0.0,0.0,0.0,0.0,895.0,189.0,778.0,\n",
      "KitchenQual     object         1 - 0.007 %         TA,TA,TA,Gd,Fa,Gd,Fa,\n",
      "GarageCars      float64        1 - 0.007 %         1.0,1.0,2.0,2.0,1.0,2.0,1.0,\n",
      "BsmtUnfSF       float64        1 - 0.007 %         504.0,441.0,1114.0,1689.0,728.0,0.0,132.0,\n",
      "TotalBsmtSF     float64        1 - 0.007 %         409.0,680.0,525.0,1008.0,520.0,1738.0,0.0,\n",
      "Exterior2nd     object         1 - 0.007 %         VinylSd,MetalSd,VinylSd,HdBoard,VinylSd,VinylSd,Plywood,\n",
      "Exterior1st     object         1 - 0.007 %         Wd Sdng,WdShing,VinylSd,Wd Sdng,MetalSd,Wd Sdng,Wd Sdng,\n",
      "GarageArea      float64        1 - 0.007 %         498.0,0.0,517.0,495.0,542.0,454.0,539.0,\n",
      "Electrical      object         1 - 0.007 %         SBrkr,SBrkr,SBrkr,FuseA,SBrkr,SBrkr,SBrkr,\n",
      "BsmtFinSF2      float64        1 - 0.007 %         0.0,0.0,0.0,0.0,0.0,0.0,0.0,\n",
      "TotRmsAbvGrd    int64          0 - 0.0 %           5,7,5,6,5,6,4,\n",
      "Fireplaces      int64          0 - 0.0 %           0,1,1,0,0,0,0,\n",
      "MSSubClass      int64          0 - 0.0 %           20,70,70,120,20,20,50,\n",
      "BedroomAbvGr    int64          0 - 0.0 %           1,2,3,0,3,3,2,\n",
      "PavedDrive      object         0 - 0.0 %           Y,Y,Y,Y,Y,Y,Y,\n",
      "WoodDeckSF      int64          0 - 0.0 %           207,192,0,0,0,276,168,\n",
      "OpenPorchSF     int64          0 - 0.0 %           0,0,0,93,251,86,144,\n",
      "EnclosedPorch   int64          0 - 0.0 %           0,0,0,0,0,0,0,\n",
      "3SsnPorch       int64          0 - 0.0 %           0,0,0,0,0,0,0,\n",
      "ScreenPorch     int64          0 - 0.0 %           0,0,0,0,0,0,0,\n",
      "PoolArea        int64          0 - 0.0 %           0,0,0,0,0,0,0,\n",
      "MiscVal         int64          0 - 0.0 %           0,0,0,0,0,0,0,\n",
      "MoSold          int64          0 - 0.0 %           10,6,5,8,1,5,9,\n",
      "YrSold          int64          0 - 0.0 %           2009,2008,2008,2008,2007,2006,2010,\n",
      "KitchenAbvGr    int64          0 - 0.0 %           1,1,1,1,2,1,1,\n",
      "HeatingQC       object         0 - 0.0 %           Ex,Ex,Ex,TA,TA,TA,Ex,\n",
      "HalfBath        int64          0 - 0.0 %           0,1,0,0,1,0,0,\n",
      "OverallCond     int64          0 - 0.0 %           5,5,5,5,5,5,7,\n",
      "LotArea         int64          0 - 0.0 %           5925,11160,7500,11435,10400,7024,7200,\n",
      "Street          object         0 - 0.0 %           Pave,Pave,Pave,Pave,Pave,Pave,Pave,\n",
      "LotShape        object         0 - 0.0 %           IR1,Reg,Reg,Reg,Reg,Reg,IR1,\n",
      "LandContour     object         0 - 0.0 %           Lvl,Lvl,Lvl,Lvl,Lvl,HLS,Lvl,\n",
      "LotConfig       object         0 - 0.0 %           Inside,Inside,Corner,Inside,Inside,Corner,Inside,\n",
      "LandSlope       object         0 - 0.0 %           Gtl,Gtl,Gtl,Gtl,Gtl,Gtl,Gtl,\n",
      "Neighborhood    object         0 - 0.0 %           IDOTRR,OldTown,NAmes,Timber,CollgCr,SWISU,Mitchel,\n",
      "Condition1      object         0 - 0.0 %           RRNn,Norm,Norm,Norm,Norm,Norm,Norm,\n",
      "Condition2      object         0 - 0.0 %           Norm,Norm,Norm,Norm,Norm,Norm,Norm,\n",
      "BldgType        object         0 - 0.0 %           1Fam,1Fam,Duplex,1Fam,1Fam,1Fam,1Fam,\n",
      "HouseStyle      object         0 - 0.0 %           2Story,1Story,SLvl,2Story,SFoyer,1Story,2Story,\n",
      "OverallQual     int64          0 - 0.0 %           6,4,8,8,4,7,4,\n",
      "YearBuilt       int64          0 - 0.0 %           1980,2004,1956,2002,1953,1959,2004,\n",
      "FullBath        int64          0 - 0.0 %           2,1,1,2,2,1,2,\n",
      "YearRemodAdd    int64          0 - 0.0 %           2005,2006,2006,1950,1984,1998,1957,\n",
      "RoofStyle       object         0 - 0.0 %           Gable,Gable,Gable,Gable,Gable,Gable,Gable,\n",
      "RoofMatl        object         0 - 0.0 %           CompShg,CompShg,CompShg,CompShg,CompShg,CompShg,CompShg,\n",
      "ExterQual       object         0 - 0.0 %           Gd,TA,TA,TA,Ex,TA,TA,\n",
      "ExterCond       object         0 - 0.0 %           TA,TA,TA,TA,TA,TA,TA,\n",
      "Foundation      object         0 - 0.0 %           CBlock,PConc,PConc,PConc,CBlock,PConc,CBlock,\n",
      "Heating         object         0 - 0.0 %           GasA,GasA,GasA,GasA,GasA,GasA,GasA,\n",
      "CentralAir      object         0 - 0.0 %           N,Y,Y,Y,Y,Y,Y,\n",
      "1stFlrSF        int64          0 - 0.0 %           1306,1298,1001,897,2117,1246,1780,\n",
      "2ndFlrSF        int64          0 - 0.0 %           424,0,0,1038,933,456,650,\n",
      "LowQualFinSF    int64          0 - 0.0 %           0,0,0,0,0,0,0,\n",
      "GrLivArea       int64          0 - 0.0 %           1502,836,1116,1611,1652,1040,1442,\n",
      "SaleCondition   object         0 - 0.0 %           Normal,Normal,Normal,Normal,Normal,Normal,Partial,\n",
      "==================================================\n",
      "None\n"
     ]
    }
   ],
   "source": [
    "HOOP.information()"
   ]
  },
  {
   "cell_type": "markdown",
   "id": "95df4c45",
   "metadata": {
    "papermill": {
     "duration": 0.144484,
     "end_time": "2021-09-28T21:34:08.472896",
     "exception": false,
     "start_time": "2021-09-28T21:34:08.328412",
     "status": "completed"
    },
    "tags": []
   },
   "source": [
    "<a href=\"#outlines\"><b>Up to outlines</b>"
   ]
  },
  {
   "cell_type": "markdown",
   "id": "bb0e6df5",
   "metadata": {
    "papermill": {
     "duration": 0.151083,
     "end_time": "2021-09-28T21:34:08.770345",
     "exception": false,
     "start_time": "2021-09-28T21:34:08.619262",
     "status": "completed"
    },
    "tags": []
   },
   "source": [
    "<a id=\"3.0\"></a>\n",
    "<h1>Pre-Process the data</h1>"
   ]
  },
  {
   "cell_type": "code",
   "execution_count": 12,
   "id": "332983ef",
   "metadata": {
    "execution": {
     "iopub.execute_input": "2021-09-28T21:34:09.069637Z",
     "iopub.status.busy": "2021-09-28T21:34:09.068967Z",
     "iopub.status.idle": "2021-09-28T21:34:09.708715Z",
     "shell.execute_reply": "2021-09-28T21:34:09.709508Z",
     "shell.execute_reply.started": "2021-09-28T21:16:16.478689Z"
    },
    "papermill": {
     "duration": 0.792641,
     "end_time": "2021-09-28T21:34:09.709749",
     "exception": false,
     "start_time": "2021-09-28T21:34:08.917108",
     "status": "completed"
    },
    "tags": []
   },
   "outputs": [
    {
     "name": "stdout",
     "output_type": "stream",
     "text": [
      "\n",
      "Data has been Pre-Processed\n",
      "\n"
     ]
    }
   ],
   "source": [
    "HOOP.preprocessing()"
   ]
  },
  {
   "cell_type": "markdown",
   "id": "9650bb6d",
   "metadata": {
    "papermill": {
     "duration": 0.146204,
     "end_time": "2021-09-28T21:34:10.004486",
     "exception": false,
     "start_time": "2021-09-28T21:34:09.858282",
     "status": "completed"
    },
    "tags": []
   },
   "source": [
    "<a id=\"2.1\"></a>\n",
    "<h1>Display Information about the data after Pre-Processing</h1>"
   ]
  },
  {
   "cell_type": "code",
   "execution_count": 13,
   "id": "376f5202",
   "metadata": {
    "_kg_hide-output": false,
    "execution": {
     "iopub.execute_input": "2021-09-28T21:34:10.303736Z",
     "iopub.status.busy": "2021-09-28T21:34:10.302412Z",
     "iopub.status.idle": "2021-09-28T21:34:10.780710Z",
     "shell.execute_reply": "2021-09-28T21:34:10.781251Z",
     "shell.execute_reply.started": "2021-09-28T21:16:16.995391Z"
    },
    "papermill": {
     "duration": 0.630494,
     "end_time": "2021-09-28T21:34:10.781434",
     "exception": false,
     "start_time": "2021-09-28T21:34:10.150940",
     "status": "completed"
    },
    "tags": []
   },
   "outputs": [
    {
     "name": "stdout",
     "output_type": "stream",
     "text": [
      "==================================================\n",
      "====> This data contains 2919 rows and 340 columns\n",
      "==================================================\n",
      "\n",
      "FEATURE NAME  DATA FORMAT   NULL VALUES(NUM-PERC)          SEVEN SAMPLES  \n",
      "LotFrontage     float64        0 - nan %           74.0,80.0,72.0,60.0,80.0,68.0,54.0,\n",
      "Heating_0       int64          0 - nan %           0,0,0,0,0,0,0,\n",
      "HeatingQC_2     int64          0 - nan %           0,0,0,0,0,1,0,\n",
      "HeatingQC_1     int64          0 - nan %           0,0,0,0,0,0,0,\n",
      "HeatingQC_0     int64          0 - nan %           1,1,1,0,0,1,0,\n",
      "Heating_5       int64          0 - nan %           0,0,0,0,0,0,0,\n",
      "Heating_4       int64          0 - nan %           0,0,0,0,0,0,0,\n",
      "Heating_3       int64          0 - nan %           0,0,0,0,0,0,0,\n",
      "Heating_2       int64          0 - nan %           0,0,0,0,0,0,0,\n",
      "Heating_1       int64          0 - nan %           1,1,1,1,1,1,1,\n",
      "BsmtFinType2_6  int64          0 - nan %           0,1,1,0,1,1,1,\n",
      "BsmtFinType1_3  int64          0 - nan %           0,0,0,0,0,0,0,\n",
      "BsmtFinType2_5  int64          0 - nan %           0,0,0,0,0,0,0,\n",
      "BsmtFinType2_4  int64          0 - nan %           0,0,0,0,0,0,0,\n",
      "BsmtFinType2_3  int64          0 - nan %           0,0,0,0,0,0,0,\n",
      "BsmtFinType2_2  int64          0 - nan %           0,0,0,0,0,0,0,\n",
      "BsmtFinType2_1  int64          0 - nan %           0,0,0,0,0,0,0,\n",
      "BsmtFinType2_0  int64          0 - nan %           0,0,0,0,0,0,0,\n",
      "BsmtFinType1_6  int64          0 - nan %           1,1,0,0,1,1,0,\n",
      "BsmtFinType1_5  int64          0 - nan %           0,0,0,0,1,0,1,\n",
      "HeatingQC_3     int64          0 - nan %           0,0,0,0,0,0,0,\n",
      "HeatingQC_4     int64          0 - nan %           0,0,0,1,1,1,1,\n",
      "CentralAir_0    int64          0 - nan %           0,0,0,0,0,0,0,\n",
      "CentralAir_1    int64          0 - nan %           0,1,1,1,1,1,1,\n",
      "FireplaceQu_0   int64          0 - nan %           0,0,0,0,0,0,0,\n",
      "Functional_6    int64          0 - nan %           1,1,1,1,1,1,1,\n",
      "Functional_5    int64          0 - nan %           0,0,0,0,0,0,0,\n",
      "Functional_4    int64          0 - nan %           0,0,0,0,0,0,0,\n",
      "Functional_3    int64          0 - nan %           0,0,0,0,0,0,0,\n",
      "Functional_2    int64          0 - nan %           0,0,0,0,0,0,0,\n",
      "Functional_1    int64          0 - nan %           0,0,0,0,0,0,0,\n",
      "Functional_0    int64          0 - nan %           0,0,0,0,0,0,0,\n",
      "KitchenQual_3   int64          0 - nan %           1,0,0,1,1,0,1,\n",
      "KitchenQual_2   int64          0 - nan %           1,0,1,0,1,0,1,\n",
      "KitchenQual_1   int64          0 - nan %           0,0,0,0,0,0,0,\n",
      "KitchenQual_0   int64          0 - nan %           0,0,0,0,0,0,1,\n",
      "Electrical_4    int64          0 - nan %           1,1,1,1,1,1,1,\n",
      "Electrical_3    int64          0 - nan %           0,0,0,0,0,0,0,\n",
      "Electrical_2    int64          0 - nan %           0,0,0,0,0,0,0,\n",
      "Electrical_1    int64          0 - nan %           0,0,0,0,0,0,0,\n",
      "Electrical_0    int64          0 - nan %           0,0,0,0,0,0,1,\n",
      "BsmtFinType1_4  int64          0 - nan %           0,0,0,0,0,0,0,\n",
      "BsmtFinType1_2  int64          0 - nan %           0,0,0,1,0,0,1,\n",
      "LotArea         int64          0 - nan %           10037,7822,6978,11957,7609,8520,9018,\n",
      "ExterQual_1     int64          0 - nan %           0,0,0,0,0,0,0,\n",
      "Foundation_0    int64          0 - nan %           0,0,0,0,0,0,0,\n",
      "ExterCond_4     int64          0 - nan %           1,1,1,1,1,1,0,\n",
      "ExterCond_3     int64          0 - nan %           0,0,0,0,0,0,0,\n",
      "ExterCond_2     int64          0 - nan %           0,0,0,0,1,0,0,\n",
      "ExterCond_1     int64          0 - nan %           0,0,0,0,0,0,0,\n",
      "ExterCond_0     int64          0 - nan %           0,0,0,0,0,0,0,\n",
      "ExterQual_3     int64          0 - nan %           1,0,0,1,1,0,1,\n",
      "ExterQual_2     int64          0 - nan %           0,0,1,0,0,1,1,\n",
      "ExterQual_0     int64          0 - nan %           0,0,0,0,0,0,0,\n",
      "BsmtFinType1_1  int64          0 - nan %           0,0,0,0,0,0,0,\n",
      "MasVnrType_4    int64          0 - nan %           0,1,0,0,0,0,0,\n",
      "MasVnrType_3    int64          0 - nan %           1,0,0,1,1,0,0,\n",
      "MasVnrType_2    int64          0 - nan %           0,0,0,0,0,0,0,\n",
      "MasVnrType_1    int64          0 - nan %           1,0,0,1,0,0,0,\n",
      "MasVnrType_0    int64          0 - nan %           0,0,0,0,0,0,0,\n",
      "Exterior2nd_16  int64          0 - nan %           0,0,0,0,0,0,0,\n",
      "Exterior2nd_15  int64          0 - nan %           1,0,0,0,0,0,0,\n",
      "Exterior2nd_14  int64          0 - nan %           1,0,0,0,0,1,0,\n",
      "Foundation_1    int64          0 - nan %           1,0,1,1,1,0,0,\n",
      "Foundation_2    int64          0 - nan %           1,0,0,1,0,1,0,\n",
      "Foundation_3    int64          0 - nan %           0,0,0,0,0,0,0,\n",
      "Foundation_4    int64          0 - nan %           0,0,0,0,0,0,0,\n",
      "BsmtFinType1_0  int64          0 - nan %           1,0,0,0,0,0,0,\n",
      "BsmtExposure_4  int64          0 - nan %           0,1,0,1,0,0,0,\n",
      "BsmtExposure_3  int64          0 - nan %           0,0,0,0,0,0,0,\n",
      "BsmtExposure_2  int64          0 - nan %           0,0,0,0,0,0,0,\n",
      "BsmtExposure_1  int64          0 - nan %           0,0,0,1,0,0,0,\n",
      "BsmtExposure_0  int64          0 - nan %           0,0,0,0,0,0,0,\n",
      "BsmtCond_4      int64          0 - nan %           1,0,1,1,1,0,1,\n",
      "BsmtCond_3      int64          0 - nan %           0,0,0,0,0,0,0,\n",
      "BsmtCond_2      int64          0 - nan %           0,0,0,0,0,0,0,\n",
      "BsmtCond_1      int64          0 - nan %           0,0,0,0,0,0,0,\n",
      "BsmtCond_0      int64          0 - nan %           0,0,0,0,0,0,0,\n",
      "BsmtQual_4      int64          0 - nan %           1,1,1,0,0,0,1,\n",
      "BsmtQual_3      int64          0 - nan %           1,1,0,0,0,1,0,\n",
      "BsmtQual_2      int64          0 - nan %           0,0,0,0,0,0,0,\n",
      "BsmtQual_1      int64          0 - nan %           0,1,0,0,1,0,0,\n",
      "BsmtQual_0      int64          0 - nan %           0,0,0,0,0,0,0,\n",
      "Foundation_5    int64          0 - nan %           0,0,0,0,0,0,0,\n",
      "FireplaceQu_1   int64          0 - nan %           0,0,0,0,0,0,0,\n",
      "FireplaceQu_2   int64          0 - nan %           1,0,0,1,0,0,0,\n",
      "FireplaceQu_3   int64          0 - nan %           0,1,0,1,1,1,0,\n",
      "MoSold_10       int64          0 - nan %           0,0,0,0,0,0,0,\n",
      "SaleType_6      int64          0 - nan %           0,0,0,1,0,0,0,\n",
      "SaleType_5      int64          0 - nan %           0,0,0,0,0,0,0,\n",
      "SaleType_4      int64          0 - nan %           0,0,0,0,0,0,0,\n",
      "SaleType_3      int64          0 - nan %           0,0,0,0,0,0,0,\n",
      "SaleType_2      int64          0 - nan %           0,0,0,0,0,0,0,\n",
      "SaleType_1      int64          0 - nan %           0,0,0,0,0,0,0,\n",
      "SaleType_0      int64          0 - nan %           0,0,0,0,0,0,0,\n",
      "MoSold_11       int64          0 - nan %           0,0,0,0,0,0,0,\n",
      "MoSold_9        int64          0 - nan %           0,0,0,1,0,0,0,\n",
      "FireplaceQu_4   int64          0 - nan %           0,0,0,0,0,0,0,\n",
      "MoSold_8        int64          0 - nan %           0,0,1,0,0,0,0,\n",
      "MoSold_7        int64          0 - nan %           0,0,0,0,0,0,0,\n",
      "MoSold_6        int64          0 - nan %           0,0,0,0,1,1,1,\n",
      "MoSold_5        int64          0 - nan %           0,0,0,0,0,0,0,\n",
      "MoSold_4        int64          0 - nan %           0,0,0,0,0,0,0,\n",
      "MoSold_3        int64          0 - nan %           0,0,0,0,0,0,0,\n",
      "MoSold_2        int64          0 - nan %           0,0,0,0,0,0,0,\n",
      "MoSold_1        int64          0 - nan %           0,0,0,0,0,0,0,\n",
      "SaleType_7      int64          0 - nan %           0,0,0,0,0,0,0,\n",
      "SaleType_8      int64          0 - nan %           1,1,1,1,1,1,1,\n",
      "SaleCondition_0 int64          0 - nan %           0,0,0,0,0,1,0,\n",
      "SaleCondition_1 int64          0 - nan %           0,0,0,0,0,0,0,\n",
      "YrSold_3        int64          0 - nan %           0,0,1,0,1,1,0,\n",
      "YrSold_2        int64          0 - nan %           0,1,0,1,1,0,0,\n",
      "YrSold_1        int64          0 - nan %           0,0,0,0,0,1,0,\n",
      "YrSold_0        int64          0 - nan %           0,0,0,0,0,0,0,\n",
      "OverallCond_8   int64          0 - nan %           0,0,0,0,0,0,0,\n",
      "OverallCond_7   int64          0 - nan %           0,0,0,0,0,0,0,\n",
      "OverallCond_6   int64          0 - nan %           0,1,0,0,0,0,0,\n",
      "OverallCond_5   int64          0 - nan %           1,0,0,0,1,0,0,\n",
      "OverallCond_4   int64          0 - nan %           1,1,1,1,1,0,1,\n",
      "OverallCond_3   int64          0 - nan %           0,0,0,0,0,0,0,\n",
      "OverallCond_2   int64          0 - nan %           0,0,0,0,0,0,0,\n",
      "OverallCond_1   int64          0 - nan %           0,0,0,0,0,0,0,\n",
      "OverallCond_0   int64          0 - nan %           0,0,0,0,0,0,0,\n",
      "SaleCondition_5 int64          0 - nan %           0,0,0,0,0,0,1,\n",
      "SaleCondition_4 int64          0 - nan %           1,1,1,1,1,1,1,\n",
      "SaleCondition_3 int64          0 - nan %           0,0,0,0,1,0,0,\n",
      "SaleCondition_2 int64          0 - nan %           0,0,0,0,0,0,0,\n",
      "MoSold_0        int64          0 - nan %           0,0,0,0,0,0,0,\n",
      "MiscFeature_4   int64          0 - nan %           0,0,0,0,0,0,0,\n",
      "MiscFeature_3   int64          0 - nan %           0,0,0,0,0,0,0,\n",
      "GarageCond_0    int64          0 - nan %           0,0,0,0,0,0,0,\n",
      "GarageQual_4    int64          0 - nan %           0,0,0,0,0,0,0,\n",
      "GarageQual_3    int64          0 - nan %           0,0,0,0,0,0,0,\n",
      "GarageQual_2    int64          0 - nan %           0,0,0,0,0,0,0,\n",
      "GarageQual_1    int64          0 - nan %           0,0,0,0,0,0,0,\n",
      "GarageQual_0    int64          0 - nan %           0,0,0,0,0,0,0,\n",
      "GarageFinish_3  int64          0 - nan %           0,1,0,1,0,0,1,\n",
      "GarageFinish_2  int64          0 - nan %           0,0,1,0,0,0,0,\n",
      "GarageFinish_1  int64          0 - nan %           0,0,0,0,1,0,1,\n",
      "GarageFinish_0  int64          0 - nan %           1,0,1,0,1,0,0,\n",
      "GarageType_6    int64          0 - nan %           0,0,0,1,0,0,0,\n",
      "GarageType_5    int64          0 - nan %           1,0,1,1,0,0,1,\n",
      "GarageType_4    int64          0 - nan %           0,0,0,0,0,0,0,\n",
      "GarageType_3    int64          0 - nan %           0,0,0,0,0,0,0,\n",
      "GarageType_2    int64          0 - nan %           0,0,0,0,0,0,0,\n",
      "GarageType_1    int64          0 - nan %           0,1,1,0,0,1,1,\n",
      "GarageType_0    int64          0 - nan %           0,0,0,0,0,0,0,\n",
      "FireplaceQu_5   int64          0 - nan %           0,0,0,1,0,0,0,\n",
      "GarageQual_5    int64          0 - nan %           0,1,1,0,1,1,1,\n",
      "GarageCond_1    int64          0 - nan %           0,0,0,0,0,0,0,\n",
      "MiscFeature_2   int64          0 - nan %           0,0,0,0,0,0,0,\n",
      "GarageCond_2    int64          0 - nan %           0,0,0,0,0,0,0,\n",
      "MiscFeature_1   int64          0 - nan %           1,1,1,1,1,1,1,\n",
      "MiscFeature_0   int64          0 - nan %           0,0,0,0,0,0,0,\n",
      "Fence_4         int64          0 - nan %           1,1,1,1,1,1,1,\n",
      "Fence_3         int64          0 - nan %           0,0,0,0,0,0,0,\n",
      "Fence_2         int64          0 - nan %           1,0,0,0,0,0,0,\n",
      "Fence_1         int64          0 - nan %           0,0,0,0,0,0,0,\n",
      "Fence_0         int64          0 - nan %           0,0,0,0,0,0,0,\n",
      "PoolQC_3        int64          0 - nan %           1,1,1,1,1,1,1,\n",
      "PoolQC_2        int64          0 - nan %           0,0,0,0,0,0,0,\n",
      "PoolQC_1        int64          0 - nan %           0,0,0,0,0,0,0,\n",
      "PoolQC_0        int64          0 - nan %           0,0,0,0,0,0,0,\n",
      "PavedDrive_2    int64          0 - nan %           1,1,1,1,1,1,1,\n",
      "PavedDrive_1    int64          0 - nan %           0,0,0,0,0,0,0,\n",
      "PavedDrive_0    int64          0 - nan %           1,0,0,0,0,0,0,\n",
      "GarageCond_5    int64          0 - nan %           1,1,1,1,1,0,0,\n",
      "GarageCond_4    int64          0 - nan %           0,0,0,0,0,0,0,\n",
      "GarageCond_3    int64          0 - nan %           0,0,0,0,1,0,0,\n",
      "Exterior2nd_13  int64          0 - nan %           0,0,0,0,0,0,0,\n",
      "Exterior2nd_12  int64          0 - nan %           0,0,0,0,0,0,0,\n",
      "Exterior2nd_11  int64          0 - nan %           0,0,0,0,0,0,0,\n",
      "Street_1        int64          0 - nan %           1,1,1,1,1,1,1,\n",
      "LandContour_0   int64          0 - nan %           0,1,0,0,0,0,0,\n",
      "LotShape_3      int64          0 - nan %           0,1,0,1,0,1,1,\n",
      "LotShape_2      int64          0 - nan %           0,0,0,0,0,0,0,\n",
      "LotShape_1      int64          0 - nan %           0,0,0,0,0,0,0,\n",
      "LotShape_0      int64          0 - nan %           0,0,0,0,1,1,0,\n",
      "Alley_2         int64          0 - nan %           0,0,0,0,0,0,0,\n",
      "Alley_1         int64          0 - nan %           1,1,1,1,1,1,1,\n",
      "Alley_0         int64          0 - nan %           0,0,0,0,0,0,0,\n",
      "Street_0        int64          0 - nan %           0,0,0,0,0,0,0,\n",
      "Neighborhood_11 int64          0 - nan %           0,0,0,0,0,0,0,\n",
      "MSZoning_4      int64          0 - nan %           0,0,0,0,0,1,0,\n",
      "MSZoning_3      int64          0 - nan %           1,1,1,1,1,1,1,\n",
      "MSZoning_2      int64          0 - nan %           0,0,0,0,0,0,0,\n",
      "MSZoning_1      int64          0 - nan %           1,0,0,0,1,0,0,\n",
      "MSZoning_0      int64          0 - nan %           0,0,0,0,0,0,0,\n",
      "MSSubClass_15   int64          0 - nan %           0,0,0,0,0,0,0,\n",
      "MSSubClass_14   int64          0 - nan %           0,0,0,0,0,0,0,\n",
      "MSSubClass_13   int64          0 - nan %           0,0,0,0,0,0,0,\n",
      "LandContour_1   int64          0 - nan %           0,0,0,0,0,0,0,\n",
      "LandContour_2   int64          0 - nan %           0,0,0,0,0,0,0,\n",
      "LandContour_3   int64          0 - nan %           1,1,1,1,1,1,1,\n",
      "LotConfig_0     int64          0 - nan %           0,0,0,0,1,0,1,\n",
      "Neighborhood_9  int64          0 - nan %           0,0,0,0,0,0,0,\n",
      "Neighborhood_8  int64          0 - nan %           0,0,0,0,0,0,1,\n",
      "Neighborhood_7  int64          0 - nan %           1,0,0,0,0,0,0,\n",
      "Neighborhood_6  int64          0 - nan %           0,0,0,0,0,0,0,\n",
      "Neighborhood_5  int64          0 - nan %           0,0,0,0,0,0,0,\n",
      "Neighborhood_4  int64          0 - nan %           0,0,0,0,0,0,0,\n",
      "Neighborhood_3  int64          0 - nan %           0,0,0,0,0,0,0,\n",
      "Neighborhood_2  int64          0 - nan %           0,0,0,0,0,0,0,\n",
      "Neighborhood_1  int64          0 - nan %           0,0,0,0,0,0,0,\n",
      "Neighborhood_0  int64          0 - nan %           0,0,0,0,0,0,0,\n",
      "LandSlope_2     int64          0 - nan %           0,0,0,0,0,0,0,\n",
      "LandSlope_1     int64          0 - nan %           0,0,1,0,0,0,0,\n",
      "LandSlope_0     int64          0 - nan %           1,1,0,1,1,1,1,\n",
      "LotConfig_4     int64          0 - nan %           1,0,1,1,1,1,1,\n",
      "LotConfig_3     int64          0 - nan %           0,0,0,0,0,0,0,\n",
      "LotConfig_2     int64          0 - nan %           0,0,0,0,0,0,0,\n",
      "LotConfig_1     int64          0 - nan %           0,0,0,0,0,0,0,\n",
      "MSSubClass_12   int64          0 - nan %           0,0,0,0,0,0,0,\n",
      "MSSubClass_11   int64          0 - nan %           0,0,0,0,0,0,0,\n",
      "MSSubClass_10   int64          0 - nan %           0,0,0,1,0,0,0,\n",
      "GarageYrBlt     float64        0 - nan %           1987.0,1973.0,1938.0,1991.0,1997.0,1940.0,1959.0,\n",
      "KitchenAbvGr    int64          0 - nan %           1,1,1,1,1,2,1,\n",
      "BedroomAbvGr    int64          0 - nan %           3,2,3,2,2,3,3,\n",
      "HalfBath        int64          0 - nan %           0,0,1,0,0,0,0,\n",
      "FullBath        int64          0 - nan %           2,1,1,2,2,2,2,\n",
      "BsmtHalfBath    int64          0 - nan %           0,0,0,0,0,0,0,\n",
      "BsmtFullBath    int64          0 - nan %           1,0,0,0,1,1,1,\n",
      "GrLivArea       int64          0 - nan %           2522,848,767,2110,1719,1232,1625,\n",
      "LowQualFinSF    int64          0 - nan %           0,0,0,0,0,0,0,\n",
      "2ndFlrSF        int64          0 - nan %           511,0,0,0,0,756,0,\n",
      "1stFlrSF        int64          0 - nan %           1643,1152,948,939,958,989,1629,\n",
      "TotalBsmtSF     float64        0 - nan %           952.0,917.0,952.0,1947.0,825.0,1108.0,1302.0,\n",
      "BsmtUnfSF       int64          0 - nan %           336,596,181,0,280,941,30,\n",
      "BsmtFinSF2      int64          0 - nan %           0,0,0,374,0,0,829,\n",
      "BsmtFinSF1      int64          0 - nan %           0,1037,1104,0,0,0,1048,\n",
      "MasVnrArea      float64        0 - nan %           168.0,0.0,0.0,0.0,0.0,0.0,0.0,\n",
      "YearRemodAdd    int64          0 - nan %           1959,1993,2009,1978,1998,1970,1980,\n",
      "YearBuilt       int64          0 - nan %           2003,2002,1958,1950,1986,1997,1927,\n",
      "Fireplaces      int64          0 - nan %           1,1,0,0,2,0,0,\n",
      "GarageCars      int64          0 - nan %           2,2,1,2,1,2,1,\n",
      "MSSubClass_9    int64          0 - nan %           0,0,0,0,0,0,0,\n",
      "GarageArea      int64          0 - nan %           396,440,336,484,389,294,338,\n",
      "MSSubClass_8    int64          0 - nan %           0,0,0,0,0,0,0,\n",
      "MSSubClass_7    int64          0 - nan %           0,0,0,0,0,0,0,\n",
      "MSSubClass_6    int64          0 - nan %           0,0,0,0,0,0,0,\n",
      "MSSubClass_5    int64          0 - nan %           1,0,0,1,0,0,0,\n",
      "MSSubClass_4    int64          0 - nan %           1,0,0,0,0,0,0,\n",
      "MSSubClass_3    int64          0 - nan %           0,0,0,0,0,0,0,\n",
      "MSSubClass_2    int64          0 - nan %           1,0,0,0,0,0,0,\n",
      "MSSubClass_1    int64          0 - nan %           0,0,0,0,0,0,0,\n",
      "MSSubClass_0    int64          0 - nan %           0,0,0,0,0,0,0,\n",
      "TotalSF         float64        0 - nan %           3223.0,2916.0,2658.0,2076.0,2896.0,1890.0,3426.0,\n",
      "MiscVal         int64          0 - nan %           0,0,0,0,0,0,0,\n",
      "PoolArea        int64          0 - nan %           0,0,0,0,0,0,0,\n",
      "ScreenPorch     int64          0 - nan %           0,0,185,0,0,0,204,\n",
      "3SsnPorch       int64          0 - nan %           0,0,0,0,0,0,0,\n",
      "EnclosedPorch   int64          0 - nan %           0,0,0,0,0,0,0,\n",
      "OpenPorchSF     int64          0 - nan %           0,0,0,0,0,0,0,\n",
      "WoodDeckSF      int64          0 - nan %           0,0,0,0,162,240,0,\n",
      "Neighborhood_10 int64          0 - nan %           0,0,0,0,0,0,0,\n",
      "Neighborhood_12 int64          0 - nan %           0,1,0,0,0,0,0,\n",
      "Exterior2nd_10  int64          0 - nan %           0,0,0,0,0,0,0,\n",
      "RoofMatl_4      int64          0 - nan %           0,0,0,0,0,0,0,\n",
      "Exterior1st_4   int64          0 - nan %           0,0,0,0,0,0,0,\n",
      "Exterior1st_3   int64          0 - nan %           0,0,0,0,0,0,0,\n",
      "Exterior1st_2   int64          0 - nan %           0,0,0,0,0,0,0,\n",
      "Exterior1st_1   int64          0 - nan %           0,0,0,0,0,0,0,\n",
      "Exterior1st_0   int64          0 - nan %           0,0,0,0,0,0,0,\n",
      "RoofMatl_7      int64          0 - nan %           0,0,0,0,0,0,0,\n",
      "RoofMatl_6      int64          0 - nan %           0,0,0,0,0,1,0,\n",
      "RoofMatl_5      int64          0 - nan %           0,0,0,0,0,0,0,\n",
      "RoofMatl_3      int64          0 - nan %           0,0,0,0,0,0,0,\n",
      "Neighborhood_13 int64          0 - nan %           0,0,0,0,0,0,0,\n",
      "RoofMatl_2      int64          0 - nan %           0,0,0,0,0,0,0,\n",
      "RoofMatl_1      int64          0 - nan %           1,1,1,1,1,1,1,\n",
      "RoofMatl_0      int64          0 - nan %           0,0,0,0,0,0,0,\n",
      "RoofStyle_5     int64          0 - nan %           0,0,0,0,0,0,0,\n",
      "RoofStyle_4     int64          0 - nan %           0,0,0,0,0,0,0,\n",
      "RoofStyle_3     int64          0 - nan %           1,0,0,0,0,0,1,\n",
      "RoofStyle_2     int64          0 - nan %           0,0,0,0,0,0,0,\n",
      "RoofStyle_1     int64          0 - nan %           1,0,1,1,0,1,1,\n",
      "Exterior1st_5   int64          0 - nan %           0,0,0,0,0,0,0,\n",
      "Exterior1st_6   int64          0 - nan %           0,0,0,0,0,0,0,\n",
      "Exterior1st_7   int64          0 - nan %           0,0,0,0,0,0,0,\n",
      "Exterior1st_8   int64          0 - nan %           0,0,0,0,0,0,0,\n",
      "Exterior2nd_9   int64          0 - nan %           0,0,0,0,0,0,0,\n",
      "Exterior2nd_8   int64          0 - nan %           0,0,0,1,0,0,0,\n",
      "Exterior2nd_7   int64          0 - nan %           0,0,0,0,0,0,0,\n",
      "Exterior2nd_6   int64          0 - nan %           0,0,0,0,1,0,0,\n",
      "Exterior2nd_5   int64          0 - nan %           0,0,0,0,0,0,0,\n",
      "Exterior2nd_4   int64          0 - nan %           0,0,0,0,0,0,0,\n",
      "Exterior2nd_3   int64          0 - nan %           0,0,0,0,0,0,0,\n",
      "Exterior2nd_2   int64          0 - nan %           0,0,0,0,0,0,0,\n",
      "Exterior2nd_1   int64          0 - nan %           0,0,0,0,0,0,0,\n",
      "Exterior2nd_0   int64          0 - nan %           0,0,0,0,0,0,0,\n",
      "Exterior1st_15  int64          0 - nan %           0,0,0,0,0,0,0,\n",
      "Exterior1st_14  int64          0 - nan %           0,1,1,0,0,0,0,\n",
      "Exterior1st_13  int64          0 - nan %           0,0,1,0,0,0,1,\n",
      "Exterior1st_12  int64          0 - nan %           0,0,0,0,0,0,0,\n",
      "Exterior1st_11  int64          0 - nan %           0,0,0,0,0,0,0,\n",
      "Exterior1st_10  int64          0 - nan %           0,0,0,0,0,0,0,\n",
      "Exterior1st_9   int64          0 - nan %           0,0,0,0,0,0,0,\n",
      "RoofStyle_0     int64          0 - nan %           0,0,0,0,0,0,0,\n",
      "HouseStyle_7    int64          0 - nan %           0,0,0,0,0,0,0,\n",
      "HouseStyle_6    int64          0 - nan %           0,0,0,0,0,0,0,\n",
      "Condition1_7    int64          0 - nan %           0,0,0,0,0,0,0,\n",
      "Condition1_5    int64          0 - nan %           0,0,0,0,0,0,0,\n",
      "Condition1_4    int64          0 - nan %           0,0,0,0,0,0,0,\n",
      "Condition1_3    int64          0 - nan %           0,0,0,0,0,0,0,\n",
      "Condition1_2    int64          0 - nan %           1,1,1,1,1,1,1,\n",
      "Condition1_1    int64          0 - nan %           0,0,0,0,0,0,0,\n",
      "Condition1_0    int64          0 - nan %           0,0,0,0,0,0,0,\n",
      "Neighborhood_24 int64          0 - nan %           0,0,0,0,0,0,0,\n",
      "Neighborhood_23 int64          0 - nan %           0,0,0,0,0,0,0,\n",
      "Neighborhood_22 int64          0 - nan %           0,0,0,0,0,0,0,\n",
      "Neighborhood_21 int64          0 - nan %           0,0,0,0,0,0,0,\n",
      "Neighborhood_20 int64          0 - nan %           0,0,0,0,0,0,0,\n",
      "Neighborhood_19 int64          0 - nan %           0,0,0,0,0,0,0,\n",
      "Neighborhood_18 int64          0 - nan %           0,0,0,0,0,0,0,\n",
      "Neighborhood_17 int64          0 - nan %           0,0,1,0,0,0,0,\n",
      "Neighborhood_16 int64          0 - nan %           0,0,0,0,0,0,0,\n",
      "Neighborhood_15 int64          0 - nan %           0,0,0,0,0,0,0,\n",
      "Neighborhood_14 int64          0 - nan %           0,0,0,0,0,0,0,\n",
      "Condition1_6    int64          0 - nan %           0,0,0,0,0,0,0,\n",
      "Condition1_8    int64          0 - nan %           0,0,0,0,0,0,0,\n",
      "HouseStyle_5    int64          0 - nan %           0,0,1,0,0,1,0,\n",
      "Condition2_0    int64          0 - nan %           0,0,0,0,0,0,0,\n",
      "HouseStyle_4    int64          0 - nan %           0,0,0,0,0,0,0,\n",
      "HouseStyle_3    int64          0 - nan %           0,0,0,0,0,0,0,\n",
      "HouseStyle_2    int64          0 - nan %           1,1,1,0,1,0,1,\n",
      "HouseStyle_1    int64          0 - nan %           0,0,0,0,0,0,0,\n",
      "HouseStyle_0    int64          0 - nan %           0,0,0,0,1,0,0,\n",
      "BldgType_4      int64          0 - nan %           0,0,0,0,0,0,0,\n",
      "BldgType_3      int64          0 - nan %           0,0,0,1,0,0,0,\n",
      "BldgType_2      int64          0 - nan %           0,0,0,0,1,0,0,\n",
      "BldgType_1      int64          0 - nan %           0,0,0,0,0,0,0,\n",
      "BldgType_0      int64          0 - nan %           1,1,1,1,1,1,1,\n",
      "Condition2_7    int64          0 - nan %           0,0,0,0,0,0,0,\n",
      "Condition2_6    int64          0 - nan %           0,0,0,0,0,0,0,\n",
      "Condition2_5    int64          0 - nan %           0,0,0,0,0,0,0,\n",
      "Condition2_4    int64          0 - nan %           0,0,0,0,0,0,0,\n",
      "Condition2_3    int64          0 - nan %           0,0,0,0,0,0,0,\n",
      "Condition2_2    int64          0 - nan %           1,1,1,1,0,1,1,\n",
      "Condition2_1    int64          0 - nan %           0,0,0,0,0,0,0,\n",
      "YrSold_4        int64          0 - nan %           0,0,1,0,0,0,0,\n",
      "==================================================\n",
      "None\n"
     ]
    }
   ],
   "source": [
    "HOOP.information()"
   ]
  },
  {
   "cell_type": "markdown",
   "id": "cee8e155",
   "metadata": {
    "papermill": {
     "duration": 0.296259,
     "end_time": "2021-09-28T21:34:11.226816",
     "exception": false,
     "start_time": "2021-09-28T21:34:10.930557",
     "status": "completed"
    },
    "tags": []
   },
   "source": [
    "<a href=\"#outlines\"><b>Up to outlines</b>"
   ]
  },
  {
   "cell_type": "markdown",
   "id": "860e97eb",
   "metadata": {
    "papermill": {
     "duration": 0.148948,
     "end_time": "2021-09-28T21:34:11.524485",
     "exception": false,
     "start_time": "2021-09-28T21:34:11.375537",
     "status": "completed"
    },
    "tags": []
   },
   "source": [
    "<a id=\"4.0\"></a>\n",
    "<h1>Create a Machine Learning object</h1>"
   ]
  },
  {
   "cell_type": "code",
   "execution_count": 14,
   "id": "ca9587d8",
   "metadata": {
    "execution": {
     "iopub.execute_input": "2021-09-28T21:34:11.830290Z",
     "iopub.status.busy": "2021-09-28T21:34:11.829476Z",
     "iopub.status.idle": "2021-09-28T21:34:11.834287Z",
     "shell.execute_reply": "2021-09-28T21:34:11.833367Z",
     "shell.execute_reply.started": "2021-09-28T21:16:17.445150Z"
    },
    "papermill": {
     "duration": 0.161931,
     "end_time": "2021-09-28T21:34:11.834486",
     "exception": false,
     "start_time": "2021-09-28T21:34:11.672555",
     "status": "completed"
    },
    "tags": []
   },
   "outputs": [
    {
     "name": "stdout",
     "output_type": "stream",
     "text": [
      "\n",
      "Machine Learning object is created\n",
      "\n"
     ]
    }
   ],
   "source": [
    "ML = HOOP.ml(HOOP)"
   ]
  },
  {
   "cell_type": "markdown",
   "id": "13604068",
   "metadata": {
    "papermill": {
     "duration": 0.151194,
     "end_time": "2021-09-28T21:34:12.139047",
     "exception": false,
     "start_time": "2021-09-28T21:34:11.987853",
     "status": "completed"
    },
    "tags": []
   },
   "source": [
    "<a id=\"4.1\"></a>\n",
    "<h1>Show the available algorithms</h1>"
   ]
  },
  {
   "cell_type": "code",
   "execution_count": 15,
   "id": "58e43331",
   "metadata": {
    "execution": {
     "iopub.execute_input": "2021-09-28T21:34:12.440182Z",
     "iopub.status.busy": "2021-09-28T21:34:12.439546Z",
     "iopub.status.idle": "2021-09-28T21:34:12.447992Z",
     "shell.execute_reply": "2021-09-28T21:34:12.446950Z",
     "shell.execute_reply.started": "2021-09-28T21:16:17.468391Z"
    },
    "papermill": {
     "duration": 0.159181,
     "end_time": "2021-09-28T21:34:12.448293",
     "exception": false,
     "start_time": "2021-09-28T21:34:12.289112",
     "status": "completed"
    },
    "tags": []
   },
   "outputs": [
    {
     "name": "stdout",
     "output_type": "stream",
     "text": [
      "==================================================\n",
      "You can fit your data with the following models\n",
      "================================================== \n",
      "\n",
      "Elastic Net\n",
      "Kernel Ridge\n",
      "Bayesian Ridge\n",
      "Lasso\n",
      "Lasso Lars Ic\n",
      "Random Forest\n",
      "Svm\n",
      "Xgboost\n",
      "Gradient Boosting\n",
      "\n",
      " ================================================== \n",
      "\n"
     ]
    }
   ],
   "source": [
    "ML.show_available_algorithms()"
   ]
  },
  {
   "cell_type": "markdown",
   "id": "13623192",
   "metadata": {
    "papermill": {
     "duration": 0.148576,
     "end_time": "2021-09-28T21:34:12.746564",
     "exception": false,
     "start_time": "2021-09-28T21:34:12.597988",
     "status": "completed"
    },
    "tags": []
   },
   "source": [
    "<a id=\"4.2\"></a>\n",
    "<h1>Initialize the ML Regressors</h1>"
   ]
  },
  {
   "cell_type": "code",
   "execution_count": 16,
   "id": "d8b9c732",
   "metadata": {
    "execution": {
     "iopub.execute_input": "2021-09-28T21:34:13.050179Z",
     "iopub.status.busy": "2021-09-28T21:34:13.049507Z",
     "iopub.status.idle": "2021-09-28T21:34:13.055213Z",
     "shell.execute_reply": "2021-09-28T21:34:13.055780Z",
     "shell.execute_reply.started": "2021-09-28T21:16:17.478387Z"
    },
    "papermill": {
     "duration": 0.160337,
     "end_time": "2021-09-28T21:34:13.055949",
     "exception": false,
     "start_time": "2021-09-28T21:34:12.895612",
     "status": "completed"
    },
    "tags": []
   },
   "outputs": [
    {
     "name": "stdout",
     "output_type": "stream",
     "text": [
      "Elastic Net ========= > Initialized\n",
      "Kernel Ridge ======== > Initialized\n",
      "Bayesian Ridge ====== > Initialized\n",
      "Lasso =============== > Initialized\n",
      "Lasso Lars Ic ======= > Initialized\n",
      "Random Forest ======= > Initialized\n",
      "Svm ================= > Initialized\n",
      "Xgboost ============= > Initialized\n",
      "Gradient Boosting === > Initialized\n"
     ]
    }
   ],
   "source": [
    "ML.init_regressors('all')"
   ]
  },
  {
   "cell_type": "markdown",
   "id": "5e212c17",
   "metadata": {
    "papermill": {
     "duration": 0.148748,
     "end_time": "2021-09-28T21:34:13.354994",
     "exception": false,
     "start_time": "2021-09-28T21:34:13.206246",
     "status": "completed"
    },
    "tags": []
   },
   "source": [
    "<a href=\"#outlines\"><b>Up to outlines</b>"
   ]
  },
  {
   "cell_type": "markdown",
   "id": "29ee4329",
   "metadata": {
    "papermill": {
     "duration": 0.148657,
     "end_time": "2021-09-28T21:34:13.655097",
     "exception": false,
     "start_time": "2021-09-28T21:34:13.506440",
     "status": "completed"
    },
    "tags": []
   },
   "source": [
    "<a id=\"4.3\"></a>\n",
    "<h1>Train-Test Validation</h1>"
   ]
  },
  {
   "cell_type": "code",
   "execution_count": 17,
   "id": "f6457b39",
   "metadata": {
    "execution": {
     "iopub.execute_input": "2021-09-28T21:34:13.967521Z",
     "iopub.status.busy": "2021-09-28T21:34:13.961933Z",
     "iopub.status.idle": "2021-09-28T21:34:38.522137Z",
     "shell.execute_reply": "2021-09-28T21:34:38.522845Z",
     "shell.execute_reply.started": "2021-09-28T21:16:17.492902Z"
    },
    "papermill": {
     "duration": 24.719472,
     "end_time": "2021-09-28T21:34:38.523101",
     "exception": false,
     "start_time": "2021-09-28T21:34:13.803629",
     "status": "completed"
    },
    "scrolled": true,
    "tags": []
   },
   "outputs": [
    {
     "name": "stdout",
     "output_type": "stream",
     "text": [
      "\n",
      " ========================= Elastic Net =========================\n",
      "********** Training *********************** Testing **********\n",
      "R^2    :  0.9288154443772252         0.9112379859243956\n",
      "Adj R^2:  0.9235060990683441         0.9046176147088119\n",
      "MAE    :  0.07481909603573755        0.012843249783177446\n",
      "MSE    :  0.011609574244797931       0.012843249783177446\n",
      "RMSE   :  0.1077477342907865         0.11332806264636065\n",
      "\n",
      " ========================= Kernel Ridge =========================\n",
      "********** Training *********************** Testing **********\n",
      "R^2    :  0.935833238218076          0.8939290963903188\n",
      "Adj R^2:  0.9310473195216341         0.8860177306514752\n",
      "MAE    :  0.07257296236724352        0.015347726434261827\n",
      "MSE    :  0.010465033860760248       0.015347726434261827\n",
      "RMSE   :  0.10229874808989721        0.12388594122926873\n",
      "\n",
      " ========================= Bayesian Ridge =========================\n",
      "********** Training *********************** Testing **********\n",
      "R^2    :  0.9212193206878495         0.8973564339444152\n",
      "Adj R^2:  0.91534341366733           0.8897006983546341\n",
      "MAE    :  0.07752021693652415        0.014851814384981019\n",
      "MSE    :  0.012848435134957942       0.014851814384981019\n",
      "RMSE   :  0.11335093795358706        0.12186802035390999\n",
      "\n",
      " ========================= Lasso =========================\n",
      "********** Training *********************** Testing **********\n",
      "R^2    :  0.927949687805861          0.9112603029036832\n",
      "Adj R^2:  0.9225757694930384         0.904641596214179\n",
      "MAE    :  0.07519751110833019        0.01284002067056231\n",
      "MSE    :  0.01175077151863409        0.01284002067056231\n",
      "RMSE   :  0.10840097563506562        0.11331381500312444\n",
      "\n",
      " ========================= Lasso Lars Ic =========================\n",
      "********** Training *********************** Testing **********\n",
      "R^2    :  0.890790086362362          0.8931408899229634\n",
      "Adj R^2:  0.8826445955661846         0.8851707353039578\n",
      "MAE    :  0.0924387536494746         0.015461774460846024\n",
      "MSE    :  0.017811175325206107       0.015461774460846024\n",
      "RMSE   :  0.13345851537165437        0.12434538375366423\n",
      "\n",
      " ========================= Random Forest =========================\n",
      "********** Training *********************** Testing **********\n",
      "R^2    :  0.9816052020895847         0.8560798101801042\n",
      "Adj R^2:  0.9802332144001338         0.8453454313813826\n",
      "MAE    :  0.03730980516124621        0.020824256478957654\n",
      "MSE    :  0.003000029573700042       0.020824256478957654\n",
      "RMSE   :  0.05477252571956164        0.1443061207258987\n",
      "\n",
      " ========================= Svm =========================\n",
      "********** Training *********************** Testing **********\n",
      "R^2    :  0.7632713821640865         0.7128825196073449\n",
      "Adj R^2:  0.7456148277951096         0.6914676799095503\n",
      "MAE    :  0.1422120704758053         0.0415439144345972\n",
      "MSE    :  0.03860835318265491        0.0415439144345972\n",
      "RMSE   :  0.19649008418404962        0.20382324311667008\n",
      "\n",
      " ========================= Xgboost =========================\n",
      "********** Training *********************** Testing **********\n",
      "R^2    :  0.9992485058441617         0.8662141495623012\n",
      "Adj R^2:  0.9991924551750798         0.8562356469053458\n",
      "MAE    :  0.007828328877394044       0.019357887633809693\n",
      "MSE    :  0.0001225620799400628      0.019357887633809693\n",
      "RMSE   :  0.011070775941191421       0.13913262605805188\n",
      "\n",
      " ========================= Gradient Boosting =========================\n",
      "********** Training *********************** Testing **********\n",
      "R^2    :  0.9398516238813541         0.9040766034600265\n",
      "Adj R^2:  0.9353654190327259         0.8969220959832882\n",
      "MAE    :  0.05854214478262828        0.013879452315765517\n",
      "MSE    :  0.009809670540810916       0.013879452315765517\n",
      "RMSE   :  0.09904378092950065        0.11781108740592082\n"
     ]
    }
   ],
   "source": [
    "ML.train_test_validation()"
   ]
  },
  {
   "cell_type": "markdown",
   "id": "294806cc",
   "metadata": {
    "papermill": {
     "duration": 0.149919,
     "end_time": "2021-09-28T21:34:38.828685",
     "exception": false,
     "start_time": "2021-09-28T21:34:38.678766",
     "status": "completed"
    },
    "tags": []
   },
   "source": [
    "<a id=\"4.4\"></a>\n",
    "<h1>Visualize the results of train-test validation</h1>"
   ]
  },
  {
   "cell_type": "code",
   "execution_count": 18,
   "id": "8ee8f959",
   "metadata": {
    "execution": {
     "iopub.execute_input": "2021-09-28T21:34:39.144155Z",
     "iopub.status.busy": "2021-09-28T21:34:39.143526Z",
     "iopub.status.idle": "2021-09-28T21:34:39.668074Z",
     "shell.execute_reply": "2021-09-28T21:34:39.668596Z",
     "shell.execute_reply.started": "2021-09-28T21:16:41.550891Z"
    },
    "papermill": {
     "duration": 0.688901,
     "end_time": "2021-09-28T21:34:39.668775",
     "exception": false,
     "start_time": "2021-09-28T21:34:38.979874",
     "status": "completed"
    },
    "tags": []
   },
   "outputs": [
    {
     "data": {
      "application/vnd.plotly.v1+json": {
       "config": {
        "plotlyServerURL": "https://plot.ly"
       },
       "data": [
        {
         "hovertemplate": "variable=Training<br>index=%{x}<br>value=%{y}<extra></extra>",
         "legendgroup": "Training",
         "line": {
          "color": "#636efa",
          "dash": "solid"
         },
         "mode": "lines",
         "name": "Training",
         "orientation": "v",
         "showlegend": true,
         "type": "scatter",
         "x": [
          "Lasso",
          "Elastic Net",
          "Gradient Boosting",
          "Bayesian Ridge",
          "Kernel Ridge",
          "Lasso Lars Ic",
          "Xgboost",
          "Random Forest",
          "Svm"
         ],
         "xaxis": "x",
         "y": [
          0.927949687805861,
          0.9288154443772252,
          0.9398516238813541,
          0.9212193206878495,
          0.935833238218076,
          0.890790086362362,
          0.9992485058441617,
          0.9816052020895847,
          0.7632713821640865
         ],
         "yaxis": "y"
        },
        {
         "hovertemplate": "variable=Testing<br>index=%{x}<br>value=%{y}<extra></extra>",
         "legendgroup": "Testing",
         "line": {
          "color": "#EF553B",
          "dash": "solid"
         },
         "mode": "lines",
         "name": "Testing",
         "orientation": "v",
         "showlegend": true,
         "type": "scatter",
         "x": [
          "Lasso",
          "Elastic Net",
          "Gradient Boosting",
          "Bayesian Ridge",
          "Kernel Ridge",
          "Lasso Lars Ic",
          "Xgboost",
          "Random Forest",
          "Svm"
         ],
         "xaxis": "x",
         "y": [
          0.9112603029036832,
          0.9112379859243956,
          0.9040766034600265,
          0.8973564339444152,
          0.8939290963903188,
          0.8931408899229634,
          0.8662141495623012,
          0.8560798101801042,
          0.7128825196073449
         ],
         "yaxis": "y"
        }
       ],
       "layout": {
        "legend": {
         "title": {
          "text": "variable"
         },
         "tracegroupgap": 0
        },
        "template": {
         "data": {
          "bar": [
           {
            "error_x": {
             "color": "#2a3f5f"
            },
            "error_y": {
             "color": "#2a3f5f"
            },
            "marker": {
             "line": {
              "color": "white",
              "width": 0.5
             },
             "pattern": {
              "fillmode": "overlay",
              "size": 10,
              "solidity": 0.2
             }
            },
            "type": "bar"
           }
          ],
          "barpolar": [
           {
            "marker": {
             "line": {
              "color": "white",
              "width": 0.5
             },
             "pattern": {
              "fillmode": "overlay",
              "size": 10,
              "solidity": 0.2
             }
            },
            "type": "barpolar"
           }
          ],
          "carpet": [
           {
            "aaxis": {
             "endlinecolor": "#2a3f5f",
             "gridcolor": "#C8D4E3",
             "linecolor": "#C8D4E3",
             "minorgridcolor": "#C8D4E3",
             "startlinecolor": "#2a3f5f"
            },
            "baxis": {
             "endlinecolor": "#2a3f5f",
             "gridcolor": "#C8D4E3",
             "linecolor": "#C8D4E3",
             "minorgridcolor": "#C8D4E3",
             "startlinecolor": "#2a3f5f"
            },
            "type": "carpet"
           }
          ],
          "choropleth": [
           {
            "colorbar": {
             "outlinewidth": 0,
             "ticks": ""
            },
            "type": "choropleth"
           }
          ],
          "contour": [
           {
            "colorbar": {
             "outlinewidth": 0,
             "ticks": ""
            },
            "colorscale": [
             [
              0,
              "#0d0887"
             ],
             [
              0.1111111111111111,
              "#46039f"
             ],
             [
              0.2222222222222222,
              "#7201a8"
             ],
             [
              0.3333333333333333,
              "#9c179e"
             ],
             [
              0.4444444444444444,
              "#bd3786"
             ],
             [
              0.5555555555555556,
              "#d8576b"
             ],
             [
              0.6666666666666666,
              "#ed7953"
             ],
             [
              0.7777777777777778,
              "#fb9f3a"
             ],
             [
              0.8888888888888888,
              "#fdca26"
             ],
             [
              1,
              "#f0f921"
             ]
            ],
            "type": "contour"
           }
          ],
          "contourcarpet": [
           {
            "colorbar": {
             "outlinewidth": 0,
             "ticks": ""
            },
            "type": "contourcarpet"
           }
          ],
          "heatmap": [
           {
            "colorbar": {
             "outlinewidth": 0,
             "ticks": ""
            },
            "colorscale": [
             [
              0,
              "#0d0887"
             ],
             [
              0.1111111111111111,
              "#46039f"
             ],
             [
              0.2222222222222222,
              "#7201a8"
             ],
             [
              0.3333333333333333,
              "#9c179e"
             ],
             [
              0.4444444444444444,
              "#bd3786"
             ],
             [
              0.5555555555555556,
              "#d8576b"
             ],
             [
              0.6666666666666666,
              "#ed7953"
             ],
             [
              0.7777777777777778,
              "#fb9f3a"
             ],
             [
              0.8888888888888888,
              "#fdca26"
             ],
             [
              1,
              "#f0f921"
             ]
            ],
            "type": "heatmap"
           }
          ],
          "heatmapgl": [
           {
            "colorbar": {
             "outlinewidth": 0,
             "ticks": ""
            },
            "colorscale": [
             [
              0,
              "#0d0887"
             ],
             [
              0.1111111111111111,
              "#46039f"
             ],
             [
              0.2222222222222222,
              "#7201a8"
             ],
             [
              0.3333333333333333,
              "#9c179e"
             ],
             [
              0.4444444444444444,
              "#bd3786"
             ],
             [
              0.5555555555555556,
              "#d8576b"
             ],
             [
              0.6666666666666666,
              "#ed7953"
             ],
             [
              0.7777777777777778,
              "#fb9f3a"
             ],
             [
              0.8888888888888888,
              "#fdca26"
             ],
             [
              1,
              "#f0f921"
             ]
            ],
            "type": "heatmapgl"
           }
          ],
          "histogram": [
           {
            "marker": {
             "pattern": {
              "fillmode": "overlay",
              "size": 10,
              "solidity": 0.2
             }
            },
            "type": "histogram"
           }
          ],
          "histogram2d": [
           {
            "colorbar": {
             "outlinewidth": 0,
             "ticks": ""
            },
            "colorscale": [
             [
              0,
              "#0d0887"
             ],
             [
              0.1111111111111111,
              "#46039f"
             ],
             [
              0.2222222222222222,
              "#7201a8"
             ],
             [
              0.3333333333333333,
              "#9c179e"
             ],
             [
              0.4444444444444444,
              "#bd3786"
             ],
             [
              0.5555555555555556,
              "#d8576b"
             ],
             [
              0.6666666666666666,
              "#ed7953"
             ],
             [
              0.7777777777777778,
              "#fb9f3a"
             ],
             [
              0.8888888888888888,
              "#fdca26"
             ],
             [
              1,
              "#f0f921"
             ]
            ],
            "type": "histogram2d"
           }
          ],
          "histogram2dcontour": [
           {
            "colorbar": {
             "outlinewidth": 0,
             "ticks": ""
            },
            "colorscale": [
             [
              0,
              "#0d0887"
             ],
             [
              0.1111111111111111,
              "#46039f"
             ],
             [
              0.2222222222222222,
              "#7201a8"
             ],
             [
              0.3333333333333333,
              "#9c179e"
             ],
             [
              0.4444444444444444,
              "#bd3786"
             ],
             [
              0.5555555555555556,
              "#d8576b"
             ],
             [
              0.6666666666666666,
              "#ed7953"
             ],
             [
              0.7777777777777778,
              "#fb9f3a"
             ],
             [
              0.8888888888888888,
              "#fdca26"
             ],
             [
              1,
              "#f0f921"
             ]
            ],
            "type": "histogram2dcontour"
           }
          ],
          "mesh3d": [
           {
            "colorbar": {
             "outlinewidth": 0,
             "ticks": ""
            },
            "type": "mesh3d"
           }
          ],
          "parcoords": [
           {
            "line": {
             "colorbar": {
              "outlinewidth": 0,
              "ticks": ""
             }
            },
            "type": "parcoords"
           }
          ],
          "pie": [
           {
            "automargin": true,
            "type": "pie"
           }
          ],
          "scatter": [
           {
            "marker": {
             "colorbar": {
              "outlinewidth": 0,
              "ticks": ""
             }
            },
            "type": "scatter"
           }
          ],
          "scatter3d": [
           {
            "line": {
             "colorbar": {
              "outlinewidth": 0,
              "ticks": ""
             }
            },
            "marker": {
             "colorbar": {
              "outlinewidth": 0,
              "ticks": ""
             }
            },
            "type": "scatter3d"
           }
          ],
          "scattercarpet": [
           {
            "marker": {
             "colorbar": {
              "outlinewidth": 0,
              "ticks": ""
             }
            },
            "type": "scattercarpet"
           }
          ],
          "scattergeo": [
           {
            "marker": {
             "colorbar": {
              "outlinewidth": 0,
              "ticks": ""
             }
            },
            "type": "scattergeo"
           }
          ],
          "scattergl": [
           {
            "marker": {
             "colorbar": {
              "outlinewidth": 0,
              "ticks": ""
             }
            },
            "type": "scattergl"
           }
          ],
          "scattermapbox": [
           {
            "marker": {
             "colorbar": {
              "outlinewidth": 0,
              "ticks": ""
             }
            },
            "type": "scattermapbox"
           }
          ],
          "scatterpolar": [
           {
            "marker": {
             "colorbar": {
              "outlinewidth": 0,
              "ticks": ""
             }
            },
            "type": "scatterpolar"
           }
          ],
          "scatterpolargl": [
           {
            "marker": {
             "colorbar": {
              "outlinewidth": 0,
              "ticks": ""
             }
            },
            "type": "scatterpolargl"
           }
          ],
          "scatterternary": [
           {
            "marker": {
             "colorbar": {
              "outlinewidth": 0,
              "ticks": ""
             }
            },
            "type": "scatterternary"
           }
          ],
          "surface": [
           {
            "colorbar": {
             "outlinewidth": 0,
             "ticks": ""
            },
            "colorscale": [
             [
              0,
              "#0d0887"
             ],
             [
              0.1111111111111111,
              "#46039f"
             ],
             [
              0.2222222222222222,
              "#7201a8"
             ],
             [
              0.3333333333333333,
              "#9c179e"
             ],
             [
              0.4444444444444444,
              "#bd3786"
             ],
             [
              0.5555555555555556,
              "#d8576b"
             ],
             [
              0.6666666666666666,
              "#ed7953"
             ],
             [
              0.7777777777777778,
              "#fb9f3a"
             ],
             [
              0.8888888888888888,
              "#fdca26"
             ],
             [
              1,
              "#f0f921"
             ]
            ],
            "type": "surface"
           }
          ],
          "table": [
           {
            "cells": {
             "fill": {
              "color": "#EBF0F8"
             },
             "line": {
              "color": "white"
             }
            },
            "header": {
             "fill": {
              "color": "#C8D4E3"
             },
             "line": {
              "color": "white"
             }
            },
            "type": "table"
           }
          ]
         },
         "layout": {
          "annotationdefaults": {
           "arrowcolor": "#2a3f5f",
           "arrowhead": 0,
           "arrowwidth": 1
          },
          "autotypenumbers": "strict",
          "coloraxis": {
           "colorbar": {
            "outlinewidth": 0,
            "ticks": ""
           }
          },
          "colorscale": {
           "diverging": [
            [
             0,
             "#8e0152"
            ],
            [
             0.1,
             "#c51b7d"
            ],
            [
             0.2,
             "#de77ae"
            ],
            [
             0.3,
             "#f1b6da"
            ],
            [
             0.4,
             "#fde0ef"
            ],
            [
             0.5,
             "#f7f7f7"
            ],
            [
             0.6,
             "#e6f5d0"
            ],
            [
             0.7,
             "#b8e186"
            ],
            [
             0.8,
             "#7fbc41"
            ],
            [
             0.9,
             "#4d9221"
            ],
            [
             1,
             "#276419"
            ]
           ],
           "sequential": [
            [
             0,
             "#0d0887"
            ],
            [
             0.1111111111111111,
             "#46039f"
            ],
            [
             0.2222222222222222,
             "#7201a8"
            ],
            [
             0.3333333333333333,
             "#9c179e"
            ],
            [
             0.4444444444444444,
             "#bd3786"
            ],
            [
             0.5555555555555556,
             "#d8576b"
            ],
            [
             0.6666666666666666,
             "#ed7953"
            ],
            [
             0.7777777777777778,
             "#fb9f3a"
            ],
            [
             0.8888888888888888,
             "#fdca26"
            ],
            [
             1,
             "#f0f921"
            ]
           ],
           "sequentialminus": [
            [
             0,
             "#0d0887"
            ],
            [
             0.1111111111111111,
             "#46039f"
            ],
            [
             0.2222222222222222,
             "#7201a8"
            ],
            [
             0.3333333333333333,
             "#9c179e"
            ],
            [
             0.4444444444444444,
             "#bd3786"
            ],
            [
             0.5555555555555556,
             "#d8576b"
            ],
            [
             0.6666666666666666,
             "#ed7953"
            ],
            [
             0.7777777777777778,
             "#fb9f3a"
            ],
            [
             0.8888888888888888,
             "#fdca26"
            ],
            [
             1,
             "#f0f921"
            ]
           ]
          },
          "colorway": [
           "#636efa",
           "#EF553B",
           "#00cc96",
           "#ab63fa",
           "#FFA15A",
           "#19d3f3",
           "#FF6692",
           "#B6E880",
           "#FF97FF",
           "#FECB52"
          ],
          "font": {
           "color": "#2a3f5f"
          },
          "geo": {
           "bgcolor": "white",
           "lakecolor": "white",
           "landcolor": "white",
           "showlakes": true,
           "showland": true,
           "subunitcolor": "#C8D4E3"
          },
          "hoverlabel": {
           "align": "left"
          },
          "hovermode": "closest",
          "mapbox": {
           "style": "light"
          },
          "paper_bgcolor": "white",
          "plot_bgcolor": "white",
          "polar": {
           "angularaxis": {
            "gridcolor": "#EBF0F8",
            "linecolor": "#EBF0F8",
            "ticks": ""
           },
           "bgcolor": "white",
           "radialaxis": {
            "gridcolor": "#EBF0F8",
            "linecolor": "#EBF0F8",
            "ticks": ""
           }
          },
          "scene": {
           "xaxis": {
            "backgroundcolor": "white",
            "gridcolor": "#DFE8F3",
            "gridwidth": 2,
            "linecolor": "#EBF0F8",
            "showbackground": true,
            "ticks": "",
            "zerolinecolor": "#EBF0F8"
           },
           "yaxis": {
            "backgroundcolor": "white",
            "gridcolor": "#DFE8F3",
            "gridwidth": 2,
            "linecolor": "#EBF0F8",
            "showbackground": true,
            "ticks": "",
            "zerolinecolor": "#EBF0F8"
           },
           "zaxis": {
            "backgroundcolor": "white",
            "gridcolor": "#DFE8F3",
            "gridwidth": 2,
            "linecolor": "#EBF0F8",
            "showbackground": true,
            "ticks": "",
            "zerolinecolor": "#EBF0F8"
           }
          },
          "shapedefaults": {
           "line": {
            "color": "#2a3f5f"
           }
          },
          "ternary": {
           "aaxis": {
            "gridcolor": "#DFE8F3",
            "linecolor": "#A2B1C6",
            "ticks": ""
           },
           "baxis": {
            "gridcolor": "#DFE8F3",
            "linecolor": "#A2B1C6",
            "ticks": ""
           },
           "bgcolor": "white",
           "caxis": {
            "gridcolor": "#DFE8F3",
            "linecolor": "#A2B1C6",
            "ticks": ""
           }
          },
          "title": {
           "x": 0.05
          },
          "xaxis": {
           "automargin": true,
           "gridcolor": "#EBF0F8",
           "linecolor": "#EBF0F8",
           "ticks": "",
           "title": {
            "standoff": 15
           },
           "zerolinecolor": "#EBF0F8",
           "zerolinewidth": 2
          },
          "yaxis": {
           "automargin": true,
           "gridcolor": "#EBF0F8",
           "linecolor": "#EBF0F8",
           "ticks": "",
           "title": {
            "standoff": 15
           },
           "zerolinecolor": "#EBF0F8",
           "zerolinewidth": 2
          }
         }
        },
        "title": {
         "text": "R-Squared for training and testing"
        },
        "xaxis": {
         "anchor": "y",
         "domain": [
          0,
          1
         ],
         "title": {
          "text": "index"
         }
        },
        "yaxis": {
         "anchor": "x",
         "domain": [
          0,
          1
         ],
         "title": {
          "text": "value"
         }
        }
       }
      },
      "text/html": [
       "<div>                            <div id=\"9b9ab14a-8771-42bf-8e0b-121193a0f911\" class=\"plotly-graph-div\" style=\"height:525px; width:100%;\"></div>            <script type=\"text/javascript\">                require([\"plotly\"], function(Plotly) {                    window.PLOTLYENV=window.PLOTLYENV || {};                                    if (document.getElementById(\"9b9ab14a-8771-42bf-8e0b-121193a0f911\")) {                    Plotly.newPlot(                        \"9b9ab14a-8771-42bf-8e0b-121193a0f911\",                        [{\"hovertemplate\":\"variable=Training<br>index=%{x}<br>value=%{y}<extra></extra>\",\"legendgroup\":\"Training\",\"line\":{\"color\":\"#636efa\",\"dash\":\"solid\"},\"mode\":\"lines\",\"name\":\"Training\",\"orientation\":\"v\",\"showlegend\":true,\"type\":\"scatter\",\"x\":[\"Lasso\",\"Elastic Net\",\"Gradient Boosting\",\"Bayesian Ridge\",\"Kernel Ridge\",\"Lasso Lars Ic\",\"Xgboost\",\"Random Forest\",\"Svm\"],\"xaxis\":\"x\",\"y\":[0.927949687805861,0.9288154443772252,0.9398516238813541,0.9212193206878495,0.935833238218076,0.890790086362362,0.9992485058441617,0.9816052020895847,0.7632713821640865],\"yaxis\":\"y\"},{\"hovertemplate\":\"variable=Testing<br>index=%{x}<br>value=%{y}<extra></extra>\",\"legendgroup\":\"Testing\",\"line\":{\"color\":\"#EF553B\",\"dash\":\"solid\"},\"mode\":\"lines\",\"name\":\"Testing\",\"orientation\":\"v\",\"showlegend\":true,\"type\":\"scatter\",\"x\":[\"Lasso\",\"Elastic Net\",\"Gradient Boosting\",\"Bayesian Ridge\",\"Kernel Ridge\",\"Lasso Lars Ic\",\"Xgboost\",\"Random Forest\",\"Svm\"],\"xaxis\":\"x\",\"y\":[0.9112603029036832,0.9112379859243956,0.9040766034600265,0.8973564339444152,0.8939290963903188,0.8931408899229634,0.8662141495623012,0.8560798101801042,0.7128825196073449],\"yaxis\":\"y\"}],                        {\"legend\":{\"title\":{\"text\":\"variable\"},\"tracegroupgap\":0},\"template\":{\"data\":{\"bar\":[{\"error_x\":{\"color\":\"#2a3f5f\"},\"error_y\":{\"color\":\"#2a3f5f\"},\"marker\":{\"line\":{\"color\":\"white\",\"width\":0.5},\"pattern\":{\"fillmode\":\"overlay\",\"size\":10,\"solidity\":0.2}},\"type\":\"bar\"}],\"barpolar\":[{\"marker\":{\"line\":{\"color\":\"white\",\"width\":0.5},\"pattern\":{\"fillmode\":\"overlay\",\"size\":10,\"solidity\":0.2}},\"type\":\"barpolar\"}],\"carpet\":[{\"aaxis\":{\"endlinecolor\":\"#2a3f5f\",\"gridcolor\":\"#C8D4E3\",\"linecolor\":\"#C8D4E3\",\"minorgridcolor\":\"#C8D4E3\",\"startlinecolor\":\"#2a3f5f\"},\"baxis\":{\"endlinecolor\":\"#2a3f5f\",\"gridcolor\":\"#C8D4E3\",\"linecolor\":\"#C8D4E3\",\"minorgridcolor\":\"#C8D4E3\",\"startlinecolor\":\"#2a3f5f\"},\"type\":\"carpet\"}],\"choropleth\":[{\"colorbar\":{\"outlinewidth\":0,\"ticks\":\"\"},\"type\":\"choropleth\"}],\"contour\":[{\"colorbar\":{\"outlinewidth\":0,\"ticks\":\"\"},\"colorscale\":[[0.0,\"#0d0887\"],[0.1111111111111111,\"#46039f\"],[0.2222222222222222,\"#7201a8\"],[0.3333333333333333,\"#9c179e\"],[0.4444444444444444,\"#bd3786\"],[0.5555555555555556,\"#d8576b\"],[0.6666666666666666,\"#ed7953\"],[0.7777777777777778,\"#fb9f3a\"],[0.8888888888888888,\"#fdca26\"],[1.0,\"#f0f921\"]],\"type\":\"contour\"}],\"contourcarpet\":[{\"colorbar\":{\"outlinewidth\":0,\"ticks\":\"\"},\"type\":\"contourcarpet\"}],\"heatmap\":[{\"colorbar\":{\"outlinewidth\":0,\"ticks\":\"\"},\"colorscale\":[[0.0,\"#0d0887\"],[0.1111111111111111,\"#46039f\"],[0.2222222222222222,\"#7201a8\"],[0.3333333333333333,\"#9c179e\"],[0.4444444444444444,\"#bd3786\"],[0.5555555555555556,\"#d8576b\"],[0.6666666666666666,\"#ed7953\"],[0.7777777777777778,\"#fb9f3a\"],[0.8888888888888888,\"#fdca26\"],[1.0,\"#f0f921\"]],\"type\":\"heatmap\"}],\"heatmapgl\":[{\"colorbar\":{\"outlinewidth\":0,\"ticks\":\"\"},\"colorscale\":[[0.0,\"#0d0887\"],[0.1111111111111111,\"#46039f\"],[0.2222222222222222,\"#7201a8\"],[0.3333333333333333,\"#9c179e\"],[0.4444444444444444,\"#bd3786\"],[0.5555555555555556,\"#d8576b\"],[0.6666666666666666,\"#ed7953\"],[0.7777777777777778,\"#fb9f3a\"],[0.8888888888888888,\"#fdca26\"],[1.0,\"#f0f921\"]],\"type\":\"heatmapgl\"}],\"histogram\":[{\"marker\":{\"pattern\":{\"fillmode\":\"overlay\",\"size\":10,\"solidity\":0.2}},\"type\":\"histogram\"}],\"histogram2d\":[{\"colorbar\":{\"outlinewidth\":0,\"ticks\":\"\"},\"colorscale\":[[0.0,\"#0d0887\"],[0.1111111111111111,\"#46039f\"],[0.2222222222222222,\"#7201a8\"],[0.3333333333333333,\"#9c179e\"],[0.4444444444444444,\"#bd3786\"],[0.5555555555555556,\"#d8576b\"],[0.6666666666666666,\"#ed7953\"],[0.7777777777777778,\"#fb9f3a\"],[0.8888888888888888,\"#fdca26\"],[1.0,\"#f0f921\"]],\"type\":\"histogram2d\"}],\"histogram2dcontour\":[{\"colorbar\":{\"outlinewidth\":0,\"ticks\":\"\"},\"colorscale\":[[0.0,\"#0d0887\"],[0.1111111111111111,\"#46039f\"],[0.2222222222222222,\"#7201a8\"],[0.3333333333333333,\"#9c179e\"],[0.4444444444444444,\"#bd3786\"],[0.5555555555555556,\"#d8576b\"],[0.6666666666666666,\"#ed7953\"],[0.7777777777777778,\"#fb9f3a\"],[0.8888888888888888,\"#fdca26\"],[1.0,\"#f0f921\"]],\"type\":\"histogram2dcontour\"}],\"mesh3d\":[{\"colorbar\":{\"outlinewidth\":0,\"ticks\":\"\"},\"type\":\"mesh3d\"}],\"parcoords\":[{\"line\":{\"colorbar\":{\"outlinewidth\":0,\"ticks\":\"\"}},\"type\":\"parcoords\"}],\"pie\":[{\"automargin\":true,\"type\":\"pie\"}],\"scatter\":[{\"marker\":{\"colorbar\":{\"outlinewidth\":0,\"ticks\":\"\"}},\"type\":\"scatter\"}],\"scatter3d\":[{\"line\":{\"colorbar\":{\"outlinewidth\":0,\"ticks\":\"\"}},\"marker\":{\"colorbar\":{\"outlinewidth\":0,\"ticks\":\"\"}},\"type\":\"scatter3d\"}],\"scattercarpet\":[{\"marker\":{\"colorbar\":{\"outlinewidth\":0,\"ticks\":\"\"}},\"type\":\"scattercarpet\"}],\"scattergeo\":[{\"marker\":{\"colorbar\":{\"outlinewidth\":0,\"ticks\":\"\"}},\"type\":\"scattergeo\"}],\"scattergl\":[{\"marker\":{\"colorbar\":{\"outlinewidth\":0,\"ticks\":\"\"}},\"type\":\"scattergl\"}],\"scattermapbox\":[{\"marker\":{\"colorbar\":{\"outlinewidth\":0,\"ticks\":\"\"}},\"type\":\"scattermapbox\"}],\"scatterpolar\":[{\"marker\":{\"colorbar\":{\"outlinewidth\":0,\"ticks\":\"\"}},\"type\":\"scatterpolar\"}],\"scatterpolargl\":[{\"marker\":{\"colorbar\":{\"outlinewidth\":0,\"ticks\":\"\"}},\"type\":\"scatterpolargl\"}],\"scatterternary\":[{\"marker\":{\"colorbar\":{\"outlinewidth\":0,\"ticks\":\"\"}},\"type\":\"scatterternary\"}],\"surface\":[{\"colorbar\":{\"outlinewidth\":0,\"ticks\":\"\"},\"colorscale\":[[0.0,\"#0d0887\"],[0.1111111111111111,\"#46039f\"],[0.2222222222222222,\"#7201a8\"],[0.3333333333333333,\"#9c179e\"],[0.4444444444444444,\"#bd3786\"],[0.5555555555555556,\"#d8576b\"],[0.6666666666666666,\"#ed7953\"],[0.7777777777777778,\"#fb9f3a\"],[0.8888888888888888,\"#fdca26\"],[1.0,\"#f0f921\"]],\"type\":\"surface\"}],\"table\":[{\"cells\":{\"fill\":{\"color\":\"#EBF0F8\"},\"line\":{\"color\":\"white\"}},\"header\":{\"fill\":{\"color\":\"#C8D4E3\"},\"line\":{\"color\":\"white\"}},\"type\":\"table\"}]},\"layout\":{\"annotationdefaults\":{\"arrowcolor\":\"#2a3f5f\",\"arrowhead\":0,\"arrowwidth\":1},\"autotypenumbers\":\"strict\",\"coloraxis\":{\"colorbar\":{\"outlinewidth\":0,\"ticks\":\"\"}},\"colorscale\":{\"diverging\":[[0,\"#8e0152\"],[0.1,\"#c51b7d\"],[0.2,\"#de77ae\"],[0.3,\"#f1b6da\"],[0.4,\"#fde0ef\"],[0.5,\"#f7f7f7\"],[0.6,\"#e6f5d0\"],[0.7,\"#b8e186\"],[0.8,\"#7fbc41\"],[0.9,\"#4d9221\"],[1,\"#276419\"]],\"sequential\":[[0.0,\"#0d0887\"],[0.1111111111111111,\"#46039f\"],[0.2222222222222222,\"#7201a8\"],[0.3333333333333333,\"#9c179e\"],[0.4444444444444444,\"#bd3786\"],[0.5555555555555556,\"#d8576b\"],[0.6666666666666666,\"#ed7953\"],[0.7777777777777778,\"#fb9f3a\"],[0.8888888888888888,\"#fdca26\"],[1.0,\"#f0f921\"]],\"sequentialminus\":[[0.0,\"#0d0887\"],[0.1111111111111111,\"#46039f\"],[0.2222222222222222,\"#7201a8\"],[0.3333333333333333,\"#9c179e\"],[0.4444444444444444,\"#bd3786\"],[0.5555555555555556,\"#d8576b\"],[0.6666666666666666,\"#ed7953\"],[0.7777777777777778,\"#fb9f3a\"],[0.8888888888888888,\"#fdca26\"],[1.0,\"#f0f921\"]]},\"colorway\":[\"#636efa\",\"#EF553B\",\"#00cc96\",\"#ab63fa\",\"#FFA15A\",\"#19d3f3\",\"#FF6692\",\"#B6E880\",\"#FF97FF\",\"#FECB52\"],\"font\":{\"color\":\"#2a3f5f\"},\"geo\":{\"bgcolor\":\"white\",\"lakecolor\":\"white\",\"landcolor\":\"white\",\"showlakes\":true,\"showland\":true,\"subunitcolor\":\"#C8D4E3\"},\"hoverlabel\":{\"align\":\"left\"},\"hovermode\":\"closest\",\"mapbox\":{\"style\":\"light\"},\"paper_bgcolor\":\"white\",\"plot_bgcolor\":\"white\",\"polar\":{\"angularaxis\":{\"gridcolor\":\"#EBF0F8\",\"linecolor\":\"#EBF0F8\",\"ticks\":\"\"},\"bgcolor\":\"white\",\"radialaxis\":{\"gridcolor\":\"#EBF0F8\",\"linecolor\":\"#EBF0F8\",\"ticks\":\"\"}},\"scene\":{\"xaxis\":{\"backgroundcolor\":\"white\",\"gridcolor\":\"#DFE8F3\",\"gridwidth\":2,\"linecolor\":\"#EBF0F8\",\"showbackground\":true,\"ticks\":\"\",\"zerolinecolor\":\"#EBF0F8\"},\"yaxis\":{\"backgroundcolor\":\"white\",\"gridcolor\":\"#DFE8F3\",\"gridwidth\":2,\"linecolor\":\"#EBF0F8\",\"showbackground\":true,\"ticks\":\"\",\"zerolinecolor\":\"#EBF0F8\"},\"zaxis\":{\"backgroundcolor\":\"white\",\"gridcolor\":\"#DFE8F3\",\"gridwidth\":2,\"linecolor\":\"#EBF0F8\",\"showbackground\":true,\"ticks\":\"\",\"zerolinecolor\":\"#EBF0F8\"}},\"shapedefaults\":{\"line\":{\"color\":\"#2a3f5f\"}},\"ternary\":{\"aaxis\":{\"gridcolor\":\"#DFE8F3\",\"linecolor\":\"#A2B1C6\",\"ticks\":\"\"},\"baxis\":{\"gridcolor\":\"#DFE8F3\",\"linecolor\":\"#A2B1C6\",\"ticks\":\"\"},\"bgcolor\":\"white\",\"caxis\":{\"gridcolor\":\"#DFE8F3\",\"linecolor\":\"#A2B1C6\",\"ticks\":\"\"}},\"title\":{\"x\":0.05},\"xaxis\":{\"automargin\":true,\"gridcolor\":\"#EBF0F8\",\"linecolor\":\"#EBF0F8\",\"ticks\":\"\",\"title\":{\"standoff\":15},\"zerolinecolor\":\"#EBF0F8\",\"zerolinewidth\":2},\"yaxis\":{\"automargin\":true,\"gridcolor\":\"#EBF0F8\",\"linecolor\":\"#EBF0F8\",\"ticks\":\"\",\"title\":{\"standoff\":15},\"zerolinecolor\":\"#EBF0F8\",\"zerolinewidth\":2}}},\"title\":{\"text\":\"R-Squared for training and testing\"},\"xaxis\":{\"anchor\":\"y\",\"domain\":[0.0,1.0],\"title\":{\"text\":\"index\"}},\"yaxis\":{\"anchor\":\"x\",\"domain\":[0.0,1.0],\"title\":{\"text\":\"value\"}}},                        {\"responsive\": true}                    ).then(function(){\n",
       "                            \n",
       "var gd = document.getElementById('9b9ab14a-8771-42bf-8e0b-121193a0f911');\n",
       "var x = new MutationObserver(function (mutations, observer) {{\n",
       "        var display = window.getComputedStyle(gd).display;\n",
       "        if (!display || display === 'none') {{\n",
       "            console.log([gd, 'removed!']);\n",
       "            Plotly.purge(gd);\n",
       "            observer.disconnect();\n",
       "        }}\n",
       "}});\n",
       "\n",
       "// Listen for the removal of the full notebook cells\n",
       "var notebookContainer = gd.closest('#notebook-container');\n",
       "if (notebookContainer) {{\n",
       "    x.observe(notebookContainer, {childList: true});\n",
       "}}\n",
       "\n",
       "// Listen for the clearing of the current output cell\n",
       "var outputEl = gd.closest('.output');\n",
       "if (outputEl) {{\n",
       "    x.observe(outputEl, {childList: true});\n",
       "}}\n",
       "\n",
       "                        })                };                });            </script>        </div>"
      ]
     },
     "metadata": {},
     "output_type": "display_data"
    },
    {
     "data": {
      "application/vnd.plotly.v1+json": {
       "config": {
        "plotlyServerURL": "https://plot.ly"
       },
       "data": [
        {
         "hovertemplate": "variable=Training<br>index=%{x}<br>value=%{y}<extra></extra>",
         "legendgroup": "Training",
         "line": {
          "color": "#636efa",
          "dash": "solid"
         },
         "mode": "lines",
         "name": "Training",
         "orientation": "v",
         "showlegend": true,
         "type": "scatter",
         "x": [
          "Lasso",
          "Elastic Net",
          "Gradient Boosting",
          "Bayesian Ridge",
          "Kernel Ridge",
          "Lasso Lars Ic",
          "Xgboost",
          "Random Forest",
          "Svm"
         ],
         "xaxis": "x",
         "y": [
          0.9225757694930384,
          0.9235060990683441,
          0.9353654190327259,
          0.91534341366733,
          0.9310473195216341,
          0.8826445955661846,
          0.9991924551750798,
          0.9802332144001338,
          0.7456148277951096
         ],
         "yaxis": "y"
        },
        {
         "hovertemplate": "variable=Testing<br>index=%{x}<br>value=%{y}<extra></extra>",
         "legendgroup": "Testing",
         "line": {
          "color": "#EF553B",
          "dash": "solid"
         },
         "mode": "lines",
         "name": "Testing",
         "orientation": "v",
         "showlegend": true,
         "type": "scatter",
         "x": [
          "Lasso",
          "Elastic Net",
          "Gradient Boosting",
          "Bayesian Ridge",
          "Kernel Ridge",
          "Lasso Lars Ic",
          "Xgboost",
          "Random Forest",
          "Svm"
         ],
         "xaxis": "x",
         "y": [
          0.904641596214179,
          0.9046176147088119,
          0.8969220959832882,
          0.8897006983546341,
          0.8860177306514752,
          0.8851707353039578,
          0.8562356469053458,
          0.8453454313813826,
          0.6914676799095503
         ],
         "yaxis": "y"
        }
       ],
       "layout": {
        "legend": {
         "title": {
          "text": "variable"
         },
         "tracegroupgap": 0
        },
        "template": {
         "data": {
          "bar": [
           {
            "error_x": {
             "color": "#2a3f5f"
            },
            "error_y": {
             "color": "#2a3f5f"
            },
            "marker": {
             "line": {
              "color": "white",
              "width": 0.5
             },
             "pattern": {
              "fillmode": "overlay",
              "size": 10,
              "solidity": 0.2
             }
            },
            "type": "bar"
           }
          ],
          "barpolar": [
           {
            "marker": {
             "line": {
              "color": "white",
              "width": 0.5
             },
             "pattern": {
              "fillmode": "overlay",
              "size": 10,
              "solidity": 0.2
             }
            },
            "type": "barpolar"
           }
          ],
          "carpet": [
           {
            "aaxis": {
             "endlinecolor": "#2a3f5f",
             "gridcolor": "#C8D4E3",
             "linecolor": "#C8D4E3",
             "minorgridcolor": "#C8D4E3",
             "startlinecolor": "#2a3f5f"
            },
            "baxis": {
             "endlinecolor": "#2a3f5f",
             "gridcolor": "#C8D4E3",
             "linecolor": "#C8D4E3",
             "minorgridcolor": "#C8D4E3",
             "startlinecolor": "#2a3f5f"
            },
            "type": "carpet"
           }
          ],
          "choropleth": [
           {
            "colorbar": {
             "outlinewidth": 0,
             "ticks": ""
            },
            "type": "choropleth"
           }
          ],
          "contour": [
           {
            "colorbar": {
             "outlinewidth": 0,
             "ticks": ""
            },
            "colorscale": [
             [
              0,
              "#0d0887"
             ],
             [
              0.1111111111111111,
              "#46039f"
             ],
             [
              0.2222222222222222,
              "#7201a8"
             ],
             [
              0.3333333333333333,
              "#9c179e"
             ],
             [
              0.4444444444444444,
              "#bd3786"
             ],
             [
              0.5555555555555556,
              "#d8576b"
             ],
             [
              0.6666666666666666,
              "#ed7953"
             ],
             [
              0.7777777777777778,
              "#fb9f3a"
             ],
             [
              0.8888888888888888,
              "#fdca26"
             ],
             [
              1,
              "#f0f921"
             ]
            ],
            "type": "contour"
           }
          ],
          "contourcarpet": [
           {
            "colorbar": {
             "outlinewidth": 0,
             "ticks": ""
            },
            "type": "contourcarpet"
           }
          ],
          "heatmap": [
           {
            "colorbar": {
             "outlinewidth": 0,
             "ticks": ""
            },
            "colorscale": [
             [
              0,
              "#0d0887"
             ],
             [
              0.1111111111111111,
              "#46039f"
             ],
             [
              0.2222222222222222,
              "#7201a8"
             ],
             [
              0.3333333333333333,
              "#9c179e"
             ],
             [
              0.4444444444444444,
              "#bd3786"
             ],
             [
              0.5555555555555556,
              "#d8576b"
             ],
             [
              0.6666666666666666,
              "#ed7953"
             ],
             [
              0.7777777777777778,
              "#fb9f3a"
             ],
             [
              0.8888888888888888,
              "#fdca26"
             ],
             [
              1,
              "#f0f921"
             ]
            ],
            "type": "heatmap"
           }
          ],
          "heatmapgl": [
           {
            "colorbar": {
             "outlinewidth": 0,
             "ticks": ""
            },
            "colorscale": [
             [
              0,
              "#0d0887"
             ],
             [
              0.1111111111111111,
              "#46039f"
             ],
             [
              0.2222222222222222,
              "#7201a8"
             ],
             [
              0.3333333333333333,
              "#9c179e"
             ],
             [
              0.4444444444444444,
              "#bd3786"
             ],
             [
              0.5555555555555556,
              "#d8576b"
             ],
             [
              0.6666666666666666,
              "#ed7953"
             ],
             [
              0.7777777777777778,
              "#fb9f3a"
             ],
             [
              0.8888888888888888,
              "#fdca26"
             ],
             [
              1,
              "#f0f921"
             ]
            ],
            "type": "heatmapgl"
           }
          ],
          "histogram": [
           {
            "marker": {
             "pattern": {
              "fillmode": "overlay",
              "size": 10,
              "solidity": 0.2
             }
            },
            "type": "histogram"
           }
          ],
          "histogram2d": [
           {
            "colorbar": {
             "outlinewidth": 0,
             "ticks": ""
            },
            "colorscale": [
             [
              0,
              "#0d0887"
             ],
             [
              0.1111111111111111,
              "#46039f"
             ],
             [
              0.2222222222222222,
              "#7201a8"
             ],
             [
              0.3333333333333333,
              "#9c179e"
             ],
             [
              0.4444444444444444,
              "#bd3786"
             ],
             [
              0.5555555555555556,
              "#d8576b"
             ],
             [
              0.6666666666666666,
              "#ed7953"
             ],
             [
              0.7777777777777778,
              "#fb9f3a"
             ],
             [
              0.8888888888888888,
              "#fdca26"
             ],
             [
              1,
              "#f0f921"
             ]
            ],
            "type": "histogram2d"
           }
          ],
          "histogram2dcontour": [
           {
            "colorbar": {
             "outlinewidth": 0,
             "ticks": ""
            },
            "colorscale": [
             [
              0,
              "#0d0887"
             ],
             [
              0.1111111111111111,
              "#46039f"
             ],
             [
              0.2222222222222222,
              "#7201a8"
             ],
             [
              0.3333333333333333,
              "#9c179e"
             ],
             [
              0.4444444444444444,
              "#bd3786"
             ],
             [
              0.5555555555555556,
              "#d8576b"
             ],
             [
              0.6666666666666666,
              "#ed7953"
             ],
             [
              0.7777777777777778,
              "#fb9f3a"
             ],
             [
              0.8888888888888888,
              "#fdca26"
             ],
             [
              1,
              "#f0f921"
             ]
            ],
            "type": "histogram2dcontour"
           }
          ],
          "mesh3d": [
           {
            "colorbar": {
             "outlinewidth": 0,
             "ticks": ""
            },
            "type": "mesh3d"
           }
          ],
          "parcoords": [
           {
            "line": {
             "colorbar": {
              "outlinewidth": 0,
              "ticks": ""
             }
            },
            "type": "parcoords"
           }
          ],
          "pie": [
           {
            "automargin": true,
            "type": "pie"
           }
          ],
          "scatter": [
           {
            "marker": {
             "colorbar": {
              "outlinewidth": 0,
              "ticks": ""
             }
            },
            "type": "scatter"
           }
          ],
          "scatter3d": [
           {
            "line": {
             "colorbar": {
              "outlinewidth": 0,
              "ticks": ""
             }
            },
            "marker": {
             "colorbar": {
              "outlinewidth": 0,
              "ticks": ""
             }
            },
            "type": "scatter3d"
           }
          ],
          "scattercarpet": [
           {
            "marker": {
             "colorbar": {
              "outlinewidth": 0,
              "ticks": ""
             }
            },
            "type": "scattercarpet"
           }
          ],
          "scattergeo": [
           {
            "marker": {
             "colorbar": {
              "outlinewidth": 0,
              "ticks": ""
             }
            },
            "type": "scattergeo"
           }
          ],
          "scattergl": [
           {
            "marker": {
             "colorbar": {
              "outlinewidth": 0,
              "ticks": ""
             }
            },
            "type": "scattergl"
           }
          ],
          "scattermapbox": [
           {
            "marker": {
             "colorbar": {
              "outlinewidth": 0,
              "ticks": ""
             }
            },
            "type": "scattermapbox"
           }
          ],
          "scatterpolar": [
           {
            "marker": {
             "colorbar": {
              "outlinewidth": 0,
              "ticks": ""
             }
            },
            "type": "scatterpolar"
           }
          ],
          "scatterpolargl": [
           {
            "marker": {
             "colorbar": {
              "outlinewidth": 0,
              "ticks": ""
             }
            },
            "type": "scatterpolargl"
           }
          ],
          "scatterternary": [
           {
            "marker": {
             "colorbar": {
              "outlinewidth": 0,
              "ticks": ""
             }
            },
            "type": "scatterternary"
           }
          ],
          "surface": [
           {
            "colorbar": {
             "outlinewidth": 0,
             "ticks": ""
            },
            "colorscale": [
             [
              0,
              "#0d0887"
             ],
             [
              0.1111111111111111,
              "#46039f"
             ],
             [
              0.2222222222222222,
              "#7201a8"
             ],
             [
              0.3333333333333333,
              "#9c179e"
             ],
             [
              0.4444444444444444,
              "#bd3786"
             ],
             [
              0.5555555555555556,
              "#d8576b"
             ],
             [
              0.6666666666666666,
              "#ed7953"
             ],
             [
              0.7777777777777778,
              "#fb9f3a"
             ],
             [
              0.8888888888888888,
              "#fdca26"
             ],
             [
              1,
              "#f0f921"
             ]
            ],
            "type": "surface"
           }
          ],
          "table": [
           {
            "cells": {
             "fill": {
              "color": "#EBF0F8"
             },
             "line": {
              "color": "white"
             }
            },
            "header": {
             "fill": {
              "color": "#C8D4E3"
             },
             "line": {
              "color": "white"
             }
            },
            "type": "table"
           }
          ]
         },
         "layout": {
          "annotationdefaults": {
           "arrowcolor": "#2a3f5f",
           "arrowhead": 0,
           "arrowwidth": 1
          },
          "autotypenumbers": "strict",
          "coloraxis": {
           "colorbar": {
            "outlinewidth": 0,
            "ticks": ""
           }
          },
          "colorscale": {
           "diverging": [
            [
             0,
             "#8e0152"
            ],
            [
             0.1,
             "#c51b7d"
            ],
            [
             0.2,
             "#de77ae"
            ],
            [
             0.3,
             "#f1b6da"
            ],
            [
             0.4,
             "#fde0ef"
            ],
            [
             0.5,
             "#f7f7f7"
            ],
            [
             0.6,
             "#e6f5d0"
            ],
            [
             0.7,
             "#b8e186"
            ],
            [
             0.8,
             "#7fbc41"
            ],
            [
             0.9,
             "#4d9221"
            ],
            [
             1,
             "#276419"
            ]
           ],
           "sequential": [
            [
             0,
             "#0d0887"
            ],
            [
             0.1111111111111111,
             "#46039f"
            ],
            [
             0.2222222222222222,
             "#7201a8"
            ],
            [
             0.3333333333333333,
             "#9c179e"
            ],
            [
             0.4444444444444444,
             "#bd3786"
            ],
            [
             0.5555555555555556,
             "#d8576b"
            ],
            [
             0.6666666666666666,
             "#ed7953"
            ],
            [
             0.7777777777777778,
             "#fb9f3a"
            ],
            [
             0.8888888888888888,
             "#fdca26"
            ],
            [
             1,
             "#f0f921"
            ]
           ],
           "sequentialminus": [
            [
             0,
             "#0d0887"
            ],
            [
             0.1111111111111111,
             "#46039f"
            ],
            [
             0.2222222222222222,
             "#7201a8"
            ],
            [
             0.3333333333333333,
             "#9c179e"
            ],
            [
             0.4444444444444444,
             "#bd3786"
            ],
            [
             0.5555555555555556,
             "#d8576b"
            ],
            [
             0.6666666666666666,
             "#ed7953"
            ],
            [
             0.7777777777777778,
             "#fb9f3a"
            ],
            [
             0.8888888888888888,
             "#fdca26"
            ],
            [
             1,
             "#f0f921"
            ]
           ]
          },
          "colorway": [
           "#636efa",
           "#EF553B",
           "#00cc96",
           "#ab63fa",
           "#FFA15A",
           "#19d3f3",
           "#FF6692",
           "#B6E880",
           "#FF97FF",
           "#FECB52"
          ],
          "font": {
           "color": "#2a3f5f"
          },
          "geo": {
           "bgcolor": "white",
           "lakecolor": "white",
           "landcolor": "white",
           "showlakes": true,
           "showland": true,
           "subunitcolor": "#C8D4E3"
          },
          "hoverlabel": {
           "align": "left"
          },
          "hovermode": "closest",
          "mapbox": {
           "style": "light"
          },
          "paper_bgcolor": "white",
          "plot_bgcolor": "white",
          "polar": {
           "angularaxis": {
            "gridcolor": "#EBF0F8",
            "linecolor": "#EBF0F8",
            "ticks": ""
           },
           "bgcolor": "white",
           "radialaxis": {
            "gridcolor": "#EBF0F8",
            "linecolor": "#EBF0F8",
            "ticks": ""
           }
          },
          "scene": {
           "xaxis": {
            "backgroundcolor": "white",
            "gridcolor": "#DFE8F3",
            "gridwidth": 2,
            "linecolor": "#EBF0F8",
            "showbackground": true,
            "ticks": "",
            "zerolinecolor": "#EBF0F8"
           },
           "yaxis": {
            "backgroundcolor": "white",
            "gridcolor": "#DFE8F3",
            "gridwidth": 2,
            "linecolor": "#EBF0F8",
            "showbackground": true,
            "ticks": "",
            "zerolinecolor": "#EBF0F8"
           },
           "zaxis": {
            "backgroundcolor": "white",
            "gridcolor": "#DFE8F3",
            "gridwidth": 2,
            "linecolor": "#EBF0F8",
            "showbackground": true,
            "ticks": "",
            "zerolinecolor": "#EBF0F8"
           }
          },
          "shapedefaults": {
           "line": {
            "color": "#2a3f5f"
           }
          },
          "ternary": {
           "aaxis": {
            "gridcolor": "#DFE8F3",
            "linecolor": "#A2B1C6",
            "ticks": ""
           },
           "baxis": {
            "gridcolor": "#DFE8F3",
            "linecolor": "#A2B1C6",
            "ticks": ""
           },
           "bgcolor": "white",
           "caxis": {
            "gridcolor": "#DFE8F3",
            "linecolor": "#A2B1C6",
            "ticks": ""
           }
          },
          "title": {
           "x": 0.05
          },
          "xaxis": {
           "automargin": true,
           "gridcolor": "#EBF0F8",
           "linecolor": "#EBF0F8",
           "ticks": "",
           "title": {
            "standoff": 15
           },
           "zerolinecolor": "#EBF0F8",
           "zerolinewidth": 2
          },
          "yaxis": {
           "automargin": true,
           "gridcolor": "#EBF0F8",
           "linecolor": "#EBF0F8",
           "ticks": "",
           "title": {
            "standoff": 15
           },
           "zerolinecolor": "#EBF0F8",
           "zerolinewidth": 2
          }
         }
        },
        "title": {
         "text": "Adjusted R-Squared for training and testing"
        },
        "xaxis": {
         "anchor": "y",
         "domain": [
          0,
          1
         ],
         "title": {
          "text": "index"
         }
        },
        "yaxis": {
         "anchor": "x",
         "domain": [
          0,
          1
         ],
         "title": {
          "text": "value"
         }
        }
       }
      },
      "text/html": [
       "<div>                            <div id=\"be09a006-db38-4dae-913d-46961c69b4b1\" class=\"plotly-graph-div\" style=\"height:525px; width:100%;\"></div>            <script type=\"text/javascript\">                require([\"plotly\"], function(Plotly) {                    window.PLOTLYENV=window.PLOTLYENV || {};                                    if (document.getElementById(\"be09a006-db38-4dae-913d-46961c69b4b1\")) {                    Plotly.newPlot(                        \"be09a006-db38-4dae-913d-46961c69b4b1\",                        [{\"hovertemplate\":\"variable=Training<br>index=%{x}<br>value=%{y}<extra></extra>\",\"legendgroup\":\"Training\",\"line\":{\"color\":\"#636efa\",\"dash\":\"solid\"},\"mode\":\"lines\",\"name\":\"Training\",\"orientation\":\"v\",\"showlegend\":true,\"type\":\"scatter\",\"x\":[\"Lasso\",\"Elastic Net\",\"Gradient Boosting\",\"Bayesian Ridge\",\"Kernel Ridge\",\"Lasso Lars Ic\",\"Xgboost\",\"Random Forest\",\"Svm\"],\"xaxis\":\"x\",\"y\":[0.9225757694930384,0.9235060990683441,0.9353654190327259,0.91534341366733,0.9310473195216341,0.8826445955661846,0.9991924551750798,0.9802332144001338,0.7456148277951096],\"yaxis\":\"y\"},{\"hovertemplate\":\"variable=Testing<br>index=%{x}<br>value=%{y}<extra></extra>\",\"legendgroup\":\"Testing\",\"line\":{\"color\":\"#EF553B\",\"dash\":\"solid\"},\"mode\":\"lines\",\"name\":\"Testing\",\"orientation\":\"v\",\"showlegend\":true,\"type\":\"scatter\",\"x\":[\"Lasso\",\"Elastic Net\",\"Gradient Boosting\",\"Bayesian Ridge\",\"Kernel Ridge\",\"Lasso Lars Ic\",\"Xgboost\",\"Random Forest\",\"Svm\"],\"xaxis\":\"x\",\"y\":[0.904641596214179,0.9046176147088119,0.8969220959832882,0.8897006983546341,0.8860177306514752,0.8851707353039578,0.8562356469053458,0.8453454313813826,0.6914676799095503],\"yaxis\":\"y\"}],                        {\"legend\":{\"title\":{\"text\":\"variable\"},\"tracegroupgap\":0},\"template\":{\"data\":{\"bar\":[{\"error_x\":{\"color\":\"#2a3f5f\"},\"error_y\":{\"color\":\"#2a3f5f\"},\"marker\":{\"line\":{\"color\":\"white\",\"width\":0.5},\"pattern\":{\"fillmode\":\"overlay\",\"size\":10,\"solidity\":0.2}},\"type\":\"bar\"}],\"barpolar\":[{\"marker\":{\"line\":{\"color\":\"white\",\"width\":0.5},\"pattern\":{\"fillmode\":\"overlay\",\"size\":10,\"solidity\":0.2}},\"type\":\"barpolar\"}],\"carpet\":[{\"aaxis\":{\"endlinecolor\":\"#2a3f5f\",\"gridcolor\":\"#C8D4E3\",\"linecolor\":\"#C8D4E3\",\"minorgridcolor\":\"#C8D4E3\",\"startlinecolor\":\"#2a3f5f\"},\"baxis\":{\"endlinecolor\":\"#2a3f5f\",\"gridcolor\":\"#C8D4E3\",\"linecolor\":\"#C8D4E3\",\"minorgridcolor\":\"#C8D4E3\",\"startlinecolor\":\"#2a3f5f\"},\"type\":\"carpet\"}],\"choropleth\":[{\"colorbar\":{\"outlinewidth\":0,\"ticks\":\"\"},\"type\":\"choropleth\"}],\"contour\":[{\"colorbar\":{\"outlinewidth\":0,\"ticks\":\"\"},\"colorscale\":[[0.0,\"#0d0887\"],[0.1111111111111111,\"#46039f\"],[0.2222222222222222,\"#7201a8\"],[0.3333333333333333,\"#9c179e\"],[0.4444444444444444,\"#bd3786\"],[0.5555555555555556,\"#d8576b\"],[0.6666666666666666,\"#ed7953\"],[0.7777777777777778,\"#fb9f3a\"],[0.8888888888888888,\"#fdca26\"],[1.0,\"#f0f921\"]],\"type\":\"contour\"}],\"contourcarpet\":[{\"colorbar\":{\"outlinewidth\":0,\"ticks\":\"\"},\"type\":\"contourcarpet\"}],\"heatmap\":[{\"colorbar\":{\"outlinewidth\":0,\"ticks\":\"\"},\"colorscale\":[[0.0,\"#0d0887\"],[0.1111111111111111,\"#46039f\"],[0.2222222222222222,\"#7201a8\"],[0.3333333333333333,\"#9c179e\"],[0.4444444444444444,\"#bd3786\"],[0.5555555555555556,\"#d8576b\"],[0.6666666666666666,\"#ed7953\"],[0.7777777777777778,\"#fb9f3a\"],[0.8888888888888888,\"#fdca26\"],[1.0,\"#f0f921\"]],\"type\":\"heatmap\"}],\"heatmapgl\":[{\"colorbar\":{\"outlinewidth\":0,\"ticks\":\"\"},\"colorscale\":[[0.0,\"#0d0887\"],[0.1111111111111111,\"#46039f\"],[0.2222222222222222,\"#7201a8\"],[0.3333333333333333,\"#9c179e\"],[0.4444444444444444,\"#bd3786\"],[0.5555555555555556,\"#d8576b\"],[0.6666666666666666,\"#ed7953\"],[0.7777777777777778,\"#fb9f3a\"],[0.8888888888888888,\"#fdca26\"],[1.0,\"#f0f921\"]],\"type\":\"heatmapgl\"}],\"histogram\":[{\"marker\":{\"pattern\":{\"fillmode\":\"overlay\",\"size\":10,\"solidity\":0.2}},\"type\":\"histogram\"}],\"histogram2d\":[{\"colorbar\":{\"outlinewidth\":0,\"ticks\":\"\"},\"colorscale\":[[0.0,\"#0d0887\"],[0.1111111111111111,\"#46039f\"],[0.2222222222222222,\"#7201a8\"],[0.3333333333333333,\"#9c179e\"],[0.4444444444444444,\"#bd3786\"],[0.5555555555555556,\"#d8576b\"],[0.6666666666666666,\"#ed7953\"],[0.7777777777777778,\"#fb9f3a\"],[0.8888888888888888,\"#fdca26\"],[1.0,\"#f0f921\"]],\"type\":\"histogram2d\"}],\"histogram2dcontour\":[{\"colorbar\":{\"outlinewidth\":0,\"ticks\":\"\"},\"colorscale\":[[0.0,\"#0d0887\"],[0.1111111111111111,\"#46039f\"],[0.2222222222222222,\"#7201a8\"],[0.3333333333333333,\"#9c179e\"],[0.4444444444444444,\"#bd3786\"],[0.5555555555555556,\"#d8576b\"],[0.6666666666666666,\"#ed7953\"],[0.7777777777777778,\"#fb9f3a\"],[0.8888888888888888,\"#fdca26\"],[1.0,\"#f0f921\"]],\"type\":\"histogram2dcontour\"}],\"mesh3d\":[{\"colorbar\":{\"outlinewidth\":0,\"ticks\":\"\"},\"type\":\"mesh3d\"}],\"parcoords\":[{\"line\":{\"colorbar\":{\"outlinewidth\":0,\"ticks\":\"\"}},\"type\":\"parcoords\"}],\"pie\":[{\"automargin\":true,\"type\":\"pie\"}],\"scatter\":[{\"marker\":{\"colorbar\":{\"outlinewidth\":0,\"ticks\":\"\"}},\"type\":\"scatter\"}],\"scatter3d\":[{\"line\":{\"colorbar\":{\"outlinewidth\":0,\"ticks\":\"\"}},\"marker\":{\"colorbar\":{\"outlinewidth\":0,\"ticks\":\"\"}},\"type\":\"scatter3d\"}],\"scattercarpet\":[{\"marker\":{\"colorbar\":{\"outlinewidth\":0,\"ticks\":\"\"}},\"type\":\"scattercarpet\"}],\"scattergeo\":[{\"marker\":{\"colorbar\":{\"outlinewidth\":0,\"ticks\":\"\"}},\"type\":\"scattergeo\"}],\"scattergl\":[{\"marker\":{\"colorbar\":{\"outlinewidth\":0,\"ticks\":\"\"}},\"type\":\"scattergl\"}],\"scattermapbox\":[{\"marker\":{\"colorbar\":{\"outlinewidth\":0,\"ticks\":\"\"}},\"type\":\"scattermapbox\"}],\"scatterpolar\":[{\"marker\":{\"colorbar\":{\"outlinewidth\":0,\"ticks\":\"\"}},\"type\":\"scatterpolar\"}],\"scatterpolargl\":[{\"marker\":{\"colorbar\":{\"outlinewidth\":0,\"ticks\":\"\"}},\"type\":\"scatterpolargl\"}],\"scatterternary\":[{\"marker\":{\"colorbar\":{\"outlinewidth\":0,\"ticks\":\"\"}},\"type\":\"scatterternary\"}],\"surface\":[{\"colorbar\":{\"outlinewidth\":0,\"ticks\":\"\"},\"colorscale\":[[0.0,\"#0d0887\"],[0.1111111111111111,\"#46039f\"],[0.2222222222222222,\"#7201a8\"],[0.3333333333333333,\"#9c179e\"],[0.4444444444444444,\"#bd3786\"],[0.5555555555555556,\"#d8576b\"],[0.6666666666666666,\"#ed7953\"],[0.7777777777777778,\"#fb9f3a\"],[0.8888888888888888,\"#fdca26\"],[1.0,\"#f0f921\"]],\"type\":\"surface\"}],\"table\":[{\"cells\":{\"fill\":{\"color\":\"#EBF0F8\"},\"line\":{\"color\":\"white\"}},\"header\":{\"fill\":{\"color\":\"#C8D4E3\"},\"line\":{\"color\":\"white\"}},\"type\":\"table\"}]},\"layout\":{\"annotationdefaults\":{\"arrowcolor\":\"#2a3f5f\",\"arrowhead\":0,\"arrowwidth\":1},\"autotypenumbers\":\"strict\",\"coloraxis\":{\"colorbar\":{\"outlinewidth\":0,\"ticks\":\"\"}},\"colorscale\":{\"diverging\":[[0,\"#8e0152\"],[0.1,\"#c51b7d\"],[0.2,\"#de77ae\"],[0.3,\"#f1b6da\"],[0.4,\"#fde0ef\"],[0.5,\"#f7f7f7\"],[0.6,\"#e6f5d0\"],[0.7,\"#b8e186\"],[0.8,\"#7fbc41\"],[0.9,\"#4d9221\"],[1,\"#276419\"]],\"sequential\":[[0.0,\"#0d0887\"],[0.1111111111111111,\"#46039f\"],[0.2222222222222222,\"#7201a8\"],[0.3333333333333333,\"#9c179e\"],[0.4444444444444444,\"#bd3786\"],[0.5555555555555556,\"#d8576b\"],[0.6666666666666666,\"#ed7953\"],[0.7777777777777778,\"#fb9f3a\"],[0.8888888888888888,\"#fdca26\"],[1.0,\"#f0f921\"]],\"sequentialminus\":[[0.0,\"#0d0887\"],[0.1111111111111111,\"#46039f\"],[0.2222222222222222,\"#7201a8\"],[0.3333333333333333,\"#9c179e\"],[0.4444444444444444,\"#bd3786\"],[0.5555555555555556,\"#d8576b\"],[0.6666666666666666,\"#ed7953\"],[0.7777777777777778,\"#fb9f3a\"],[0.8888888888888888,\"#fdca26\"],[1.0,\"#f0f921\"]]},\"colorway\":[\"#636efa\",\"#EF553B\",\"#00cc96\",\"#ab63fa\",\"#FFA15A\",\"#19d3f3\",\"#FF6692\",\"#B6E880\",\"#FF97FF\",\"#FECB52\"],\"font\":{\"color\":\"#2a3f5f\"},\"geo\":{\"bgcolor\":\"white\",\"lakecolor\":\"white\",\"landcolor\":\"white\",\"showlakes\":true,\"showland\":true,\"subunitcolor\":\"#C8D4E3\"},\"hoverlabel\":{\"align\":\"left\"},\"hovermode\":\"closest\",\"mapbox\":{\"style\":\"light\"},\"paper_bgcolor\":\"white\",\"plot_bgcolor\":\"white\",\"polar\":{\"angularaxis\":{\"gridcolor\":\"#EBF0F8\",\"linecolor\":\"#EBF0F8\",\"ticks\":\"\"},\"bgcolor\":\"white\",\"radialaxis\":{\"gridcolor\":\"#EBF0F8\",\"linecolor\":\"#EBF0F8\",\"ticks\":\"\"}},\"scene\":{\"xaxis\":{\"backgroundcolor\":\"white\",\"gridcolor\":\"#DFE8F3\",\"gridwidth\":2,\"linecolor\":\"#EBF0F8\",\"showbackground\":true,\"ticks\":\"\",\"zerolinecolor\":\"#EBF0F8\"},\"yaxis\":{\"backgroundcolor\":\"white\",\"gridcolor\":\"#DFE8F3\",\"gridwidth\":2,\"linecolor\":\"#EBF0F8\",\"showbackground\":true,\"ticks\":\"\",\"zerolinecolor\":\"#EBF0F8\"},\"zaxis\":{\"backgroundcolor\":\"white\",\"gridcolor\":\"#DFE8F3\",\"gridwidth\":2,\"linecolor\":\"#EBF0F8\",\"showbackground\":true,\"ticks\":\"\",\"zerolinecolor\":\"#EBF0F8\"}},\"shapedefaults\":{\"line\":{\"color\":\"#2a3f5f\"}},\"ternary\":{\"aaxis\":{\"gridcolor\":\"#DFE8F3\",\"linecolor\":\"#A2B1C6\",\"ticks\":\"\"},\"baxis\":{\"gridcolor\":\"#DFE8F3\",\"linecolor\":\"#A2B1C6\",\"ticks\":\"\"},\"bgcolor\":\"white\",\"caxis\":{\"gridcolor\":\"#DFE8F3\",\"linecolor\":\"#A2B1C6\",\"ticks\":\"\"}},\"title\":{\"x\":0.05},\"xaxis\":{\"automargin\":true,\"gridcolor\":\"#EBF0F8\",\"linecolor\":\"#EBF0F8\",\"ticks\":\"\",\"title\":{\"standoff\":15},\"zerolinecolor\":\"#EBF0F8\",\"zerolinewidth\":2},\"yaxis\":{\"automargin\":true,\"gridcolor\":\"#EBF0F8\",\"linecolor\":\"#EBF0F8\",\"ticks\":\"\",\"title\":{\"standoff\":15},\"zerolinecolor\":\"#EBF0F8\",\"zerolinewidth\":2}}},\"title\":{\"text\":\"Adjusted R-Squared for training and testing\"},\"xaxis\":{\"anchor\":\"y\",\"domain\":[0.0,1.0],\"title\":{\"text\":\"index\"}},\"yaxis\":{\"anchor\":\"x\",\"domain\":[0.0,1.0],\"title\":{\"text\":\"value\"}}},                        {\"responsive\": true}                    ).then(function(){\n",
       "                            \n",
       "var gd = document.getElementById('be09a006-db38-4dae-913d-46961c69b4b1');\n",
       "var x = new MutationObserver(function (mutations, observer) {{\n",
       "        var display = window.getComputedStyle(gd).display;\n",
       "        if (!display || display === 'none') {{\n",
       "            console.log([gd, 'removed!']);\n",
       "            Plotly.purge(gd);\n",
       "            observer.disconnect();\n",
       "        }}\n",
       "}});\n",
       "\n",
       "// Listen for the removal of the full notebook cells\n",
       "var notebookContainer = gd.closest('#notebook-container');\n",
       "if (notebookContainer) {{\n",
       "    x.observe(notebookContainer, {childList: true});\n",
       "}}\n",
       "\n",
       "// Listen for the clearing of the current output cell\n",
       "var outputEl = gd.closest('.output');\n",
       "if (outputEl) {{\n",
       "    x.observe(outputEl, {childList: true});\n",
       "}}\n",
       "\n",
       "                        })                };                });            </script>        </div>"
      ]
     },
     "metadata": {},
     "output_type": "display_data"
    },
    {
     "data": {
      "application/vnd.plotly.v1+json": {
       "config": {
        "plotlyServerURL": "https://plot.ly"
       },
       "data": [
        {
         "hovertemplate": "variable=Training<br>index=%{x}<br>value=%{y}<extra></extra>",
         "legendgroup": "Training",
         "line": {
          "color": "#636efa",
          "dash": "solid"
         },
         "mode": "lines",
         "name": "Training",
         "orientation": "v",
         "showlegend": true,
         "type": "scatter",
         "x": [
          "Lasso",
          "Elastic Net",
          "Gradient Boosting",
          "Bayesian Ridge",
          "Kernel Ridge",
          "Lasso Lars Ic",
          "Xgboost",
          "Random Forest",
          "Svm"
         ],
         "xaxis": "x",
         "y": [
          0.07519751110833019,
          0.07481909603573755,
          0.05854214478262828,
          0.07752021693652415,
          0.07257296236724352,
          0.0924387536494746,
          0.007828328877394044,
          0.03730980516124621,
          0.1422120704758053
         ],
         "yaxis": "y"
        },
        {
         "hovertemplate": "variable=Testing<br>index=%{x}<br>value=%{y}<extra></extra>",
         "legendgroup": "Testing",
         "line": {
          "color": "#EF553B",
          "dash": "solid"
         },
         "mode": "lines",
         "name": "Testing",
         "orientation": "v",
         "showlegend": true,
         "type": "scatter",
         "x": [
          "Lasso",
          "Elastic Net",
          "Gradient Boosting",
          "Bayesian Ridge",
          "Kernel Ridge",
          "Lasso Lars Ic",
          "Xgboost",
          "Random Forest",
          "Svm"
         ],
         "xaxis": "x",
         "y": [
          0.01284002067056231,
          0.012843249783177446,
          0.013879452315765517,
          0.014851814384981019,
          0.015347726434261827,
          0.015461774460846024,
          0.019357887633809693,
          0.020824256478957654,
          0.0415439144345972
         ],
         "yaxis": "y"
        }
       ],
       "layout": {
        "legend": {
         "title": {
          "text": "variable"
         },
         "tracegroupgap": 0
        },
        "template": {
         "data": {
          "bar": [
           {
            "error_x": {
             "color": "#2a3f5f"
            },
            "error_y": {
             "color": "#2a3f5f"
            },
            "marker": {
             "line": {
              "color": "white",
              "width": 0.5
             },
             "pattern": {
              "fillmode": "overlay",
              "size": 10,
              "solidity": 0.2
             }
            },
            "type": "bar"
           }
          ],
          "barpolar": [
           {
            "marker": {
             "line": {
              "color": "white",
              "width": 0.5
             },
             "pattern": {
              "fillmode": "overlay",
              "size": 10,
              "solidity": 0.2
             }
            },
            "type": "barpolar"
           }
          ],
          "carpet": [
           {
            "aaxis": {
             "endlinecolor": "#2a3f5f",
             "gridcolor": "#C8D4E3",
             "linecolor": "#C8D4E3",
             "minorgridcolor": "#C8D4E3",
             "startlinecolor": "#2a3f5f"
            },
            "baxis": {
             "endlinecolor": "#2a3f5f",
             "gridcolor": "#C8D4E3",
             "linecolor": "#C8D4E3",
             "minorgridcolor": "#C8D4E3",
             "startlinecolor": "#2a3f5f"
            },
            "type": "carpet"
           }
          ],
          "choropleth": [
           {
            "colorbar": {
             "outlinewidth": 0,
             "ticks": ""
            },
            "type": "choropleth"
           }
          ],
          "contour": [
           {
            "colorbar": {
             "outlinewidth": 0,
             "ticks": ""
            },
            "colorscale": [
             [
              0,
              "#0d0887"
             ],
             [
              0.1111111111111111,
              "#46039f"
             ],
             [
              0.2222222222222222,
              "#7201a8"
             ],
             [
              0.3333333333333333,
              "#9c179e"
             ],
             [
              0.4444444444444444,
              "#bd3786"
             ],
             [
              0.5555555555555556,
              "#d8576b"
             ],
             [
              0.6666666666666666,
              "#ed7953"
             ],
             [
              0.7777777777777778,
              "#fb9f3a"
             ],
             [
              0.8888888888888888,
              "#fdca26"
             ],
             [
              1,
              "#f0f921"
             ]
            ],
            "type": "contour"
           }
          ],
          "contourcarpet": [
           {
            "colorbar": {
             "outlinewidth": 0,
             "ticks": ""
            },
            "type": "contourcarpet"
           }
          ],
          "heatmap": [
           {
            "colorbar": {
             "outlinewidth": 0,
             "ticks": ""
            },
            "colorscale": [
             [
              0,
              "#0d0887"
             ],
             [
              0.1111111111111111,
              "#46039f"
             ],
             [
              0.2222222222222222,
              "#7201a8"
             ],
             [
              0.3333333333333333,
              "#9c179e"
             ],
             [
              0.4444444444444444,
              "#bd3786"
             ],
             [
              0.5555555555555556,
              "#d8576b"
             ],
             [
              0.6666666666666666,
              "#ed7953"
             ],
             [
              0.7777777777777778,
              "#fb9f3a"
             ],
             [
              0.8888888888888888,
              "#fdca26"
             ],
             [
              1,
              "#f0f921"
             ]
            ],
            "type": "heatmap"
           }
          ],
          "heatmapgl": [
           {
            "colorbar": {
             "outlinewidth": 0,
             "ticks": ""
            },
            "colorscale": [
             [
              0,
              "#0d0887"
             ],
             [
              0.1111111111111111,
              "#46039f"
             ],
             [
              0.2222222222222222,
              "#7201a8"
             ],
             [
              0.3333333333333333,
              "#9c179e"
             ],
             [
              0.4444444444444444,
              "#bd3786"
             ],
             [
              0.5555555555555556,
              "#d8576b"
             ],
             [
              0.6666666666666666,
              "#ed7953"
             ],
             [
              0.7777777777777778,
              "#fb9f3a"
             ],
             [
              0.8888888888888888,
              "#fdca26"
             ],
             [
              1,
              "#f0f921"
             ]
            ],
            "type": "heatmapgl"
           }
          ],
          "histogram": [
           {
            "marker": {
             "pattern": {
              "fillmode": "overlay",
              "size": 10,
              "solidity": 0.2
             }
            },
            "type": "histogram"
           }
          ],
          "histogram2d": [
           {
            "colorbar": {
             "outlinewidth": 0,
             "ticks": ""
            },
            "colorscale": [
             [
              0,
              "#0d0887"
             ],
             [
              0.1111111111111111,
              "#46039f"
             ],
             [
              0.2222222222222222,
              "#7201a8"
             ],
             [
              0.3333333333333333,
              "#9c179e"
             ],
             [
              0.4444444444444444,
              "#bd3786"
             ],
             [
              0.5555555555555556,
              "#d8576b"
             ],
             [
              0.6666666666666666,
              "#ed7953"
             ],
             [
              0.7777777777777778,
              "#fb9f3a"
             ],
             [
              0.8888888888888888,
              "#fdca26"
             ],
             [
              1,
              "#f0f921"
             ]
            ],
            "type": "histogram2d"
           }
          ],
          "histogram2dcontour": [
           {
            "colorbar": {
             "outlinewidth": 0,
             "ticks": ""
            },
            "colorscale": [
             [
              0,
              "#0d0887"
             ],
             [
              0.1111111111111111,
              "#46039f"
             ],
             [
              0.2222222222222222,
              "#7201a8"
             ],
             [
              0.3333333333333333,
              "#9c179e"
             ],
             [
              0.4444444444444444,
              "#bd3786"
             ],
             [
              0.5555555555555556,
              "#d8576b"
             ],
             [
              0.6666666666666666,
              "#ed7953"
             ],
             [
              0.7777777777777778,
              "#fb9f3a"
             ],
             [
              0.8888888888888888,
              "#fdca26"
             ],
             [
              1,
              "#f0f921"
             ]
            ],
            "type": "histogram2dcontour"
           }
          ],
          "mesh3d": [
           {
            "colorbar": {
             "outlinewidth": 0,
             "ticks": ""
            },
            "type": "mesh3d"
           }
          ],
          "parcoords": [
           {
            "line": {
             "colorbar": {
              "outlinewidth": 0,
              "ticks": ""
             }
            },
            "type": "parcoords"
           }
          ],
          "pie": [
           {
            "automargin": true,
            "type": "pie"
           }
          ],
          "scatter": [
           {
            "marker": {
             "colorbar": {
              "outlinewidth": 0,
              "ticks": ""
             }
            },
            "type": "scatter"
           }
          ],
          "scatter3d": [
           {
            "line": {
             "colorbar": {
              "outlinewidth": 0,
              "ticks": ""
             }
            },
            "marker": {
             "colorbar": {
              "outlinewidth": 0,
              "ticks": ""
             }
            },
            "type": "scatter3d"
           }
          ],
          "scattercarpet": [
           {
            "marker": {
             "colorbar": {
              "outlinewidth": 0,
              "ticks": ""
             }
            },
            "type": "scattercarpet"
           }
          ],
          "scattergeo": [
           {
            "marker": {
             "colorbar": {
              "outlinewidth": 0,
              "ticks": ""
             }
            },
            "type": "scattergeo"
           }
          ],
          "scattergl": [
           {
            "marker": {
             "colorbar": {
              "outlinewidth": 0,
              "ticks": ""
             }
            },
            "type": "scattergl"
           }
          ],
          "scattermapbox": [
           {
            "marker": {
             "colorbar": {
              "outlinewidth": 0,
              "ticks": ""
             }
            },
            "type": "scattermapbox"
           }
          ],
          "scatterpolar": [
           {
            "marker": {
             "colorbar": {
              "outlinewidth": 0,
              "ticks": ""
             }
            },
            "type": "scatterpolar"
           }
          ],
          "scatterpolargl": [
           {
            "marker": {
             "colorbar": {
              "outlinewidth": 0,
              "ticks": ""
             }
            },
            "type": "scatterpolargl"
           }
          ],
          "scatterternary": [
           {
            "marker": {
             "colorbar": {
              "outlinewidth": 0,
              "ticks": ""
             }
            },
            "type": "scatterternary"
           }
          ],
          "surface": [
           {
            "colorbar": {
             "outlinewidth": 0,
             "ticks": ""
            },
            "colorscale": [
             [
              0,
              "#0d0887"
             ],
             [
              0.1111111111111111,
              "#46039f"
             ],
             [
              0.2222222222222222,
              "#7201a8"
             ],
             [
              0.3333333333333333,
              "#9c179e"
             ],
             [
              0.4444444444444444,
              "#bd3786"
             ],
             [
              0.5555555555555556,
              "#d8576b"
             ],
             [
              0.6666666666666666,
              "#ed7953"
             ],
             [
              0.7777777777777778,
              "#fb9f3a"
             ],
             [
              0.8888888888888888,
              "#fdca26"
             ],
             [
              1,
              "#f0f921"
             ]
            ],
            "type": "surface"
           }
          ],
          "table": [
           {
            "cells": {
             "fill": {
              "color": "#EBF0F8"
             },
             "line": {
              "color": "white"
             }
            },
            "header": {
             "fill": {
              "color": "#C8D4E3"
             },
             "line": {
              "color": "white"
             }
            },
            "type": "table"
           }
          ]
         },
         "layout": {
          "annotationdefaults": {
           "arrowcolor": "#2a3f5f",
           "arrowhead": 0,
           "arrowwidth": 1
          },
          "autotypenumbers": "strict",
          "coloraxis": {
           "colorbar": {
            "outlinewidth": 0,
            "ticks": ""
           }
          },
          "colorscale": {
           "diverging": [
            [
             0,
             "#8e0152"
            ],
            [
             0.1,
             "#c51b7d"
            ],
            [
             0.2,
             "#de77ae"
            ],
            [
             0.3,
             "#f1b6da"
            ],
            [
             0.4,
             "#fde0ef"
            ],
            [
             0.5,
             "#f7f7f7"
            ],
            [
             0.6,
             "#e6f5d0"
            ],
            [
             0.7,
             "#b8e186"
            ],
            [
             0.8,
             "#7fbc41"
            ],
            [
             0.9,
             "#4d9221"
            ],
            [
             1,
             "#276419"
            ]
           ],
           "sequential": [
            [
             0,
             "#0d0887"
            ],
            [
             0.1111111111111111,
             "#46039f"
            ],
            [
             0.2222222222222222,
             "#7201a8"
            ],
            [
             0.3333333333333333,
             "#9c179e"
            ],
            [
             0.4444444444444444,
             "#bd3786"
            ],
            [
             0.5555555555555556,
             "#d8576b"
            ],
            [
             0.6666666666666666,
             "#ed7953"
            ],
            [
             0.7777777777777778,
             "#fb9f3a"
            ],
            [
             0.8888888888888888,
             "#fdca26"
            ],
            [
             1,
             "#f0f921"
            ]
           ],
           "sequentialminus": [
            [
             0,
             "#0d0887"
            ],
            [
             0.1111111111111111,
             "#46039f"
            ],
            [
             0.2222222222222222,
             "#7201a8"
            ],
            [
             0.3333333333333333,
             "#9c179e"
            ],
            [
             0.4444444444444444,
             "#bd3786"
            ],
            [
             0.5555555555555556,
             "#d8576b"
            ],
            [
             0.6666666666666666,
             "#ed7953"
            ],
            [
             0.7777777777777778,
             "#fb9f3a"
            ],
            [
             0.8888888888888888,
             "#fdca26"
            ],
            [
             1,
             "#f0f921"
            ]
           ]
          },
          "colorway": [
           "#636efa",
           "#EF553B",
           "#00cc96",
           "#ab63fa",
           "#FFA15A",
           "#19d3f3",
           "#FF6692",
           "#B6E880",
           "#FF97FF",
           "#FECB52"
          ],
          "font": {
           "color": "#2a3f5f"
          },
          "geo": {
           "bgcolor": "white",
           "lakecolor": "white",
           "landcolor": "white",
           "showlakes": true,
           "showland": true,
           "subunitcolor": "#C8D4E3"
          },
          "hoverlabel": {
           "align": "left"
          },
          "hovermode": "closest",
          "mapbox": {
           "style": "light"
          },
          "paper_bgcolor": "white",
          "plot_bgcolor": "white",
          "polar": {
           "angularaxis": {
            "gridcolor": "#EBF0F8",
            "linecolor": "#EBF0F8",
            "ticks": ""
           },
           "bgcolor": "white",
           "radialaxis": {
            "gridcolor": "#EBF0F8",
            "linecolor": "#EBF0F8",
            "ticks": ""
           }
          },
          "scene": {
           "xaxis": {
            "backgroundcolor": "white",
            "gridcolor": "#DFE8F3",
            "gridwidth": 2,
            "linecolor": "#EBF0F8",
            "showbackground": true,
            "ticks": "",
            "zerolinecolor": "#EBF0F8"
           },
           "yaxis": {
            "backgroundcolor": "white",
            "gridcolor": "#DFE8F3",
            "gridwidth": 2,
            "linecolor": "#EBF0F8",
            "showbackground": true,
            "ticks": "",
            "zerolinecolor": "#EBF0F8"
           },
           "zaxis": {
            "backgroundcolor": "white",
            "gridcolor": "#DFE8F3",
            "gridwidth": 2,
            "linecolor": "#EBF0F8",
            "showbackground": true,
            "ticks": "",
            "zerolinecolor": "#EBF0F8"
           }
          },
          "shapedefaults": {
           "line": {
            "color": "#2a3f5f"
           }
          },
          "ternary": {
           "aaxis": {
            "gridcolor": "#DFE8F3",
            "linecolor": "#A2B1C6",
            "ticks": ""
           },
           "baxis": {
            "gridcolor": "#DFE8F3",
            "linecolor": "#A2B1C6",
            "ticks": ""
           },
           "bgcolor": "white",
           "caxis": {
            "gridcolor": "#DFE8F3",
            "linecolor": "#A2B1C6",
            "ticks": ""
           }
          },
          "title": {
           "x": 0.05
          },
          "xaxis": {
           "automargin": true,
           "gridcolor": "#EBF0F8",
           "linecolor": "#EBF0F8",
           "ticks": "",
           "title": {
            "standoff": 15
           },
           "zerolinecolor": "#EBF0F8",
           "zerolinewidth": 2
          },
          "yaxis": {
           "automargin": true,
           "gridcolor": "#EBF0F8",
           "linecolor": "#EBF0F8",
           "ticks": "",
           "title": {
            "standoff": 15
           },
           "zerolinecolor": "#EBF0F8",
           "zerolinewidth": 2
          }
         }
        },
        "title": {
         "text": "Mean absolute error for training and testing"
        },
        "xaxis": {
         "anchor": "y",
         "domain": [
          0,
          1
         ],
         "title": {
          "text": "index"
         }
        },
        "yaxis": {
         "anchor": "x",
         "domain": [
          0,
          1
         ],
         "title": {
          "text": "value"
         }
        }
       }
      },
      "text/html": [
       "<div>                            <div id=\"e811633a-96bb-42e1-9e75-525b1e5a55a0\" class=\"plotly-graph-div\" style=\"height:525px; width:100%;\"></div>            <script type=\"text/javascript\">                require([\"plotly\"], function(Plotly) {                    window.PLOTLYENV=window.PLOTLYENV || {};                                    if (document.getElementById(\"e811633a-96bb-42e1-9e75-525b1e5a55a0\")) {                    Plotly.newPlot(                        \"e811633a-96bb-42e1-9e75-525b1e5a55a0\",                        [{\"hovertemplate\":\"variable=Training<br>index=%{x}<br>value=%{y}<extra></extra>\",\"legendgroup\":\"Training\",\"line\":{\"color\":\"#636efa\",\"dash\":\"solid\"},\"mode\":\"lines\",\"name\":\"Training\",\"orientation\":\"v\",\"showlegend\":true,\"type\":\"scatter\",\"x\":[\"Lasso\",\"Elastic Net\",\"Gradient Boosting\",\"Bayesian Ridge\",\"Kernel Ridge\",\"Lasso Lars Ic\",\"Xgboost\",\"Random Forest\",\"Svm\"],\"xaxis\":\"x\",\"y\":[0.07519751110833019,0.07481909603573755,0.05854214478262828,0.07752021693652415,0.07257296236724352,0.0924387536494746,0.007828328877394044,0.03730980516124621,0.1422120704758053],\"yaxis\":\"y\"},{\"hovertemplate\":\"variable=Testing<br>index=%{x}<br>value=%{y}<extra></extra>\",\"legendgroup\":\"Testing\",\"line\":{\"color\":\"#EF553B\",\"dash\":\"solid\"},\"mode\":\"lines\",\"name\":\"Testing\",\"orientation\":\"v\",\"showlegend\":true,\"type\":\"scatter\",\"x\":[\"Lasso\",\"Elastic Net\",\"Gradient Boosting\",\"Bayesian Ridge\",\"Kernel Ridge\",\"Lasso Lars Ic\",\"Xgboost\",\"Random Forest\",\"Svm\"],\"xaxis\":\"x\",\"y\":[0.01284002067056231,0.012843249783177446,0.013879452315765517,0.014851814384981019,0.015347726434261827,0.015461774460846024,0.019357887633809693,0.020824256478957654,0.0415439144345972],\"yaxis\":\"y\"}],                        {\"legend\":{\"title\":{\"text\":\"variable\"},\"tracegroupgap\":0},\"template\":{\"data\":{\"bar\":[{\"error_x\":{\"color\":\"#2a3f5f\"},\"error_y\":{\"color\":\"#2a3f5f\"},\"marker\":{\"line\":{\"color\":\"white\",\"width\":0.5},\"pattern\":{\"fillmode\":\"overlay\",\"size\":10,\"solidity\":0.2}},\"type\":\"bar\"}],\"barpolar\":[{\"marker\":{\"line\":{\"color\":\"white\",\"width\":0.5},\"pattern\":{\"fillmode\":\"overlay\",\"size\":10,\"solidity\":0.2}},\"type\":\"barpolar\"}],\"carpet\":[{\"aaxis\":{\"endlinecolor\":\"#2a3f5f\",\"gridcolor\":\"#C8D4E3\",\"linecolor\":\"#C8D4E3\",\"minorgridcolor\":\"#C8D4E3\",\"startlinecolor\":\"#2a3f5f\"},\"baxis\":{\"endlinecolor\":\"#2a3f5f\",\"gridcolor\":\"#C8D4E3\",\"linecolor\":\"#C8D4E3\",\"minorgridcolor\":\"#C8D4E3\",\"startlinecolor\":\"#2a3f5f\"},\"type\":\"carpet\"}],\"choropleth\":[{\"colorbar\":{\"outlinewidth\":0,\"ticks\":\"\"},\"type\":\"choropleth\"}],\"contour\":[{\"colorbar\":{\"outlinewidth\":0,\"ticks\":\"\"},\"colorscale\":[[0.0,\"#0d0887\"],[0.1111111111111111,\"#46039f\"],[0.2222222222222222,\"#7201a8\"],[0.3333333333333333,\"#9c179e\"],[0.4444444444444444,\"#bd3786\"],[0.5555555555555556,\"#d8576b\"],[0.6666666666666666,\"#ed7953\"],[0.7777777777777778,\"#fb9f3a\"],[0.8888888888888888,\"#fdca26\"],[1.0,\"#f0f921\"]],\"type\":\"contour\"}],\"contourcarpet\":[{\"colorbar\":{\"outlinewidth\":0,\"ticks\":\"\"},\"type\":\"contourcarpet\"}],\"heatmap\":[{\"colorbar\":{\"outlinewidth\":0,\"ticks\":\"\"},\"colorscale\":[[0.0,\"#0d0887\"],[0.1111111111111111,\"#46039f\"],[0.2222222222222222,\"#7201a8\"],[0.3333333333333333,\"#9c179e\"],[0.4444444444444444,\"#bd3786\"],[0.5555555555555556,\"#d8576b\"],[0.6666666666666666,\"#ed7953\"],[0.7777777777777778,\"#fb9f3a\"],[0.8888888888888888,\"#fdca26\"],[1.0,\"#f0f921\"]],\"type\":\"heatmap\"}],\"heatmapgl\":[{\"colorbar\":{\"outlinewidth\":0,\"ticks\":\"\"},\"colorscale\":[[0.0,\"#0d0887\"],[0.1111111111111111,\"#46039f\"],[0.2222222222222222,\"#7201a8\"],[0.3333333333333333,\"#9c179e\"],[0.4444444444444444,\"#bd3786\"],[0.5555555555555556,\"#d8576b\"],[0.6666666666666666,\"#ed7953\"],[0.7777777777777778,\"#fb9f3a\"],[0.8888888888888888,\"#fdca26\"],[1.0,\"#f0f921\"]],\"type\":\"heatmapgl\"}],\"histogram\":[{\"marker\":{\"pattern\":{\"fillmode\":\"overlay\",\"size\":10,\"solidity\":0.2}},\"type\":\"histogram\"}],\"histogram2d\":[{\"colorbar\":{\"outlinewidth\":0,\"ticks\":\"\"},\"colorscale\":[[0.0,\"#0d0887\"],[0.1111111111111111,\"#46039f\"],[0.2222222222222222,\"#7201a8\"],[0.3333333333333333,\"#9c179e\"],[0.4444444444444444,\"#bd3786\"],[0.5555555555555556,\"#d8576b\"],[0.6666666666666666,\"#ed7953\"],[0.7777777777777778,\"#fb9f3a\"],[0.8888888888888888,\"#fdca26\"],[1.0,\"#f0f921\"]],\"type\":\"histogram2d\"}],\"histogram2dcontour\":[{\"colorbar\":{\"outlinewidth\":0,\"ticks\":\"\"},\"colorscale\":[[0.0,\"#0d0887\"],[0.1111111111111111,\"#46039f\"],[0.2222222222222222,\"#7201a8\"],[0.3333333333333333,\"#9c179e\"],[0.4444444444444444,\"#bd3786\"],[0.5555555555555556,\"#d8576b\"],[0.6666666666666666,\"#ed7953\"],[0.7777777777777778,\"#fb9f3a\"],[0.8888888888888888,\"#fdca26\"],[1.0,\"#f0f921\"]],\"type\":\"histogram2dcontour\"}],\"mesh3d\":[{\"colorbar\":{\"outlinewidth\":0,\"ticks\":\"\"},\"type\":\"mesh3d\"}],\"parcoords\":[{\"line\":{\"colorbar\":{\"outlinewidth\":0,\"ticks\":\"\"}},\"type\":\"parcoords\"}],\"pie\":[{\"automargin\":true,\"type\":\"pie\"}],\"scatter\":[{\"marker\":{\"colorbar\":{\"outlinewidth\":0,\"ticks\":\"\"}},\"type\":\"scatter\"}],\"scatter3d\":[{\"line\":{\"colorbar\":{\"outlinewidth\":0,\"ticks\":\"\"}},\"marker\":{\"colorbar\":{\"outlinewidth\":0,\"ticks\":\"\"}},\"type\":\"scatter3d\"}],\"scattercarpet\":[{\"marker\":{\"colorbar\":{\"outlinewidth\":0,\"ticks\":\"\"}},\"type\":\"scattercarpet\"}],\"scattergeo\":[{\"marker\":{\"colorbar\":{\"outlinewidth\":0,\"ticks\":\"\"}},\"type\":\"scattergeo\"}],\"scattergl\":[{\"marker\":{\"colorbar\":{\"outlinewidth\":0,\"ticks\":\"\"}},\"type\":\"scattergl\"}],\"scattermapbox\":[{\"marker\":{\"colorbar\":{\"outlinewidth\":0,\"ticks\":\"\"}},\"type\":\"scattermapbox\"}],\"scatterpolar\":[{\"marker\":{\"colorbar\":{\"outlinewidth\":0,\"ticks\":\"\"}},\"type\":\"scatterpolar\"}],\"scatterpolargl\":[{\"marker\":{\"colorbar\":{\"outlinewidth\":0,\"ticks\":\"\"}},\"type\":\"scatterpolargl\"}],\"scatterternary\":[{\"marker\":{\"colorbar\":{\"outlinewidth\":0,\"ticks\":\"\"}},\"type\":\"scatterternary\"}],\"surface\":[{\"colorbar\":{\"outlinewidth\":0,\"ticks\":\"\"},\"colorscale\":[[0.0,\"#0d0887\"],[0.1111111111111111,\"#46039f\"],[0.2222222222222222,\"#7201a8\"],[0.3333333333333333,\"#9c179e\"],[0.4444444444444444,\"#bd3786\"],[0.5555555555555556,\"#d8576b\"],[0.6666666666666666,\"#ed7953\"],[0.7777777777777778,\"#fb9f3a\"],[0.8888888888888888,\"#fdca26\"],[1.0,\"#f0f921\"]],\"type\":\"surface\"}],\"table\":[{\"cells\":{\"fill\":{\"color\":\"#EBF0F8\"},\"line\":{\"color\":\"white\"}},\"header\":{\"fill\":{\"color\":\"#C8D4E3\"},\"line\":{\"color\":\"white\"}},\"type\":\"table\"}]},\"layout\":{\"annotationdefaults\":{\"arrowcolor\":\"#2a3f5f\",\"arrowhead\":0,\"arrowwidth\":1},\"autotypenumbers\":\"strict\",\"coloraxis\":{\"colorbar\":{\"outlinewidth\":0,\"ticks\":\"\"}},\"colorscale\":{\"diverging\":[[0,\"#8e0152\"],[0.1,\"#c51b7d\"],[0.2,\"#de77ae\"],[0.3,\"#f1b6da\"],[0.4,\"#fde0ef\"],[0.5,\"#f7f7f7\"],[0.6,\"#e6f5d0\"],[0.7,\"#b8e186\"],[0.8,\"#7fbc41\"],[0.9,\"#4d9221\"],[1,\"#276419\"]],\"sequential\":[[0.0,\"#0d0887\"],[0.1111111111111111,\"#46039f\"],[0.2222222222222222,\"#7201a8\"],[0.3333333333333333,\"#9c179e\"],[0.4444444444444444,\"#bd3786\"],[0.5555555555555556,\"#d8576b\"],[0.6666666666666666,\"#ed7953\"],[0.7777777777777778,\"#fb9f3a\"],[0.8888888888888888,\"#fdca26\"],[1.0,\"#f0f921\"]],\"sequentialminus\":[[0.0,\"#0d0887\"],[0.1111111111111111,\"#46039f\"],[0.2222222222222222,\"#7201a8\"],[0.3333333333333333,\"#9c179e\"],[0.4444444444444444,\"#bd3786\"],[0.5555555555555556,\"#d8576b\"],[0.6666666666666666,\"#ed7953\"],[0.7777777777777778,\"#fb9f3a\"],[0.8888888888888888,\"#fdca26\"],[1.0,\"#f0f921\"]]},\"colorway\":[\"#636efa\",\"#EF553B\",\"#00cc96\",\"#ab63fa\",\"#FFA15A\",\"#19d3f3\",\"#FF6692\",\"#B6E880\",\"#FF97FF\",\"#FECB52\"],\"font\":{\"color\":\"#2a3f5f\"},\"geo\":{\"bgcolor\":\"white\",\"lakecolor\":\"white\",\"landcolor\":\"white\",\"showlakes\":true,\"showland\":true,\"subunitcolor\":\"#C8D4E3\"},\"hoverlabel\":{\"align\":\"left\"},\"hovermode\":\"closest\",\"mapbox\":{\"style\":\"light\"},\"paper_bgcolor\":\"white\",\"plot_bgcolor\":\"white\",\"polar\":{\"angularaxis\":{\"gridcolor\":\"#EBF0F8\",\"linecolor\":\"#EBF0F8\",\"ticks\":\"\"},\"bgcolor\":\"white\",\"radialaxis\":{\"gridcolor\":\"#EBF0F8\",\"linecolor\":\"#EBF0F8\",\"ticks\":\"\"}},\"scene\":{\"xaxis\":{\"backgroundcolor\":\"white\",\"gridcolor\":\"#DFE8F3\",\"gridwidth\":2,\"linecolor\":\"#EBF0F8\",\"showbackground\":true,\"ticks\":\"\",\"zerolinecolor\":\"#EBF0F8\"},\"yaxis\":{\"backgroundcolor\":\"white\",\"gridcolor\":\"#DFE8F3\",\"gridwidth\":2,\"linecolor\":\"#EBF0F8\",\"showbackground\":true,\"ticks\":\"\",\"zerolinecolor\":\"#EBF0F8\"},\"zaxis\":{\"backgroundcolor\":\"white\",\"gridcolor\":\"#DFE8F3\",\"gridwidth\":2,\"linecolor\":\"#EBF0F8\",\"showbackground\":true,\"ticks\":\"\",\"zerolinecolor\":\"#EBF0F8\"}},\"shapedefaults\":{\"line\":{\"color\":\"#2a3f5f\"}},\"ternary\":{\"aaxis\":{\"gridcolor\":\"#DFE8F3\",\"linecolor\":\"#A2B1C6\",\"ticks\":\"\"},\"baxis\":{\"gridcolor\":\"#DFE8F3\",\"linecolor\":\"#A2B1C6\",\"ticks\":\"\"},\"bgcolor\":\"white\",\"caxis\":{\"gridcolor\":\"#DFE8F3\",\"linecolor\":\"#A2B1C6\",\"ticks\":\"\"}},\"title\":{\"x\":0.05},\"xaxis\":{\"automargin\":true,\"gridcolor\":\"#EBF0F8\",\"linecolor\":\"#EBF0F8\",\"ticks\":\"\",\"title\":{\"standoff\":15},\"zerolinecolor\":\"#EBF0F8\",\"zerolinewidth\":2},\"yaxis\":{\"automargin\":true,\"gridcolor\":\"#EBF0F8\",\"linecolor\":\"#EBF0F8\",\"ticks\":\"\",\"title\":{\"standoff\":15},\"zerolinecolor\":\"#EBF0F8\",\"zerolinewidth\":2}}},\"title\":{\"text\":\"Mean absolute error for training and testing\"},\"xaxis\":{\"anchor\":\"y\",\"domain\":[0.0,1.0],\"title\":{\"text\":\"index\"}},\"yaxis\":{\"anchor\":\"x\",\"domain\":[0.0,1.0],\"title\":{\"text\":\"value\"}}},                        {\"responsive\": true}                    ).then(function(){\n",
       "                            \n",
       "var gd = document.getElementById('e811633a-96bb-42e1-9e75-525b1e5a55a0');\n",
       "var x = new MutationObserver(function (mutations, observer) {{\n",
       "        var display = window.getComputedStyle(gd).display;\n",
       "        if (!display || display === 'none') {{\n",
       "            console.log([gd, 'removed!']);\n",
       "            Plotly.purge(gd);\n",
       "            observer.disconnect();\n",
       "        }}\n",
       "}});\n",
       "\n",
       "// Listen for the removal of the full notebook cells\n",
       "var notebookContainer = gd.closest('#notebook-container');\n",
       "if (notebookContainer) {{\n",
       "    x.observe(notebookContainer, {childList: true});\n",
       "}}\n",
       "\n",
       "// Listen for the clearing of the current output cell\n",
       "var outputEl = gd.closest('.output');\n",
       "if (outputEl) {{\n",
       "    x.observe(outputEl, {childList: true});\n",
       "}}\n",
       "\n",
       "                        })                };                });            </script>        </div>"
      ]
     },
     "metadata": {},
     "output_type": "display_data"
    },
    {
     "data": {
      "application/vnd.plotly.v1+json": {
       "config": {
        "plotlyServerURL": "https://plot.ly"
       },
       "data": [
        {
         "hovertemplate": "variable=Training<br>index=%{x}<br>value=%{y}<extra></extra>",
         "legendgroup": "Training",
         "line": {
          "color": "#636efa",
          "dash": "solid"
         },
         "mode": "lines",
         "name": "Training",
         "orientation": "v",
         "showlegend": true,
         "type": "scatter",
         "x": [
          "Lasso",
          "Elastic Net",
          "Gradient Boosting",
          "Bayesian Ridge",
          "Kernel Ridge",
          "Lasso Lars Ic",
          "Xgboost",
          "Random Forest",
          "Svm"
         ],
         "xaxis": "x",
         "y": [
          0.01175077151863409,
          0.011609574244797931,
          0.009809670540810916,
          0.012848435134957942,
          0.010465033860760248,
          0.017811175325206107,
          0.0001225620799400628,
          0.003000029573700042,
          0.03860835318265491
         ],
         "yaxis": "y"
        },
        {
         "hovertemplate": "variable=Testing<br>index=%{x}<br>value=%{y}<extra></extra>",
         "legendgroup": "Testing",
         "line": {
          "color": "#EF553B",
          "dash": "solid"
         },
         "mode": "lines",
         "name": "Testing",
         "orientation": "v",
         "showlegend": true,
         "type": "scatter",
         "x": [
          "Lasso",
          "Elastic Net",
          "Gradient Boosting",
          "Bayesian Ridge",
          "Kernel Ridge",
          "Lasso Lars Ic",
          "Xgboost",
          "Random Forest",
          "Svm"
         ],
         "xaxis": "x",
         "y": [
          0.01284002067056231,
          0.012843249783177446,
          0.013879452315765517,
          0.014851814384981019,
          0.015347726434261827,
          0.015461774460846024,
          0.019357887633809693,
          0.020824256478957654,
          0.0415439144345972
         ],
         "yaxis": "y"
        }
       ],
       "layout": {
        "legend": {
         "title": {
          "text": "variable"
         },
         "tracegroupgap": 0
        },
        "template": {
         "data": {
          "bar": [
           {
            "error_x": {
             "color": "#2a3f5f"
            },
            "error_y": {
             "color": "#2a3f5f"
            },
            "marker": {
             "line": {
              "color": "white",
              "width": 0.5
             },
             "pattern": {
              "fillmode": "overlay",
              "size": 10,
              "solidity": 0.2
             }
            },
            "type": "bar"
           }
          ],
          "barpolar": [
           {
            "marker": {
             "line": {
              "color": "white",
              "width": 0.5
             },
             "pattern": {
              "fillmode": "overlay",
              "size": 10,
              "solidity": 0.2
             }
            },
            "type": "barpolar"
           }
          ],
          "carpet": [
           {
            "aaxis": {
             "endlinecolor": "#2a3f5f",
             "gridcolor": "#C8D4E3",
             "linecolor": "#C8D4E3",
             "minorgridcolor": "#C8D4E3",
             "startlinecolor": "#2a3f5f"
            },
            "baxis": {
             "endlinecolor": "#2a3f5f",
             "gridcolor": "#C8D4E3",
             "linecolor": "#C8D4E3",
             "minorgridcolor": "#C8D4E3",
             "startlinecolor": "#2a3f5f"
            },
            "type": "carpet"
           }
          ],
          "choropleth": [
           {
            "colorbar": {
             "outlinewidth": 0,
             "ticks": ""
            },
            "type": "choropleth"
           }
          ],
          "contour": [
           {
            "colorbar": {
             "outlinewidth": 0,
             "ticks": ""
            },
            "colorscale": [
             [
              0,
              "#0d0887"
             ],
             [
              0.1111111111111111,
              "#46039f"
             ],
             [
              0.2222222222222222,
              "#7201a8"
             ],
             [
              0.3333333333333333,
              "#9c179e"
             ],
             [
              0.4444444444444444,
              "#bd3786"
             ],
             [
              0.5555555555555556,
              "#d8576b"
             ],
             [
              0.6666666666666666,
              "#ed7953"
             ],
             [
              0.7777777777777778,
              "#fb9f3a"
             ],
             [
              0.8888888888888888,
              "#fdca26"
             ],
             [
              1,
              "#f0f921"
             ]
            ],
            "type": "contour"
           }
          ],
          "contourcarpet": [
           {
            "colorbar": {
             "outlinewidth": 0,
             "ticks": ""
            },
            "type": "contourcarpet"
           }
          ],
          "heatmap": [
           {
            "colorbar": {
             "outlinewidth": 0,
             "ticks": ""
            },
            "colorscale": [
             [
              0,
              "#0d0887"
             ],
             [
              0.1111111111111111,
              "#46039f"
             ],
             [
              0.2222222222222222,
              "#7201a8"
             ],
             [
              0.3333333333333333,
              "#9c179e"
             ],
             [
              0.4444444444444444,
              "#bd3786"
             ],
             [
              0.5555555555555556,
              "#d8576b"
             ],
             [
              0.6666666666666666,
              "#ed7953"
             ],
             [
              0.7777777777777778,
              "#fb9f3a"
             ],
             [
              0.8888888888888888,
              "#fdca26"
             ],
             [
              1,
              "#f0f921"
             ]
            ],
            "type": "heatmap"
           }
          ],
          "heatmapgl": [
           {
            "colorbar": {
             "outlinewidth": 0,
             "ticks": ""
            },
            "colorscale": [
             [
              0,
              "#0d0887"
             ],
             [
              0.1111111111111111,
              "#46039f"
             ],
             [
              0.2222222222222222,
              "#7201a8"
             ],
             [
              0.3333333333333333,
              "#9c179e"
             ],
             [
              0.4444444444444444,
              "#bd3786"
             ],
             [
              0.5555555555555556,
              "#d8576b"
             ],
             [
              0.6666666666666666,
              "#ed7953"
             ],
             [
              0.7777777777777778,
              "#fb9f3a"
             ],
             [
              0.8888888888888888,
              "#fdca26"
             ],
             [
              1,
              "#f0f921"
             ]
            ],
            "type": "heatmapgl"
           }
          ],
          "histogram": [
           {
            "marker": {
             "pattern": {
              "fillmode": "overlay",
              "size": 10,
              "solidity": 0.2
             }
            },
            "type": "histogram"
           }
          ],
          "histogram2d": [
           {
            "colorbar": {
             "outlinewidth": 0,
             "ticks": ""
            },
            "colorscale": [
             [
              0,
              "#0d0887"
             ],
             [
              0.1111111111111111,
              "#46039f"
             ],
             [
              0.2222222222222222,
              "#7201a8"
             ],
             [
              0.3333333333333333,
              "#9c179e"
             ],
             [
              0.4444444444444444,
              "#bd3786"
             ],
             [
              0.5555555555555556,
              "#d8576b"
             ],
             [
              0.6666666666666666,
              "#ed7953"
             ],
             [
              0.7777777777777778,
              "#fb9f3a"
             ],
             [
              0.8888888888888888,
              "#fdca26"
             ],
             [
              1,
              "#f0f921"
             ]
            ],
            "type": "histogram2d"
           }
          ],
          "histogram2dcontour": [
           {
            "colorbar": {
             "outlinewidth": 0,
             "ticks": ""
            },
            "colorscale": [
             [
              0,
              "#0d0887"
             ],
             [
              0.1111111111111111,
              "#46039f"
             ],
             [
              0.2222222222222222,
              "#7201a8"
             ],
             [
              0.3333333333333333,
              "#9c179e"
             ],
             [
              0.4444444444444444,
              "#bd3786"
             ],
             [
              0.5555555555555556,
              "#d8576b"
             ],
             [
              0.6666666666666666,
              "#ed7953"
             ],
             [
              0.7777777777777778,
              "#fb9f3a"
             ],
             [
              0.8888888888888888,
              "#fdca26"
             ],
             [
              1,
              "#f0f921"
             ]
            ],
            "type": "histogram2dcontour"
           }
          ],
          "mesh3d": [
           {
            "colorbar": {
             "outlinewidth": 0,
             "ticks": ""
            },
            "type": "mesh3d"
           }
          ],
          "parcoords": [
           {
            "line": {
             "colorbar": {
              "outlinewidth": 0,
              "ticks": ""
             }
            },
            "type": "parcoords"
           }
          ],
          "pie": [
           {
            "automargin": true,
            "type": "pie"
           }
          ],
          "scatter": [
           {
            "marker": {
             "colorbar": {
              "outlinewidth": 0,
              "ticks": ""
             }
            },
            "type": "scatter"
           }
          ],
          "scatter3d": [
           {
            "line": {
             "colorbar": {
              "outlinewidth": 0,
              "ticks": ""
             }
            },
            "marker": {
             "colorbar": {
              "outlinewidth": 0,
              "ticks": ""
             }
            },
            "type": "scatter3d"
           }
          ],
          "scattercarpet": [
           {
            "marker": {
             "colorbar": {
              "outlinewidth": 0,
              "ticks": ""
             }
            },
            "type": "scattercarpet"
           }
          ],
          "scattergeo": [
           {
            "marker": {
             "colorbar": {
              "outlinewidth": 0,
              "ticks": ""
             }
            },
            "type": "scattergeo"
           }
          ],
          "scattergl": [
           {
            "marker": {
             "colorbar": {
              "outlinewidth": 0,
              "ticks": ""
             }
            },
            "type": "scattergl"
           }
          ],
          "scattermapbox": [
           {
            "marker": {
             "colorbar": {
              "outlinewidth": 0,
              "ticks": ""
             }
            },
            "type": "scattermapbox"
           }
          ],
          "scatterpolar": [
           {
            "marker": {
             "colorbar": {
              "outlinewidth": 0,
              "ticks": ""
             }
            },
            "type": "scatterpolar"
           }
          ],
          "scatterpolargl": [
           {
            "marker": {
             "colorbar": {
              "outlinewidth": 0,
              "ticks": ""
             }
            },
            "type": "scatterpolargl"
           }
          ],
          "scatterternary": [
           {
            "marker": {
             "colorbar": {
              "outlinewidth": 0,
              "ticks": ""
             }
            },
            "type": "scatterternary"
           }
          ],
          "surface": [
           {
            "colorbar": {
             "outlinewidth": 0,
             "ticks": ""
            },
            "colorscale": [
             [
              0,
              "#0d0887"
             ],
             [
              0.1111111111111111,
              "#46039f"
             ],
             [
              0.2222222222222222,
              "#7201a8"
             ],
             [
              0.3333333333333333,
              "#9c179e"
             ],
             [
              0.4444444444444444,
              "#bd3786"
             ],
             [
              0.5555555555555556,
              "#d8576b"
             ],
             [
              0.6666666666666666,
              "#ed7953"
             ],
             [
              0.7777777777777778,
              "#fb9f3a"
             ],
             [
              0.8888888888888888,
              "#fdca26"
             ],
             [
              1,
              "#f0f921"
             ]
            ],
            "type": "surface"
           }
          ],
          "table": [
           {
            "cells": {
             "fill": {
              "color": "#EBF0F8"
             },
             "line": {
              "color": "white"
             }
            },
            "header": {
             "fill": {
              "color": "#C8D4E3"
             },
             "line": {
              "color": "white"
             }
            },
            "type": "table"
           }
          ]
         },
         "layout": {
          "annotationdefaults": {
           "arrowcolor": "#2a3f5f",
           "arrowhead": 0,
           "arrowwidth": 1
          },
          "autotypenumbers": "strict",
          "coloraxis": {
           "colorbar": {
            "outlinewidth": 0,
            "ticks": ""
           }
          },
          "colorscale": {
           "diverging": [
            [
             0,
             "#8e0152"
            ],
            [
             0.1,
             "#c51b7d"
            ],
            [
             0.2,
             "#de77ae"
            ],
            [
             0.3,
             "#f1b6da"
            ],
            [
             0.4,
             "#fde0ef"
            ],
            [
             0.5,
             "#f7f7f7"
            ],
            [
             0.6,
             "#e6f5d0"
            ],
            [
             0.7,
             "#b8e186"
            ],
            [
             0.8,
             "#7fbc41"
            ],
            [
             0.9,
             "#4d9221"
            ],
            [
             1,
             "#276419"
            ]
           ],
           "sequential": [
            [
             0,
             "#0d0887"
            ],
            [
             0.1111111111111111,
             "#46039f"
            ],
            [
             0.2222222222222222,
             "#7201a8"
            ],
            [
             0.3333333333333333,
             "#9c179e"
            ],
            [
             0.4444444444444444,
             "#bd3786"
            ],
            [
             0.5555555555555556,
             "#d8576b"
            ],
            [
             0.6666666666666666,
             "#ed7953"
            ],
            [
             0.7777777777777778,
             "#fb9f3a"
            ],
            [
             0.8888888888888888,
             "#fdca26"
            ],
            [
             1,
             "#f0f921"
            ]
           ],
           "sequentialminus": [
            [
             0,
             "#0d0887"
            ],
            [
             0.1111111111111111,
             "#46039f"
            ],
            [
             0.2222222222222222,
             "#7201a8"
            ],
            [
             0.3333333333333333,
             "#9c179e"
            ],
            [
             0.4444444444444444,
             "#bd3786"
            ],
            [
             0.5555555555555556,
             "#d8576b"
            ],
            [
             0.6666666666666666,
             "#ed7953"
            ],
            [
             0.7777777777777778,
             "#fb9f3a"
            ],
            [
             0.8888888888888888,
             "#fdca26"
            ],
            [
             1,
             "#f0f921"
            ]
           ]
          },
          "colorway": [
           "#636efa",
           "#EF553B",
           "#00cc96",
           "#ab63fa",
           "#FFA15A",
           "#19d3f3",
           "#FF6692",
           "#B6E880",
           "#FF97FF",
           "#FECB52"
          ],
          "font": {
           "color": "#2a3f5f"
          },
          "geo": {
           "bgcolor": "white",
           "lakecolor": "white",
           "landcolor": "white",
           "showlakes": true,
           "showland": true,
           "subunitcolor": "#C8D4E3"
          },
          "hoverlabel": {
           "align": "left"
          },
          "hovermode": "closest",
          "mapbox": {
           "style": "light"
          },
          "paper_bgcolor": "white",
          "plot_bgcolor": "white",
          "polar": {
           "angularaxis": {
            "gridcolor": "#EBF0F8",
            "linecolor": "#EBF0F8",
            "ticks": ""
           },
           "bgcolor": "white",
           "radialaxis": {
            "gridcolor": "#EBF0F8",
            "linecolor": "#EBF0F8",
            "ticks": ""
           }
          },
          "scene": {
           "xaxis": {
            "backgroundcolor": "white",
            "gridcolor": "#DFE8F3",
            "gridwidth": 2,
            "linecolor": "#EBF0F8",
            "showbackground": true,
            "ticks": "",
            "zerolinecolor": "#EBF0F8"
           },
           "yaxis": {
            "backgroundcolor": "white",
            "gridcolor": "#DFE8F3",
            "gridwidth": 2,
            "linecolor": "#EBF0F8",
            "showbackground": true,
            "ticks": "",
            "zerolinecolor": "#EBF0F8"
           },
           "zaxis": {
            "backgroundcolor": "white",
            "gridcolor": "#DFE8F3",
            "gridwidth": 2,
            "linecolor": "#EBF0F8",
            "showbackground": true,
            "ticks": "",
            "zerolinecolor": "#EBF0F8"
           }
          },
          "shapedefaults": {
           "line": {
            "color": "#2a3f5f"
           }
          },
          "ternary": {
           "aaxis": {
            "gridcolor": "#DFE8F3",
            "linecolor": "#A2B1C6",
            "ticks": ""
           },
           "baxis": {
            "gridcolor": "#DFE8F3",
            "linecolor": "#A2B1C6",
            "ticks": ""
           },
           "bgcolor": "white",
           "caxis": {
            "gridcolor": "#DFE8F3",
            "linecolor": "#A2B1C6",
            "ticks": ""
           }
          },
          "title": {
           "x": 0.05
          },
          "xaxis": {
           "automargin": true,
           "gridcolor": "#EBF0F8",
           "linecolor": "#EBF0F8",
           "ticks": "",
           "title": {
            "standoff": 15
           },
           "zerolinecolor": "#EBF0F8",
           "zerolinewidth": 2
          },
          "yaxis": {
           "automargin": true,
           "gridcolor": "#EBF0F8",
           "linecolor": "#EBF0F8",
           "ticks": "",
           "title": {
            "standoff": 15
           },
           "zerolinecolor": "#EBF0F8",
           "zerolinewidth": 2
          }
         }
        },
        "title": {
         "text": "Mean square error for training and testing"
        },
        "xaxis": {
         "anchor": "y",
         "domain": [
          0,
          1
         ],
         "title": {
          "text": "index"
         }
        },
        "yaxis": {
         "anchor": "x",
         "domain": [
          0,
          1
         ],
         "title": {
          "text": "value"
         }
        }
       }
      },
      "text/html": [
       "<div>                            <div id=\"f93656d9-c5af-4b94-8f84-275372e9c247\" class=\"plotly-graph-div\" style=\"height:525px; width:100%;\"></div>            <script type=\"text/javascript\">                require([\"plotly\"], function(Plotly) {                    window.PLOTLYENV=window.PLOTLYENV || {};                                    if (document.getElementById(\"f93656d9-c5af-4b94-8f84-275372e9c247\")) {                    Plotly.newPlot(                        \"f93656d9-c5af-4b94-8f84-275372e9c247\",                        [{\"hovertemplate\":\"variable=Training<br>index=%{x}<br>value=%{y}<extra></extra>\",\"legendgroup\":\"Training\",\"line\":{\"color\":\"#636efa\",\"dash\":\"solid\"},\"mode\":\"lines\",\"name\":\"Training\",\"orientation\":\"v\",\"showlegend\":true,\"type\":\"scatter\",\"x\":[\"Lasso\",\"Elastic Net\",\"Gradient Boosting\",\"Bayesian Ridge\",\"Kernel Ridge\",\"Lasso Lars Ic\",\"Xgboost\",\"Random Forest\",\"Svm\"],\"xaxis\":\"x\",\"y\":[0.01175077151863409,0.011609574244797931,0.009809670540810916,0.012848435134957942,0.010465033860760248,0.017811175325206107,0.0001225620799400628,0.003000029573700042,0.03860835318265491],\"yaxis\":\"y\"},{\"hovertemplate\":\"variable=Testing<br>index=%{x}<br>value=%{y}<extra></extra>\",\"legendgroup\":\"Testing\",\"line\":{\"color\":\"#EF553B\",\"dash\":\"solid\"},\"mode\":\"lines\",\"name\":\"Testing\",\"orientation\":\"v\",\"showlegend\":true,\"type\":\"scatter\",\"x\":[\"Lasso\",\"Elastic Net\",\"Gradient Boosting\",\"Bayesian Ridge\",\"Kernel Ridge\",\"Lasso Lars Ic\",\"Xgboost\",\"Random Forest\",\"Svm\"],\"xaxis\":\"x\",\"y\":[0.01284002067056231,0.012843249783177446,0.013879452315765517,0.014851814384981019,0.015347726434261827,0.015461774460846024,0.019357887633809693,0.020824256478957654,0.0415439144345972],\"yaxis\":\"y\"}],                        {\"legend\":{\"title\":{\"text\":\"variable\"},\"tracegroupgap\":0},\"template\":{\"data\":{\"bar\":[{\"error_x\":{\"color\":\"#2a3f5f\"},\"error_y\":{\"color\":\"#2a3f5f\"},\"marker\":{\"line\":{\"color\":\"white\",\"width\":0.5},\"pattern\":{\"fillmode\":\"overlay\",\"size\":10,\"solidity\":0.2}},\"type\":\"bar\"}],\"barpolar\":[{\"marker\":{\"line\":{\"color\":\"white\",\"width\":0.5},\"pattern\":{\"fillmode\":\"overlay\",\"size\":10,\"solidity\":0.2}},\"type\":\"barpolar\"}],\"carpet\":[{\"aaxis\":{\"endlinecolor\":\"#2a3f5f\",\"gridcolor\":\"#C8D4E3\",\"linecolor\":\"#C8D4E3\",\"minorgridcolor\":\"#C8D4E3\",\"startlinecolor\":\"#2a3f5f\"},\"baxis\":{\"endlinecolor\":\"#2a3f5f\",\"gridcolor\":\"#C8D4E3\",\"linecolor\":\"#C8D4E3\",\"minorgridcolor\":\"#C8D4E3\",\"startlinecolor\":\"#2a3f5f\"},\"type\":\"carpet\"}],\"choropleth\":[{\"colorbar\":{\"outlinewidth\":0,\"ticks\":\"\"},\"type\":\"choropleth\"}],\"contour\":[{\"colorbar\":{\"outlinewidth\":0,\"ticks\":\"\"},\"colorscale\":[[0.0,\"#0d0887\"],[0.1111111111111111,\"#46039f\"],[0.2222222222222222,\"#7201a8\"],[0.3333333333333333,\"#9c179e\"],[0.4444444444444444,\"#bd3786\"],[0.5555555555555556,\"#d8576b\"],[0.6666666666666666,\"#ed7953\"],[0.7777777777777778,\"#fb9f3a\"],[0.8888888888888888,\"#fdca26\"],[1.0,\"#f0f921\"]],\"type\":\"contour\"}],\"contourcarpet\":[{\"colorbar\":{\"outlinewidth\":0,\"ticks\":\"\"},\"type\":\"contourcarpet\"}],\"heatmap\":[{\"colorbar\":{\"outlinewidth\":0,\"ticks\":\"\"},\"colorscale\":[[0.0,\"#0d0887\"],[0.1111111111111111,\"#46039f\"],[0.2222222222222222,\"#7201a8\"],[0.3333333333333333,\"#9c179e\"],[0.4444444444444444,\"#bd3786\"],[0.5555555555555556,\"#d8576b\"],[0.6666666666666666,\"#ed7953\"],[0.7777777777777778,\"#fb9f3a\"],[0.8888888888888888,\"#fdca26\"],[1.0,\"#f0f921\"]],\"type\":\"heatmap\"}],\"heatmapgl\":[{\"colorbar\":{\"outlinewidth\":0,\"ticks\":\"\"},\"colorscale\":[[0.0,\"#0d0887\"],[0.1111111111111111,\"#46039f\"],[0.2222222222222222,\"#7201a8\"],[0.3333333333333333,\"#9c179e\"],[0.4444444444444444,\"#bd3786\"],[0.5555555555555556,\"#d8576b\"],[0.6666666666666666,\"#ed7953\"],[0.7777777777777778,\"#fb9f3a\"],[0.8888888888888888,\"#fdca26\"],[1.0,\"#f0f921\"]],\"type\":\"heatmapgl\"}],\"histogram\":[{\"marker\":{\"pattern\":{\"fillmode\":\"overlay\",\"size\":10,\"solidity\":0.2}},\"type\":\"histogram\"}],\"histogram2d\":[{\"colorbar\":{\"outlinewidth\":0,\"ticks\":\"\"},\"colorscale\":[[0.0,\"#0d0887\"],[0.1111111111111111,\"#46039f\"],[0.2222222222222222,\"#7201a8\"],[0.3333333333333333,\"#9c179e\"],[0.4444444444444444,\"#bd3786\"],[0.5555555555555556,\"#d8576b\"],[0.6666666666666666,\"#ed7953\"],[0.7777777777777778,\"#fb9f3a\"],[0.8888888888888888,\"#fdca26\"],[1.0,\"#f0f921\"]],\"type\":\"histogram2d\"}],\"histogram2dcontour\":[{\"colorbar\":{\"outlinewidth\":0,\"ticks\":\"\"},\"colorscale\":[[0.0,\"#0d0887\"],[0.1111111111111111,\"#46039f\"],[0.2222222222222222,\"#7201a8\"],[0.3333333333333333,\"#9c179e\"],[0.4444444444444444,\"#bd3786\"],[0.5555555555555556,\"#d8576b\"],[0.6666666666666666,\"#ed7953\"],[0.7777777777777778,\"#fb9f3a\"],[0.8888888888888888,\"#fdca26\"],[1.0,\"#f0f921\"]],\"type\":\"histogram2dcontour\"}],\"mesh3d\":[{\"colorbar\":{\"outlinewidth\":0,\"ticks\":\"\"},\"type\":\"mesh3d\"}],\"parcoords\":[{\"line\":{\"colorbar\":{\"outlinewidth\":0,\"ticks\":\"\"}},\"type\":\"parcoords\"}],\"pie\":[{\"automargin\":true,\"type\":\"pie\"}],\"scatter\":[{\"marker\":{\"colorbar\":{\"outlinewidth\":0,\"ticks\":\"\"}},\"type\":\"scatter\"}],\"scatter3d\":[{\"line\":{\"colorbar\":{\"outlinewidth\":0,\"ticks\":\"\"}},\"marker\":{\"colorbar\":{\"outlinewidth\":0,\"ticks\":\"\"}},\"type\":\"scatter3d\"}],\"scattercarpet\":[{\"marker\":{\"colorbar\":{\"outlinewidth\":0,\"ticks\":\"\"}},\"type\":\"scattercarpet\"}],\"scattergeo\":[{\"marker\":{\"colorbar\":{\"outlinewidth\":0,\"ticks\":\"\"}},\"type\":\"scattergeo\"}],\"scattergl\":[{\"marker\":{\"colorbar\":{\"outlinewidth\":0,\"ticks\":\"\"}},\"type\":\"scattergl\"}],\"scattermapbox\":[{\"marker\":{\"colorbar\":{\"outlinewidth\":0,\"ticks\":\"\"}},\"type\":\"scattermapbox\"}],\"scatterpolar\":[{\"marker\":{\"colorbar\":{\"outlinewidth\":0,\"ticks\":\"\"}},\"type\":\"scatterpolar\"}],\"scatterpolargl\":[{\"marker\":{\"colorbar\":{\"outlinewidth\":0,\"ticks\":\"\"}},\"type\":\"scatterpolargl\"}],\"scatterternary\":[{\"marker\":{\"colorbar\":{\"outlinewidth\":0,\"ticks\":\"\"}},\"type\":\"scatterternary\"}],\"surface\":[{\"colorbar\":{\"outlinewidth\":0,\"ticks\":\"\"},\"colorscale\":[[0.0,\"#0d0887\"],[0.1111111111111111,\"#46039f\"],[0.2222222222222222,\"#7201a8\"],[0.3333333333333333,\"#9c179e\"],[0.4444444444444444,\"#bd3786\"],[0.5555555555555556,\"#d8576b\"],[0.6666666666666666,\"#ed7953\"],[0.7777777777777778,\"#fb9f3a\"],[0.8888888888888888,\"#fdca26\"],[1.0,\"#f0f921\"]],\"type\":\"surface\"}],\"table\":[{\"cells\":{\"fill\":{\"color\":\"#EBF0F8\"},\"line\":{\"color\":\"white\"}},\"header\":{\"fill\":{\"color\":\"#C8D4E3\"},\"line\":{\"color\":\"white\"}},\"type\":\"table\"}]},\"layout\":{\"annotationdefaults\":{\"arrowcolor\":\"#2a3f5f\",\"arrowhead\":0,\"arrowwidth\":1},\"autotypenumbers\":\"strict\",\"coloraxis\":{\"colorbar\":{\"outlinewidth\":0,\"ticks\":\"\"}},\"colorscale\":{\"diverging\":[[0,\"#8e0152\"],[0.1,\"#c51b7d\"],[0.2,\"#de77ae\"],[0.3,\"#f1b6da\"],[0.4,\"#fde0ef\"],[0.5,\"#f7f7f7\"],[0.6,\"#e6f5d0\"],[0.7,\"#b8e186\"],[0.8,\"#7fbc41\"],[0.9,\"#4d9221\"],[1,\"#276419\"]],\"sequential\":[[0.0,\"#0d0887\"],[0.1111111111111111,\"#46039f\"],[0.2222222222222222,\"#7201a8\"],[0.3333333333333333,\"#9c179e\"],[0.4444444444444444,\"#bd3786\"],[0.5555555555555556,\"#d8576b\"],[0.6666666666666666,\"#ed7953\"],[0.7777777777777778,\"#fb9f3a\"],[0.8888888888888888,\"#fdca26\"],[1.0,\"#f0f921\"]],\"sequentialminus\":[[0.0,\"#0d0887\"],[0.1111111111111111,\"#46039f\"],[0.2222222222222222,\"#7201a8\"],[0.3333333333333333,\"#9c179e\"],[0.4444444444444444,\"#bd3786\"],[0.5555555555555556,\"#d8576b\"],[0.6666666666666666,\"#ed7953\"],[0.7777777777777778,\"#fb9f3a\"],[0.8888888888888888,\"#fdca26\"],[1.0,\"#f0f921\"]]},\"colorway\":[\"#636efa\",\"#EF553B\",\"#00cc96\",\"#ab63fa\",\"#FFA15A\",\"#19d3f3\",\"#FF6692\",\"#B6E880\",\"#FF97FF\",\"#FECB52\"],\"font\":{\"color\":\"#2a3f5f\"},\"geo\":{\"bgcolor\":\"white\",\"lakecolor\":\"white\",\"landcolor\":\"white\",\"showlakes\":true,\"showland\":true,\"subunitcolor\":\"#C8D4E3\"},\"hoverlabel\":{\"align\":\"left\"},\"hovermode\":\"closest\",\"mapbox\":{\"style\":\"light\"},\"paper_bgcolor\":\"white\",\"plot_bgcolor\":\"white\",\"polar\":{\"angularaxis\":{\"gridcolor\":\"#EBF0F8\",\"linecolor\":\"#EBF0F8\",\"ticks\":\"\"},\"bgcolor\":\"white\",\"radialaxis\":{\"gridcolor\":\"#EBF0F8\",\"linecolor\":\"#EBF0F8\",\"ticks\":\"\"}},\"scene\":{\"xaxis\":{\"backgroundcolor\":\"white\",\"gridcolor\":\"#DFE8F3\",\"gridwidth\":2,\"linecolor\":\"#EBF0F8\",\"showbackground\":true,\"ticks\":\"\",\"zerolinecolor\":\"#EBF0F8\"},\"yaxis\":{\"backgroundcolor\":\"white\",\"gridcolor\":\"#DFE8F3\",\"gridwidth\":2,\"linecolor\":\"#EBF0F8\",\"showbackground\":true,\"ticks\":\"\",\"zerolinecolor\":\"#EBF0F8\"},\"zaxis\":{\"backgroundcolor\":\"white\",\"gridcolor\":\"#DFE8F3\",\"gridwidth\":2,\"linecolor\":\"#EBF0F8\",\"showbackground\":true,\"ticks\":\"\",\"zerolinecolor\":\"#EBF0F8\"}},\"shapedefaults\":{\"line\":{\"color\":\"#2a3f5f\"}},\"ternary\":{\"aaxis\":{\"gridcolor\":\"#DFE8F3\",\"linecolor\":\"#A2B1C6\",\"ticks\":\"\"},\"baxis\":{\"gridcolor\":\"#DFE8F3\",\"linecolor\":\"#A2B1C6\",\"ticks\":\"\"},\"bgcolor\":\"white\",\"caxis\":{\"gridcolor\":\"#DFE8F3\",\"linecolor\":\"#A2B1C6\",\"ticks\":\"\"}},\"title\":{\"x\":0.05},\"xaxis\":{\"automargin\":true,\"gridcolor\":\"#EBF0F8\",\"linecolor\":\"#EBF0F8\",\"ticks\":\"\",\"title\":{\"standoff\":15},\"zerolinecolor\":\"#EBF0F8\",\"zerolinewidth\":2},\"yaxis\":{\"automargin\":true,\"gridcolor\":\"#EBF0F8\",\"linecolor\":\"#EBF0F8\",\"ticks\":\"\",\"title\":{\"standoff\":15},\"zerolinecolor\":\"#EBF0F8\",\"zerolinewidth\":2}}},\"title\":{\"text\":\"Mean square error for training and testing\"},\"xaxis\":{\"anchor\":\"y\",\"domain\":[0.0,1.0],\"title\":{\"text\":\"index\"}},\"yaxis\":{\"anchor\":\"x\",\"domain\":[0.0,1.0],\"title\":{\"text\":\"value\"}}},                        {\"responsive\": true}                    ).then(function(){\n",
       "                            \n",
       "var gd = document.getElementById('f93656d9-c5af-4b94-8f84-275372e9c247');\n",
       "var x = new MutationObserver(function (mutations, observer) {{\n",
       "        var display = window.getComputedStyle(gd).display;\n",
       "        if (!display || display === 'none') {{\n",
       "            console.log([gd, 'removed!']);\n",
       "            Plotly.purge(gd);\n",
       "            observer.disconnect();\n",
       "        }}\n",
       "}});\n",
       "\n",
       "// Listen for the removal of the full notebook cells\n",
       "var notebookContainer = gd.closest('#notebook-container');\n",
       "if (notebookContainer) {{\n",
       "    x.observe(notebookContainer, {childList: true});\n",
       "}}\n",
       "\n",
       "// Listen for the clearing of the current output cell\n",
       "var outputEl = gd.closest('.output');\n",
       "if (outputEl) {{\n",
       "    x.observe(outputEl, {childList: true});\n",
       "}}\n",
       "\n",
       "                        })                };                });            </script>        </div>"
      ]
     },
     "metadata": {},
     "output_type": "display_data"
    },
    {
     "data": {
      "application/vnd.plotly.v1+json": {
       "config": {
        "plotlyServerURL": "https://plot.ly"
       },
       "data": [
        {
         "hovertemplate": "variable=Training<br>index=%{x}<br>value=%{y}<extra></extra>",
         "legendgroup": "Training",
         "line": {
          "color": "#636efa",
          "dash": "solid"
         },
         "mode": "lines",
         "name": "Training",
         "orientation": "v",
         "showlegend": true,
         "type": "scatter",
         "x": [
          "Lasso",
          "Elastic Net",
          "Gradient Boosting",
          "Bayesian Ridge",
          "Kernel Ridge",
          "Lasso Lars Ic",
          "Xgboost",
          "Random Forest",
          "Svm"
         ],
         "xaxis": "x",
         "y": [
          0.10840097563506562,
          0.1077477342907865,
          0.09904378092950065,
          0.11335093795358706,
          0.10229874808989721,
          0.13345851537165437,
          0.011070775941191421,
          0.05477252571956164,
          0.19649008418404962
         ],
         "yaxis": "y"
        },
        {
         "hovertemplate": "variable=Testing<br>index=%{x}<br>value=%{y}<extra></extra>",
         "legendgroup": "Testing",
         "line": {
          "color": "#EF553B",
          "dash": "solid"
         },
         "mode": "lines",
         "name": "Testing",
         "orientation": "v",
         "showlegend": true,
         "type": "scatter",
         "x": [
          "Lasso",
          "Elastic Net",
          "Gradient Boosting",
          "Bayesian Ridge",
          "Kernel Ridge",
          "Lasso Lars Ic",
          "Xgboost",
          "Random Forest",
          "Svm"
         ],
         "xaxis": "x",
         "y": [
          0.11331381500312444,
          0.11332806264636065,
          0.11781108740592082,
          0.12186802035390999,
          0.12388594122926873,
          0.12434538375366423,
          0.13913262605805188,
          0.1443061207258987,
          0.20382324311667008
         ],
         "yaxis": "y"
        }
       ],
       "layout": {
        "legend": {
         "title": {
          "text": "variable"
         },
         "tracegroupgap": 0
        },
        "template": {
         "data": {
          "bar": [
           {
            "error_x": {
             "color": "#2a3f5f"
            },
            "error_y": {
             "color": "#2a3f5f"
            },
            "marker": {
             "line": {
              "color": "white",
              "width": 0.5
             },
             "pattern": {
              "fillmode": "overlay",
              "size": 10,
              "solidity": 0.2
             }
            },
            "type": "bar"
           }
          ],
          "barpolar": [
           {
            "marker": {
             "line": {
              "color": "white",
              "width": 0.5
             },
             "pattern": {
              "fillmode": "overlay",
              "size": 10,
              "solidity": 0.2
             }
            },
            "type": "barpolar"
           }
          ],
          "carpet": [
           {
            "aaxis": {
             "endlinecolor": "#2a3f5f",
             "gridcolor": "#C8D4E3",
             "linecolor": "#C8D4E3",
             "minorgridcolor": "#C8D4E3",
             "startlinecolor": "#2a3f5f"
            },
            "baxis": {
             "endlinecolor": "#2a3f5f",
             "gridcolor": "#C8D4E3",
             "linecolor": "#C8D4E3",
             "minorgridcolor": "#C8D4E3",
             "startlinecolor": "#2a3f5f"
            },
            "type": "carpet"
           }
          ],
          "choropleth": [
           {
            "colorbar": {
             "outlinewidth": 0,
             "ticks": ""
            },
            "type": "choropleth"
           }
          ],
          "contour": [
           {
            "colorbar": {
             "outlinewidth": 0,
             "ticks": ""
            },
            "colorscale": [
             [
              0,
              "#0d0887"
             ],
             [
              0.1111111111111111,
              "#46039f"
             ],
             [
              0.2222222222222222,
              "#7201a8"
             ],
             [
              0.3333333333333333,
              "#9c179e"
             ],
             [
              0.4444444444444444,
              "#bd3786"
             ],
             [
              0.5555555555555556,
              "#d8576b"
             ],
             [
              0.6666666666666666,
              "#ed7953"
             ],
             [
              0.7777777777777778,
              "#fb9f3a"
             ],
             [
              0.8888888888888888,
              "#fdca26"
             ],
             [
              1,
              "#f0f921"
             ]
            ],
            "type": "contour"
           }
          ],
          "contourcarpet": [
           {
            "colorbar": {
             "outlinewidth": 0,
             "ticks": ""
            },
            "type": "contourcarpet"
           }
          ],
          "heatmap": [
           {
            "colorbar": {
             "outlinewidth": 0,
             "ticks": ""
            },
            "colorscale": [
             [
              0,
              "#0d0887"
             ],
             [
              0.1111111111111111,
              "#46039f"
             ],
             [
              0.2222222222222222,
              "#7201a8"
             ],
             [
              0.3333333333333333,
              "#9c179e"
             ],
             [
              0.4444444444444444,
              "#bd3786"
             ],
             [
              0.5555555555555556,
              "#d8576b"
             ],
             [
              0.6666666666666666,
              "#ed7953"
             ],
             [
              0.7777777777777778,
              "#fb9f3a"
             ],
             [
              0.8888888888888888,
              "#fdca26"
             ],
             [
              1,
              "#f0f921"
             ]
            ],
            "type": "heatmap"
           }
          ],
          "heatmapgl": [
           {
            "colorbar": {
             "outlinewidth": 0,
             "ticks": ""
            },
            "colorscale": [
             [
              0,
              "#0d0887"
             ],
             [
              0.1111111111111111,
              "#46039f"
             ],
             [
              0.2222222222222222,
              "#7201a8"
             ],
             [
              0.3333333333333333,
              "#9c179e"
             ],
             [
              0.4444444444444444,
              "#bd3786"
             ],
             [
              0.5555555555555556,
              "#d8576b"
             ],
             [
              0.6666666666666666,
              "#ed7953"
             ],
             [
              0.7777777777777778,
              "#fb9f3a"
             ],
             [
              0.8888888888888888,
              "#fdca26"
             ],
             [
              1,
              "#f0f921"
             ]
            ],
            "type": "heatmapgl"
           }
          ],
          "histogram": [
           {
            "marker": {
             "pattern": {
              "fillmode": "overlay",
              "size": 10,
              "solidity": 0.2
             }
            },
            "type": "histogram"
           }
          ],
          "histogram2d": [
           {
            "colorbar": {
             "outlinewidth": 0,
             "ticks": ""
            },
            "colorscale": [
             [
              0,
              "#0d0887"
             ],
             [
              0.1111111111111111,
              "#46039f"
             ],
             [
              0.2222222222222222,
              "#7201a8"
             ],
             [
              0.3333333333333333,
              "#9c179e"
             ],
             [
              0.4444444444444444,
              "#bd3786"
             ],
             [
              0.5555555555555556,
              "#d8576b"
             ],
             [
              0.6666666666666666,
              "#ed7953"
             ],
             [
              0.7777777777777778,
              "#fb9f3a"
             ],
             [
              0.8888888888888888,
              "#fdca26"
             ],
             [
              1,
              "#f0f921"
             ]
            ],
            "type": "histogram2d"
           }
          ],
          "histogram2dcontour": [
           {
            "colorbar": {
             "outlinewidth": 0,
             "ticks": ""
            },
            "colorscale": [
             [
              0,
              "#0d0887"
             ],
             [
              0.1111111111111111,
              "#46039f"
             ],
             [
              0.2222222222222222,
              "#7201a8"
             ],
             [
              0.3333333333333333,
              "#9c179e"
             ],
             [
              0.4444444444444444,
              "#bd3786"
             ],
             [
              0.5555555555555556,
              "#d8576b"
             ],
             [
              0.6666666666666666,
              "#ed7953"
             ],
             [
              0.7777777777777778,
              "#fb9f3a"
             ],
             [
              0.8888888888888888,
              "#fdca26"
             ],
             [
              1,
              "#f0f921"
             ]
            ],
            "type": "histogram2dcontour"
           }
          ],
          "mesh3d": [
           {
            "colorbar": {
             "outlinewidth": 0,
             "ticks": ""
            },
            "type": "mesh3d"
           }
          ],
          "parcoords": [
           {
            "line": {
             "colorbar": {
              "outlinewidth": 0,
              "ticks": ""
             }
            },
            "type": "parcoords"
           }
          ],
          "pie": [
           {
            "automargin": true,
            "type": "pie"
           }
          ],
          "scatter": [
           {
            "marker": {
             "colorbar": {
              "outlinewidth": 0,
              "ticks": ""
             }
            },
            "type": "scatter"
           }
          ],
          "scatter3d": [
           {
            "line": {
             "colorbar": {
              "outlinewidth": 0,
              "ticks": ""
             }
            },
            "marker": {
             "colorbar": {
              "outlinewidth": 0,
              "ticks": ""
             }
            },
            "type": "scatter3d"
           }
          ],
          "scattercarpet": [
           {
            "marker": {
             "colorbar": {
              "outlinewidth": 0,
              "ticks": ""
             }
            },
            "type": "scattercarpet"
           }
          ],
          "scattergeo": [
           {
            "marker": {
             "colorbar": {
              "outlinewidth": 0,
              "ticks": ""
             }
            },
            "type": "scattergeo"
           }
          ],
          "scattergl": [
           {
            "marker": {
             "colorbar": {
              "outlinewidth": 0,
              "ticks": ""
             }
            },
            "type": "scattergl"
           }
          ],
          "scattermapbox": [
           {
            "marker": {
             "colorbar": {
              "outlinewidth": 0,
              "ticks": ""
             }
            },
            "type": "scattermapbox"
           }
          ],
          "scatterpolar": [
           {
            "marker": {
             "colorbar": {
              "outlinewidth": 0,
              "ticks": ""
             }
            },
            "type": "scatterpolar"
           }
          ],
          "scatterpolargl": [
           {
            "marker": {
             "colorbar": {
              "outlinewidth": 0,
              "ticks": ""
             }
            },
            "type": "scatterpolargl"
           }
          ],
          "scatterternary": [
           {
            "marker": {
             "colorbar": {
              "outlinewidth": 0,
              "ticks": ""
             }
            },
            "type": "scatterternary"
           }
          ],
          "surface": [
           {
            "colorbar": {
             "outlinewidth": 0,
             "ticks": ""
            },
            "colorscale": [
             [
              0,
              "#0d0887"
             ],
             [
              0.1111111111111111,
              "#46039f"
             ],
             [
              0.2222222222222222,
              "#7201a8"
             ],
             [
              0.3333333333333333,
              "#9c179e"
             ],
             [
              0.4444444444444444,
              "#bd3786"
             ],
             [
              0.5555555555555556,
              "#d8576b"
             ],
             [
              0.6666666666666666,
              "#ed7953"
             ],
             [
              0.7777777777777778,
              "#fb9f3a"
             ],
             [
              0.8888888888888888,
              "#fdca26"
             ],
             [
              1,
              "#f0f921"
             ]
            ],
            "type": "surface"
           }
          ],
          "table": [
           {
            "cells": {
             "fill": {
              "color": "#EBF0F8"
             },
             "line": {
              "color": "white"
             }
            },
            "header": {
             "fill": {
              "color": "#C8D4E3"
             },
             "line": {
              "color": "white"
             }
            },
            "type": "table"
           }
          ]
         },
         "layout": {
          "annotationdefaults": {
           "arrowcolor": "#2a3f5f",
           "arrowhead": 0,
           "arrowwidth": 1
          },
          "autotypenumbers": "strict",
          "coloraxis": {
           "colorbar": {
            "outlinewidth": 0,
            "ticks": ""
           }
          },
          "colorscale": {
           "diverging": [
            [
             0,
             "#8e0152"
            ],
            [
             0.1,
             "#c51b7d"
            ],
            [
             0.2,
             "#de77ae"
            ],
            [
             0.3,
             "#f1b6da"
            ],
            [
             0.4,
             "#fde0ef"
            ],
            [
             0.5,
             "#f7f7f7"
            ],
            [
             0.6,
             "#e6f5d0"
            ],
            [
             0.7,
             "#b8e186"
            ],
            [
             0.8,
             "#7fbc41"
            ],
            [
             0.9,
             "#4d9221"
            ],
            [
             1,
             "#276419"
            ]
           ],
           "sequential": [
            [
             0,
             "#0d0887"
            ],
            [
             0.1111111111111111,
             "#46039f"
            ],
            [
             0.2222222222222222,
             "#7201a8"
            ],
            [
             0.3333333333333333,
             "#9c179e"
            ],
            [
             0.4444444444444444,
             "#bd3786"
            ],
            [
             0.5555555555555556,
             "#d8576b"
            ],
            [
             0.6666666666666666,
             "#ed7953"
            ],
            [
             0.7777777777777778,
             "#fb9f3a"
            ],
            [
             0.8888888888888888,
             "#fdca26"
            ],
            [
             1,
             "#f0f921"
            ]
           ],
           "sequentialminus": [
            [
             0,
             "#0d0887"
            ],
            [
             0.1111111111111111,
             "#46039f"
            ],
            [
             0.2222222222222222,
             "#7201a8"
            ],
            [
             0.3333333333333333,
             "#9c179e"
            ],
            [
             0.4444444444444444,
             "#bd3786"
            ],
            [
             0.5555555555555556,
             "#d8576b"
            ],
            [
             0.6666666666666666,
             "#ed7953"
            ],
            [
             0.7777777777777778,
             "#fb9f3a"
            ],
            [
             0.8888888888888888,
             "#fdca26"
            ],
            [
             1,
             "#f0f921"
            ]
           ]
          },
          "colorway": [
           "#636efa",
           "#EF553B",
           "#00cc96",
           "#ab63fa",
           "#FFA15A",
           "#19d3f3",
           "#FF6692",
           "#B6E880",
           "#FF97FF",
           "#FECB52"
          ],
          "font": {
           "color": "#2a3f5f"
          },
          "geo": {
           "bgcolor": "white",
           "lakecolor": "white",
           "landcolor": "white",
           "showlakes": true,
           "showland": true,
           "subunitcolor": "#C8D4E3"
          },
          "hoverlabel": {
           "align": "left"
          },
          "hovermode": "closest",
          "mapbox": {
           "style": "light"
          },
          "paper_bgcolor": "white",
          "plot_bgcolor": "white",
          "polar": {
           "angularaxis": {
            "gridcolor": "#EBF0F8",
            "linecolor": "#EBF0F8",
            "ticks": ""
           },
           "bgcolor": "white",
           "radialaxis": {
            "gridcolor": "#EBF0F8",
            "linecolor": "#EBF0F8",
            "ticks": ""
           }
          },
          "scene": {
           "xaxis": {
            "backgroundcolor": "white",
            "gridcolor": "#DFE8F3",
            "gridwidth": 2,
            "linecolor": "#EBF0F8",
            "showbackground": true,
            "ticks": "",
            "zerolinecolor": "#EBF0F8"
           },
           "yaxis": {
            "backgroundcolor": "white",
            "gridcolor": "#DFE8F3",
            "gridwidth": 2,
            "linecolor": "#EBF0F8",
            "showbackground": true,
            "ticks": "",
            "zerolinecolor": "#EBF0F8"
           },
           "zaxis": {
            "backgroundcolor": "white",
            "gridcolor": "#DFE8F3",
            "gridwidth": 2,
            "linecolor": "#EBF0F8",
            "showbackground": true,
            "ticks": "",
            "zerolinecolor": "#EBF0F8"
           }
          },
          "shapedefaults": {
           "line": {
            "color": "#2a3f5f"
           }
          },
          "ternary": {
           "aaxis": {
            "gridcolor": "#DFE8F3",
            "linecolor": "#A2B1C6",
            "ticks": ""
           },
           "baxis": {
            "gridcolor": "#DFE8F3",
            "linecolor": "#A2B1C6",
            "ticks": ""
           },
           "bgcolor": "white",
           "caxis": {
            "gridcolor": "#DFE8F3",
            "linecolor": "#A2B1C6",
            "ticks": ""
           }
          },
          "title": {
           "x": 0.05
          },
          "xaxis": {
           "automargin": true,
           "gridcolor": "#EBF0F8",
           "linecolor": "#EBF0F8",
           "ticks": "",
           "title": {
            "standoff": 15
           },
           "zerolinecolor": "#EBF0F8",
           "zerolinewidth": 2
          },
          "yaxis": {
           "automargin": true,
           "gridcolor": "#EBF0F8",
           "linecolor": "#EBF0F8",
           "ticks": "",
           "title": {
            "standoff": 15
           },
           "zerolinecolor": "#EBF0F8",
           "zerolinewidth": 2
          }
         }
        },
        "title": {
         "text": "Root mean square error for training and testing"
        },
        "xaxis": {
         "anchor": "y",
         "domain": [
          0,
          1
         ],
         "title": {
          "text": "index"
         }
        },
        "yaxis": {
         "anchor": "x",
         "domain": [
          0,
          1
         ],
         "title": {
          "text": "value"
         }
        }
       }
      },
      "text/html": [
       "<div>                            <div id=\"0252eae0-730a-41eb-8090-31e16ed184d7\" class=\"plotly-graph-div\" style=\"height:525px; width:100%;\"></div>            <script type=\"text/javascript\">                require([\"plotly\"], function(Plotly) {                    window.PLOTLYENV=window.PLOTLYENV || {};                                    if (document.getElementById(\"0252eae0-730a-41eb-8090-31e16ed184d7\")) {                    Plotly.newPlot(                        \"0252eae0-730a-41eb-8090-31e16ed184d7\",                        [{\"hovertemplate\":\"variable=Training<br>index=%{x}<br>value=%{y}<extra></extra>\",\"legendgroup\":\"Training\",\"line\":{\"color\":\"#636efa\",\"dash\":\"solid\"},\"mode\":\"lines\",\"name\":\"Training\",\"orientation\":\"v\",\"showlegend\":true,\"type\":\"scatter\",\"x\":[\"Lasso\",\"Elastic Net\",\"Gradient Boosting\",\"Bayesian Ridge\",\"Kernel Ridge\",\"Lasso Lars Ic\",\"Xgboost\",\"Random Forest\",\"Svm\"],\"xaxis\":\"x\",\"y\":[0.10840097563506562,0.1077477342907865,0.09904378092950065,0.11335093795358706,0.10229874808989721,0.13345851537165437,0.011070775941191421,0.05477252571956164,0.19649008418404962],\"yaxis\":\"y\"},{\"hovertemplate\":\"variable=Testing<br>index=%{x}<br>value=%{y}<extra></extra>\",\"legendgroup\":\"Testing\",\"line\":{\"color\":\"#EF553B\",\"dash\":\"solid\"},\"mode\":\"lines\",\"name\":\"Testing\",\"orientation\":\"v\",\"showlegend\":true,\"type\":\"scatter\",\"x\":[\"Lasso\",\"Elastic Net\",\"Gradient Boosting\",\"Bayesian Ridge\",\"Kernel Ridge\",\"Lasso Lars Ic\",\"Xgboost\",\"Random Forest\",\"Svm\"],\"xaxis\":\"x\",\"y\":[0.11331381500312444,0.11332806264636065,0.11781108740592082,0.12186802035390999,0.12388594122926873,0.12434538375366423,0.13913262605805188,0.1443061207258987,0.20382324311667008],\"yaxis\":\"y\"}],                        {\"legend\":{\"title\":{\"text\":\"variable\"},\"tracegroupgap\":0},\"template\":{\"data\":{\"bar\":[{\"error_x\":{\"color\":\"#2a3f5f\"},\"error_y\":{\"color\":\"#2a3f5f\"},\"marker\":{\"line\":{\"color\":\"white\",\"width\":0.5},\"pattern\":{\"fillmode\":\"overlay\",\"size\":10,\"solidity\":0.2}},\"type\":\"bar\"}],\"barpolar\":[{\"marker\":{\"line\":{\"color\":\"white\",\"width\":0.5},\"pattern\":{\"fillmode\":\"overlay\",\"size\":10,\"solidity\":0.2}},\"type\":\"barpolar\"}],\"carpet\":[{\"aaxis\":{\"endlinecolor\":\"#2a3f5f\",\"gridcolor\":\"#C8D4E3\",\"linecolor\":\"#C8D4E3\",\"minorgridcolor\":\"#C8D4E3\",\"startlinecolor\":\"#2a3f5f\"},\"baxis\":{\"endlinecolor\":\"#2a3f5f\",\"gridcolor\":\"#C8D4E3\",\"linecolor\":\"#C8D4E3\",\"minorgridcolor\":\"#C8D4E3\",\"startlinecolor\":\"#2a3f5f\"},\"type\":\"carpet\"}],\"choropleth\":[{\"colorbar\":{\"outlinewidth\":0,\"ticks\":\"\"},\"type\":\"choropleth\"}],\"contour\":[{\"colorbar\":{\"outlinewidth\":0,\"ticks\":\"\"},\"colorscale\":[[0.0,\"#0d0887\"],[0.1111111111111111,\"#46039f\"],[0.2222222222222222,\"#7201a8\"],[0.3333333333333333,\"#9c179e\"],[0.4444444444444444,\"#bd3786\"],[0.5555555555555556,\"#d8576b\"],[0.6666666666666666,\"#ed7953\"],[0.7777777777777778,\"#fb9f3a\"],[0.8888888888888888,\"#fdca26\"],[1.0,\"#f0f921\"]],\"type\":\"contour\"}],\"contourcarpet\":[{\"colorbar\":{\"outlinewidth\":0,\"ticks\":\"\"},\"type\":\"contourcarpet\"}],\"heatmap\":[{\"colorbar\":{\"outlinewidth\":0,\"ticks\":\"\"},\"colorscale\":[[0.0,\"#0d0887\"],[0.1111111111111111,\"#46039f\"],[0.2222222222222222,\"#7201a8\"],[0.3333333333333333,\"#9c179e\"],[0.4444444444444444,\"#bd3786\"],[0.5555555555555556,\"#d8576b\"],[0.6666666666666666,\"#ed7953\"],[0.7777777777777778,\"#fb9f3a\"],[0.8888888888888888,\"#fdca26\"],[1.0,\"#f0f921\"]],\"type\":\"heatmap\"}],\"heatmapgl\":[{\"colorbar\":{\"outlinewidth\":0,\"ticks\":\"\"},\"colorscale\":[[0.0,\"#0d0887\"],[0.1111111111111111,\"#46039f\"],[0.2222222222222222,\"#7201a8\"],[0.3333333333333333,\"#9c179e\"],[0.4444444444444444,\"#bd3786\"],[0.5555555555555556,\"#d8576b\"],[0.6666666666666666,\"#ed7953\"],[0.7777777777777778,\"#fb9f3a\"],[0.8888888888888888,\"#fdca26\"],[1.0,\"#f0f921\"]],\"type\":\"heatmapgl\"}],\"histogram\":[{\"marker\":{\"pattern\":{\"fillmode\":\"overlay\",\"size\":10,\"solidity\":0.2}},\"type\":\"histogram\"}],\"histogram2d\":[{\"colorbar\":{\"outlinewidth\":0,\"ticks\":\"\"},\"colorscale\":[[0.0,\"#0d0887\"],[0.1111111111111111,\"#46039f\"],[0.2222222222222222,\"#7201a8\"],[0.3333333333333333,\"#9c179e\"],[0.4444444444444444,\"#bd3786\"],[0.5555555555555556,\"#d8576b\"],[0.6666666666666666,\"#ed7953\"],[0.7777777777777778,\"#fb9f3a\"],[0.8888888888888888,\"#fdca26\"],[1.0,\"#f0f921\"]],\"type\":\"histogram2d\"}],\"histogram2dcontour\":[{\"colorbar\":{\"outlinewidth\":0,\"ticks\":\"\"},\"colorscale\":[[0.0,\"#0d0887\"],[0.1111111111111111,\"#46039f\"],[0.2222222222222222,\"#7201a8\"],[0.3333333333333333,\"#9c179e\"],[0.4444444444444444,\"#bd3786\"],[0.5555555555555556,\"#d8576b\"],[0.6666666666666666,\"#ed7953\"],[0.7777777777777778,\"#fb9f3a\"],[0.8888888888888888,\"#fdca26\"],[1.0,\"#f0f921\"]],\"type\":\"histogram2dcontour\"}],\"mesh3d\":[{\"colorbar\":{\"outlinewidth\":0,\"ticks\":\"\"},\"type\":\"mesh3d\"}],\"parcoords\":[{\"line\":{\"colorbar\":{\"outlinewidth\":0,\"ticks\":\"\"}},\"type\":\"parcoords\"}],\"pie\":[{\"automargin\":true,\"type\":\"pie\"}],\"scatter\":[{\"marker\":{\"colorbar\":{\"outlinewidth\":0,\"ticks\":\"\"}},\"type\":\"scatter\"}],\"scatter3d\":[{\"line\":{\"colorbar\":{\"outlinewidth\":0,\"ticks\":\"\"}},\"marker\":{\"colorbar\":{\"outlinewidth\":0,\"ticks\":\"\"}},\"type\":\"scatter3d\"}],\"scattercarpet\":[{\"marker\":{\"colorbar\":{\"outlinewidth\":0,\"ticks\":\"\"}},\"type\":\"scattercarpet\"}],\"scattergeo\":[{\"marker\":{\"colorbar\":{\"outlinewidth\":0,\"ticks\":\"\"}},\"type\":\"scattergeo\"}],\"scattergl\":[{\"marker\":{\"colorbar\":{\"outlinewidth\":0,\"ticks\":\"\"}},\"type\":\"scattergl\"}],\"scattermapbox\":[{\"marker\":{\"colorbar\":{\"outlinewidth\":0,\"ticks\":\"\"}},\"type\":\"scattermapbox\"}],\"scatterpolar\":[{\"marker\":{\"colorbar\":{\"outlinewidth\":0,\"ticks\":\"\"}},\"type\":\"scatterpolar\"}],\"scatterpolargl\":[{\"marker\":{\"colorbar\":{\"outlinewidth\":0,\"ticks\":\"\"}},\"type\":\"scatterpolargl\"}],\"scatterternary\":[{\"marker\":{\"colorbar\":{\"outlinewidth\":0,\"ticks\":\"\"}},\"type\":\"scatterternary\"}],\"surface\":[{\"colorbar\":{\"outlinewidth\":0,\"ticks\":\"\"},\"colorscale\":[[0.0,\"#0d0887\"],[0.1111111111111111,\"#46039f\"],[0.2222222222222222,\"#7201a8\"],[0.3333333333333333,\"#9c179e\"],[0.4444444444444444,\"#bd3786\"],[0.5555555555555556,\"#d8576b\"],[0.6666666666666666,\"#ed7953\"],[0.7777777777777778,\"#fb9f3a\"],[0.8888888888888888,\"#fdca26\"],[1.0,\"#f0f921\"]],\"type\":\"surface\"}],\"table\":[{\"cells\":{\"fill\":{\"color\":\"#EBF0F8\"},\"line\":{\"color\":\"white\"}},\"header\":{\"fill\":{\"color\":\"#C8D4E3\"},\"line\":{\"color\":\"white\"}},\"type\":\"table\"}]},\"layout\":{\"annotationdefaults\":{\"arrowcolor\":\"#2a3f5f\",\"arrowhead\":0,\"arrowwidth\":1},\"autotypenumbers\":\"strict\",\"coloraxis\":{\"colorbar\":{\"outlinewidth\":0,\"ticks\":\"\"}},\"colorscale\":{\"diverging\":[[0,\"#8e0152\"],[0.1,\"#c51b7d\"],[0.2,\"#de77ae\"],[0.3,\"#f1b6da\"],[0.4,\"#fde0ef\"],[0.5,\"#f7f7f7\"],[0.6,\"#e6f5d0\"],[0.7,\"#b8e186\"],[0.8,\"#7fbc41\"],[0.9,\"#4d9221\"],[1,\"#276419\"]],\"sequential\":[[0.0,\"#0d0887\"],[0.1111111111111111,\"#46039f\"],[0.2222222222222222,\"#7201a8\"],[0.3333333333333333,\"#9c179e\"],[0.4444444444444444,\"#bd3786\"],[0.5555555555555556,\"#d8576b\"],[0.6666666666666666,\"#ed7953\"],[0.7777777777777778,\"#fb9f3a\"],[0.8888888888888888,\"#fdca26\"],[1.0,\"#f0f921\"]],\"sequentialminus\":[[0.0,\"#0d0887\"],[0.1111111111111111,\"#46039f\"],[0.2222222222222222,\"#7201a8\"],[0.3333333333333333,\"#9c179e\"],[0.4444444444444444,\"#bd3786\"],[0.5555555555555556,\"#d8576b\"],[0.6666666666666666,\"#ed7953\"],[0.7777777777777778,\"#fb9f3a\"],[0.8888888888888888,\"#fdca26\"],[1.0,\"#f0f921\"]]},\"colorway\":[\"#636efa\",\"#EF553B\",\"#00cc96\",\"#ab63fa\",\"#FFA15A\",\"#19d3f3\",\"#FF6692\",\"#B6E880\",\"#FF97FF\",\"#FECB52\"],\"font\":{\"color\":\"#2a3f5f\"},\"geo\":{\"bgcolor\":\"white\",\"lakecolor\":\"white\",\"landcolor\":\"white\",\"showlakes\":true,\"showland\":true,\"subunitcolor\":\"#C8D4E3\"},\"hoverlabel\":{\"align\":\"left\"},\"hovermode\":\"closest\",\"mapbox\":{\"style\":\"light\"},\"paper_bgcolor\":\"white\",\"plot_bgcolor\":\"white\",\"polar\":{\"angularaxis\":{\"gridcolor\":\"#EBF0F8\",\"linecolor\":\"#EBF0F8\",\"ticks\":\"\"},\"bgcolor\":\"white\",\"radialaxis\":{\"gridcolor\":\"#EBF0F8\",\"linecolor\":\"#EBF0F8\",\"ticks\":\"\"}},\"scene\":{\"xaxis\":{\"backgroundcolor\":\"white\",\"gridcolor\":\"#DFE8F3\",\"gridwidth\":2,\"linecolor\":\"#EBF0F8\",\"showbackground\":true,\"ticks\":\"\",\"zerolinecolor\":\"#EBF0F8\"},\"yaxis\":{\"backgroundcolor\":\"white\",\"gridcolor\":\"#DFE8F3\",\"gridwidth\":2,\"linecolor\":\"#EBF0F8\",\"showbackground\":true,\"ticks\":\"\",\"zerolinecolor\":\"#EBF0F8\"},\"zaxis\":{\"backgroundcolor\":\"white\",\"gridcolor\":\"#DFE8F3\",\"gridwidth\":2,\"linecolor\":\"#EBF0F8\",\"showbackground\":true,\"ticks\":\"\",\"zerolinecolor\":\"#EBF0F8\"}},\"shapedefaults\":{\"line\":{\"color\":\"#2a3f5f\"}},\"ternary\":{\"aaxis\":{\"gridcolor\":\"#DFE8F3\",\"linecolor\":\"#A2B1C6\",\"ticks\":\"\"},\"baxis\":{\"gridcolor\":\"#DFE8F3\",\"linecolor\":\"#A2B1C6\",\"ticks\":\"\"},\"bgcolor\":\"white\",\"caxis\":{\"gridcolor\":\"#DFE8F3\",\"linecolor\":\"#A2B1C6\",\"ticks\":\"\"}},\"title\":{\"x\":0.05},\"xaxis\":{\"automargin\":true,\"gridcolor\":\"#EBF0F8\",\"linecolor\":\"#EBF0F8\",\"ticks\":\"\",\"title\":{\"standoff\":15},\"zerolinecolor\":\"#EBF0F8\",\"zerolinewidth\":2},\"yaxis\":{\"automargin\":true,\"gridcolor\":\"#EBF0F8\",\"linecolor\":\"#EBF0F8\",\"ticks\":\"\",\"title\":{\"standoff\":15},\"zerolinecolor\":\"#EBF0F8\",\"zerolinewidth\":2}}},\"title\":{\"text\":\"Root mean square error for training and testing\"},\"xaxis\":{\"anchor\":\"y\",\"domain\":[0.0,1.0],\"title\":{\"text\":\"index\"}},\"yaxis\":{\"anchor\":\"x\",\"domain\":[0.0,1.0],\"title\":{\"text\":\"value\"}}},                        {\"responsive\": true}                    ).then(function(){\n",
       "                            \n",
       "var gd = document.getElementById('0252eae0-730a-41eb-8090-31e16ed184d7');\n",
       "var x = new MutationObserver(function (mutations, observer) {{\n",
       "        var display = window.getComputedStyle(gd).display;\n",
       "        if (!display || display === 'none') {{\n",
       "            console.log([gd, 'removed!']);\n",
       "            Plotly.purge(gd);\n",
       "            observer.disconnect();\n",
       "        }}\n",
       "}});\n",
       "\n",
       "// Listen for the removal of the full notebook cells\n",
       "var notebookContainer = gd.closest('#notebook-container');\n",
       "if (notebookContainer) {{\n",
       "    x.observe(notebookContainer, {childList: true});\n",
       "}}\n",
       "\n",
       "// Listen for the clearing of the current output cell\n",
       "var outputEl = gd.closest('.output');\n",
       "if (outputEl) {{\n",
       "    x.observe(outputEl, {childList: true});\n",
       "}}\n",
       "\n",
       "                        })                };                });            </script>        </div>"
      ]
     },
     "metadata": {},
     "output_type": "display_data"
    }
   ],
   "source": [
    "ML.visualize_trai_test()"
   ]
  },
  {
   "cell_type": "markdown",
   "id": "cc5e6369",
   "metadata": {
    "papermill": {
     "duration": 0.183076,
     "end_time": "2021-09-28T21:34:40.039699",
     "exception": false,
     "start_time": "2021-09-28T21:34:39.856623",
     "status": "completed"
    },
    "tags": []
   },
   "source": [
    "<a href=\"#outlines\"><b>Up to outlines</b>"
   ]
  },
  {
   "cell_type": "markdown",
   "id": "bd9018d8",
   "metadata": {
    "papermill": {
     "duration": 0.186431,
     "end_time": "2021-09-28T21:34:40.410877",
     "exception": false,
     "start_time": "2021-09-28T21:34:40.224446",
     "status": "completed"
    },
    "tags": []
   },
   "source": [
    "<a id=\"4.5\"></a>\n",
    "<h1>Applying Cross-Validation</h1>"
   ]
  },
  {
   "cell_type": "code",
   "execution_count": 19,
   "id": "e672c5c8",
   "metadata": {
    "execution": {
     "iopub.execute_input": "2021-09-28T21:34:40.795779Z",
     "iopub.status.busy": "2021-09-28T21:34:40.795065Z",
     "iopub.status.idle": "2021-09-28T21:38:26.439057Z",
     "shell.execute_reply": "2021-09-28T21:38:26.438546Z",
     "shell.execute_reply.started": "2021-09-28T21:16:41.940365Z"
    },
    "papermill": {
     "duration": 225.841258,
     "end_time": "2021-09-28T21:38:26.439203",
     "exception": false,
     "start_time": "2021-09-28T21:34:40.597945",
     "status": "completed"
    },
    "scrolled": true,
    "tags": []
   },
   "outputs": [
    {
     "name": "stdout",
     "output_type": "stream",
     "text": [
      "\n",
      "Apply Cross-Validation for all models\n",
      "\n",
      "Lasso ========================= > is Done!\n",
      "Elastic Net =================== > is Done!\n",
      "Gradient Boosting ============= > is Done!\n",
      "Bayesian Ridge ================ > is Done!\n",
      "Kernel Ridge ================== > is Done!\n",
      "Lasso Lars Ic ================= > is Done!\n",
      "Xgboost ======================= > is Done!\n",
      "Random Forest ================= > is Done!\n",
      "Svm =========================== > is Done!\n"
     ]
    }
   ],
   "source": [
    "ML.cross_validation('all')"
   ]
  },
  {
   "cell_type": "markdown",
   "id": "20ab6c45",
   "metadata": {
    "papermill": {
     "duration": 0.187973,
     "end_time": "2021-09-28T21:38:26.814440",
     "exception": false,
     "start_time": "2021-09-28T21:38:26.626467",
     "status": "completed"
    },
    "tags": []
   },
   "source": [
    "<a id=\"4.6\"></a>\n",
    "<h1>Visualize the results of Cross-Validation</h1>"
   ]
  },
  {
   "cell_type": "code",
   "execution_count": 20,
   "id": "5d4197a9",
   "metadata": {
    "execution": {
     "iopub.execute_input": "2021-09-28T21:38:27.200881Z",
     "iopub.status.busy": "2021-09-28T21:38:27.196459Z",
     "iopub.status.idle": "2021-09-28T21:38:27.481013Z",
     "shell.execute_reply": "2021-09-28T21:38:27.480428Z",
     "shell.execute_reply.started": "2021-09-28T21:20:26.788866Z"
    },
    "papermill": {
     "duration": 0.477487,
     "end_time": "2021-09-28T21:38:27.481153",
     "exception": false,
     "start_time": "2021-09-28T21:38:27.003666",
     "status": "completed"
    },
    "tags": []
   },
   "outputs": [
    {
     "data": {
      "application/vnd.plotly.v1+json": {
       "config": {
        "linkText": "Export to plot.ly",
        "plotlyServerURL": "https://plot.ly",
        "showLink": true
       },
       "data": [
        {
         "marker": {
          "color": "rgba(255, 153, 51, 0.6)",
          "line": {
           "color": "rgba(255, 153, 51, 1.0)",
           "width": 1
          }
         },
         "name": "Max",
         "orientation": "v",
         "text": "",
         "type": "bar",
         "x": [
          "Gradient Boosting",
          "Xgboost",
          "Elastic Net",
          "Lasso",
          "Random Forest",
          "Bayesian Ridge",
          "Kernel Ridge",
          "Lasso Lars Ic",
          "Svm"
         ],
         "y": [
          0.9124774388819656,
          0.8861076833006661,
          0.9173057892820276,
          0.9177099769554333,
          0.8791998165968249,
          0.9007056115212548,
          0.899379988896037,
          0.8930673975805845,
          0.7765825461714083
         ]
        },
        {
         "marker": {
          "color": "rgba(55, 128, 191, 0.6)",
          "line": {
           "color": "rgba(55, 128, 191, 1.0)",
           "width": 1
          }
         },
         "name": "Mean",
         "orientation": "v",
         "text": "",
         "type": "bar",
         "x": [
          "Gradient Boosting",
          "Xgboost",
          "Elastic Net",
          "Lasso",
          "Random Forest",
          "Bayesian Ridge",
          "Kernel Ridge",
          "Lasso Lars Ic",
          "Svm"
         ],
         "y": [
          0.8958358833909459,
          0.8717445819550225,
          0.869345018536437,
          0.86913837352257,
          0.8672870012710095,
          0.8635344322283766,
          0.8522372523279291,
          0.8322715308100797,
          0.7408006809458543
         ]
        },
        {
         "marker": {
          "color": "rgba(50, 171, 96, 0.6)",
          "line": {
           "color": "rgba(50, 171, 96, 1.0)",
           "width": 1
          }
         },
         "name": "Min",
         "orientation": "v",
         "text": "",
         "type": "bar",
         "x": [
          "Gradient Boosting",
          "Xgboost",
          "Elastic Net",
          "Lasso",
          "Random Forest",
          "Bayesian Ridge",
          "Kernel Ridge",
          "Lasso Lars Ic",
          "Svm"
         ],
         "y": [
          0.8785139692671912,
          0.8622565020563677,
          0.7563183924837327,
          0.7553578803135976,
          0.8502274972165139,
          0.766654468554757,
          0.7438816166873623,
          0.6968516908938284,
          0.7081495510974523
         ]
        },
        {
         "marker": {
          "color": "rgba(128, 0, 128, 0.6)",
          "line": {
           "color": "rgba(128, 0, 128, 1.0)",
           "width": 1
          }
         },
         "name": "std",
         "orientation": "v",
         "text": "",
         "type": "bar",
         "x": [
          "Gradient Boosting",
          "Xgboost",
          "Elastic Net",
          "Lasso",
          "Random Forest",
          "Bayesian Ridge",
          "Kernel Ridge",
          "Lasso Lars Ic",
          "Svm"
         ],
         "y": [
          0.014105032271617277,
          0.008251943369411617,
          0.0590657173079926,
          0.05956518905848453,
          0.011341492376134505,
          0.049771541299552455,
          0.05634380383319883,
          0.07041177683949892,
          0.02862172156397772
         ]
        }
       ],
       "layout": {
        "legend": {
         "bgcolor": "#F5F6F9",
         "font": {
          "color": "#4D5663"
         }
        },
        "paper_bgcolor": "#F5F6F9",
        "plot_bgcolor": "#F5F6F9",
        "template": {
         "data": {
          "bar": [
           {
            "error_x": {
             "color": "#2a3f5f"
            },
            "error_y": {
             "color": "#2a3f5f"
            },
            "marker": {
             "line": {
              "color": "white",
              "width": 0.5
             },
             "pattern": {
              "fillmode": "overlay",
              "size": 10,
              "solidity": 0.2
             }
            },
            "type": "bar"
           }
          ],
          "barpolar": [
           {
            "marker": {
             "line": {
              "color": "white",
              "width": 0.5
             },
             "pattern": {
              "fillmode": "overlay",
              "size": 10,
              "solidity": 0.2
             }
            },
            "type": "barpolar"
           }
          ],
          "carpet": [
           {
            "aaxis": {
             "endlinecolor": "#2a3f5f",
             "gridcolor": "#C8D4E3",
             "linecolor": "#C8D4E3",
             "minorgridcolor": "#C8D4E3",
             "startlinecolor": "#2a3f5f"
            },
            "baxis": {
             "endlinecolor": "#2a3f5f",
             "gridcolor": "#C8D4E3",
             "linecolor": "#C8D4E3",
             "minorgridcolor": "#C8D4E3",
             "startlinecolor": "#2a3f5f"
            },
            "type": "carpet"
           }
          ],
          "choropleth": [
           {
            "colorbar": {
             "outlinewidth": 0,
             "ticks": ""
            },
            "type": "choropleth"
           }
          ],
          "contour": [
           {
            "colorbar": {
             "outlinewidth": 0,
             "ticks": ""
            },
            "colorscale": [
             [
              0,
              "#0d0887"
             ],
             [
              0.1111111111111111,
              "#46039f"
             ],
             [
              0.2222222222222222,
              "#7201a8"
             ],
             [
              0.3333333333333333,
              "#9c179e"
             ],
             [
              0.4444444444444444,
              "#bd3786"
             ],
             [
              0.5555555555555556,
              "#d8576b"
             ],
             [
              0.6666666666666666,
              "#ed7953"
             ],
             [
              0.7777777777777778,
              "#fb9f3a"
             ],
             [
              0.8888888888888888,
              "#fdca26"
             ],
             [
              1,
              "#f0f921"
             ]
            ],
            "type": "contour"
           }
          ],
          "contourcarpet": [
           {
            "colorbar": {
             "outlinewidth": 0,
             "ticks": ""
            },
            "type": "contourcarpet"
           }
          ],
          "heatmap": [
           {
            "colorbar": {
             "outlinewidth": 0,
             "ticks": ""
            },
            "colorscale": [
             [
              0,
              "#0d0887"
             ],
             [
              0.1111111111111111,
              "#46039f"
             ],
             [
              0.2222222222222222,
              "#7201a8"
             ],
             [
              0.3333333333333333,
              "#9c179e"
             ],
             [
              0.4444444444444444,
              "#bd3786"
             ],
             [
              0.5555555555555556,
              "#d8576b"
             ],
             [
              0.6666666666666666,
              "#ed7953"
             ],
             [
              0.7777777777777778,
              "#fb9f3a"
             ],
             [
              0.8888888888888888,
              "#fdca26"
             ],
             [
              1,
              "#f0f921"
             ]
            ],
            "type": "heatmap"
           }
          ],
          "heatmapgl": [
           {
            "colorbar": {
             "outlinewidth": 0,
             "ticks": ""
            },
            "colorscale": [
             [
              0,
              "#0d0887"
             ],
             [
              0.1111111111111111,
              "#46039f"
             ],
             [
              0.2222222222222222,
              "#7201a8"
             ],
             [
              0.3333333333333333,
              "#9c179e"
             ],
             [
              0.4444444444444444,
              "#bd3786"
             ],
             [
              0.5555555555555556,
              "#d8576b"
             ],
             [
              0.6666666666666666,
              "#ed7953"
             ],
             [
              0.7777777777777778,
              "#fb9f3a"
             ],
             [
              0.8888888888888888,
              "#fdca26"
             ],
             [
              1,
              "#f0f921"
             ]
            ],
            "type": "heatmapgl"
           }
          ],
          "histogram": [
           {
            "marker": {
             "pattern": {
              "fillmode": "overlay",
              "size": 10,
              "solidity": 0.2
             }
            },
            "type": "histogram"
           }
          ],
          "histogram2d": [
           {
            "colorbar": {
             "outlinewidth": 0,
             "ticks": ""
            },
            "colorscale": [
             [
              0,
              "#0d0887"
             ],
             [
              0.1111111111111111,
              "#46039f"
             ],
             [
              0.2222222222222222,
              "#7201a8"
             ],
             [
              0.3333333333333333,
              "#9c179e"
             ],
             [
              0.4444444444444444,
              "#bd3786"
             ],
             [
              0.5555555555555556,
              "#d8576b"
             ],
             [
              0.6666666666666666,
              "#ed7953"
             ],
             [
              0.7777777777777778,
              "#fb9f3a"
             ],
             [
              0.8888888888888888,
              "#fdca26"
             ],
             [
              1,
              "#f0f921"
             ]
            ],
            "type": "histogram2d"
           }
          ],
          "histogram2dcontour": [
           {
            "colorbar": {
             "outlinewidth": 0,
             "ticks": ""
            },
            "colorscale": [
             [
              0,
              "#0d0887"
             ],
             [
              0.1111111111111111,
              "#46039f"
             ],
             [
              0.2222222222222222,
              "#7201a8"
             ],
             [
              0.3333333333333333,
              "#9c179e"
             ],
             [
              0.4444444444444444,
              "#bd3786"
             ],
             [
              0.5555555555555556,
              "#d8576b"
             ],
             [
              0.6666666666666666,
              "#ed7953"
             ],
             [
              0.7777777777777778,
              "#fb9f3a"
             ],
             [
              0.8888888888888888,
              "#fdca26"
             ],
             [
              1,
              "#f0f921"
             ]
            ],
            "type": "histogram2dcontour"
           }
          ],
          "mesh3d": [
           {
            "colorbar": {
             "outlinewidth": 0,
             "ticks": ""
            },
            "type": "mesh3d"
           }
          ],
          "parcoords": [
           {
            "line": {
             "colorbar": {
              "outlinewidth": 0,
              "ticks": ""
             }
            },
            "type": "parcoords"
           }
          ],
          "pie": [
           {
            "automargin": true,
            "type": "pie"
           }
          ],
          "scatter": [
           {
            "marker": {
             "colorbar": {
              "outlinewidth": 0,
              "ticks": ""
             }
            },
            "type": "scatter"
           }
          ],
          "scatter3d": [
           {
            "line": {
             "colorbar": {
              "outlinewidth": 0,
              "ticks": ""
             }
            },
            "marker": {
             "colorbar": {
              "outlinewidth": 0,
              "ticks": ""
             }
            },
            "type": "scatter3d"
           }
          ],
          "scattercarpet": [
           {
            "marker": {
             "colorbar": {
              "outlinewidth": 0,
              "ticks": ""
             }
            },
            "type": "scattercarpet"
           }
          ],
          "scattergeo": [
           {
            "marker": {
             "colorbar": {
              "outlinewidth": 0,
              "ticks": ""
             }
            },
            "type": "scattergeo"
           }
          ],
          "scattergl": [
           {
            "marker": {
             "colorbar": {
              "outlinewidth": 0,
              "ticks": ""
             }
            },
            "type": "scattergl"
           }
          ],
          "scattermapbox": [
           {
            "marker": {
             "colorbar": {
              "outlinewidth": 0,
              "ticks": ""
             }
            },
            "type": "scattermapbox"
           }
          ],
          "scatterpolar": [
           {
            "marker": {
             "colorbar": {
              "outlinewidth": 0,
              "ticks": ""
             }
            },
            "type": "scatterpolar"
           }
          ],
          "scatterpolargl": [
           {
            "marker": {
             "colorbar": {
              "outlinewidth": 0,
              "ticks": ""
             }
            },
            "type": "scatterpolargl"
           }
          ],
          "scatterternary": [
           {
            "marker": {
             "colorbar": {
              "outlinewidth": 0,
              "ticks": ""
             }
            },
            "type": "scatterternary"
           }
          ],
          "surface": [
           {
            "colorbar": {
             "outlinewidth": 0,
             "ticks": ""
            },
            "colorscale": [
             [
              0,
              "#0d0887"
             ],
             [
              0.1111111111111111,
              "#46039f"
             ],
             [
              0.2222222222222222,
              "#7201a8"
             ],
             [
              0.3333333333333333,
              "#9c179e"
             ],
             [
              0.4444444444444444,
              "#bd3786"
             ],
             [
              0.5555555555555556,
              "#d8576b"
             ],
             [
              0.6666666666666666,
              "#ed7953"
             ],
             [
              0.7777777777777778,
              "#fb9f3a"
             ],
             [
              0.8888888888888888,
              "#fdca26"
             ],
             [
              1,
              "#f0f921"
             ]
            ],
            "type": "surface"
           }
          ],
          "table": [
           {
            "cells": {
             "fill": {
              "color": "#EBF0F8"
             },
             "line": {
              "color": "white"
             }
            },
            "header": {
             "fill": {
              "color": "#C8D4E3"
             },
             "line": {
              "color": "white"
             }
            },
            "type": "table"
           }
          ]
         },
         "layout": {
          "annotationdefaults": {
           "arrowcolor": "#2a3f5f",
           "arrowhead": 0,
           "arrowwidth": 1
          },
          "autotypenumbers": "strict",
          "coloraxis": {
           "colorbar": {
            "outlinewidth": 0,
            "ticks": ""
           }
          },
          "colorscale": {
           "diverging": [
            [
             0,
             "#8e0152"
            ],
            [
             0.1,
             "#c51b7d"
            ],
            [
             0.2,
             "#de77ae"
            ],
            [
             0.3,
             "#f1b6da"
            ],
            [
             0.4,
             "#fde0ef"
            ],
            [
             0.5,
             "#f7f7f7"
            ],
            [
             0.6,
             "#e6f5d0"
            ],
            [
             0.7,
             "#b8e186"
            ],
            [
             0.8,
             "#7fbc41"
            ],
            [
             0.9,
             "#4d9221"
            ],
            [
             1,
             "#276419"
            ]
           ],
           "sequential": [
            [
             0,
             "#0d0887"
            ],
            [
             0.1111111111111111,
             "#46039f"
            ],
            [
             0.2222222222222222,
             "#7201a8"
            ],
            [
             0.3333333333333333,
             "#9c179e"
            ],
            [
             0.4444444444444444,
             "#bd3786"
            ],
            [
             0.5555555555555556,
             "#d8576b"
            ],
            [
             0.6666666666666666,
             "#ed7953"
            ],
            [
             0.7777777777777778,
             "#fb9f3a"
            ],
            [
             0.8888888888888888,
             "#fdca26"
            ],
            [
             1,
             "#f0f921"
            ]
           ],
           "sequentialminus": [
            [
             0,
             "#0d0887"
            ],
            [
             0.1111111111111111,
             "#46039f"
            ],
            [
             0.2222222222222222,
             "#7201a8"
            ],
            [
             0.3333333333333333,
             "#9c179e"
            ],
            [
             0.4444444444444444,
             "#bd3786"
            ],
            [
             0.5555555555555556,
             "#d8576b"
            ],
            [
             0.6666666666666666,
             "#ed7953"
            ],
            [
             0.7777777777777778,
             "#fb9f3a"
            ],
            [
             0.8888888888888888,
             "#fdca26"
            ],
            [
             1,
             "#f0f921"
            ]
           ]
          },
          "colorway": [
           "#636efa",
           "#EF553B",
           "#00cc96",
           "#ab63fa",
           "#FFA15A",
           "#19d3f3",
           "#FF6692",
           "#B6E880",
           "#FF97FF",
           "#FECB52"
          ],
          "font": {
           "color": "#2a3f5f"
          },
          "geo": {
           "bgcolor": "white",
           "lakecolor": "white",
           "landcolor": "white",
           "showlakes": true,
           "showland": true,
           "subunitcolor": "#C8D4E3"
          },
          "hoverlabel": {
           "align": "left"
          },
          "hovermode": "closest",
          "mapbox": {
           "style": "light"
          },
          "paper_bgcolor": "white",
          "plot_bgcolor": "white",
          "polar": {
           "angularaxis": {
            "gridcolor": "#EBF0F8",
            "linecolor": "#EBF0F8",
            "ticks": ""
           },
           "bgcolor": "white",
           "radialaxis": {
            "gridcolor": "#EBF0F8",
            "linecolor": "#EBF0F8",
            "ticks": ""
           }
          },
          "scene": {
           "xaxis": {
            "backgroundcolor": "white",
            "gridcolor": "#DFE8F3",
            "gridwidth": 2,
            "linecolor": "#EBF0F8",
            "showbackground": true,
            "ticks": "",
            "zerolinecolor": "#EBF0F8"
           },
           "yaxis": {
            "backgroundcolor": "white",
            "gridcolor": "#DFE8F3",
            "gridwidth": 2,
            "linecolor": "#EBF0F8",
            "showbackground": true,
            "ticks": "",
            "zerolinecolor": "#EBF0F8"
           },
           "zaxis": {
            "backgroundcolor": "white",
            "gridcolor": "#DFE8F3",
            "gridwidth": 2,
            "linecolor": "#EBF0F8",
            "showbackground": true,
            "ticks": "",
            "zerolinecolor": "#EBF0F8"
           }
          },
          "shapedefaults": {
           "line": {
            "color": "#2a3f5f"
           }
          },
          "ternary": {
           "aaxis": {
            "gridcolor": "#DFE8F3",
            "linecolor": "#A2B1C6",
            "ticks": ""
           },
           "baxis": {
            "gridcolor": "#DFE8F3",
            "linecolor": "#A2B1C6",
            "ticks": ""
           },
           "bgcolor": "white",
           "caxis": {
            "gridcolor": "#DFE8F3",
            "linecolor": "#A2B1C6",
            "ticks": ""
           }
          },
          "title": {
           "x": 0.05
          },
          "xaxis": {
           "automargin": true,
           "gridcolor": "#EBF0F8",
           "linecolor": "#EBF0F8",
           "ticks": "",
           "title": {
            "standoff": 15
           },
           "zerolinecolor": "#EBF0F8",
           "zerolinewidth": 2
          },
          "yaxis": {
           "automargin": true,
           "gridcolor": "#EBF0F8",
           "linecolor": "#EBF0F8",
           "ticks": "",
           "title": {
            "standoff": 15
           },
           "zerolinecolor": "#EBF0F8",
           "zerolinewidth": 2
          }
         }
        },
        "title": {
         "font": {
          "color": "#4D5663"
         },
         "text": "Max, Min, Mean, and standard deviation <br>For R-Squared values for each model"
        },
        "xaxis": {
         "gridcolor": "#E1E5ED",
         "showgrid": true,
         "tickfont": {
          "color": "#4D5663"
         },
         "title": {
          "font": {
           "color": "#4D5663"
          },
          "text": ""
         },
         "zerolinecolor": "#E1E5ED"
        },
        "yaxis": {
         "gridcolor": "#E1E5ED",
         "showgrid": true,
         "tickfont": {
          "color": "#4D5663"
         },
         "title": {
          "font": {
           "color": "#4D5663"
          },
          "text": ""
         },
         "zerolinecolor": "#E1E5ED"
        }
       }
      },
      "text/html": [
       "<div>                            <div id=\"c05c0770-9f64-4a35-8510-477c8272c4f6\" class=\"plotly-graph-div\" style=\"height:525px; width:100%;\"></div>            <script type=\"text/javascript\">                require([\"plotly\"], function(Plotly) {                    window.PLOTLYENV=window.PLOTLYENV || {};\n",
       "                    window.PLOTLYENV.BASE_URL='https://plot.ly';                                    if (document.getElementById(\"c05c0770-9f64-4a35-8510-477c8272c4f6\")) {                    Plotly.newPlot(                        \"c05c0770-9f64-4a35-8510-477c8272c4f6\",                        [{\"marker\":{\"color\":\"rgba(255, 153, 51, 0.6)\",\"line\":{\"color\":\"rgba(255, 153, 51, 1.0)\",\"width\":1}},\"name\":\"Max\",\"orientation\":\"v\",\"text\":\"\",\"type\":\"bar\",\"x\":[\"Gradient Boosting\",\"Xgboost\",\"Elastic Net\",\"Lasso\",\"Random Forest\",\"Bayesian Ridge\",\"Kernel Ridge\",\"Lasso Lars Ic\",\"Svm\"],\"y\":[0.9124774388819656,0.8861076833006661,0.9173057892820276,0.9177099769554333,0.8791998165968249,0.9007056115212548,0.899379988896037,0.8930673975805845,0.7765825461714083]},{\"marker\":{\"color\":\"rgba(55, 128, 191, 0.6)\",\"line\":{\"color\":\"rgba(55, 128, 191, 1.0)\",\"width\":1}},\"name\":\"Mean\",\"orientation\":\"v\",\"text\":\"\",\"type\":\"bar\",\"x\":[\"Gradient Boosting\",\"Xgboost\",\"Elastic Net\",\"Lasso\",\"Random Forest\",\"Bayesian Ridge\",\"Kernel Ridge\",\"Lasso Lars Ic\",\"Svm\"],\"y\":[0.8958358833909459,0.8717445819550225,0.869345018536437,0.86913837352257,0.8672870012710095,0.8635344322283766,0.8522372523279291,0.8322715308100797,0.7408006809458543]},{\"marker\":{\"color\":\"rgba(50, 171, 96, 0.6)\",\"line\":{\"color\":\"rgba(50, 171, 96, 1.0)\",\"width\":1}},\"name\":\"Min\",\"orientation\":\"v\",\"text\":\"\",\"type\":\"bar\",\"x\":[\"Gradient Boosting\",\"Xgboost\",\"Elastic Net\",\"Lasso\",\"Random Forest\",\"Bayesian Ridge\",\"Kernel Ridge\",\"Lasso Lars Ic\",\"Svm\"],\"y\":[0.8785139692671912,0.8622565020563677,0.7563183924837327,0.7553578803135976,0.8502274972165139,0.766654468554757,0.7438816166873623,0.6968516908938284,0.7081495510974523]},{\"marker\":{\"color\":\"rgba(128, 0, 128, 0.6)\",\"line\":{\"color\":\"rgba(128, 0, 128, 1.0)\",\"width\":1}},\"name\":\"std\",\"orientation\":\"v\",\"text\":\"\",\"type\":\"bar\",\"x\":[\"Gradient Boosting\",\"Xgboost\",\"Elastic Net\",\"Lasso\",\"Random Forest\",\"Bayesian Ridge\",\"Kernel Ridge\",\"Lasso Lars Ic\",\"Svm\"],\"y\":[0.014105032271617277,0.008251943369411617,0.0590657173079926,0.05956518905848453,0.011341492376134505,0.049771541299552455,0.05634380383319883,0.07041177683949892,0.02862172156397772]}],                        {\"legend\":{\"bgcolor\":\"#F5F6F9\",\"font\":{\"color\":\"#4D5663\"}},\"paper_bgcolor\":\"#F5F6F9\",\"plot_bgcolor\":\"#F5F6F9\",\"template\":{\"data\":{\"bar\":[{\"error_x\":{\"color\":\"#2a3f5f\"},\"error_y\":{\"color\":\"#2a3f5f\"},\"marker\":{\"line\":{\"color\":\"white\",\"width\":0.5},\"pattern\":{\"fillmode\":\"overlay\",\"size\":10,\"solidity\":0.2}},\"type\":\"bar\"}],\"barpolar\":[{\"marker\":{\"line\":{\"color\":\"white\",\"width\":0.5},\"pattern\":{\"fillmode\":\"overlay\",\"size\":10,\"solidity\":0.2}},\"type\":\"barpolar\"}],\"carpet\":[{\"aaxis\":{\"endlinecolor\":\"#2a3f5f\",\"gridcolor\":\"#C8D4E3\",\"linecolor\":\"#C8D4E3\",\"minorgridcolor\":\"#C8D4E3\",\"startlinecolor\":\"#2a3f5f\"},\"baxis\":{\"endlinecolor\":\"#2a3f5f\",\"gridcolor\":\"#C8D4E3\",\"linecolor\":\"#C8D4E3\",\"minorgridcolor\":\"#C8D4E3\",\"startlinecolor\":\"#2a3f5f\"},\"type\":\"carpet\"}],\"choropleth\":[{\"colorbar\":{\"outlinewidth\":0,\"ticks\":\"\"},\"type\":\"choropleth\"}],\"contour\":[{\"colorbar\":{\"outlinewidth\":0,\"ticks\":\"\"},\"colorscale\":[[0.0,\"#0d0887\"],[0.1111111111111111,\"#46039f\"],[0.2222222222222222,\"#7201a8\"],[0.3333333333333333,\"#9c179e\"],[0.4444444444444444,\"#bd3786\"],[0.5555555555555556,\"#d8576b\"],[0.6666666666666666,\"#ed7953\"],[0.7777777777777778,\"#fb9f3a\"],[0.8888888888888888,\"#fdca26\"],[1.0,\"#f0f921\"]],\"type\":\"contour\"}],\"contourcarpet\":[{\"colorbar\":{\"outlinewidth\":0,\"ticks\":\"\"},\"type\":\"contourcarpet\"}],\"heatmap\":[{\"colorbar\":{\"outlinewidth\":0,\"ticks\":\"\"},\"colorscale\":[[0.0,\"#0d0887\"],[0.1111111111111111,\"#46039f\"],[0.2222222222222222,\"#7201a8\"],[0.3333333333333333,\"#9c179e\"],[0.4444444444444444,\"#bd3786\"],[0.5555555555555556,\"#d8576b\"],[0.6666666666666666,\"#ed7953\"],[0.7777777777777778,\"#fb9f3a\"],[0.8888888888888888,\"#fdca26\"],[1.0,\"#f0f921\"]],\"type\":\"heatmap\"}],\"heatmapgl\":[{\"colorbar\":{\"outlinewidth\":0,\"ticks\":\"\"},\"colorscale\":[[0.0,\"#0d0887\"],[0.1111111111111111,\"#46039f\"],[0.2222222222222222,\"#7201a8\"],[0.3333333333333333,\"#9c179e\"],[0.4444444444444444,\"#bd3786\"],[0.5555555555555556,\"#d8576b\"],[0.6666666666666666,\"#ed7953\"],[0.7777777777777778,\"#fb9f3a\"],[0.8888888888888888,\"#fdca26\"],[1.0,\"#f0f921\"]],\"type\":\"heatmapgl\"}],\"histogram\":[{\"marker\":{\"pattern\":{\"fillmode\":\"overlay\",\"size\":10,\"solidity\":0.2}},\"type\":\"histogram\"}],\"histogram2d\":[{\"colorbar\":{\"outlinewidth\":0,\"ticks\":\"\"},\"colorscale\":[[0.0,\"#0d0887\"],[0.1111111111111111,\"#46039f\"],[0.2222222222222222,\"#7201a8\"],[0.3333333333333333,\"#9c179e\"],[0.4444444444444444,\"#bd3786\"],[0.5555555555555556,\"#d8576b\"],[0.6666666666666666,\"#ed7953\"],[0.7777777777777778,\"#fb9f3a\"],[0.8888888888888888,\"#fdca26\"],[1.0,\"#f0f921\"]],\"type\":\"histogram2d\"}],\"histogram2dcontour\":[{\"colorbar\":{\"outlinewidth\":0,\"ticks\":\"\"},\"colorscale\":[[0.0,\"#0d0887\"],[0.1111111111111111,\"#46039f\"],[0.2222222222222222,\"#7201a8\"],[0.3333333333333333,\"#9c179e\"],[0.4444444444444444,\"#bd3786\"],[0.5555555555555556,\"#d8576b\"],[0.6666666666666666,\"#ed7953\"],[0.7777777777777778,\"#fb9f3a\"],[0.8888888888888888,\"#fdca26\"],[1.0,\"#f0f921\"]],\"type\":\"histogram2dcontour\"}],\"mesh3d\":[{\"colorbar\":{\"outlinewidth\":0,\"ticks\":\"\"},\"type\":\"mesh3d\"}],\"parcoords\":[{\"line\":{\"colorbar\":{\"outlinewidth\":0,\"ticks\":\"\"}},\"type\":\"parcoords\"}],\"pie\":[{\"automargin\":true,\"type\":\"pie\"}],\"scatter\":[{\"marker\":{\"colorbar\":{\"outlinewidth\":0,\"ticks\":\"\"}},\"type\":\"scatter\"}],\"scatter3d\":[{\"line\":{\"colorbar\":{\"outlinewidth\":0,\"ticks\":\"\"}},\"marker\":{\"colorbar\":{\"outlinewidth\":0,\"ticks\":\"\"}},\"type\":\"scatter3d\"}],\"scattercarpet\":[{\"marker\":{\"colorbar\":{\"outlinewidth\":0,\"ticks\":\"\"}},\"type\":\"scattercarpet\"}],\"scattergeo\":[{\"marker\":{\"colorbar\":{\"outlinewidth\":0,\"ticks\":\"\"}},\"type\":\"scattergeo\"}],\"scattergl\":[{\"marker\":{\"colorbar\":{\"outlinewidth\":0,\"ticks\":\"\"}},\"type\":\"scattergl\"}],\"scattermapbox\":[{\"marker\":{\"colorbar\":{\"outlinewidth\":0,\"ticks\":\"\"}},\"type\":\"scattermapbox\"}],\"scatterpolar\":[{\"marker\":{\"colorbar\":{\"outlinewidth\":0,\"ticks\":\"\"}},\"type\":\"scatterpolar\"}],\"scatterpolargl\":[{\"marker\":{\"colorbar\":{\"outlinewidth\":0,\"ticks\":\"\"}},\"type\":\"scatterpolargl\"}],\"scatterternary\":[{\"marker\":{\"colorbar\":{\"outlinewidth\":0,\"ticks\":\"\"}},\"type\":\"scatterternary\"}],\"surface\":[{\"colorbar\":{\"outlinewidth\":0,\"ticks\":\"\"},\"colorscale\":[[0.0,\"#0d0887\"],[0.1111111111111111,\"#46039f\"],[0.2222222222222222,\"#7201a8\"],[0.3333333333333333,\"#9c179e\"],[0.4444444444444444,\"#bd3786\"],[0.5555555555555556,\"#d8576b\"],[0.6666666666666666,\"#ed7953\"],[0.7777777777777778,\"#fb9f3a\"],[0.8888888888888888,\"#fdca26\"],[1.0,\"#f0f921\"]],\"type\":\"surface\"}],\"table\":[{\"cells\":{\"fill\":{\"color\":\"#EBF0F8\"},\"line\":{\"color\":\"white\"}},\"header\":{\"fill\":{\"color\":\"#C8D4E3\"},\"line\":{\"color\":\"white\"}},\"type\":\"table\"}]},\"layout\":{\"annotationdefaults\":{\"arrowcolor\":\"#2a3f5f\",\"arrowhead\":0,\"arrowwidth\":1},\"autotypenumbers\":\"strict\",\"coloraxis\":{\"colorbar\":{\"outlinewidth\":0,\"ticks\":\"\"}},\"colorscale\":{\"diverging\":[[0,\"#8e0152\"],[0.1,\"#c51b7d\"],[0.2,\"#de77ae\"],[0.3,\"#f1b6da\"],[0.4,\"#fde0ef\"],[0.5,\"#f7f7f7\"],[0.6,\"#e6f5d0\"],[0.7,\"#b8e186\"],[0.8,\"#7fbc41\"],[0.9,\"#4d9221\"],[1,\"#276419\"]],\"sequential\":[[0.0,\"#0d0887\"],[0.1111111111111111,\"#46039f\"],[0.2222222222222222,\"#7201a8\"],[0.3333333333333333,\"#9c179e\"],[0.4444444444444444,\"#bd3786\"],[0.5555555555555556,\"#d8576b\"],[0.6666666666666666,\"#ed7953\"],[0.7777777777777778,\"#fb9f3a\"],[0.8888888888888888,\"#fdca26\"],[1.0,\"#f0f921\"]],\"sequentialminus\":[[0.0,\"#0d0887\"],[0.1111111111111111,\"#46039f\"],[0.2222222222222222,\"#7201a8\"],[0.3333333333333333,\"#9c179e\"],[0.4444444444444444,\"#bd3786\"],[0.5555555555555556,\"#d8576b\"],[0.6666666666666666,\"#ed7953\"],[0.7777777777777778,\"#fb9f3a\"],[0.8888888888888888,\"#fdca26\"],[1.0,\"#f0f921\"]]},\"colorway\":[\"#636efa\",\"#EF553B\",\"#00cc96\",\"#ab63fa\",\"#FFA15A\",\"#19d3f3\",\"#FF6692\",\"#B6E880\",\"#FF97FF\",\"#FECB52\"],\"font\":{\"color\":\"#2a3f5f\"},\"geo\":{\"bgcolor\":\"white\",\"lakecolor\":\"white\",\"landcolor\":\"white\",\"showlakes\":true,\"showland\":true,\"subunitcolor\":\"#C8D4E3\"},\"hoverlabel\":{\"align\":\"left\"},\"hovermode\":\"closest\",\"mapbox\":{\"style\":\"light\"},\"paper_bgcolor\":\"white\",\"plot_bgcolor\":\"white\",\"polar\":{\"angularaxis\":{\"gridcolor\":\"#EBF0F8\",\"linecolor\":\"#EBF0F8\",\"ticks\":\"\"},\"bgcolor\":\"white\",\"radialaxis\":{\"gridcolor\":\"#EBF0F8\",\"linecolor\":\"#EBF0F8\",\"ticks\":\"\"}},\"scene\":{\"xaxis\":{\"backgroundcolor\":\"white\",\"gridcolor\":\"#DFE8F3\",\"gridwidth\":2,\"linecolor\":\"#EBF0F8\",\"showbackground\":true,\"ticks\":\"\",\"zerolinecolor\":\"#EBF0F8\"},\"yaxis\":{\"backgroundcolor\":\"white\",\"gridcolor\":\"#DFE8F3\",\"gridwidth\":2,\"linecolor\":\"#EBF0F8\",\"showbackground\":true,\"ticks\":\"\",\"zerolinecolor\":\"#EBF0F8\"},\"zaxis\":{\"backgroundcolor\":\"white\",\"gridcolor\":\"#DFE8F3\",\"gridwidth\":2,\"linecolor\":\"#EBF0F8\",\"showbackground\":true,\"ticks\":\"\",\"zerolinecolor\":\"#EBF0F8\"}},\"shapedefaults\":{\"line\":{\"color\":\"#2a3f5f\"}},\"ternary\":{\"aaxis\":{\"gridcolor\":\"#DFE8F3\",\"linecolor\":\"#A2B1C6\",\"ticks\":\"\"},\"baxis\":{\"gridcolor\":\"#DFE8F3\",\"linecolor\":\"#A2B1C6\",\"ticks\":\"\"},\"bgcolor\":\"white\",\"caxis\":{\"gridcolor\":\"#DFE8F3\",\"linecolor\":\"#A2B1C6\",\"ticks\":\"\"}},\"title\":{\"x\":0.05},\"xaxis\":{\"automargin\":true,\"gridcolor\":\"#EBF0F8\",\"linecolor\":\"#EBF0F8\",\"ticks\":\"\",\"title\":{\"standoff\":15},\"zerolinecolor\":\"#EBF0F8\",\"zerolinewidth\":2},\"yaxis\":{\"automargin\":true,\"gridcolor\":\"#EBF0F8\",\"linecolor\":\"#EBF0F8\",\"ticks\":\"\",\"title\":{\"standoff\":15},\"zerolinecolor\":\"#EBF0F8\",\"zerolinewidth\":2}}},\"title\":{\"font\":{\"color\":\"#4D5663\"},\"text\":\"Max, Min, Mean, and standard deviation <br>For R-Squared values for each model\"},\"xaxis\":{\"gridcolor\":\"#E1E5ED\",\"showgrid\":true,\"tickfont\":{\"color\":\"#4D5663\"},\"title\":{\"font\":{\"color\":\"#4D5663\"},\"text\":\"\"},\"zerolinecolor\":\"#E1E5ED\"},\"yaxis\":{\"gridcolor\":\"#E1E5ED\",\"showgrid\":true,\"tickfont\":{\"color\":\"#4D5663\"},\"title\":{\"font\":{\"color\":\"#4D5663\"},\"text\":\"\"},\"zerolinecolor\":\"#E1E5ED\"}},                        {\"showLink\": true, \"linkText\": \"Export to plot.ly\", \"plotlyServerURL\": \"https://plot.ly\", \"responsive\": true}                    ).then(function(){\n",
       "                            \n",
       "var gd = document.getElementById('c05c0770-9f64-4a35-8510-477c8272c4f6');\n",
       "var x = new MutationObserver(function (mutations, observer) {{\n",
       "        var display = window.getComputedStyle(gd).display;\n",
       "        if (!display || display === 'none') {{\n",
       "            console.log([gd, 'removed!']);\n",
       "            Plotly.purge(gd);\n",
       "            observer.disconnect();\n",
       "        }}\n",
       "}});\n",
       "\n",
       "// Listen for the removal of the full notebook cells\n",
       "var notebookContainer = gd.closest('#notebook-container');\n",
       "if (notebookContainer) {{\n",
       "    x.observe(notebookContainer, {childList: true});\n",
       "}}\n",
       "\n",
       "// Listen for the clearing of the current output cell\n",
       "var outputEl = gd.closest('.output');\n",
       "if (outputEl) {{\n",
       "    x.observe(outputEl, {childList: true});\n",
       "}}\n",
       "\n",
       "                        })                };                });            </script>        </div>"
      ]
     },
     "metadata": {},
     "output_type": "display_data"
    },
    {
     "data": {
      "application/vnd.plotly.v1+json": {
       "config": {
        "linkText": "Export to plot.ly",
        "plotlyServerURL": "https://plot.ly",
        "showLink": true
       },
       "data": [
        {
         "boxpoints": false,
         "line": {
          "width": 1.3
         },
         "marker": {
          "color": "rgba(255, 153, 51, 1.0)"
         },
         "name": "Lasso",
         "orientation": "v",
         "type": "box",
         "y": [
          0.9177099769554333,
          0.8682616190850772,
          0.8909911876078881,
          0.9133712036508529,
          0.7553578803135976
         ]
        },
        {
         "boxpoints": false,
         "line": {
          "width": 1.3
         },
         "marker": {
          "color": "rgba(55, 128, 191, 1.0)"
         },
         "name": "Elastic Net",
         "orientation": "v",
         "type": "box",
         "y": [
          0.9173057892820276,
          0.8696083006212474,
          0.8901535269517169,
          0.9133390833434604,
          0.7563183924837327
         ]
        },
        {
         "boxpoints": false,
         "line": {
          "width": 1.3
         },
         "marker": {
          "color": "rgba(50, 171, 96, 1.0)"
         },
         "name": "Gradient Boosting",
         "orientation": "v",
         "type": "box",
         "y": [
          0.9124774388819656,
          0.8785139692671912,
          0.8989114821903176,
          0.908876270596971,
          0.8804002560182849
         ]
        },
        {
         "boxpoints": false,
         "line": {
          "width": 1.3
         },
         "marker": {
          "color": "rgba(128, 0, 128, 1.0)"
         },
         "name": "Bayesian Ridge",
         "orientation": "v",
         "type": "box",
         "y": [
          0.9007056115212548,
          0.8672652208707147,
          0.887169070333963,
          0.8958777898611936,
          0.766654468554757
         ]
        },
        {
         "boxpoints": false,
         "line": {
          "width": 1.3
         },
         "marker": {
          "color": "rgba(219, 64, 82, 1.0)"
         },
         "name": "Kernel Ridge",
         "orientation": "v",
         "type": "box",
         "y": [
          0.8932778956939947,
          0.8590108729942636,
          0.8656358873679877,
          0.899379988896037,
          0.7438816166873623
         ]
        },
        {
         "boxpoints": false,
         "line": {
          "width": 1.3
         },
         "marker": {
          "color": "rgba(0, 128, 128, 1.0)"
         },
         "name": "Lasso Lars Ic",
         "orientation": "v",
         "type": "box",
         "y": [
          0.8930673975805845,
          0.8345073710441964,
          0.8604219272581036,
          0.8765092672736858,
          0.6968516908938284
         ]
        },
        {
         "boxpoints": false,
         "line": {
          "width": 1.3
         },
         "marker": {
          "color": "rgba(255, 255, 51, 1.0)"
         },
         "name": "Xgboost",
         "orientation": "v",
         "type": "box",
         "y": [
          0.8861076833006661,
          0.8684055835293402,
          0.8622565020563677,
          0.8669877164370323,
          0.8749654244517059
         ]
        },
        {
         "boxpoints": false,
         "line": {
          "width": 1.3
         },
         "marker": {
          "color": "rgba(128, 128, 0, 1.0)"
         },
         "name": "Random Forest",
         "orientation": "v",
         "type": "box",
         "y": [
          0.8791998165968249,
          0.8502274972165139,
          0.8730887358309601,
          0.8763491197913557,
          0.857569836919393
         ]
        },
        {
         "boxpoints": false,
         "line": {
          "width": 1.3
         },
         "marker": {
          "color": "rgba(251, 128, 114, 1.0)"
         },
         "name": "Svm",
         "orientation": "v",
         "type": "box",
         "y": [
          0.7710051544396337,
          0.7765825461714083,
          0.7360000110926989,
          0.712266141928078,
          0.7081495510974523
         ]
        }
       ],
       "layout": {
        "legend": {
         "bgcolor": "#F5F6F9",
         "font": {
          "color": "#4D5663"
         }
        },
        "paper_bgcolor": "#F5F6F9",
        "plot_bgcolor": "#F5F6F9",
        "template": {
         "data": {
          "bar": [
           {
            "error_x": {
             "color": "#2a3f5f"
            },
            "error_y": {
             "color": "#2a3f5f"
            },
            "marker": {
             "line": {
              "color": "white",
              "width": 0.5
             },
             "pattern": {
              "fillmode": "overlay",
              "size": 10,
              "solidity": 0.2
             }
            },
            "type": "bar"
           }
          ],
          "barpolar": [
           {
            "marker": {
             "line": {
              "color": "white",
              "width": 0.5
             },
             "pattern": {
              "fillmode": "overlay",
              "size": 10,
              "solidity": 0.2
             }
            },
            "type": "barpolar"
           }
          ],
          "carpet": [
           {
            "aaxis": {
             "endlinecolor": "#2a3f5f",
             "gridcolor": "#C8D4E3",
             "linecolor": "#C8D4E3",
             "minorgridcolor": "#C8D4E3",
             "startlinecolor": "#2a3f5f"
            },
            "baxis": {
             "endlinecolor": "#2a3f5f",
             "gridcolor": "#C8D4E3",
             "linecolor": "#C8D4E3",
             "minorgridcolor": "#C8D4E3",
             "startlinecolor": "#2a3f5f"
            },
            "type": "carpet"
           }
          ],
          "choropleth": [
           {
            "colorbar": {
             "outlinewidth": 0,
             "ticks": ""
            },
            "type": "choropleth"
           }
          ],
          "contour": [
           {
            "colorbar": {
             "outlinewidth": 0,
             "ticks": ""
            },
            "colorscale": [
             [
              0,
              "#0d0887"
             ],
             [
              0.1111111111111111,
              "#46039f"
             ],
             [
              0.2222222222222222,
              "#7201a8"
             ],
             [
              0.3333333333333333,
              "#9c179e"
             ],
             [
              0.4444444444444444,
              "#bd3786"
             ],
             [
              0.5555555555555556,
              "#d8576b"
             ],
             [
              0.6666666666666666,
              "#ed7953"
             ],
             [
              0.7777777777777778,
              "#fb9f3a"
             ],
             [
              0.8888888888888888,
              "#fdca26"
             ],
             [
              1,
              "#f0f921"
             ]
            ],
            "type": "contour"
           }
          ],
          "contourcarpet": [
           {
            "colorbar": {
             "outlinewidth": 0,
             "ticks": ""
            },
            "type": "contourcarpet"
           }
          ],
          "heatmap": [
           {
            "colorbar": {
             "outlinewidth": 0,
             "ticks": ""
            },
            "colorscale": [
             [
              0,
              "#0d0887"
             ],
             [
              0.1111111111111111,
              "#46039f"
             ],
             [
              0.2222222222222222,
              "#7201a8"
             ],
             [
              0.3333333333333333,
              "#9c179e"
             ],
             [
              0.4444444444444444,
              "#bd3786"
             ],
             [
              0.5555555555555556,
              "#d8576b"
             ],
             [
              0.6666666666666666,
              "#ed7953"
             ],
             [
              0.7777777777777778,
              "#fb9f3a"
             ],
             [
              0.8888888888888888,
              "#fdca26"
             ],
             [
              1,
              "#f0f921"
             ]
            ],
            "type": "heatmap"
           }
          ],
          "heatmapgl": [
           {
            "colorbar": {
             "outlinewidth": 0,
             "ticks": ""
            },
            "colorscale": [
             [
              0,
              "#0d0887"
             ],
             [
              0.1111111111111111,
              "#46039f"
             ],
             [
              0.2222222222222222,
              "#7201a8"
             ],
             [
              0.3333333333333333,
              "#9c179e"
             ],
             [
              0.4444444444444444,
              "#bd3786"
             ],
             [
              0.5555555555555556,
              "#d8576b"
             ],
             [
              0.6666666666666666,
              "#ed7953"
             ],
             [
              0.7777777777777778,
              "#fb9f3a"
             ],
             [
              0.8888888888888888,
              "#fdca26"
             ],
             [
              1,
              "#f0f921"
             ]
            ],
            "type": "heatmapgl"
           }
          ],
          "histogram": [
           {
            "marker": {
             "pattern": {
              "fillmode": "overlay",
              "size": 10,
              "solidity": 0.2
             }
            },
            "type": "histogram"
           }
          ],
          "histogram2d": [
           {
            "colorbar": {
             "outlinewidth": 0,
             "ticks": ""
            },
            "colorscale": [
             [
              0,
              "#0d0887"
             ],
             [
              0.1111111111111111,
              "#46039f"
             ],
             [
              0.2222222222222222,
              "#7201a8"
             ],
             [
              0.3333333333333333,
              "#9c179e"
             ],
             [
              0.4444444444444444,
              "#bd3786"
             ],
             [
              0.5555555555555556,
              "#d8576b"
             ],
             [
              0.6666666666666666,
              "#ed7953"
             ],
             [
              0.7777777777777778,
              "#fb9f3a"
             ],
             [
              0.8888888888888888,
              "#fdca26"
             ],
             [
              1,
              "#f0f921"
             ]
            ],
            "type": "histogram2d"
           }
          ],
          "histogram2dcontour": [
           {
            "colorbar": {
             "outlinewidth": 0,
             "ticks": ""
            },
            "colorscale": [
             [
              0,
              "#0d0887"
             ],
             [
              0.1111111111111111,
              "#46039f"
             ],
             [
              0.2222222222222222,
              "#7201a8"
             ],
             [
              0.3333333333333333,
              "#9c179e"
             ],
             [
              0.4444444444444444,
              "#bd3786"
             ],
             [
              0.5555555555555556,
              "#d8576b"
             ],
             [
              0.6666666666666666,
              "#ed7953"
             ],
             [
              0.7777777777777778,
              "#fb9f3a"
             ],
             [
              0.8888888888888888,
              "#fdca26"
             ],
             [
              1,
              "#f0f921"
             ]
            ],
            "type": "histogram2dcontour"
           }
          ],
          "mesh3d": [
           {
            "colorbar": {
             "outlinewidth": 0,
             "ticks": ""
            },
            "type": "mesh3d"
           }
          ],
          "parcoords": [
           {
            "line": {
             "colorbar": {
              "outlinewidth": 0,
              "ticks": ""
             }
            },
            "type": "parcoords"
           }
          ],
          "pie": [
           {
            "automargin": true,
            "type": "pie"
           }
          ],
          "scatter": [
           {
            "marker": {
             "colorbar": {
              "outlinewidth": 0,
              "ticks": ""
             }
            },
            "type": "scatter"
           }
          ],
          "scatter3d": [
           {
            "line": {
             "colorbar": {
              "outlinewidth": 0,
              "ticks": ""
             }
            },
            "marker": {
             "colorbar": {
              "outlinewidth": 0,
              "ticks": ""
             }
            },
            "type": "scatter3d"
           }
          ],
          "scattercarpet": [
           {
            "marker": {
             "colorbar": {
              "outlinewidth": 0,
              "ticks": ""
             }
            },
            "type": "scattercarpet"
           }
          ],
          "scattergeo": [
           {
            "marker": {
             "colorbar": {
              "outlinewidth": 0,
              "ticks": ""
             }
            },
            "type": "scattergeo"
           }
          ],
          "scattergl": [
           {
            "marker": {
             "colorbar": {
              "outlinewidth": 0,
              "ticks": ""
             }
            },
            "type": "scattergl"
           }
          ],
          "scattermapbox": [
           {
            "marker": {
             "colorbar": {
              "outlinewidth": 0,
              "ticks": ""
             }
            },
            "type": "scattermapbox"
           }
          ],
          "scatterpolar": [
           {
            "marker": {
             "colorbar": {
              "outlinewidth": 0,
              "ticks": ""
             }
            },
            "type": "scatterpolar"
           }
          ],
          "scatterpolargl": [
           {
            "marker": {
             "colorbar": {
              "outlinewidth": 0,
              "ticks": ""
             }
            },
            "type": "scatterpolargl"
           }
          ],
          "scatterternary": [
           {
            "marker": {
             "colorbar": {
              "outlinewidth": 0,
              "ticks": ""
             }
            },
            "type": "scatterternary"
           }
          ],
          "surface": [
           {
            "colorbar": {
             "outlinewidth": 0,
             "ticks": ""
            },
            "colorscale": [
             [
              0,
              "#0d0887"
             ],
             [
              0.1111111111111111,
              "#46039f"
             ],
             [
              0.2222222222222222,
              "#7201a8"
             ],
             [
              0.3333333333333333,
              "#9c179e"
             ],
             [
              0.4444444444444444,
              "#bd3786"
             ],
             [
              0.5555555555555556,
              "#d8576b"
             ],
             [
              0.6666666666666666,
              "#ed7953"
             ],
             [
              0.7777777777777778,
              "#fb9f3a"
             ],
             [
              0.8888888888888888,
              "#fdca26"
             ],
             [
              1,
              "#f0f921"
             ]
            ],
            "type": "surface"
           }
          ],
          "table": [
           {
            "cells": {
             "fill": {
              "color": "#EBF0F8"
             },
             "line": {
              "color": "white"
             }
            },
            "header": {
             "fill": {
              "color": "#C8D4E3"
             },
             "line": {
              "color": "white"
             }
            },
            "type": "table"
           }
          ]
         },
         "layout": {
          "annotationdefaults": {
           "arrowcolor": "#2a3f5f",
           "arrowhead": 0,
           "arrowwidth": 1
          },
          "autotypenumbers": "strict",
          "coloraxis": {
           "colorbar": {
            "outlinewidth": 0,
            "ticks": ""
           }
          },
          "colorscale": {
           "diverging": [
            [
             0,
             "#8e0152"
            ],
            [
             0.1,
             "#c51b7d"
            ],
            [
             0.2,
             "#de77ae"
            ],
            [
             0.3,
             "#f1b6da"
            ],
            [
             0.4,
             "#fde0ef"
            ],
            [
             0.5,
             "#f7f7f7"
            ],
            [
             0.6,
             "#e6f5d0"
            ],
            [
             0.7,
             "#b8e186"
            ],
            [
             0.8,
             "#7fbc41"
            ],
            [
             0.9,
             "#4d9221"
            ],
            [
             1,
             "#276419"
            ]
           ],
           "sequential": [
            [
             0,
             "#0d0887"
            ],
            [
             0.1111111111111111,
             "#46039f"
            ],
            [
             0.2222222222222222,
             "#7201a8"
            ],
            [
             0.3333333333333333,
             "#9c179e"
            ],
            [
             0.4444444444444444,
             "#bd3786"
            ],
            [
             0.5555555555555556,
             "#d8576b"
            ],
            [
             0.6666666666666666,
             "#ed7953"
            ],
            [
             0.7777777777777778,
             "#fb9f3a"
            ],
            [
             0.8888888888888888,
             "#fdca26"
            ],
            [
             1,
             "#f0f921"
            ]
           ],
           "sequentialminus": [
            [
             0,
             "#0d0887"
            ],
            [
             0.1111111111111111,
             "#46039f"
            ],
            [
             0.2222222222222222,
             "#7201a8"
            ],
            [
             0.3333333333333333,
             "#9c179e"
            ],
            [
             0.4444444444444444,
             "#bd3786"
            ],
            [
             0.5555555555555556,
             "#d8576b"
            ],
            [
             0.6666666666666666,
             "#ed7953"
            ],
            [
             0.7777777777777778,
             "#fb9f3a"
            ],
            [
             0.8888888888888888,
             "#fdca26"
            ],
            [
             1,
             "#f0f921"
            ]
           ]
          },
          "colorway": [
           "#636efa",
           "#EF553B",
           "#00cc96",
           "#ab63fa",
           "#FFA15A",
           "#19d3f3",
           "#FF6692",
           "#B6E880",
           "#FF97FF",
           "#FECB52"
          ],
          "font": {
           "color": "#2a3f5f"
          },
          "geo": {
           "bgcolor": "white",
           "lakecolor": "white",
           "landcolor": "white",
           "showlakes": true,
           "showland": true,
           "subunitcolor": "#C8D4E3"
          },
          "hoverlabel": {
           "align": "left"
          },
          "hovermode": "closest",
          "mapbox": {
           "style": "light"
          },
          "paper_bgcolor": "white",
          "plot_bgcolor": "white",
          "polar": {
           "angularaxis": {
            "gridcolor": "#EBF0F8",
            "linecolor": "#EBF0F8",
            "ticks": ""
           },
           "bgcolor": "white",
           "radialaxis": {
            "gridcolor": "#EBF0F8",
            "linecolor": "#EBF0F8",
            "ticks": ""
           }
          },
          "scene": {
           "xaxis": {
            "backgroundcolor": "white",
            "gridcolor": "#DFE8F3",
            "gridwidth": 2,
            "linecolor": "#EBF0F8",
            "showbackground": true,
            "ticks": "",
            "zerolinecolor": "#EBF0F8"
           },
           "yaxis": {
            "backgroundcolor": "white",
            "gridcolor": "#DFE8F3",
            "gridwidth": 2,
            "linecolor": "#EBF0F8",
            "showbackground": true,
            "ticks": "",
            "zerolinecolor": "#EBF0F8"
           },
           "zaxis": {
            "backgroundcolor": "white",
            "gridcolor": "#DFE8F3",
            "gridwidth": 2,
            "linecolor": "#EBF0F8",
            "showbackground": true,
            "ticks": "",
            "zerolinecolor": "#EBF0F8"
           }
          },
          "shapedefaults": {
           "line": {
            "color": "#2a3f5f"
           }
          },
          "ternary": {
           "aaxis": {
            "gridcolor": "#DFE8F3",
            "linecolor": "#A2B1C6",
            "ticks": ""
           },
           "baxis": {
            "gridcolor": "#DFE8F3",
            "linecolor": "#A2B1C6",
            "ticks": ""
           },
           "bgcolor": "white",
           "caxis": {
            "gridcolor": "#DFE8F3",
            "linecolor": "#A2B1C6",
            "ticks": ""
           }
          },
          "title": {
           "x": 0.05
          },
          "xaxis": {
           "automargin": true,
           "gridcolor": "#EBF0F8",
           "linecolor": "#EBF0F8",
           "ticks": "",
           "title": {
            "standoff": 15
           },
           "zerolinecolor": "#EBF0F8",
           "zerolinewidth": 2
          },
          "yaxis": {
           "automargin": true,
           "gridcolor": "#EBF0F8",
           "linecolor": "#EBF0F8",
           "ticks": "",
           "title": {
            "standoff": 15
           },
           "zerolinecolor": "#EBF0F8",
           "zerolinewidth": 2
          }
         }
        },
        "title": {
         "font": {
          "color": "#4D5663"
         },
         "text": "Box plot for the variation of R-Squared for each model"
        },
        "xaxis": {
         "gridcolor": "#E1E5ED",
         "showgrid": true,
         "tickfont": {
          "color": "#4D5663"
         },
         "title": {
          "font": {
           "color": "#4D5663"
          },
          "text": ""
         },
         "zerolinecolor": "#E1E5ED"
        },
        "yaxis": {
         "gridcolor": "#E1E5ED",
         "showgrid": true,
         "tickfont": {
          "color": "#4D5663"
         },
         "title": {
          "font": {
           "color": "#4D5663"
          },
          "text": ""
         },
         "zerolinecolor": "#E1E5ED"
        }
       }
      },
      "text/html": [
       "<div>                            <div id=\"f8f73797-1d41-4717-9215-bce39b879657\" class=\"plotly-graph-div\" style=\"height:525px; width:100%;\"></div>            <script type=\"text/javascript\">                require([\"plotly\"], function(Plotly) {                    window.PLOTLYENV=window.PLOTLYENV || {};\n",
       "                    window.PLOTLYENV.BASE_URL='https://plot.ly';                                    if (document.getElementById(\"f8f73797-1d41-4717-9215-bce39b879657\")) {                    Plotly.newPlot(                        \"f8f73797-1d41-4717-9215-bce39b879657\",                        [{\"boxpoints\":false,\"line\":{\"width\":1.3},\"marker\":{\"color\":\"rgba(255, 153, 51, 1.0)\"},\"name\":\"Lasso\",\"orientation\":\"v\",\"type\":\"box\",\"y\":[0.9177099769554333,0.8682616190850772,0.8909911876078881,0.9133712036508529,0.7553578803135976]},{\"boxpoints\":false,\"line\":{\"width\":1.3},\"marker\":{\"color\":\"rgba(55, 128, 191, 1.0)\"},\"name\":\"Elastic Net\",\"orientation\":\"v\",\"type\":\"box\",\"y\":[0.9173057892820276,0.8696083006212474,0.8901535269517169,0.9133390833434604,0.7563183924837327]},{\"boxpoints\":false,\"line\":{\"width\":1.3},\"marker\":{\"color\":\"rgba(50, 171, 96, 1.0)\"},\"name\":\"Gradient Boosting\",\"orientation\":\"v\",\"type\":\"box\",\"y\":[0.9124774388819656,0.8785139692671912,0.8989114821903176,0.908876270596971,0.8804002560182849]},{\"boxpoints\":false,\"line\":{\"width\":1.3},\"marker\":{\"color\":\"rgba(128, 0, 128, 1.0)\"},\"name\":\"Bayesian Ridge\",\"orientation\":\"v\",\"type\":\"box\",\"y\":[0.9007056115212548,0.8672652208707147,0.887169070333963,0.8958777898611936,0.766654468554757]},{\"boxpoints\":false,\"line\":{\"width\":1.3},\"marker\":{\"color\":\"rgba(219, 64, 82, 1.0)\"},\"name\":\"Kernel Ridge\",\"orientation\":\"v\",\"type\":\"box\",\"y\":[0.8932778956939947,0.8590108729942636,0.8656358873679877,0.899379988896037,0.7438816166873623]},{\"boxpoints\":false,\"line\":{\"width\":1.3},\"marker\":{\"color\":\"rgba(0, 128, 128, 1.0)\"},\"name\":\"Lasso Lars Ic\",\"orientation\":\"v\",\"type\":\"box\",\"y\":[0.8930673975805845,0.8345073710441964,0.8604219272581036,0.8765092672736858,0.6968516908938284]},{\"boxpoints\":false,\"line\":{\"width\":1.3},\"marker\":{\"color\":\"rgba(255, 255, 51, 1.0)\"},\"name\":\"Xgboost\",\"orientation\":\"v\",\"type\":\"box\",\"y\":[0.8861076833006661,0.8684055835293402,0.8622565020563677,0.8669877164370323,0.8749654244517059]},{\"boxpoints\":false,\"line\":{\"width\":1.3},\"marker\":{\"color\":\"rgba(128, 128, 0, 1.0)\"},\"name\":\"Random Forest\",\"orientation\":\"v\",\"type\":\"box\",\"y\":[0.8791998165968249,0.8502274972165139,0.8730887358309601,0.8763491197913557,0.857569836919393]},{\"boxpoints\":false,\"line\":{\"width\":1.3},\"marker\":{\"color\":\"rgba(251, 128, 114, 1.0)\"},\"name\":\"Svm\",\"orientation\":\"v\",\"type\":\"box\",\"y\":[0.7710051544396337,0.7765825461714083,0.7360000110926989,0.712266141928078,0.7081495510974523]}],                        {\"legend\":{\"bgcolor\":\"#F5F6F9\",\"font\":{\"color\":\"#4D5663\"}},\"paper_bgcolor\":\"#F5F6F9\",\"plot_bgcolor\":\"#F5F6F9\",\"template\":{\"data\":{\"bar\":[{\"error_x\":{\"color\":\"#2a3f5f\"},\"error_y\":{\"color\":\"#2a3f5f\"},\"marker\":{\"line\":{\"color\":\"white\",\"width\":0.5},\"pattern\":{\"fillmode\":\"overlay\",\"size\":10,\"solidity\":0.2}},\"type\":\"bar\"}],\"barpolar\":[{\"marker\":{\"line\":{\"color\":\"white\",\"width\":0.5},\"pattern\":{\"fillmode\":\"overlay\",\"size\":10,\"solidity\":0.2}},\"type\":\"barpolar\"}],\"carpet\":[{\"aaxis\":{\"endlinecolor\":\"#2a3f5f\",\"gridcolor\":\"#C8D4E3\",\"linecolor\":\"#C8D4E3\",\"minorgridcolor\":\"#C8D4E3\",\"startlinecolor\":\"#2a3f5f\"},\"baxis\":{\"endlinecolor\":\"#2a3f5f\",\"gridcolor\":\"#C8D4E3\",\"linecolor\":\"#C8D4E3\",\"minorgridcolor\":\"#C8D4E3\",\"startlinecolor\":\"#2a3f5f\"},\"type\":\"carpet\"}],\"choropleth\":[{\"colorbar\":{\"outlinewidth\":0,\"ticks\":\"\"},\"type\":\"choropleth\"}],\"contour\":[{\"colorbar\":{\"outlinewidth\":0,\"ticks\":\"\"},\"colorscale\":[[0.0,\"#0d0887\"],[0.1111111111111111,\"#46039f\"],[0.2222222222222222,\"#7201a8\"],[0.3333333333333333,\"#9c179e\"],[0.4444444444444444,\"#bd3786\"],[0.5555555555555556,\"#d8576b\"],[0.6666666666666666,\"#ed7953\"],[0.7777777777777778,\"#fb9f3a\"],[0.8888888888888888,\"#fdca26\"],[1.0,\"#f0f921\"]],\"type\":\"contour\"}],\"contourcarpet\":[{\"colorbar\":{\"outlinewidth\":0,\"ticks\":\"\"},\"type\":\"contourcarpet\"}],\"heatmap\":[{\"colorbar\":{\"outlinewidth\":0,\"ticks\":\"\"},\"colorscale\":[[0.0,\"#0d0887\"],[0.1111111111111111,\"#46039f\"],[0.2222222222222222,\"#7201a8\"],[0.3333333333333333,\"#9c179e\"],[0.4444444444444444,\"#bd3786\"],[0.5555555555555556,\"#d8576b\"],[0.6666666666666666,\"#ed7953\"],[0.7777777777777778,\"#fb9f3a\"],[0.8888888888888888,\"#fdca26\"],[1.0,\"#f0f921\"]],\"type\":\"heatmap\"}],\"heatmapgl\":[{\"colorbar\":{\"outlinewidth\":0,\"ticks\":\"\"},\"colorscale\":[[0.0,\"#0d0887\"],[0.1111111111111111,\"#46039f\"],[0.2222222222222222,\"#7201a8\"],[0.3333333333333333,\"#9c179e\"],[0.4444444444444444,\"#bd3786\"],[0.5555555555555556,\"#d8576b\"],[0.6666666666666666,\"#ed7953\"],[0.7777777777777778,\"#fb9f3a\"],[0.8888888888888888,\"#fdca26\"],[1.0,\"#f0f921\"]],\"type\":\"heatmapgl\"}],\"histogram\":[{\"marker\":{\"pattern\":{\"fillmode\":\"overlay\",\"size\":10,\"solidity\":0.2}},\"type\":\"histogram\"}],\"histogram2d\":[{\"colorbar\":{\"outlinewidth\":0,\"ticks\":\"\"},\"colorscale\":[[0.0,\"#0d0887\"],[0.1111111111111111,\"#46039f\"],[0.2222222222222222,\"#7201a8\"],[0.3333333333333333,\"#9c179e\"],[0.4444444444444444,\"#bd3786\"],[0.5555555555555556,\"#d8576b\"],[0.6666666666666666,\"#ed7953\"],[0.7777777777777778,\"#fb9f3a\"],[0.8888888888888888,\"#fdca26\"],[1.0,\"#f0f921\"]],\"type\":\"histogram2d\"}],\"histogram2dcontour\":[{\"colorbar\":{\"outlinewidth\":0,\"ticks\":\"\"},\"colorscale\":[[0.0,\"#0d0887\"],[0.1111111111111111,\"#46039f\"],[0.2222222222222222,\"#7201a8\"],[0.3333333333333333,\"#9c179e\"],[0.4444444444444444,\"#bd3786\"],[0.5555555555555556,\"#d8576b\"],[0.6666666666666666,\"#ed7953\"],[0.7777777777777778,\"#fb9f3a\"],[0.8888888888888888,\"#fdca26\"],[1.0,\"#f0f921\"]],\"type\":\"histogram2dcontour\"}],\"mesh3d\":[{\"colorbar\":{\"outlinewidth\":0,\"ticks\":\"\"},\"type\":\"mesh3d\"}],\"parcoords\":[{\"line\":{\"colorbar\":{\"outlinewidth\":0,\"ticks\":\"\"}},\"type\":\"parcoords\"}],\"pie\":[{\"automargin\":true,\"type\":\"pie\"}],\"scatter\":[{\"marker\":{\"colorbar\":{\"outlinewidth\":0,\"ticks\":\"\"}},\"type\":\"scatter\"}],\"scatter3d\":[{\"line\":{\"colorbar\":{\"outlinewidth\":0,\"ticks\":\"\"}},\"marker\":{\"colorbar\":{\"outlinewidth\":0,\"ticks\":\"\"}},\"type\":\"scatter3d\"}],\"scattercarpet\":[{\"marker\":{\"colorbar\":{\"outlinewidth\":0,\"ticks\":\"\"}},\"type\":\"scattercarpet\"}],\"scattergeo\":[{\"marker\":{\"colorbar\":{\"outlinewidth\":0,\"ticks\":\"\"}},\"type\":\"scattergeo\"}],\"scattergl\":[{\"marker\":{\"colorbar\":{\"outlinewidth\":0,\"ticks\":\"\"}},\"type\":\"scattergl\"}],\"scattermapbox\":[{\"marker\":{\"colorbar\":{\"outlinewidth\":0,\"ticks\":\"\"}},\"type\":\"scattermapbox\"}],\"scatterpolar\":[{\"marker\":{\"colorbar\":{\"outlinewidth\":0,\"ticks\":\"\"}},\"type\":\"scatterpolar\"}],\"scatterpolargl\":[{\"marker\":{\"colorbar\":{\"outlinewidth\":0,\"ticks\":\"\"}},\"type\":\"scatterpolargl\"}],\"scatterternary\":[{\"marker\":{\"colorbar\":{\"outlinewidth\":0,\"ticks\":\"\"}},\"type\":\"scatterternary\"}],\"surface\":[{\"colorbar\":{\"outlinewidth\":0,\"ticks\":\"\"},\"colorscale\":[[0.0,\"#0d0887\"],[0.1111111111111111,\"#46039f\"],[0.2222222222222222,\"#7201a8\"],[0.3333333333333333,\"#9c179e\"],[0.4444444444444444,\"#bd3786\"],[0.5555555555555556,\"#d8576b\"],[0.6666666666666666,\"#ed7953\"],[0.7777777777777778,\"#fb9f3a\"],[0.8888888888888888,\"#fdca26\"],[1.0,\"#f0f921\"]],\"type\":\"surface\"}],\"table\":[{\"cells\":{\"fill\":{\"color\":\"#EBF0F8\"},\"line\":{\"color\":\"white\"}},\"header\":{\"fill\":{\"color\":\"#C8D4E3\"},\"line\":{\"color\":\"white\"}},\"type\":\"table\"}]},\"layout\":{\"annotationdefaults\":{\"arrowcolor\":\"#2a3f5f\",\"arrowhead\":0,\"arrowwidth\":1},\"autotypenumbers\":\"strict\",\"coloraxis\":{\"colorbar\":{\"outlinewidth\":0,\"ticks\":\"\"}},\"colorscale\":{\"diverging\":[[0,\"#8e0152\"],[0.1,\"#c51b7d\"],[0.2,\"#de77ae\"],[0.3,\"#f1b6da\"],[0.4,\"#fde0ef\"],[0.5,\"#f7f7f7\"],[0.6,\"#e6f5d0\"],[0.7,\"#b8e186\"],[0.8,\"#7fbc41\"],[0.9,\"#4d9221\"],[1,\"#276419\"]],\"sequential\":[[0.0,\"#0d0887\"],[0.1111111111111111,\"#46039f\"],[0.2222222222222222,\"#7201a8\"],[0.3333333333333333,\"#9c179e\"],[0.4444444444444444,\"#bd3786\"],[0.5555555555555556,\"#d8576b\"],[0.6666666666666666,\"#ed7953\"],[0.7777777777777778,\"#fb9f3a\"],[0.8888888888888888,\"#fdca26\"],[1.0,\"#f0f921\"]],\"sequentialminus\":[[0.0,\"#0d0887\"],[0.1111111111111111,\"#46039f\"],[0.2222222222222222,\"#7201a8\"],[0.3333333333333333,\"#9c179e\"],[0.4444444444444444,\"#bd3786\"],[0.5555555555555556,\"#d8576b\"],[0.6666666666666666,\"#ed7953\"],[0.7777777777777778,\"#fb9f3a\"],[0.8888888888888888,\"#fdca26\"],[1.0,\"#f0f921\"]]},\"colorway\":[\"#636efa\",\"#EF553B\",\"#00cc96\",\"#ab63fa\",\"#FFA15A\",\"#19d3f3\",\"#FF6692\",\"#B6E880\",\"#FF97FF\",\"#FECB52\"],\"font\":{\"color\":\"#2a3f5f\"},\"geo\":{\"bgcolor\":\"white\",\"lakecolor\":\"white\",\"landcolor\":\"white\",\"showlakes\":true,\"showland\":true,\"subunitcolor\":\"#C8D4E3\"},\"hoverlabel\":{\"align\":\"left\"},\"hovermode\":\"closest\",\"mapbox\":{\"style\":\"light\"},\"paper_bgcolor\":\"white\",\"plot_bgcolor\":\"white\",\"polar\":{\"angularaxis\":{\"gridcolor\":\"#EBF0F8\",\"linecolor\":\"#EBF0F8\",\"ticks\":\"\"},\"bgcolor\":\"white\",\"radialaxis\":{\"gridcolor\":\"#EBF0F8\",\"linecolor\":\"#EBF0F8\",\"ticks\":\"\"}},\"scene\":{\"xaxis\":{\"backgroundcolor\":\"white\",\"gridcolor\":\"#DFE8F3\",\"gridwidth\":2,\"linecolor\":\"#EBF0F8\",\"showbackground\":true,\"ticks\":\"\",\"zerolinecolor\":\"#EBF0F8\"},\"yaxis\":{\"backgroundcolor\":\"white\",\"gridcolor\":\"#DFE8F3\",\"gridwidth\":2,\"linecolor\":\"#EBF0F8\",\"showbackground\":true,\"ticks\":\"\",\"zerolinecolor\":\"#EBF0F8\"},\"zaxis\":{\"backgroundcolor\":\"white\",\"gridcolor\":\"#DFE8F3\",\"gridwidth\":2,\"linecolor\":\"#EBF0F8\",\"showbackground\":true,\"ticks\":\"\",\"zerolinecolor\":\"#EBF0F8\"}},\"shapedefaults\":{\"line\":{\"color\":\"#2a3f5f\"}},\"ternary\":{\"aaxis\":{\"gridcolor\":\"#DFE8F3\",\"linecolor\":\"#A2B1C6\",\"ticks\":\"\"},\"baxis\":{\"gridcolor\":\"#DFE8F3\",\"linecolor\":\"#A2B1C6\",\"ticks\":\"\"},\"bgcolor\":\"white\",\"caxis\":{\"gridcolor\":\"#DFE8F3\",\"linecolor\":\"#A2B1C6\",\"ticks\":\"\"}},\"title\":{\"x\":0.05},\"xaxis\":{\"automargin\":true,\"gridcolor\":\"#EBF0F8\",\"linecolor\":\"#EBF0F8\",\"ticks\":\"\",\"title\":{\"standoff\":15},\"zerolinecolor\":\"#EBF0F8\",\"zerolinewidth\":2},\"yaxis\":{\"automargin\":true,\"gridcolor\":\"#EBF0F8\",\"linecolor\":\"#EBF0F8\",\"ticks\":\"\",\"title\":{\"standoff\":15},\"zerolinecolor\":\"#EBF0F8\",\"zerolinewidth\":2}}},\"title\":{\"font\":{\"color\":\"#4D5663\"},\"text\":\"Box plot for the variation of R-Squared for each model\"},\"xaxis\":{\"gridcolor\":\"#E1E5ED\",\"showgrid\":true,\"tickfont\":{\"color\":\"#4D5663\"},\"title\":{\"font\":{\"color\":\"#4D5663\"},\"text\":\"\"},\"zerolinecolor\":\"#E1E5ED\"},\"yaxis\":{\"gridcolor\":\"#E1E5ED\",\"showgrid\":true,\"tickfont\":{\"color\":\"#4D5663\"},\"title\":{\"font\":{\"color\":\"#4D5663\"},\"text\":\"\"},\"zerolinecolor\":\"#E1E5ED\"}},                        {\"showLink\": true, \"linkText\": \"Export to plot.ly\", \"plotlyServerURL\": \"https://plot.ly\", \"responsive\": true}                    ).then(function(){\n",
       "                            \n",
       "var gd = document.getElementById('f8f73797-1d41-4717-9215-bce39b879657');\n",
       "var x = new MutationObserver(function (mutations, observer) {{\n",
       "        var display = window.getComputedStyle(gd).display;\n",
       "        if (!display || display === 'none') {{\n",
       "            console.log([gd, 'removed!']);\n",
       "            Plotly.purge(gd);\n",
       "            observer.disconnect();\n",
       "        }}\n",
       "}});\n",
       "\n",
       "// Listen for the removal of the full notebook cells\n",
       "var notebookContainer = gd.closest('#notebook-container');\n",
       "if (notebookContainer) {{\n",
       "    x.observe(notebookContainer, {childList: true});\n",
       "}}\n",
       "\n",
       "// Listen for the clearing of the current output cell\n",
       "var outputEl = gd.closest('.output');\n",
       "if (outputEl) {{\n",
       "    x.observe(outputEl, {childList: true});\n",
       "}}\n",
       "\n",
       "                        })                };                });            </script>        </div>"
      ]
     },
     "metadata": {},
     "output_type": "display_data"
    },
    {
     "data": {
      "application/vnd.plotly.v1+json": {
       "config": {
        "linkText": "Export to plot.ly",
        "plotlyServerURL": "https://plot.ly",
        "showLink": true
       },
       "data": [
        {
         "marker": {
          "color": "rgba(255, 153, 51, 0.6)",
          "line": {
           "color": "rgba(255, 153, 51, 1.0)",
           "width": 1
          }
         },
         "name": "Max",
         "orientation": "v",
         "text": "",
         "type": "bar",
         "x": [
          "Gradient Boosting",
          "Elastic Net",
          "Lasso",
          "Xgboost",
          "Bayesian Ridge",
          "Random Forest",
          "Kernel Ridge",
          "Lasso Lars Ic",
          "Svm"
         ],
         "y": [
          0.1481748860612534,
          0.1930634463111924,
          0.19344356817467723,
          0.15421625834600425,
          0.18892456163332028,
          0.1668883222032143,
          0.19792882877977855,
          0.2153358078571463,
          0.21128509532509426
         ]
        },
        {
         "marker": {
          "color": "rgba(55, 128, 191, 0.6)",
          "line": {
           "color": "rgba(55, 128, 191, 1.0)",
           "width": 1
          }
         },
         "name": "Mean",
         "orientation": "v",
         "text": "",
         "type": "bar",
         "x": [
          "Gradient Boosting",
          "Elastic Net",
          "Lasso",
          "Xgboost",
          "Bayesian Ridge",
          "Random Forest",
          "Kernel Ridge",
          "Lasso Lars Ic",
          "Svm"
         ],
         "y": [
          0.12857180831535772,
          0.14109611823633555,
          0.1411680021937301,
          0.1427458527779078,
          0.14519167746062595,
          0.1454897518889086,
          0.15093087591763973,
          0.1602798740023892,
          0.20234562451989593
         ]
        },
        {
         "marker": {
          "color": "rgba(50, 171, 96, 0.6)",
          "line": {
           "color": "rgba(50, 171, 96, 1.0)",
           "width": 1
          }
         },
         "name": "Min",
         "orientation": "v",
         "text": "",
         "type": "bar",
         "x": [
          "Gradient Boosting",
          "Elastic Net",
          "Lasso",
          "Xgboost",
          "Bayesian Ridge",
          "Random Forest",
          "Kernel Ridge",
          "Lasso Lars Ic",
          "Svm"
         ],
         "y": [
          0.11435756490490158,
          0.11115844004236591,
          0.11088645059115453,
          0.13045240910503264,
          0.12180559651027847,
          0.13392988962165472,
          0.12066645437124235,
          0.12640375003648188,
          0.18497700511233536
         ]
        },
        {
         "marker": {
          "color": "rgba(128, 0, 128, 0.6)",
          "line": {
           "color": "rgba(128, 0, 128, 1.0)",
           "width": 1
          }
         },
         "name": "std",
         "orientation": "v",
         "text": "",
         "type": "bar",
         "x": [
          "Gradient Boosting",
          "Elastic Net",
          "Lasso",
          "Xgboost",
          "Bayesian Ridge",
          "Random Forest",
          "Kernel Ridge",
          "Lasso Lars Ic",
          "Svm"
         ],
         "y": [
          0.012826368727659333,
          0.030420084919619443,
          0.030692532546309145,
          0.008997673774418789,
          0.024959073669495166,
          0.0119514302164047,
          0.02759948352465299,
          0.03193474739387368,
          0.009513315555519394
         ]
        }
       ],
       "layout": {
        "legend": {
         "bgcolor": "#F5F6F9",
         "font": {
          "color": "#4D5663"
         }
        },
        "paper_bgcolor": "#F5F6F9",
        "plot_bgcolor": "#F5F6F9",
        "template": {
         "data": {
          "bar": [
           {
            "error_x": {
             "color": "#2a3f5f"
            },
            "error_y": {
             "color": "#2a3f5f"
            },
            "marker": {
             "line": {
              "color": "white",
              "width": 0.5
             },
             "pattern": {
              "fillmode": "overlay",
              "size": 10,
              "solidity": 0.2
             }
            },
            "type": "bar"
           }
          ],
          "barpolar": [
           {
            "marker": {
             "line": {
              "color": "white",
              "width": 0.5
             },
             "pattern": {
              "fillmode": "overlay",
              "size": 10,
              "solidity": 0.2
             }
            },
            "type": "barpolar"
           }
          ],
          "carpet": [
           {
            "aaxis": {
             "endlinecolor": "#2a3f5f",
             "gridcolor": "#C8D4E3",
             "linecolor": "#C8D4E3",
             "minorgridcolor": "#C8D4E3",
             "startlinecolor": "#2a3f5f"
            },
            "baxis": {
             "endlinecolor": "#2a3f5f",
             "gridcolor": "#C8D4E3",
             "linecolor": "#C8D4E3",
             "minorgridcolor": "#C8D4E3",
             "startlinecolor": "#2a3f5f"
            },
            "type": "carpet"
           }
          ],
          "choropleth": [
           {
            "colorbar": {
             "outlinewidth": 0,
             "ticks": ""
            },
            "type": "choropleth"
           }
          ],
          "contour": [
           {
            "colorbar": {
             "outlinewidth": 0,
             "ticks": ""
            },
            "colorscale": [
             [
              0,
              "#0d0887"
             ],
             [
              0.1111111111111111,
              "#46039f"
             ],
             [
              0.2222222222222222,
              "#7201a8"
             ],
             [
              0.3333333333333333,
              "#9c179e"
             ],
             [
              0.4444444444444444,
              "#bd3786"
             ],
             [
              0.5555555555555556,
              "#d8576b"
             ],
             [
              0.6666666666666666,
              "#ed7953"
             ],
             [
              0.7777777777777778,
              "#fb9f3a"
             ],
             [
              0.8888888888888888,
              "#fdca26"
             ],
             [
              1,
              "#f0f921"
             ]
            ],
            "type": "contour"
           }
          ],
          "contourcarpet": [
           {
            "colorbar": {
             "outlinewidth": 0,
             "ticks": ""
            },
            "type": "contourcarpet"
           }
          ],
          "heatmap": [
           {
            "colorbar": {
             "outlinewidth": 0,
             "ticks": ""
            },
            "colorscale": [
             [
              0,
              "#0d0887"
             ],
             [
              0.1111111111111111,
              "#46039f"
             ],
             [
              0.2222222222222222,
              "#7201a8"
             ],
             [
              0.3333333333333333,
              "#9c179e"
             ],
             [
              0.4444444444444444,
              "#bd3786"
             ],
             [
              0.5555555555555556,
              "#d8576b"
             ],
             [
              0.6666666666666666,
              "#ed7953"
             ],
             [
              0.7777777777777778,
              "#fb9f3a"
             ],
             [
              0.8888888888888888,
              "#fdca26"
             ],
             [
              1,
              "#f0f921"
             ]
            ],
            "type": "heatmap"
           }
          ],
          "heatmapgl": [
           {
            "colorbar": {
             "outlinewidth": 0,
             "ticks": ""
            },
            "colorscale": [
             [
              0,
              "#0d0887"
             ],
             [
              0.1111111111111111,
              "#46039f"
             ],
             [
              0.2222222222222222,
              "#7201a8"
             ],
             [
              0.3333333333333333,
              "#9c179e"
             ],
             [
              0.4444444444444444,
              "#bd3786"
             ],
             [
              0.5555555555555556,
              "#d8576b"
             ],
             [
              0.6666666666666666,
              "#ed7953"
             ],
             [
              0.7777777777777778,
              "#fb9f3a"
             ],
             [
              0.8888888888888888,
              "#fdca26"
             ],
             [
              1,
              "#f0f921"
             ]
            ],
            "type": "heatmapgl"
           }
          ],
          "histogram": [
           {
            "marker": {
             "pattern": {
              "fillmode": "overlay",
              "size": 10,
              "solidity": 0.2
             }
            },
            "type": "histogram"
           }
          ],
          "histogram2d": [
           {
            "colorbar": {
             "outlinewidth": 0,
             "ticks": ""
            },
            "colorscale": [
             [
              0,
              "#0d0887"
             ],
             [
              0.1111111111111111,
              "#46039f"
             ],
             [
              0.2222222222222222,
              "#7201a8"
             ],
             [
              0.3333333333333333,
              "#9c179e"
             ],
             [
              0.4444444444444444,
              "#bd3786"
             ],
             [
              0.5555555555555556,
              "#d8576b"
             ],
             [
              0.6666666666666666,
              "#ed7953"
             ],
             [
              0.7777777777777778,
              "#fb9f3a"
             ],
             [
              0.8888888888888888,
              "#fdca26"
             ],
             [
              1,
              "#f0f921"
             ]
            ],
            "type": "histogram2d"
           }
          ],
          "histogram2dcontour": [
           {
            "colorbar": {
             "outlinewidth": 0,
             "ticks": ""
            },
            "colorscale": [
             [
              0,
              "#0d0887"
             ],
             [
              0.1111111111111111,
              "#46039f"
             ],
             [
              0.2222222222222222,
              "#7201a8"
             ],
             [
              0.3333333333333333,
              "#9c179e"
             ],
             [
              0.4444444444444444,
              "#bd3786"
             ],
             [
              0.5555555555555556,
              "#d8576b"
             ],
             [
              0.6666666666666666,
              "#ed7953"
             ],
             [
              0.7777777777777778,
              "#fb9f3a"
             ],
             [
              0.8888888888888888,
              "#fdca26"
             ],
             [
              1,
              "#f0f921"
             ]
            ],
            "type": "histogram2dcontour"
           }
          ],
          "mesh3d": [
           {
            "colorbar": {
             "outlinewidth": 0,
             "ticks": ""
            },
            "type": "mesh3d"
           }
          ],
          "parcoords": [
           {
            "line": {
             "colorbar": {
              "outlinewidth": 0,
              "ticks": ""
             }
            },
            "type": "parcoords"
           }
          ],
          "pie": [
           {
            "automargin": true,
            "type": "pie"
           }
          ],
          "scatter": [
           {
            "marker": {
             "colorbar": {
              "outlinewidth": 0,
              "ticks": ""
             }
            },
            "type": "scatter"
           }
          ],
          "scatter3d": [
           {
            "line": {
             "colorbar": {
              "outlinewidth": 0,
              "ticks": ""
             }
            },
            "marker": {
             "colorbar": {
              "outlinewidth": 0,
              "ticks": ""
             }
            },
            "type": "scatter3d"
           }
          ],
          "scattercarpet": [
           {
            "marker": {
             "colorbar": {
              "outlinewidth": 0,
              "ticks": ""
             }
            },
            "type": "scattercarpet"
           }
          ],
          "scattergeo": [
           {
            "marker": {
             "colorbar": {
              "outlinewidth": 0,
              "ticks": ""
             }
            },
            "type": "scattergeo"
           }
          ],
          "scattergl": [
           {
            "marker": {
             "colorbar": {
              "outlinewidth": 0,
              "ticks": ""
             }
            },
            "type": "scattergl"
           }
          ],
          "scattermapbox": [
           {
            "marker": {
             "colorbar": {
              "outlinewidth": 0,
              "ticks": ""
             }
            },
            "type": "scattermapbox"
           }
          ],
          "scatterpolar": [
           {
            "marker": {
             "colorbar": {
              "outlinewidth": 0,
              "ticks": ""
             }
            },
            "type": "scatterpolar"
           }
          ],
          "scatterpolargl": [
           {
            "marker": {
             "colorbar": {
              "outlinewidth": 0,
              "ticks": ""
             }
            },
            "type": "scatterpolargl"
           }
          ],
          "scatterternary": [
           {
            "marker": {
             "colorbar": {
              "outlinewidth": 0,
              "ticks": ""
             }
            },
            "type": "scatterternary"
           }
          ],
          "surface": [
           {
            "colorbar": {
             "outlinewidth": 0,
             "ticks": ""
            },
            "colorscale": [
             [
              0,
              "#0d0887"
             ],
             [
              0.1111111111111111,
              "#46039f"
             ],
             [
              0.2222222222222222,
              "#7201a8"
             ],
             [
              0.3333333333333333,
              "#9c179e"
             ],
             [
              0.4444444444444444,
              "#bd3786"
             ],
             [
              0.5555555555555556,
              "#d8576b"
             ],
             [
              0.6666666666666666,
              "#ed7953"
             ],
             [
              0.7777777777777778,
              "#fb9f3a"
             ],
             [
              0.8888888888888888,
              "#fdca26"
             ],
             [
              1,
              "#f0f921"
             ]
            ],
            "type": "surface"
           }
          ],
          "table": [
           {
            "cells": {
             "fill": {
              "color": "#EBF0F8"
             },
             "line": {
              "color": "white"
             }
            },
            "header": {
             "fill": {
              "color": "#C8D4E3"
             },
             "line": {
              "color": "white"
             }
            },
            "type": "table"
           }
          ]
         },
         "layout": {
          "annotationdefaults": {
           "arrowcolor": "#2a3f5f",
           "arrowhead": 0,
           "arrowwidth": 1
          },
          "autotypenumbers": "strict",
          "coloraxis": {
           "colorbar": {
            "outlinewidth": 0,
            "ticks": ""
           }
          },
          "colorscale": {
           "diverging": [
            [
             0,
             "#8e0152"
            ],
            [
             0.1,
             "#c51b7d"
            ],
            [
             0.2,
             "#de77ae"
            ],
            [
             0.3,
             "#f1b6da"
            ],
            [
             0.4,
             "#fde0ef"
            ],
            [
             0.5,
             "#f7f7f7"
            ],
            [
             0.6,
             "#e6f5d0"
            ],
            [
             0.7,
             "#b8e186"
            ],
            [
             0.8,
             "#7fbc41"
            ],
            [
             0.9,
             "#4d9221"
            ],
            [
             1,
             "#276419"
            ]
           ],
           "sequential": [
            [
             0,
             "#0d0887"
            ],
            [
             0.1111111111111111,
             "#46039f"
            ],
            [
             0.2222222222222222,
             "#7201a8"
            ],
            [
             0.3333333333333333,
             "#9c179e"
            ],
            [
             0.4444444444444444,
             "#bd3786"
            ],
            [
             0.5555555555555556,
             "#d8576b"
            ],
            [
             0.6666666666666666,
             "#ed7953"
            ],
            [
             0.7777777777777778,
             "#fb9f3a"
            ],
            [
             0.8888888888888888,
             "#fdca26"
            ],
            [
             1,
             "#f0f921"
            ]
           ],
           "sequentialminus": [
            [
             0,
             "#0d0887"
            ],
            [
             0.1111111111111111,
             "#46039f"
            ],
            [
             0.2222222222222222,
             "#7201a8"
            ],
            [
             0.3333333333333333,
             "#9c179e"
            ],
            [
             0.4444444444444444,
             "#bd3786"
            ],
            [
             0.5555555555555556,
             "#d8576b"
            ],
            [
             0.6666666666666666,
             "#ed7953"
            ],
            [
             0.7777777777777778,
             "#fb9f3a"
            ],
            [
             0.8888888888888888,
             "#fdca26"
            ],
            [
             1,
             "#f0f921"
            ]
           ]
          },
          "colorway": [
           "#636efa",
           "#EF553B",
           "#00cc96",
           "#ab63fa",
           "#FFA15A",
           "#19d3f3",
           "#FF6692",
           "#B6E880",
           "#FF97FF",
           "#FECB52"
          ],
          "font": {
           "color": "#2a3f5f"
          },
          "geo": {
           "bgcolor": "white",
           "lakecolor": "white",
           "landcolor": "white",
           "showlakes": true,
           "showland": true,
           "subunitcolor": "#C8D4E3"
          },
          "hoverlabel": {
           "align": "left"
          },
          "hovermode": "closest",
          "mapbox": {
           "style": "light"
          },
          "paper_bgcolor": "white",
          "plot_bgcolor": "white",
          "polar": {
           "angularaxis": {
            "gridcolor": "#EBF0F8",
            "linecolor": "#EBF0F8",
            "ticks": ""
           },
           "bgcolor": "white",
           "radialaxis": {
            "gridcolor": "#EBF0F8",
            "linecolor": "#EBF0F8",
            "ticks": ""
           }
          },
          "scene": {
           "xaxis": {
            "backgroundcolor": "white",
            "gridcolor": "#DFE8F3",
            "gridwidth": 2,
            "linecolor": "#EBF0F8",
            "showbackground": true,
            "ticks": "",
            "zerolinecolor": "#EBF0F8"
           },
           "yaxis": {
            "backgroundcolor": "white",
            "gridcolor": "#DFE8F3",
            "gridwidth": 2,
            "linecolor": "#EBF0F8",
            "showbackground": true,
            "ticks": "",
            "zerolinecolor": "#EBF0F8"
           },
           "zaxis": {
            "backgroundcolor": "white",
            "gridcolor": "#DFE8F3",
            "gridwidth": 2,
            "linecolor": "#EBF0F8",
            "showbackground": true,
            "ticks": "",
            "zerolinecolor": "#EBF0F8"
           }
          },
          "shapedefaults": {
           "line": {
            "color": "#2a3f5f"
           }
          },
          "ternary": {
           "aaxis": {
            "gridcolor": "#DFE8F3",
            "linecolor": "#A2B1C6",
            "ticks": ""
           },
           "baxis": {
            "gridcolor": "#DFE8F3",
            "linecolor": "#A2B1C6",
            "ticks": ""
           },
           "bgcolor": "white",
           "caxis": {
            "gridcolor": "#DFE8F3",
            "linecolor": "#A2B1C6",
            "ticks": ""
           }
          },
          "title": {
           "x": 0.05
          },
          "xaxis": {
           "automargin": true,
           "gridcolor": "#EBF0F8",
           "linecolor": "#EBF0F8",
           "ticks": "",
           "title": {
            "standoff": 15
           },
           "zerolinecolor": "#EBF0F8",
           "zerolinewidth": 2
          },
          "yaxis": {
           "automargin": true,
           "gridcolor": "#EBF0F8",
           "linecolor": "#EBF0F8",
           "ticks": "",
           "title": {
            "standoff": 15
           },
           "zerolinecolor": "#EBF0F8",
           "zerolinewidth": 2
          }
         }
        },
        "title": {
         "font": {
          "color": "#4D5663"
         },
         "text": "Maximum, Minimun, Mean values and standard deviation <br>For RMSE values for each model"
        },
        "xaxis": {
         "gridcolor": "#E1E5ED",
         "showgrid": true,
         "tickfont": {
          "color": "#4D5663"
         },
         "title": {
          "font": {
           "color": "#4D5663"
          },
          "text": ""
         },
         "zerolinecolor": "#E1E5ED"
        },
        "yaxis": {
         "gridcolor": "#E1E5ED",
         "showgrid": true,
         "tickfont": {
          "color": "#4D5663"
         },
         "title": {
          "font": {
           "color": "#4D5663"
          },
          "text": ""
         },
         "zerolinecolor": "#E1E5ED"
        }
       }
      },
      "text/html": [
       "<div>                            <div id=\"279b9f17-59c3-4596-8021-bad70bfe0a59\" class=\"plotly-graph-div\" style=\"height:525px; width:100%;\"></div>            <script type=\"text/javascript\">                require([\"plotly\"], function(Plotly) {                    window.PLOTLYENV=window.PLOTLYENV || {};\n",
       "                    window.PLOTLYENV.BASE_URL='https://plot.ly';                                    if (document.getElementById(\"279b9f17-59c3-4596-8021-bad70bfe0a59\")) {                    Plotly.newPlot(                        \"279b9f17-59c3-4596-8021-bad70bfe0a59\",                        [{\"marker\":{\"color\":\"rgba(255, 153, 51, 0.6)\",\"line\":{\"color\":\"rgba(255, 153, 51, 1.0)\",\"width\":1}},\"name\":\"Max\",\"orientation\":\"v\",\"text\":\"\",\"type\":\"bar\",\"x\":[\"Gradient Boosting\",\"Elastic Net\",\"Lasso\",\"Xgboost\",\"Bayesian Ridge\",\"Random Forest\",\"Kernel Ridge\",\"Lasso Lars Ic\",\"Svm\"],\"y\":[0.1481748860612534,0.1930634463111924,0.19344356817467723,0.15421625834600425,0.18892456163332028,0.1668883222032143,0.19792882877977855,0.2153358078571463,0.21128509532509426]},{\"marker\":{\"color\":\"rgba(55, 128, 191, 0.6)\",\"line\":{\"color\":\"rgba(55, 128, 191, 1.0)\",\"width\":1}},\"name\":\"Mean\",\"orientation\":\"v\",\"text\":\"\",\"type\":\"bar\",\"x\":[\"Gradient Boosting\",\"Elastic Net\",\"Lasso\",\"Xgboost\",\"Bayesian Ridge\",\"Random Forest\",\"Kernel Ridge\",\"Lasso Lars Ic\",\"Svm\"],\"y\":[0.12857180831535772,0.14109611823633555,0.1411680021937301,0.1427458527779078,0.14519167746062595,0.1454897518889086,0.15093087591763973,0.1602798740023892,0.20234562451989593]},{\"marker\":{\"color\":\"rgba(50, 171, 96, 0.6)\",\"line\":{\"color\":\"rgba(50, 171, 96, 1.0)\",\"width\":1}},\"name\":\"Min\",\"orientation\":\"v\",\"text\":\"\",\"type\":\"bar\",\"x\":[\"Gradient Boosting\",\"Elastic Net\",\"Lasso\",\"Xgboost\",\"Bayesian Ridge\",\"Random Forest\",\"Kernel Ridge\",\"Lasso Lars Ic\",\"Svm\"],\"y\":[0.11435756490490158,0.11115844004236591,0.11088645059115453,0.13045240910503264,0.12180559651027847,0.13392988962165472,0.12066645437124235,0.12640375003648188,0.18497700511233536]},{\"marker\":{\"color\":\"rgba(128, 0, 128, 0.6)\",\"line\":{\"color\":\"rgba(128, 0, 128, 1.0)\",\"width\":1}},\"name\":\"std\",\"orientation\":\"v\",\"text\":\"\",\"type\":\"bar\",\"x\":[\"Gradient Boosting\",\"Elastic Net\",\"Lasso\",\"Xgboost\",\"Bayesian Ridge\",\"Random Forest\",\"Kernel Ridge\",\"Lasso Lars Ic\",\"Svm\"],\"y\":[0.012826368727659333,0.030420084919619443,0.030692532546309145,0.008997673774418789,0.024959073669495166,0.0119514302164047,0.02759948352465299,0.03193474739387368,0.009513315555519394]}],                        {\"legend\":{\"bgcolor\":\"#F5F6F9\",\"font\":{\"color\":\"#4D5663\"}},\"paper_bgcolor\":\"#F5F6F9\",\"plot_bgcolor\":\"#F5F6F9\",\"template\":{\"data\":{\"bar\":[{\"error_x\":{\"color\":\"#2a3f5f\"},\"error_y\":{\"color\":\"#2a3f5f\"},\"marker\":{\"line\":{\"color\":\"white\",\"width\":0.5},\"pattern\":{\"fillmode\":\"overlay\",\"size\":10,\"solidity\":0.2}},\"type\":\"bar\"}],\"barpolar\":[{\"marker\":{\"line\":{\"color\":\"white\",\"width\":0.5},\"pattern\":{\"fillmode\":\"overlay\",\"size\":10,\"solidity\":0.2}},\"type\":\"barpolar\"}],\"carpet\":[{\"aaxis\":{\"endlinecolor\":\"#2a3f5f\",\"gridcolor\":\"#C8D4E3\",\"linecolor\":\"#C8D4E3\",\"minorgridcolor\":\"#C8D4E3\",\"startlinecolor\":\"#2a3f5f\"},\"baxis\":{\"endlinecolor\":\"#2a3f5f\",\"gridcolor\":\"#C8D4E3\",\"linecolor\":\"#C8D4E3\",\"minorgridcolor\":\"#C8D4E3\",\"startlinecolor\":\"#2a3f5f\"},\"type\":\"carpet\"}],\"choropleth\":[{\"colorbar\":{\"outlinewidth\":0,\"ticks\":\"\"},\"type\":\"choropleth\"}],\"contour\":[{\"colorbar\":{\"outlinewidth\":0,\"ticks\":\"\"},\"colorscale\":[[0.0,\"#0d0887\"],[0.1111111111111111,\"#46039f\"],[0.2222222222222222,\"#7201a8\"],[0.3333333333333333,\"#9c179e\"],[0.4444444444444444,\"#bd3786\"],[0.5555555555555556,\"#d8576b\"],[0.6666666666666666,\"#ed7953\"],[0.7777777777777778,\"#fb9f3a\"],[0.8888888888888888,\"#fdca26\"],[1.0,\"#f0f921\"]],\"type\":\"contour\"}],\"contourcarpet\":[{\"colorbar\":{\"outlinewidth\":0,\"ticks\":\"\"},\"type\":\"contourcarpet\"}],\"heatmap\":[{\"colorbar\":{\"outlinewidth\":0,\"ticks\":\"\"},\"colorscale\":[[0.0,\"#0d0887\"],[0.1111111111111111,\"#46039f\"],[0.2222222222222222,\"#7201a8\"],[0.3333333333333333,\"#9c179e\"],[0.4444444444444444,\"#bd3786\"],[0.5555555555555556,\"#d8576b\"],[0.6666666666666666,\"#ed7953\"],[0.7777777777777778,\"#fb9f3a\"],[0.8888888888888888,\"#fdca26\"],[1.0,\"#f0f921\"]],\"type\":\"heatmap\"}],\"heatmapgl\":[{\"colorbar\":{\"outlinewidth\":0,\"ticks\":\"\"},\"colorscale\":[[0.0,\"#0d0887\"],[0.1111111111111111,\"#46039f\"],[0.2222222222222222,\"#7201a8\"],[0.3333333333333333,\"#9c179e\"],[0.4444444444444444,\"#bd3786\"],[0.5555555555555556,\"#d8576b\"],[0.6666666666666666,\"#ed7953\"],[0.7777777777777778,\"#fb9f3a\"],[0.8888888888888888,\"#fdca26\"],[1.0,\"#f0f921\"]],\"type\":\"heatmapgl\"}],\"histogram\":[{\"marker\":{\"pattern\":{\"fillmode\":\"overlay\",\"size\":10,\"solidity\":0.2}},\"type\":\"histogram\"}],\"histogram2d\":[{\"colorbar\":{\"outlinewidth\":0,\"ticks\":\"\"},\"colorscale\":[[0.0,\"#0d0887\"],[0.1111111111111111,\"#46039f\"],[0.2222222222222222,\"#7201a8\"],[0.3333333333333333,\"#9c179e\"],[0.4444444444444444,\"#bd3786\"],[0.5555555555555556,\"#d8576b\"],[0.6666666666666666,\"#ed7953\"],[0.7777777777777778,\"#fb9f3a\"],[0.8888888888888888,\"#fdca26\"],[1.0,\"#f0f921\"]],\"type\":\"histogram2d\"}],\"histogram2dcontour\":[{\"colorbar\":{\"outlinewidth\":0,\"ticks\":\"\"},\"colorscale\":[[0.0,\"#0d0887\"],[0.1111111111111111,\"#46039f\"],[0.2222222222222222,\"#7201a8\"],[0.3333333333333333,\"#9c179e\"],[0.4444444444444444,\"#bd3786\"],[0.5555555555555556,\"#d8576b\"],[0.6666666666666666,\"#ed7953\"],[0.7777777777777778,\"#fb9f3a\"],[0.8888888888888888,\"#fdca26\"],[1.0,\"#f0f921\"]],\"type\":\"histogram2dcontour\"}],\"mesh3d\":[{\"colorbar\":{\"outlinewidth\":0,\"ticks\":\"\"},\"type\":\"mesh3d\"}],\"parcoords\":[{\"line\":{\"colorbar\":{\"outlinewidth\":0,\"ticks\":\"\"}},\"type\":\"parcoords\"}],\"pie\":[{\"automargin\":true,\"type\":\"pie\"}],\"scatter\":[{\"marker\":{\"colorbar\":{\"outlinewidth\":0,\"ticks\":\"\"}},\"type\":\"scatter\"}],\"scatter3d\":[{\"line\":{\"colorbar\":{\"outlinewidth\":0,\"ticks\":\"\"}},\"marker\":{\"colorbar\":{\"outlinewidth\":0,\"ticks\":\"\"}},\"type\":\"scatter3d\"}],\"scattercarpet\":[{\"marker\":{\"colorbar\":{\"outlinewidth\":0,\"ticks\":\"\"}},\"type\":\"scattercarpet\"}],\"scattergeo\":[{\"marker\":{\"colorbar\":{\"outlinewidth\":0,\"ticks\":\"\"}},\"type\":\"scattergeo\"}],\"scattergl\":[{\"marker\":{\"colorbar\":{\"outlinewidth\":0,\"ticks\":\"\"}},\"type\":\"scattergl\"}],\"scattermapbox\":[{\"marker\":{\"colorbar\":{\"outlinewidth\":0,\"ticks\":\"\"}},\"type\":\"scattermapbox\"}],\"scatterpolar\":[{\"marker\":{\"colorbar\":{\"outlinewidth\":0,\"ticks\":\"\"}},\"type\":\"scatterpolar\"}],\"scatterpolargl\":[{\"marker\":{\"colorbar\":{\"outlinewidth\":0,\"ticks\":\"\"}},\"type\":\"scatterpolargl\"}],\"scatterternary\":[{\"marker\":{\"colorbar\":{\"outlinewidth\":0,\"ticks\":\"\"}},\"type\":\"scatterternary\"}],\"surface\":[{\"colorbar\":{\"outlinewidth\":0,\"ticks\":\"\"},\"colorscale\":[[0.0,\"#0d0887\"],[0.1111111111111111,\"#46039f\"],[0.2222222222222222,\"#7201a8\"],[0.3333333333333333,\"#9c179e\"],[0.4444444444444444,\"#bd3786\"],[0.5555555555555556,\"#d8576b\"],[0.6666666666666666,\"#ed7953\"],[0.7777777777777778,\"#fb9f3a\"],[0.8888888888888888,\"#fdca26\"],[1.0,\"#f0f921\"]],\"type\":\"surface\"}],\"table\":[{\"cells\":{\"fill\":{\"color\":\"#EBF0F8\"},\"line\":{\"color\":\"white\"}},\"header\":{\"fill\":{\"color\":\"#C8D4E3\"},\"line\":{\"color\":\"white\"}},\"type\":\"table\"}]},\"layout\":{\"annotationdefaults\":{\"arrowcolor\":\"#2a3f5f\",\"arrowhead\":0,\"arrowwidth\":1},\"autotypenumbers\":\"strict\",\"coloraxis\":{\"colorbar\":{\"outlinewidth\":0,\"ticks\":\"\"}},\"colorscale\":{\"diverging\":[[0,\"#8e0152\"],[0.1,\"#c51b7d\"],[0.2,\"#de77ae\"],[0.3,\"#f1b6da\"],[0.4,\"#fde0ef\"],[0.5,\"#f7f7f7\"],[0.6,\"#e6f5d0\"],[0.7,\"#b8e186\"],[0.8,\"#7fbc41\"],[0.9,\"#4d9221\"],[1,\"#276419\"]],\"sequential\":[[0.0,\"#0d0887\"],[0.1111111111111111,\"#46039f\"],[0.2222222222222222,\"#7201a8\"],[0.3333333333333333,\"#9c179e\"],[0.4444444444444444,\"#bd3786\"],[0.5555555555555556,\"#d8576b\"],[0.6666666666666666,\"#ed7953\"],[0.7777777777777778,\"#fb9f3a\"],[0.8888888888888888,\"#fdca26\"],[1.0,\"#f0f921\"]],\"sequentialminus\":[[0.0,\"#0d0887\"],[0.1111111111111111,\"#46039f\"],[0.2222222222222222,\"#7201a8\"],[0.3333333333333333,\"#9c179e\"],[0.4444444444444444,\"#bd3786\"],[0.5555555555555556,\"#d8576b\"],[0.6666666666666666,\"#ed7953\"],[0.7777777777777778,\"#fb9f3a\"],[0.8888888888888888,\"#fdca26\"],[1.0,\"#f0f921\"]]},\"colorway\":[\"#636efa\",\"#EF553B\",\"#00cc96\",\"#ab63fa\",\"#FFA15A\",\"#19d3f3\",\"#FF6692\",\"#B6E880\",\"#FF97FF\",\"#FECB52\"],\"font\":{\"color\":\"#2a3f5f\"},\"geo\":{\"bgcolor\":\"white\",\"lakecolor\":\"white\",\"landcolor\":\"white\",\"showlakes\":true,\"showland\":true,\"subunitcolor\":\"#C8D4E3\"},\"hoverlabel\":{\"align\":\"left\"},\"hovermode\":\"closest\",\"mapbox\":{\"style\":\"light\"},\"paper_bgcolor\":\"white\",\"plot_bgcolor\":\"white\",\"polar\":{\"angularaxis\":{\"gridcolor\":\"#EBF0F8\",\"linecolor\":\"#EBF0F8\",\"ticks\":\"\"},\"bgcolor\":\"white\",\"radialaxis\":{\"gridcolor\":\"#EBF0F8\",\"linecolor\":\"#EBF0F8\",\"ticks\":\"\"}},\"scene\":{\"xaxis\":{\"backgroundcolor\":\"white\",\"gridcolor\":\"#DFE8F3\",\"gridwidth\":2,\"linecolor\":\"#EBF0F8\",\"showbackground\":true,\"ticks\":\"\",\"zerolinecolor\":\"#EBF0F8\"},\"yaxis\":{\"backgroundcolor\":\"white\",\"gridcolor\":\"#DFE8F3\",\"gridwidth\":2,\"linecolor\":\"#EBF0F8\",\"showbackground\":true,\"ticks\":\"\",\"zerolinecolor\":\"#EBF0F8\"},\"zaxis\":{\"backgroundcolor\":\"white\",\"gridcolor\":\"#DFE8F3\",\"gridwidth\":2,\"linecolor\":\"#EBF0F8\",\"showbackground\":true,\"ticks\":\"\",\"zerolinecolor\":\"#EBF0F8\"}},\"shapedefaults\":{\"line\":{\"color\":\"#2a3f5f\"}},\"ternary\":{\"aaxis\":{\"gridcolor\":\"#DFE8F3\",\"linecolor\":\"#A2B1C6\",\"ticks\":\"\"},\"baxis\":{\"gridcolor\":\"#DFE8F3\",\"linecolor\":\"#A2B1C6\",\"ticks\":\"\"},\"bgcolor\":\"white\",\"caxis\":{\"gridcolor\":\"#DFE8F3\",\"linecolor\":\"#A2B1C6\",\"ticks\":\"\"}},\"title\":{\"x\":0.05},\"xaxis\":{\"automargin\":true,\"gridcolor\":\"#EBF0F8\",\"linecolor\":\"#EBF0F8\",\"ticks\":\"\",\"title\":{\"standoff\":15},\"zerolinecolor\":\"#EBF0F8\",\"zerolinewidth\":2},\"yaxis\":{\"automargin\":true,\"gridcolor\":\"#EBF0F8\",\"linecolor\":\"#EBF0F8\",\"ticks\":\"\",\"title\":{\"standoff\":15},\"zerolinecolor\":\"#EBF0F8\",\"zerolinewidth\":2}}},\"title\":{\"font\":{\"color\":\"#4D5663\"},\"text\":\"Maximum, Minimun, Mean values and standard deviation <br>For RMSE values for each model\"},\"xaxis\":{\"gridcolor\":\"#E1E5ED\",\"showgrid\":true,\"tickfont\":{\"color\":\"#4D5663\"},\"title\":{\"font\":{\"color\":\"#4D5663\"},\"text\":\"\"},\"zerolinecolor\":\"#E1E5ED\"},\"yaxis\":{\"gridcolor\":\"#E1E5ED\",\"showgrid\":true,\"tickfont\":{\"color\":\"#4D5663\"},\"title\":{\"font\":{\"color\":\"#4D5663\"},\"text\":\"\"},\"zerolinecolor\":\"#E1E5ED\"}},                        {\"showLink\": true, \"linkText\": \"Export to plot.ly\", \"plotlyServerURL\": \"https://plot.ly\", \"responsive\": true}                    ).then(function(){\n",
       "                            \n",
       "var gd = document.getElementById('279b9f17-59c3-4596-8021-bad70bfe0a59');\n",
       "var x = new MutationObserver(function (mutations, observer) {{\n",
       "        var display = window.getComputedStyle(gd).display;\n",
       "        if (!display || display === 'none') {{\n",
       "            console.log([gd, 'removed!']);\n",
       "            Plotly.purge(gd);\n",
       "            observer.disconnect();\n",
       "        }}\n",
       "}});\n",
       "\n",
       "// Listen for the removal of the full notebook cells\n",
       "var notebookContainer = gd.closest('#notebook-container');\n",
       "if (notebookContainer) {{\n",
       "    x.observe(notebookContainer, {childList: true});\n",
       "}}\n",
       "\n",
       "// Listen for the clearing of the current output cell\n",
       "var outputEl = gd.closest('.output');\n",
       "if (outputEl) {{\n",
       "    x.observe(outputEl, {childList: true});\n",
       "}}\n",
       "\n",
       "                        })                };                });            </script>        </div>"
      ]
     },
     "metadata": {},
     "output_type": "display_data"
    },
    {
     "data": {
      "application/vnd.plotly.v1+json": {
       "config": {
        "linkText": "Export to plot.ly",
        "plotlyServerURL": "https://plot.ly",
        "showLink": true
       },
       "data": [
        {
         "boxpoints": false,
         "line": {
          "width": 1.3
         },
         "marker": {
          "color": "rgba(255, 153, 51, 1.0)"
         },
         "name": "Lasso",
         "orientation": "v",
         "type": "box",
         "y": [
          0.11088645059115453,
          0.15430059166987808,
          0.13524614667398824,
          0.11196325385895246,
          0.19344356817467723
         ]
        },
        {
         "boxpoints": false,
         "line": {
          "width": 1.3
         },
         "marker": {
          "color": "rgba(55, 128, 191, 1.0)"
         },
         "name": "Elastic Net",
         "orientation": "v",
         "type": "box",
         "y": [
          0.11115844004236591,
          0.15350990513853144,
          0.13576479083354087,
          0.11198400885604706,
          0.1930634463111924
         ]
        },
        {
         "boxpoints": false,
         "line": {
          "width": 1.3
         },
         "marker": {
          "color": "rgba(50, 171, 96, 1.0)"
         },
         "name": "Gradient Boosting",
         "orientation": "v",
         "type": "box",
         "y": [
          0.11435756490490158,
          0.1481748860612534,
          0.13024018687620542,
          0.11483125575268721,
          0.13525514798174107
         ]
        },
        {
         "boxpoints": false,
         "line": {
          "width": 1.3
         },
         "marker": {
          "color": "rgba(128, 0, 128, 1.0)"
         },
         "name": "Bayesian Ridge",
         "orientation": "v",
         "type": "box",
         "y": [
          0.12180559651027847,
          0.15488301577579927,
          0.13759675108919328,
          0.1227484622945384,
          0.18892456163332028
         ]
        },
        {
         "boxpoints": false,
         "line": {
          "width": 1.3
         },
         "marker": {
          "color": "rgba(219, 64, 82, 1.0)"
         },
         "name": "Kernel Ridge",
         "orientation": "v",
         "type": "box",
         "y": [
          0.12627927509791373,
          0.1596262243236257,
          0.1501535970156384,
          0.12066645437124235,
          0.19792882877977855
         ]
        },
        {
         "boxpoints": false,
         "line": {
          "width": 1.3
         },
         "marker": {
          "color": "rgba(0, 128, 128, 1.0)"
         },
         "name": "Lasso Lars Ic",
         "orientation": "v",
         "type": "box",
         "y": [
          0.12640375003648188,
          0.1729421119046426,
          0.15303920288808426,
          0.13367849732559087,
          0.2153358078571463
         ]
        },
        {
         "boxpoints": false,
         "line": {
          "width": 1.3
         },
         "marker": {
          "color": "rgba(255, 255, 51, 1.0)"
         },
         "name": "Xgboost",
         "orientation": "v",
         "type": "box",
         "y": [
          0.13045240910503264,
          0.15421625834600425,
          0.1520301241118195,
          0.13873634409960575,
          0.1382941282270767
         ]
        },
        {
         "boxpoints": false,
         "line": {
          "width": 1.3
         },
         "marker": {
          "color": "rgba(128, 128, 0, 1.0)"
         },
         "name": "Random Forest",
         "orientation": "v",
         "type": "box",
         "y": [
          0.13489835839500325,
          0.1668883222032143,
          0.14360851735783245,
          0.13392988962165472,
          0.14812367186683825
         ]
        },
        {
         "boxpoints": false,
         "line": {
          "width": 1.3
         },
         "marker": {
          "color": "rgba(251, 128, 114, 1.0)"
         },
         "name": "Svm",
         "orientation": "v",
         "type": "box",
         "y": [
          0.18497700511233536,
          0.20094165719308588,
          0.21047283484807833,
          0.20405153012088584,
          0.21128509532509426
         ]
        }
       ],
       "layout": {
        "legend": {
         "bgcolor": "#F5F6F9",
         "font": {
          "color": "#4D5663"
         }
        },
        "paper_bgcolor": "#F5F6F9",
        "plot_bgcolor": "#F5F6F9",
        "template": {
         "data": {
          "bar": [
           {
            "error_x": {
             "color": "#2a3f5f"
            },
            "error_y": {
             "color": "#2a3f5f"
            },
            "marker": {
             "line": {
              "color": "white",
              "width": 0.5
             },
             "pattern": {
              "fillmode": "overlay",
              "size": 10,
              "solidity": 0.2
             }
            },
            "type": "bar"
           }
          ],
          "barpolar": [
           {
            "marker": {
             "line": {
              "color": "white",
              "width": 0.5
             },
             "pattern": {
              "fillmode": "overlay",
              "size": 10,
              "solidity": 0.2
             }
            },
            "type": "barpolar"
           }
          ],
          "carpet": [
           {
            "aaxis": {
             "endlinecolor": "#2a3f5f",
             "gridcolor": "#C8D4E3",
             "linecolor": "#C8D4E3",
             "minorgridcolor": "#C8D4E3",
             "startlinecolor": "#2a3f5f"
            },
            "baxis": {
             "endlinecolor": "#2a3f5f",
             "gridcolor": "#C8D4E3",
             "linecolor": "#C8D4E3",
             "minorgridcolor": "#C8D4E3",
             "startlinecolor": "#2a3f5f"
            },
            "type": "carpet"
           }
          ],
          "choropleth": [
           {
            "colorbar": {
             "outlinewidth": 0,
             "ticks": ""
            },
            "type": "choropleth"
           }
          ],
          "contour": [
           {
            "colorbar": {
             "outlinewidth": 0,
             "ticks": ""
            },
            "colorscale": [
             [
              0,
              "#0d0887"
             ],
             [
              0.1111111111111111,
              "#46039f"
             ],
             [
              0.2222222222222222,
              "#7201a8"
             ],
             [
              0.3333333333333333,
              "#9c179e"
             ],
             [
              0.4444444444444444,
              "#bd3786"
             ],
             [
              0.5555555555555556,
              "#d8576b"
             ],
             [
              0.6666666666666666,
              "#ed7953"
             ],
             [
              0.7777777777777778,
              "#fb9f3a"
             ],
             [
              0.8888888888888888,
              "#fdca26"
             ],
             [
              1,
              "#f0f921"
             ]
            ],
            "type": "contour"
           }
          ],
          "contourcarpet": [
           {
            "colorbar": {
             "outlinewidth": 0,
             "ticks": ""
            },
            "type": "contourcarpet"
           }
          ],
          "heatmap": [
           {
            "colorbar": {
             "outlinewidth": 0,
             "ticks": ""
            },
            "colorscale": [
             [
              0,
              "#0d0887"
             ],
             [
              0.1111111111111111,
              "#46039f"
             ],
             [
              0.2222222222222222,
              "#7201a8"
             ],
             [
              0.3333333333333333,
              "#9c179e"
             ],
             [
              0.4444444444444444,
              "#bd3786"
             ],
             [
              0.5555555555555556,
              "#d8576b"
             ],
             [
              0.6666666666666666,
              "#ed7953"
             ],
             [
              0.7777777777777778,
              "#fb9f3a"
             ],
             [
              0.8888888888888888,
              "#fdca26"
             ],
             [
              1,
              "#f0f921"
             ]
            ],
            "type": "heatmap"
           }
          ],
          "heatmapgl": [
           {
            "colorbar": {
             "outlinewidth": 0,
             "ticks": ""
            },
            "colorscale": [
             [
              0,
              "#0d0887"
             ],
             [
              0.1111111111111111,
              "#46039f"
             ],
             [
              0.2222222222222222,
              "#7201a8"
             ],
             [
              0.3333333333333333,
              "#9c179e"
             ],
             [
              0.4444444444444444,
              "#bd3786"
             ],
             [
              0.5555555555555556,
              "#d8576b"
             ],
             [
              0.6666666666666666,
              "#ed7953"
             ],
             [
              0.7777777777777778,
              "#fb9f3a"
             ],
             [
              0.8888888888888888,
              "#fdca26"
             ],
             [
              1,
              "#f0f921"
             ]
            ],
            "type": "heatmapgl"
           }
          ],
          "histogram": [
           {
            "marker": {
             "pattern": {
              "fillmode": "overlay",
              "size": 10,
              "solidity": 0.2
             }
            },
            "type": "histogram"
           }
          ],
          "histogram2d": [
           {
            "colorbar": {
             "outlinewidth": 0,
             "ticks": ""
            },
            "colorscale": [
             [
              0,
              "#0d0887"
             ],
             [
              0.1111111111111111,
              "#46039f"
             ],
             [
              0.2222222222222222,
              "#7201a8"
             ],
             [
              0.3333333333333333,
              "#9c179e"
             ],
             [
              0.4444444444444444,
              "#bd3786"
             ],
             [
              0.5555555555555556,
              "#d8576b"
             ],
             [
              0.6666666666666666,
              "#ed7953"
             ],
             [
              0.7777777777777778,
              "#fb9f3a"
             ],
             [
              0.8888888888888888,
              "#fdca26"
             ],
             [
              1,
              "#f0f921"
             ]
            ],
            "type": "histogram2d"
           }
          ],
          "histogram2dcontour": [
           {
            "colorbar": {
             "outlinewidth": 0,
             "ticks": ""
            },
            "colorscale": [
             [
              0,
              "#0d0887"
             ],
             [
              0.1111111111111111,
              "#46039f"
             ],
             [
              0.2222222222222222,
              "#7201a8"
             ],
             [
              0.3333333333333333,
              "#9c179e"
             ],
             [
              0.4444444444444444,
              "#bd3786"
             ],
             [
              0.5555555555555556,
              "#d8576b"
             ],
             [
              0.6666666666666666,
              "#ed7953"
             ],
             [
              0.7777777777777778,
              "#fb9f3a"
             ],
             [
              0.8888888888888888,
              "#fdca26"
             ],
             [
              1,
              "#f0f921"
             ]
            ],
            "type": "histogram2dcontour"
           }
          ],
          "mesh3d": [
           {
            "colorbar": {
             "outlinewidth": 0,
             "ticks": ""
            },
            "type": "mesh3d"
           }
          ],
          "parcoords": [
           {
            "line": {
             "colorbar": {
              "outlinewidth": 0,
              "ticks": ""
             }
            },
            "type": "parcoords"
           }
          ],
          "pie": [
           {
            "automargin": true,
            "type": "pie"
           }
          ],
          "scatter": [
           {
            "marker": {
             "colorbar": {
              "outlinewidth": 0,
              "ticks": ""
             }
            },
            "type": "scatter"
           }
          ],
          "scatter3d": [
           {
            "line": {
             "colorbar": {
              "outlinewidth": 0,
              "ticks": ""
             }
            },
            "marker": {
             "colorbar": {
              "outlinewidth": 0,
              "ticks": ""
             }
            },
            "type": "scatter3d"
           }
          ],
          "scattercarpet": [
           {
            "marker": {
             "colorbar": {
              "outlinewidth": 0,
              "ticks": ""
             }
            },
            "type": "scattercarpet"
           }
          ],
          "scattergeo": [
           {
            "marker": {
             "colorbar": {
              "outlinewidth": 0,
              "ticks": ""
             }
            },
            "type": "scattergeo"
           }
          ],
          "scattergl": [
           {
            "marker": {
             "colorbar": {
              "outlinewidth": 0,
              "ticks": ""
             }
            },
            "type": "scattergl"
           }
          ],
          "scattermapbox": [
           {
            "marker": {
             "colorbar": {
              "outlinewidth": 0,
              "ticks": ""
             }
            },
            "type": "scattermapbox"
           }
          ],
          "scatterpolar": [
           {
            "marker": {
             "colorbar": {
              "outlinewidth": 0,
              "ticks": ""
             }
            },
            "type": "scatterpolar"
           }
          ],
          "scatterpolargl": [
           {
            "marker": {
             "colorbar": {
              "outlinewidth": 0,
              "ticks": ""
             }
            },
            "type": "scatterpolargl"
           }
          ],
          "scatterternary": [
           {
            "marker": {
             "colorbar": {
              "outlinewidth": 0,
              "ticks": ""
             }
            },
            "type": "scatterternary"
           }
          ],
          "surface": [
           {
            "colorbar": {
             "outlinewidth": 0,
             "ticks": ""
            },
            "colorscale": [
             [
              0,
              "#0d0887"
             ],
             [
              0.1111111111111111,
              "#46039f"
             ],
             [
              0.2222222222222222,
              "#7201a8"
             ],
             [
              0.3333333333333333,
              "#9c179e"
             ],
             [
              0.4444444444444444,
              "#bd3786"
             ],
             [
              0.5555555555555556,
              "#d8576b"
             ],
             [
              0.6666666666666666,
              "#ed7953"
             ],
             [
              0.7777777777777778,
              "#fb9f3a"
             ],
             [
              0.8888888888888888,
              "#fdca26"
             ],
             [
              1,
              "#f0f921"
             ]
            ],
            "type": "surface"
           }
          ],
          "table": [
           {
            "cells": {
             "fill": {
              "color": "#EBF0F8"
             },
             "line": {
              "color": "white"
             }
            },
            "header": {
             "fill": {
              "color": "#C8D4E3"
             },
             "line": {
              "color": "white"
             }
            },
            "type": "table"
           }
          ]
         },
         "layout": {
          "annotationdefaults": {
           "arrowcolor": "#2a3f5f",
           "arrowhead": 0,
           "arrowwidth": 1
          },
          "autotypenumbers": "strict",
          "coloraxis": {
           "colorbar": {
            "outlinewidth": 0,
            "ticks": ""
           }
          },
          "colorscale": {
           "diverging": [
            [
             0,
             "#8e0152"
            ],
            [
             0.1,
             "#c51b7d"
            ],
            [
             0.2,
             "#de77ae"
            ],
            [
             0.3,
             "#f1b6da"
            ],
            [
             0.4,
             "#fde0ef"
            ],
            [
             0.5,
             "#f7f7f7"
            ],
            [
             0.6,
             "#e6f5d0"
            ],
            [
             0.7,
             "#b8e186"
            ],
            [
             0.8,
             "#7fbc41"
            ],
            [
             0.9,
             "#4d9221"
            ],
            [
             1,
             "#276419"
            ]
           ],
           "sequential": [
            [
             0,
             "#0d0887"
            ],
            [
             0.1111111111111111,
             "#46039f"
            ],
            [
             0.2222222222222222,
             "#7201a8"
            ],
            [
             0.3333333333333333,
             "#9c179e"
            ],
            [
             0.4444444444444444,
             "#bd3786"
            ],
            [
             0.5555555555555556,
             "#d8576b"
            ],
            [
             0.6666666666666666,
             "#ed7953"
            ],
            [
             0.7777777777777778,
             "#fb9f3a"
            ],
            [
             0.8888888888888888,
             "#fdca26"
            ],
            [
             1,
             "#f0f921"
            ]
           ],
           "sequentialminus": [
            [
             0,
             "#0d0887"
            ],
            [
             0.1111111111111111,
             "#46039f"
            ],
            [
             0.2222222222222222,
             "#7201a8"
            ],
            [
             0.3333333333333333,
             "#9c179e"
            ],
            [
             0.4444444444444444,
             "#bd3786"
            ],
            [
             0.5555555555555556,
             "#d8576b"
            ],
            [
             0.6666666666666666,
             "#ed7953"
            ],
            [
             0.7777777777777778,
             "#fb9f3a"
            ],
            [
             0.8888888888888888,
             "#fdca26"
            ],
            [
             1,
             "#f0f921"
            ]
           ]
          },
          "colorway": [
           "#636efa",
           "#EF553B",
           "#00cc96",
           "#ab63fa",
           "#FFA15A",
           "#19d3f3",
           "#FF6692",
           "#B6E880",
           "#FF97FF",
           "#FECB52"
          ],
          "font": {
           "color": "#2a3f5f"
          },
          "geo": {
           "bgcolor": "white",
           "lakecolor": "white",
           "landcolor": "white",
           "showlakes": true,
           "showland": true,
           "subunitcolor": "#C8D4E3"
          },
          "hoverlabel": {
           "align": "left"
          },
          "hovermode": "closest",
          "mapbox": {
           "style": "light"
          },
          "paper_bgcolor": "white",
          "plot_bgcolor": "white",
          "polar": {
           "angularaxis": {
            "gridcolor": "#EBF0F8",
            "linecolor": "#EBF0F8",
            "ticks": ""
           },
           "bgcolor": "white",
           "radialaxis": {
            "gridcolor": "#EBF0F8",
            "linecolor": "#EBF0F8",
            "ticks": ""
           }
          },
          "scene": {
           "xaxis": {
            "backgroundcolor": "white",
            "gridcolor": "#DFE8F3",
            "gridwidth": 2,
            "linecolor": "#EBF0F8",
            "showbackground": true,
            "ticks": "",
            "zerolinecolor": "#EBF0F8"
           },
           "yaxis": {
            "backgroundcolor": "white",
            "gridcolor": "#DFE8F3",
            "gridwidth": 2,
            "linecolor": "#EBF0F8",
            "showbackground": true,
            "ticks": "",
            "zerolinecolor": "#EBF0F8"
           },
           "zaxis": {
            "backgroundcolor": "white",
            "gridcolor": "#DFE8F3",
            "gridwidth": 2,
            "linecolor": "#EBF0F8",
            "showbackground": true,
            "ticks": "",
            "zerolinecolor": "#EBF0F8"
           }
          },
          "shapedefaults": {
           "line": {
            "color": "#2a3f5f"
           }
          },
          "ternary": {
           "aaxis": {
            "gridcolor": "#DFE8F3",
            "linecolor": "#A2B1C6",
            "ticks": ""
           },
           "baxis": {
            "gridcolor": "#DFE8F3",
            "linecolor": "#A2B1C6",
            "ticks": ""
           },
           "bgcolor": "white",
           "caxis": {
            "gridcolor": "#DFE8F3",
            "linecolor": "#A2B1C6",
            "ticks": ""
           }
          },
          "title": {
           "x": 0.05
          },
          "xaxis": {
           "automargin": true,
           "gridcolor": "#EBF0F8",
           "linecolor": "#EBF0F8",
           "ticks": "",
           "title": {
            "standoff": 15
           },
           "zerolinecolor": "#EBF0F8",
           "zerolinewidth": 2
          },
          "yaxis": {
           "automargin": true,
           "gridcolor": "#EBF0F8",
           "linecolor": "#EBF0F8",
           "ticks": "",
           "title": {
            "standoff": 15
           },
           "zerolinecolor": "#EBF0F8",
           "zerolinewidth": 2
          }
         }
        },
        "title": {
         "font": {
          "color": "#4D5663"
         },
         "text": "Box plot for the variation of RMSE values for each model"
        },
        "xaxis": {
         "gridcolor": "#E1E5ED",
         "showgrid": true,
         "tickfont": {
          "color": "#4D5663"
         },
         "title": {
          "font": {
           "color": "#4D5663"
          },
          "text": ""
         },
         "zerolinecolor": "#E1E5ED"
        },
        "yaxis": {
         "gridcolor": "#E1E5ED",
         "showgrid": true,
         "tickfont": {
          "color": "#4D5663"
         },
         "title": {
          "font": {
           "color": "#4D5663"
          },
          "text": ""
         },
         "zerolinecolor": "#E1E5ED"
        }
       }
      },
      "text/html": [
       "<div>                            <div id=\"79e22595-1c37-4c45-b9e7-f4eec62618af\" class=\"plotly-graph-div\" style=\"height:525px; width:100%;\"></div>            <script type=\"text/javascript\">                require([\"plotly\"], function(Plotly) {                    window.PLOTLYENV=window.PLOTLYENV || {};\n",
       "                    window.PLOTLYENV.BASE_URL='https://plot.ly';                                    if (document.getElementById(\"79e22595-1c37-4c45-b9e7-f4eec62618af\")) {                    Plotly.newPlot(                        \"79e22595-1c37-4c45-b9e7-f4eec62618af\",                        [{\"boxpoints\":false,\"line\":{\"width\":1.3},\"marker\":{\"color\":\"rgba(255, 153, 51, 1.0)\"},\"name\":\"Lasso\",\"orientation\":\"v\",\"type\":\"box\",\"y\":[0.11088645059115453,0.15430059166987808,0.13524614667398824,0.11196325385895246,0.19344356817467723]},{\"boxpoints\":false,\"line\":{\"width\":1.3},\"marker\":{\"color\":\"rgba(55, 128, 191, 1.0)\"},\"name\":\"Elastic Net\",\"orientation\":\"v\",\"type\":\"box\",\"y\":[0.11115844004236591,0.15350990513853144,0.13576479083354087,0.11198400885604706,0.1930634463111924]},{\"boxpoints\":false,\"line\":{\"width\":1.3},\"marker\":{\"color\":\"rgba(50, 171, 96, 1.0)\"},\"name\":\"Gradient Boosting\",\"orientation\":\"v\",\"type\":\"box\",\"y\":[0.11435756490490158,0.1481748860612534,0.13024018687620542,0.11483125575268721,0.13525514798174107]},{\"boxpoints\":false,\"line\":{\"width\":1.3},\"marker\":{\"color\":\"rgba(128, 0, 128, 1.0)\"},\"name\":\"Bayesian Ridge\",\"orientation\":\"v\",\"type\":\"box\",\"y\":[0.12180559651027847,0.15488301577579927,0.13759675108919328,0.1227484622945384,0.18892456163332028]},{\"boxpoints\":false,\"line\":{\"width\":1.3},\"marker\":{\"color\":\"rgba(219, 64, 82, 1.0)\"},\"name\":\"Kernel Ridge\",\"orientation\":\"v\",\"type\":\"box\",\"y\":[0.12627927509791373,0.1596262243236257,0.1501535970156384,0.12066645437124235,0.19792882877977855]},{\"boxpoints\":false,\"line\":{\"width\":1.3},\"marker\":{\"color\":\"rgba(0, 128, 128, 1.0)\"},\"name\":\"Lasso Lars Ic\",\"orientation\":\"v\",\"type\":\"box\",\"y\":[0.12640375003648188,0.1729421119046426,0.15303920288808426,0.13367849732559087,0.2153358078571463]},{\"boxpoints\":false,\"line\":{\"width\":1.3},\"marker\":{\"color\":\"rgba(255, 255, 51, 1.0)\"},\"name\":\"Xgboost\",\"orientation\":\"v\",\"type\":\"box\",\"y\":[0.13045240910503264,0.15421625834600425,0.1520301241118195,0.13873634409960575,0.1382941282270767]},{\"boxpoints\":false,\"line\":{\"width\":1.3},\"marker\":{\"color\":\"rgba(128, 128, 0, 1.0)\"},\"name\":\"Random Forest\",\"orientation\":\"v\",\"type\":\"box\",\"y\":[0.13489835839500325,0.1668883222032143,0.14360851735783245,0.13392988962165472,0.14812367186683825]},{\"boxpoints\":false,\"line\":{\"width\":1.3},\"marker\":{\"color\":\"rgba(251, 128, 114, 1.0)\"},\"name\":\"Svm\",\"orientation\":\"v\",\"type\":\"box\",\"y\":[0.18497700511233536,0.20094165719308588,0.21047283484807833,0.20405153012088584,0.21128509532509426]}],                        {\"legend\":{\"bgcolor\":\"#F5F6F9\",\"font\":{\"color\":\"#4D5663\"}},\"paper_bgcolor\":\"#F5F6F9\",\"plot_bgcolor\":\"#F5F6F9\",\"template\":{\"data\":{\"bar\":[{\"error_x\":{\"color\":\"#2a3f5f\"},\"error_y\":{\"color\":\"#2a3f5f\"},\"marker\":{\"line\":{\"color\":\"white\",\"width\":0.5},\"pattern\":{\"fillmode\":\"overlay\",\"size\":10,\"solidity\":0.2}},\"type\":\"bar\"}],\"barpolar\":[{\"marker\":{\"line\":{\"color\":\"white\",\"width\":0.5},\"pattern\":{\"fillmode\":\"overlay\",\"size\":10,\"solidity\":0.2}},\"type\":\"barpolar\"}],\"carpet\":[{\"aaxis\":{\"endlinecolor\":\"#2a3f5f\",\"gridcolor\":\"#C8D4E3\",\"linecolor\":\"#C8D4E3\",\"minorgridcolor\":\"#C8D4E3\",\"startlinecolor\":\"#2a3f5f\"},\"baxis\":{\"endlinecolor\":\"#2a3f5f\",\"gridcolor\":\"#C8D4E3\",\"linecolor\":\"#C8D4E3\",\"minorgridcolor\":\"#C8D4E3\",\"startlinecolor\":\"#2a3f5f\"},\"type\":\"carpet\"}],\"choropleth\":[{\"colorbar\":{\"outlinewidth\":0,\"ticks\":\"\"},\"type\":\"choropleth\"}],\"contour\":[{\"colorbar\":{\"outlinewidth\":0,\"ticks\":\"\"},\"colorscale\":[[0.0,\"#0d0887\"],[0.1111111111111111,\"#46039f\"],[0.2222222222222222,\"#7201a8\"],[0.3333333333333333,\"#9c179e\"],[0.4444444444444444,\"#bd3786\"],[0.5555555555555556,\"#d8576b\"],[0.6666666666666666,\"#ed7953\"],[0.7777777777777778,\"#fb9f3a\"],[0.8888888888888888,\"#fdca26\"],[1.0,\"#f0f921\"]],\"type\":\"contour\"}],\"contourcarpet\":[{\"colorbar\":{\"outlinewidth\":0,\"ticks\":\"\"},\"type\":\"contourcarpet\"}],\"heatmap\":[{\"colorbar\":{\"outlinewidth\":0,\"ticks\":\"\"},\"colorscale\":[[0.0,\"#0d0887\"],[0.1111111111111111,\"#46039f\"],[0.2222222222222222,\"#7201a8\"],[0.3333333333333333,\"#9c179e\"],[0.4444444444444444,\"#bd3786\"],[0.5555555555555556,\"#d8576b\"],[0.6666666666666666,\"#ed7953\"],[0.7777777777777778,\"#fb9f3a\"],[0.8888888888888888,\"#fdca26\"],[1.0,\"#f0f921\"]],\"type\":\"heatmap\"}],\"heatmapgl\":[{\"colorbar\":{\"outlinewidth\":0,\"ticks\":\"\"},\"colorscale\":[[0.0,\"#0d0887\"],[0.1111111111111111,\"#46039f\"],[0.2222222222222222,\"#7201a8\"],[0.3333333333333333,\"#9c179e\"],[0.4444444444444444,\"#bd3786\"],[0.5555555555555556,\"#d8576b\"],[0.6666666666666666,\"#ed7953\"],[0.7777777777777778,\"#fb9f3a\"],[0.8888888888888888,\"#fdca26\"],[1.0,\"#f0f921\"]],\"type\":\"heatmapgl\"}],\"histogram\":[{\"marker\":{\"pattern\":{\"fillmode\":\"overlay\",\"size\":10,\"solidity\":0.2}},\"type\":\"histogram\"}],\"histogram2d\":[{\"colorbar\":{\"outlinewidth\":0,\"ticks\":\"\"},\"colorscale\":[[0.0,\"#0d0887\"],[0.1111111111111111,\"#46039f\"],[0.2222222222222222,\"#7201a8\"],[0.3333333333333333,\"#9c179e\"],[0.4444444444444444,\"#bd3786\"],[0.5555555555555556,\"#d8576b\"],[0.6666666666666666,\"#ed7953\"],[0.7777777777777778,\"#fb9f3a\"],[0.8888888888888888,\"#fdca26\"],[1.0,\"#f0f921\"]],\"type\":\"histogram2d\"}],\"histogram2dcontour\":[{\"colorbar\":{\"outlinewidth\":0,\"ticks\":\"\"},\"colorscale\":[[0.0,\"#0d0887\"],[0.1111111111111111,\"#46039f\"],[0.2222222222222222,\"#7201a8\"],[0.3333333333333333,\"#9c179e\"],[0.4444444444444444,\"#bd3786\"],[0.5555555555555556,\"#d8576b\"],[0.6666666666666666,\"#ed7953\"],[0.7777777777777778,\"#fb9f3a\"],[0.8888888888888888,\"#fdca26\"],[1.0,\"#f0f921\"]],\"type\":\"histogram2dcontour\"}],\"mesh3d\":[{\"colorbar\":{\"outlinewidth\":0,\"ticks\":\"\"},\"type\":\"mesh3d\"}],\"parcoords\":[{\"line\":{\"colorbar\":{\"outlinewidth\":0,\"ticks\":\"\"}},\"type\":\"parcoords\"}],\"pie\":[{\"automargin\":true,\"type\":\"pie\"}],\"scatter\":[{\"marker\":{\"colorbar\":{\"outlinewidth\":0,\"ticks\":\"\"}},\"type\":\"scatter\"}],\"scatter3d\":[{\"line\":{\"colorbar\":{\"outlinewidth\":0,\"ticks\":\"\"}},\"marker\":{\"colorbar\":{\"outlinewidth\":0,\"ticks\":\"\"}},\"type\":\"scatter3d\"}],\"scattercarpet\":[{\"marker\":{\"colorbar\":{\"outlinewidth\":0,\"ticks\":\"\"}},\"type\":\"scattercarpet\"}],\"scattergeo\":[{\"marker\":{\"colorbar\":{\"outlinewidth\":0,\"ticks\":\"\"}},\"type\":\"scattergeo\"}],\"scattergl\":[{\"marker\":{\"colorbar\":{\"outlinewidth\":0,\"ticks\":\"\"}},\"type\":\"scattergl\"}],\"scattermapbox\":[{\"marker\":{\"colorbar\":{\"outlinewidth\":0,\"ticks\":\"\"}},\"type\":\"scattermapbox\"}],\"scatterpolar\":[{\"marker\":{\"colorbar\":{\"outlinewidth\":0,\"ticks\":\"\"}},\"type\":\"scatterpolar\"}],\"scatterpolargl\":[{\"marker\":{\"colorbar\":{\"outlinewidth\":0,\"ticks\":\"\"}},\"type\":\"scatterpolargl\"}],\"scatterternary\":[{\"marker\":{\"colorbar\":{\"outlinewidth\":0,\"ticks\":\"\"}},\"type\":\"scatterternary\"}],\"surface\":[{\"colorbar\":{\"outlinewidth\":0,\"ticks\":\"\"},\"colorscale\":[[0.0,\"#0d0887\"],[0.1111111111111111,\"#46039f\"],[0.2222222222222222,\"#7201a8\"],[0.3333333333333333,\"#9c179e\"],[0.4444444444444444,\"#bd3786\"],[0.5555555555555556,\"#d8576b\"],[0.6666666666666666,\"#ed7953\"],[0.7777777777777778,\"#fb9f3a\"],[0.8888888888888888,\"#fdca26\"],[1.0,\"#f0f921\"]],\"type\":\"surface\"}],\"table\":[{\"cells\":{\"fill\":{\"color\":\"#EBF0F8\"},\"line\":{\"color\":\"white\"}},\"header\":{\"fill\":{\"color\":\"#C8D4E3\"},\"line\":{\"color\":\"white\"}},\"type\":\"table\"}]},\"layout\":{\"annotationdefaults\":{\"arrowcolor\":\"#2a3f5f\",\"arrowhead\":0,\"arrowwidth\":1},\"autotypenumbers\":\"strict\",\"coloraxis\":{\"colorbar\":{\"outlinewidth\":0,\"ticks\":\"\"}},\"colorscale\":{\"diverging\":[[0,\"#8e0152\"],[0.1,\"#c51b7d\"],[0.2,\"#de77ae\"],[0.3,\"#f1b6da\"],[0.4,\"#fde0ef\"],[0.5,\"#f7f7f7\"],[0.6,\"#e6f5d0\"],[0.7,\"#b8e186\"],[0.8,\"#7fbc41\"],[0.9,\"#4d9221\"],[1,\"#276419\"]],\"sequential\":[[0.0,\"#0d0887\"],[0.1111111111111111,\"#46039f\"],[0.2222222222222222,\"#7201a8\"],[0.3333333333333333,\"#9c179e\"],[0.4444444444444444,\"#bd3786\"],[0.5555555555555556,\"#d8576b\"],[0.6666666666666666,\"#ed7953\"],[0.7777777777777778,\"#fb9f3a\"],[0.8888888888888888,\"#fdca26\"],[1.0,\"#f0f921\"]],\"sequentialminus\":[[0.0,\"#0d0887\"],[0.1111111111111111,\"#46039f\"],[0.2222222222222222,\"#7201a8\"],[0.3333333333333333,\"#9c179e\"],[0.4444444444444444,\"#bd3786\"],[0.5555555555555556,\"#d8576b\"],[0.6666666666666666,\"#ed7953\"],[0.7777777777777778,\"#fb9f3a\"],[0.8888888888888888,\"#fdca26\"],[1.0,\"#f0f921\"]]},\"colorway\":[\"#636efa\",\"#EF553B\",\"#00cc96\",\"#ab63fa\",\"#FFA15A\",\"#19d3f3\",\"#FF6692\",\"#B6E880\",\"#FF97FF\",\"#FECB52\"],\"font\":{\"color\":\"#2a3f5f\"},\"geo\":{\"bgcolor\":\"white\",\"lakecolor\":\"white\",\"landcolor\":\"white\",\"showlakes\":true,\"showland\":true,\"subunitcolor\":\"#C8D4E3\"},\"hoverlabel\":{\"align\":\"left\"},\"hovermode\":\"closest\",\"mapbox\":{\"style\":\"light\"},\"paper_bgcolor\":\"white\",\"plot_bgcolor\":\"white\",\"polar\":{\"angularaxis\":{\"gridcolor\":\"#EBF0F8\",\"linecolor\":\"#EBF0F8\",\"ticks\":\"\"},\"bgcolor\":\"white\",\"radialaxis\":{\"gridcolor\":\"#EBF0F8\",\"linecolor\":\"#EBF0F8\",\"ticks\":\"\"}},\"scene\":{\"xaxis\":{\"backgroundcolor\":\"white\",\"gridcolor\":\"#DFE8F3\",\"gridwidth\":2,\"linecolor\":\"#EBF0F8\",\"showbackground\":true,\"ticks\":\"\",\"zerolinecolor\":\"#EBF0F8\"},\"yaxis\":{\"backgroundcolor\":\"white\",\"gridcolor\":\"#DFE8F3\",\"gridwidth\":2,\"linecolor\":\"#EBF0F8\",\"showbackground\":true,\"ticks\":\"\",\"zerolinecolor\":\"#EBF0F8\"},\"zaxis\":{\"backgroundcolor\":\"white\",\"gridcolor\":\"#DFE8F3\",\"gridwidth\":2,\"linecolor\":\"#EBF0F8\",\"showbackground\":true,\"ticks\":\"\",\"zerolinecolor\":\"#EBF0F8\"}},\"shapedefaults\":{\"line\":{\"color\":\"#2a3f5f\"}},\"ternary\":{\"aaxis\":{\"gridcolor\":\"#DFE8F3\",\"linecolor\":\"#A2B1C6\",\"ticks\":\"\"},\"baxis\":{\"gridcolor\":\"#DFE8F3\",\"linecolor\":\"#A2B1C6\",\"ticks\":\"\"},\"bgcolor\":\"white\",\"caxis\":{\"gridcolor\":\"#DFE8F3\",\"linecolor\":\"#A2B1C6\",\"ticks\":\"\"}},\"title\":{\"x\":0.05},\"xaxis\":{\"automargin\":true,\"gridcolor\":\"#EBF0F8\",\"linecolor\":\"#EBF0F8\",\"ticks\":\"\",\"title\":{\"standoff\":15},\"zerolinecolor\":\"#EBF0F8\",\"zerolinewidth\":2},\"yaxis\":{\"automargin\":true,\"gridcolor\":\"#EBF0F8\",\"linecolor\":\"#EBF0F8\",\"ticks\":\"\",\"title\":{\"standoff\":15},\"zerolinecolor\":\"#EBF0F8\",\"zerolinewidth\":2}}},\"title\":{\"font\":{\"color\":\"#4D5663\"},\"text\":\"Box plot for the variation of RMSE values for each model\"},\"xaxis\":{\"gridcolor\":\"#E1E5ED\",\"showgrid\":true,\"tickfont\":{\"color\":\"#4D5663\"},\"title\":{\"font\":{\"color\":\"#4D5663\"},\"text\":\"\"},\"zerolinecolor\":\"#E1E5ED\"},\"yaxis\":{\"gridcolor\":\"#E1E5ED\",\"showgrid\":true,\"tickfont\":{\"color\":\"#4D5663\"},\"title\":{\"font\":{\"color\":\"#4D5663\"},\"text\":\"\"},\"zerolinecolor\":\"#E1E5ED\"}},                        {\"showLink\": true, \"linkText\": \"Export to plot.ly\", \"plotlyServerURL\": \"https://plot.ly\", \"responsive\": true}                    ).then(function(){\n",
       "                            \n",
       "var gd = document.getElementById('79e22595-1c37-4c45-b9e7-f4eec62618af');\n",
       "var x = new MutationObserver(function (mutations, observer) {{\n",
       "        var display = window.getComputedStyle(gd).display;\n",
       "        if (!display || display === 'none') {{\n",
       "            console.log([gd, 'removed!']);\n",
       "            Plotly.purge(gd);\n",
       "            observer.disconnect();\n",
       "        }}\n",
       "}});\n",
       "\n",
       "// Listen for the removal of the full notebook cells\n",
       "var notebookContainer = gd.closest('#notebook-container');\n",
       "if (notebookContainer) {{\n",
       "    x.observe(notebookContainer, {childList: true});\n",
       "}}\n",
       "\n",
       "// Listen for the clearing of the current output cell\n",
       "var outputEl = gd.closest('.output');\n",
       "if (outputEl) {{\n",
       "    x.observe(outputEl, {childList: true});\n",
       "}}\n",
       "\n",
       "                        })                };                });            </script>        </div>"
      ]
     },
     "metadata": {},
     "output_type": "display_data"
    }
   ],
   "source": [
    "ML.visualize_cv()"
   ]
  },
  {
   "cell_type": "markdown",
   "id": "8aedc935",
   "metadata": {
    "papermill": {
     "duration": 0.215574,
     "end_time": "2021-09-28T21:38:27.915942",
     "exception": false,
     "start_time": "2021-09-28T21:38:27.700368",
     "status": "completed"
    },
    "tags": []
   },
   "source": [
    "<a href=\"#outlines\"><b>Up to outlines</b>"
   ]
  },
  {
   "cell_type": "markdown",
   "id": "90e6cd2a",
   "metadata": {
    "papermill": {
     "duration": 0.219274,
     "end_time": "2021-09-28T21:38:28.354359",
     "exception": false,
     "start_time": "2021-09-28T21:38:28.135085",
     "status": "completed"
    },
    "tags": []
   },
   "source": [
    "<a id=\"4.7\"></a>\n",
    "<h1>Find the best model and fit it to the data</h1>"
   ]
  },
  {
   "cell_type": "code",
   "execution_count": 21,
   "id": "c734714e",
   "metadata": {
    "execution": {
     "iopub.execute_input": "2021-09-28T21:38:28.798781Z",
     "iopub.status.busy": "2021-09-28T21:38:28.797829Z",
     "iopub.status.idle": "2021-09-28T21:38:40.176808Z",
     "shell.execute_reply": "2021-09-28T21:38:40.175961Z",
     "shell.execute_reply.started": "2021-09-28T21:20:27.080172Z"
    },
    "papermill": {
     "duration": 11.602621,
     "end_time": "2021-09-28T21:38:40.177010",
     "exception": false,
     "start_time": "2021-09-28T21:38:28.574389",
     "status": "completed"
    },
    "scrolled": true,
    "tags": []
   },
   "outputs": [
    {
     "name": "stdout",
     "output_type": "stream",
     "text": [
      "\n",
      "==============================\n",
      "The best model is ====>  Gradient Boosting\n",
      "It has the highest (R-Squared) and the lowest (Root Mean Square Erorr)\n",
      "==============================\n",
      "\n",
      "Gradient Boosting  is fitted to the data!\n",
      "\n",
      "==============================\n"
     ]
    }
   ],
   "source": [
    "ML.fit_best_model()"
   ]
  },
  {
   "cell_type": "markdown",
   "id": "c941602f",
   "metadata": {
    "papermill": {
     "duration": 0.222868,
     "end_time": "2021-09-28T21:38:40.628116",
     "exception": false,
     "start_time": "2021-09-28T21:38:40.405248",
     "status": "completed"
    },
    "tags": []
   },
   "source": [
    "<a id=\"4.8\"></a>\n",
    "<h1>Predict and show the prediction</h1>"
   ]
  },
  {
   "cell_type": "code",
   "execution_count": 22,
   "id": "8a4737e5",
   "metadata": {
    "execution": {
     "iopub.execute_input": "2021-09-28T21:38:41.086852Z",
     "iopub.status.busy": "2021-09-28T21:38:41.085866Z",
     "iopub.status.idle": "2021-09-28T21:38:41.100742Z",
     "shell.execute_reply": "2021-09-28T21:38:41.101285Z",
     "shell.execute_reply.started": "2021-09-28T21:20:38.540632Z"
    },
    "papermill": {
     "duration": 0.248783,
     "end_time": "2021-09-28T21:38:41.101459",
     "exception": false,
     "start_time": "2021-09-28T21:38:40.852676",
     "status": "completed"
    },
    "tags": []
   },
   "outputs": [
    {
     "data": {
      "text/html": [
       "<div>\n",
       "<style scoped>\n",
       "    .dataframe tbody tr th:only-of-type {\n",
       "        vertical-align: middle;\n",
       "    }\n",
       "\n",
       "    .dataframe tbody tr th {\n",
       "        vertical-align: top;\n",
       "    }\n",
       "\n",
       "    .dataframe thead th {\n",
       "        text-align: right;\n",
       "    }\n",
       "</style>\n",
       "<table border=\"1\" class=\"dataframe\">\n",
       "  <thead>\n",
       "    <tr style=\"text-align: right;\">\n",
       "      <th></th>\n",
       "      <th>Id</th>\n",
       "      <th>SalePrice</th>\n",
       "    </tr>\n",
       "  </thead>\n",
       "  <tbody>\n",
       "    <tr>\n",
       "      <th>0</th>\n",
       "      <td>1461</td>\n",
       "      <td>122950.355940</td>\n",
       "    </tr>\n",
       "    <tr>\n",
       "      <th>1</th>\n",
       "      <td>1462</td>\n",
       "      <td>153365.508025</td>\n",
       "    </tr>\n",
       "    <tr>\n",
       "      <th>2</th>\n",
       "      <td>1463</td>\n",
       "      <td>195713.206505</td>\n",
       "    </tr>\n",
       "    <tr>\n",
       "      <th>3</th>\n",
       "      <td>1464</td>\n",
       "      <td>200802.696833</td>\n",
       "    </tr>\n",
       "    <tr>\n",
       "      <th>4</th>\n",
       "      <td>1465</td>\n",
       "      <td>189335.992799</td>\n",
       "    </tr>\n",
       "    <tr>\n",
       "      <th>...</th>\n",
       "      <td>...</td>\n",
       "      <td>...</td>\n",
       "    </tr>\n",
       "    <tr>\n",
       "      <th>1454</th>\n",
       "      <td>2915</td>\n",
       "      <td>83508.001854</td>\n",
       "    </tr>\n",
       "    <tr>\n",
       "      <th>1455</th>\n",
       "      <td>2916</td>\n",
       "      <td>87667.772704</td>\n",
       "    </tr>\n",
       "    <tr>\n",
       "      <th>1456</th>\n",
       "      <td>2917</td>\n",
       "      <td>159157.473452</td>\n",
       "    </tr>\n",
       "    <tr>\n",
       "      <th>1457</th>\n",
       "      <td>2918</td>\n",
       "      <td>121320.297764</td>\n",
       "    </tr>\n",
       "    <tr>\n",
       "      <th>1458</th>\n",
       "      <td>2919</td>\n",
       "      <td>214302.753192</td>\n",
       "    </tr>\n",
       "  </tbody>\n",
       "</table>\n",
       "<p>1459 rows × 2 columns</p>\n",
       "</div>"
      ],
      "text/plain": [
       "        Id      SalePrice\n",
       "0     1461  122950.355940\n",
       "1     1462  153365.508025\n",
       "2     1463  195713.206505\n",
       "3     1464  200802.696833\n",
       "4     1465  189335.992799\n",
       "...    ...            ...\n",
       "1454  2915   83508.001854\n",
       "1455  2916   87667.772704\n",
       "1456  2917  159157.473452\n",
       "1457  2918  121320.297764\n",
       "1458  2919  214302.753192\n",
       "\n",
       "[1459 rows x 2 columns]"
      ]
     },
     "execution_count": 22,
     "metadata": {},
     "output_type": "execute_result"
    }
   ],
   "source": [
    "ML.show_predictions()"
   ]
  },
  {
   "cell_type": "markdown",
   "id": "ed86ac7a",
   "metadata": {
    "papermill": {
     "duration": 0.242871,
     "end_time": "2021-09-28T21:38:41.567733",
     "exception": false,
     "start_time": "2021-09-28T21:38:41.324862",
     "status": "completed"
    },
    "tags": []
   },
   "source": [
    "<a id=\"4.9\"></a>\n",
    "<h1>Save the predictions to a csv file</h1>"
   ]
  },
  {
   "cell_type": "code",
   "execution_count": 23,
   "id": "ca6b5746",
   "metadata": {
    "execution": {
     "iopub.execute_input": "2021-09-28T21:38:42.013259Z",
     "iopub.status.busy": "2021-09-28T21:38:42.012084Z",
     "iopub.status.idle": "2021-09-28T21:38:42.015538Z",
     "shell.execute_reply": "2021-09-28T21:38:42.014906Z",
     "shell.execute_reply.started": "2021-09-28T21:20:38.566044Z"
    },
    "papermill": {
     "duration": 0.227607,
     "end_time": "2021-09-28T21:38:42.015685",
     "exception": false,
     "start_time": "2021-09-28T21:38:41.788078",
     "status": "completed"
    },
    "tags": []
   },
   "outputs": [],
   "source": [
    "# ML.save_predictions('Results')"
   ]
  },
  {
   "cell_type": "markdown",
   "id": "3c2ecc3c",
   "metadata": {
    "papermill": {
     "duration": 0.225701,
     "end_time": "2021-09-28T21:38:42.464386",
     "exception": false,
     "start_time": "2021-09-28T21:38:42.238685",
     "status": "completed"
    },
    "tags": []
   },
   "source": [
    "<a href=\"#outlines\"><b>Up to outlines</b>"
   ]
  },
  {
   "cell_type": "markdown",
   "id": "3e6398c1",
   "metadata": {
    "papermill": {
     "duration": 0.225145,
     "end_time": "2021-09-28T21:38:42.909956",
     "exception": false,
     "start_time": "2021-09-28T21:38:42.684811",
     "status": "completed"
    },
    "tags": []
   },
   "source": [
    "<h2 align=\"center\" style='color:red' > If you liked the notebook or learned something please <b>Upvote</b>! </h2>\n",
    "<p style=\"background-color:skyblue; font-family:newtimeroman; font-size:200%; text-align:center; border-radius: 10px 100px;\">You can also see:</p>\n",
    "<ul>\n",
    "<li><b><a href='https://www.kaggle.com/alaasedeeq/predicting-the-survival-of-titanic-top-6'>Predicting the Survival of Titanic (Top 6%)</a>\n",
    "<li><b><a href='https://www.kaggle.com/alaasedeeq/house-price-prediction-top-8'>\n",
    "✔ House Price prediction(Top 8%)</a>\n",
    "<li><b><a href='https://www.kaggle.com/alaasedeeq/prediction-of-heart-disease-machine-learning'>Prediction of Heart Disease (Machine Learning)</a>\n",
    "<li><b><a href='https://www.kaggle.com/alaasedeeq/data-exploration-and-visualization-uber-data'>Data exploration and visualization(Uber Data)</a><br>\n",
    "<li><b><a href='https://www.kaggle.com/alaasedeeq/hotel-booking-eda-cufflinks-and-plotly'>Hotel booking EDA (Cufflinks and plotly)\n",
    "</a><br>\n",
    "<li><b><a href='https://www.kaggle.com/alaasedeeq/suicide-rates-visualization-and-geographic-maps/edit/run/53135916'>Suicide Rates visualization and Geographic maps</a>\n",
    "<li><b><a href='https://www.kaggle.com/alaasedeeq/superstore-data-analysis-with-plotly-clustering'>Superstore Data Analysis With Plotly(Clustering)</a>\n",
    "<li><b><a href='https://www.kaggle.com/alaasedeeq/superstore-analysis-with-cufflinks-and-pandas'>Superstore Analysis With Cufflinks and pandas</a>\n",
    "<li><b><a href='https://www.kaggle.com/alaasedeeq/learn-data-analysis-using-sql-and-pandas'>Learn Data Analysis using SQL and Pandas</a>\n",
    "<li><b><a href='https://www.kaggle.com/alaasedeeq/european-soccer-database-with-sqlite3'>European soccer database with sqlite3</a>\n",
    "<li><b><a href='https://www.kaggle.com/alaasedeeq/chinook-questions-with-sqlite'>Chinook data questions with sqlite3</a>"
   ]
  },
  {
   "cell_type": "markdown",
   "id": "4c543e45",
   "metadata": {
    "papermill": {
     "duration": 0.219064,
     "end_time": "2021-09-28T21:38:43.349654",
     "exception": false,
     "start_time": "2021-09-28T21:38:43.130590",
     "status": "completed"
    },
    "tags": []
   },
   "source": [
    "### <h1 align=\"center\" style=\"color:red \">Thanks for reading</h1>"
   ]
  }
 ],
 "metadata": {
  "kernelspec": {
   "display_name": "Python 3 (ipykernel)",
   "language": "python",
   "name": "python3"
  },
  "language_info": {
   "codemirror_mode": {
    "name": "ipython",
    "version": 3
   },
   "file_extension": ".py",
   "mimetype": "text/x-python",
   "name": "python",
   "nbconvert_exporter": "python",
   "pygments_lexer": "ipython3",
   "version": "3.9.13"
  },
  "papermill": {
   "default_parameters": {},
   "duration": 298.082005,
   "end_time": "2021-09-28T21:38:44.582774",
   "environment_variables": {},
   "exception": null,
   "input_path": "__notebook__.ipynb",
   "output_path": "__notebook__.ipynb",
   "parameters": {},
   "start_time": "2021-09-28T21:33:46.500769",
   "version": "2.3.3"
  }
 },
 "nbformat": 4,
 "nbformat_minor": 5
}
