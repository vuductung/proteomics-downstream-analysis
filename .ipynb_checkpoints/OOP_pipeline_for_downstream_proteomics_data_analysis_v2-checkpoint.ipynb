{
 "cells": [
  {
   "cell_type": "code",
   "execution_count": 5,
   "id": "3b23b834",
   "metadata": {},
   "outputs": [
    {
     "data": {
      "text/html": [
       "<style>.container {width:95% !important;}</style>"
      ],
      "text/plain": [
       "<IPython.core.display.HTML object>"
      ]
     },
     "metadata": {},
     "output_type": "display_data"
    }
   ],
   "source": [
    "import pandas as pd\n",
    "import numpy as np\n",
    "import seaborn as sns\n",
    "import matplotlib.pyplot as plt\n",
    "from scipy import stats\n",
    "from scipy.stats import variation\n",
    "from matplotlib import pyplot as plt\n",
    "from matplotlib_venn import venn2\n",
    "%matplotlib inline\n",
    "from collections import Counter\n",
    "from sklearn.preprocessing import StandardScaler\n",
    "from sklearn.decomposition import PCA\n",
    "from IPython.core.display import display, HTML\n",
    "display(HTML(\"<style>.container {width:95% !important;}</style>\"))\n",
    "import itertools\n",
    "from itertools import combinations, product\n",
    "from functools import reduce\n",
    "from adjustText import adjust_text\n",
    "import re\n",
    "import plotly.express as px\n",
    "from statsmodels.stats.multitest import fdrcorrection\n",
    "from scipy.stats import truncnorm\n",
    "import gseapy as gp\n",
    "from statsmodels.stats.multitest import multipletests\n",
    "import venn\n",
    "import matplotlib as mpl\n",
    "from scipy.cluster.hierarchy import linkage, fcluster\n",
    "from scipy.cluster.hierarchy import dendrogram\n",
    "from scipy.cluster.hierarchy import linkage, fcluster\n",
    "from scipy.cluster.hierarchy import dendrogram\n",
    "from sklearn.datasets import make_blobs\n",
    "import colorcet as cc\n",
    "from outliers import smirnov_grubbs as grubbs\n",
    "from matplotlib.patches import Patch\n",
    "from itertools import compress\n",
    "from plotly.subplots import make_subplots\n",
    "import plotly.graph_objects as go\n",
    "import operator\n",
    "from sklearn.datasets import make_blobs\n",
    "import colorcet as cc\n",
    "mpl.rcParams['pdf.fonttype'] = 42"
   ]
  },
  {
   "cell_type": "code",
   "execution_count": 16,
   "id": "3b3dd192",
   "metadata": {},
   "outputs": [],
   "source": [
    "# read the data\n",
    "filepath = '/Volumes/pool-mann-projects/Tung/PhD_collabs/Karthik/HEK293_ARMC8_IP/report.pg_matrix.tsv'\n",
    "data = pd.read_csv(filepath, delimiter='\\t')\n",
    "\n",
    "filepath = '/Users/tungvuduc/Desktop/PhD/projects/Karthik/ARMC8_nanobody_IP/sample_annotation_ HEK293.xlsx'\n",
    "annotation_data = pd.read_excel(filepath, )\n",
    "annotation_list = annotation_data['strain'].to_list()"
   ]
  },
  {
   "cell_type": "markdown",
   "id": "d6f85c14",
   "metadata": {},
   "source": [
    "## Preprocessing Class"
   ]
  },
  {
   "cell_type": "code",
   "execution_count": 187,
   "id": "19c29919",
   "metadata": {},
   "outputs": [],
   "source": [
    "class Preprocessing:\n",
    "    \n",
    "    \"\"\"\n",
    "    This class encapsulates preprocessing steps\n",
    "    \"\"\"\n",
    "    \n",
    "    def __init__(self):\n",
    "        \n",
    "        print()\n",
    "        print('Preprocessing object has been created')\n",
    "        print()\n",
    "        \n",
    "    def change_datatypes(self, data):\n",
    "        \n",
    "        \"\"\"\n",
    "        change datatypes\n",
    "        \"\"\"\n",
    "        \n",
    "        self.data = data.copy()\n",
    "        for i in self.data.columns.unique():\n",
    "            if i in ['Protein.Group', 'Protein.Ids', 'Protein.Names', 'Genes','First.Protein.Description']:\n",
    "                self.data[i] = self.data[i].astype('string')\n",
    "            else:\n",
    "                self.data[i] = self.data[i].astype('float') \n",
    "        return self.data\n",
    "    \n",
    "    def log2_transform(self, data):\n",
    "        \n",
    "        \"\"\"\n",
    "        log2 transfrom float data\n",
    "        \"\"\"\n",
    "\n",
    "        for i in self.data.select_dtypes('float').columns.unique():\n",
    "            self.data[i] = np.log2(self.data[i])\n",
    "        return self.data\n",
    "        \n",
    "    def filter_for_valid_vals_in_one_exp_group(self, data):\n",
    "        \n",
    "        \"\"\"\n",
    "        Filter for valid values in at least one experimental group\n",
    "        param data: diann output table\n",
    "        \"\"\"\n",
    "        \n",
    "        columns_name = self.data.select_dtypes('float').columns.unique()\n",
    "        \n",
    "        indices = []\n",
    "        \n",
    "        for col in columns_name:\n",
    "            _ = self.data[self.data[col].isna().sum(axis=1)==0].index.to_list()\n",
    "            indices += _\n",
    "            indices = list(set(indices))\n",
    "            self.data = self.data[self.data.index.isin(indices)].reset_index(drop = True)\n",
    "        return self.data\n",
    "    \n",
    "    def impute_genes_with_protein_ids(self, data):\n",
    "        \"\"\"\n",
    "        Imputing missing values in Genes column with the protein IDs\n",
    "        \"\"\"\n",
    "        imputation_values = [i.split(';')[0] for i in self.data[self.data['Genes'].isna()]['Protein.Ids'].values]\n",
    "        \n",
    "        for idx, value in zip(self.data[self.data['Genes'].isna()]['Protein.Ids'].index, imputation_values1):\n",
    "            self.data.loc[idx, ['Genes']] = value\n",
    "        return self.data\n",
    "            \n",
    "    def impute_based_on_gaussian(self, data):\n",
    "         \n",
    "        \"\"\"\n",
    "        This function imputes missing values in a dataset using a Gaussian distribution.\n",
    "        The missing values are imputed by random sampling values from a Gaussian distribution with a mean\n",
    "        of 3 standard deviations below the computed mean and a width of 0.3 times the computed standard deviation.\n",
    "        The function returns a copy of the imputed dataset with the missing values replaced.\n",
    "        \"\"\"\n",
    "        # select only float data\n",
    "        float_data = self.data.select_dtypes('float')\n",
    "        na_data = float_data[float_data.isna().any(axis=1)]\n",
    "\n",
    "        # loop through na_data rows and generate imputed data\n",
    "        imp_array = []\n",
    "\n",
    "        for i in na_data.index: \n",
    "            na_count = na_data.loc[i].isna().sum()\n",
    "\n",
    "            mean = na_data.loc[i].mean(skipna=True)\n",
    "            std = na_data.loc[i].std(skipna=True)\n",
    "\n",
    "            np.random.seed(i)\n",
    "            imp_array.append(list(np.random.normal(loc=mean-3*std, scale=0.3*std, size=na_count,)))\n",
    "\n",
    "        imp_values_list = np.array([imp_value for innerlist in imp_array for imp_value in innerlist])\n",
    "\n",
    "        copied_data = float_data.copy()\n",
    "        columns = float_data.columns\n",
    "        copied_data.columns = np.arange(copied_data.shape[1])\n",
    "        \n",
    "        # impute the data\n",
    "        stacked_na_data = copied_data.stack(dropna=False)\n",
    "        na_index = stacked_na_data[stacked_na_data.isna()].index\n",
    "        stacked_na_data.loc[na_index] = imp_values_list\n",
    "        imp_data = stacked_na_data.unstack()\n",
    "        imp_data.columns = columns\n",
    "        imp_data = imp_data.merge(data.select_dtypes('string'), left_index=True, right_index=True)\n",
    "        self.data = imp_data.copy()\n",
    "        \n",
    "        return self.data\n",
    "    "
   ]
  },
  {
   "cell_type": "markdown",
   "id": "d7bad157",
   "metadata": {},
   "source": [
    "## Preprocessor Class"
   ]
  },
  {
   "cell_type": "code",
   "execution_count": 196,
   "id": "b18162a8",
   "metadata": {},
   "outputs": [],
   "source": [
    "class Preprocessor:\n",
    "    \n",
    "    \"\"\"\n",
    "    This class applies preprocessing steps to DIANN data\n",
    "    \"\"\"\n",
    "    \n",
    "    def __init__(self):\n",
    "        self.data = None\n",
    "#         self.info = Information()\n",
    "        self._preprocessing = Preprocessing()\n",
    "#         self.visualize = Visualizer()\n",
    "        \n",
    "    \n",
    "    def _process(self, data):\n",
    "        \n",
    "        self.data = data\n",
    "        \n",
    "        # change the datatypes\n",
    "        self.data = self._preprocessing.change_datatypes(self.data)\n",
    "        \n",
    "        # log2 transform data\n",
    "        self.data = self._preprocessing.log2_transform(self.data)\n",
    "        \n",
    "        # filter for valid values in at least one experimental group\n",
    "        self.data = self._preprocessing.filter_for_valid_vals_in_one_exp_group(self.data)\n",
    "        \n",
    "        # impute data based on normal distribution\n",
    "        self.data = self._preprocessing.impute_based_on_gaussian(self.data)\n",
    "     "
   ]
  },
  {
   "cell_type": "markdown",
   "id": "e72e2dee",
   "metadata": {},
   "source": [
    "## DIANN Data Class"
   ]
  },
  {
   "cell_type": "code",
   "execution_count": 197,
   "id": "b8e2af32",
   "metadata": {},
   "outputs": [],
   "source": [
    "class DiannDataObjectOriented:\n",
    "    \n",
    "    \"\"\"\n",
    "    param data: diann output data\n",
    "    \"\"\"\n",
    "    \n",
    "    def __init__(self):\n",
    "        # properties\n",
    "        self.rows = None\n",
    "        self.cols = None\n",
    "        self.col_names = None\n",
    "        self.missing_values = None\n",
    "        \n",
    "        self._Preprocessor = Preprocessor()\n",
    "        print()\n",
    "        print('DiannDataObjectOriented Object has been created.')\n",
    "        print()\n",
    "    \n",
    "    def add_data_and_change_col_names(self, data, col_names):\n",
    "            \n",
    "        \"\"\"\n",
    "        change the colums names of DIANN output tables\n",
    "        replicates will have same name\n",
    "        param data: DIANN output table\n",
    "        param col_names: list of column names in the order of measurement\n",
    "        \"\"\"\n",
    "        \n",
    "        data.columns = ['Protein.Group', 'Protein.Ids', 'Protein.Names', 'Genes','First.Protein.Description'] + col_names\n",
    "        self.rows = data.shape[0]\n",
    "        self.cols = data.shape[1]\n",
    "        self.col_names = data.columns.unique()\n",
    "        self.missing_vals = data.isnull().sum(axis=0)\n",
    "        self.data = data.copy()\n",
    "        print()\n",
    "        print('Data has been added - Column names have been changed.')\n",
    "        print()\n",
    "        \n",
    "    def plot_missing_vals(self):\n",
    "        x = [str(i) for i in range(len(self.data.iloc[:,5:].columns))]\n",
    "        y= self.data.iloc[:,5:].isna().sum(axis=0).values\n",
    "        fig, axes = plt.subplots(1,2)\n",
    "        fig.set_figheight(4)\n",
    "        fig.set_figwidth(9)\n",
    "        sns.lineplot(y=y, x= x, marker='o', ax=axes[0])\n",
    "        sns.heatmap(self.data.isnull(), cmap='viridis', ax=axes[1], cbar=False, xticklabels=True, yticklabels=False)\n",
    "        plt.ylabel('mising values')\n",
    "        plt.xlabel('measurement order')\n",
    "        axes[0].set(xlabel='measurment_order')\n",
    "        axes[0].set(ylabel='missing_vals')\n",
    "        axes[1].set(xlabel='measurment_order')\n",
    "        axes[1].set(ylabel='missing_vals')\n",
    "        sns.despine()\n",
    "        plt.show()\n",
    "    \n",
    "    def drop_col(self, col_name):\n",
    "        self.data = self.data.drop(col_name, axis=1)\n",
    "        return self.data.columns\n",
    "        \n",
    "    def preprocessing(self):\n",
    "        self.data = self._Preprocessor._process(self.data)\n",
    "        print()\n",
    "        print('Data has been pre-processed')\n",
    "        print()\n"
   ]
  },
  {
   "cell_type": "code",
   "execution_count": 198,
   "id": "c88d88c6",
   "metadata": {
    "scrolled": false
   },
   "outputs": [
    {
     "name": "stdout",
     "output_type": "stream",
     "text": [
      "\n",
      "Preprocessing object has been created\n",
      "\n",
      "\n",
      "DiannDataObjectOriented Object has been created.\n",
      "\n"
     ]
    }
   ],
   "source": [
    "DiannData = DiannDataObjectOriented()\n"
   ]
  },
  {
   "cell_type": "code",
   "execution_count": 199,
   "id": "5cf4c3b3",
   "metadata": {
    "scrolled": false
   },
   "outputs": [
    {
     "name": "stdout",
     "output_type": "stream",
     "text": [
      "\n",
      "Data has been added - Column names have been changed.\n",
      "\n"
     ]
    }
   ],
   "source": [
    "DiannData.add_data_and_change_col_names(data, annotation_list)\n"
   ]
  },
  {
   "cell_type": "code",
   "execution_count": 200,
   "id": "0eb7224b",
   "metadata": {
    "scrolled": false
   },
   "outputs": [
    {
     "data": {
      "image/png": "[encoded data removed]",
      "text/plain": [
       "<Figure size 900x400 with 2 Axes>"
      ]
     },
     "metadata": {},
     "output_type": "display_data"
    }
   ],
   "source": [
    "DiannData.plot_missing_vals()\n"
   ]
  },
  {
   "cell_type": "code",
   "execution_count": null,
   "id": "d351992d",
   "metadata": {},
   "outputs": [],
   "source": []
  }
 ],
 "metadata": {
  "kernelspec": {
   "display_name": "Python 3 (ipykernel)",
   "language": "python",
   "name": "python3"
  },
  "language_info": {
   "codemirror_mode": {
    "name": "ipython",
    "version": 3
   },
   "file_extension": ".py",
   "mimetype": "text/x-python",
   "name": "python",
   "nbconvert_exporter": "python",
   "pygments_lexer": "ipython3",
   "version": "3.9.13"
  }
 },
 "nbformat": 4,
 "nbformat_minor": 5
}
