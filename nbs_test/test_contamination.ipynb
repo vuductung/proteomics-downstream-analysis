{
 "cells": [
  {
   "cell_type": "code",
   "execution_count": 34,
   "metadata": {},
   "outputs": [
    {
     "name": "stdout",
     "output_type": "stream",
     "text": [
      "The autoreload extension is already loaded. To reload it, use:\n",
      "  %reload_ext autoreload\n"
     ]
    }
   ],
   "source": [
    "import pandas as pd\n",
    "import numpy as np\n",
    "import proteomics_downstream_analysis as pda\n",
    "from proteomics_downstream_analysis.contamination import ContaminationAnalysis\n",
    "from scipy import stats\n",
    "%load_ext autoreload\n",
    "%autoreload 2"
   ]
  },
  {
   "cell_type": "code",
   "execution_count": 2,
   "metadata": {},
   "outputs": [],
   "source": [
    "panel = pd.read_excel('/Users/tungvuduc/Desktop/PhD/projects/proteomics_downstream_analysis/test_data/contam_panel.xlsx')"
   ]
  },
  {
   "cell_type": "code",
   "execution_count": 3,
   "metadata": {},
   "outputs": [],
   "source": [
    "contam = ContaminationAnalysis()"
   ]
  },
  {
   "cell_type": "code",
   "execution_count": 4,
   "metadata": {},
   "outputs": [],
   "source": [
    "data3 = pd.DataFrame({'a' : np.array(['a', 'b', 'c', 'd', 'e', 'f', 'g']),\n",
    "                                'b' : np.array([1, np.nan, 3, 4, 5, 6, 7]),\n",
    "                                'c' : np.array([2, 2, np.nan, np.nan, np.nan, np.nan, np.nan]),\n",
    "                                'e' : np.array([np.nan, np.nan, 3, 4, 5, 6, 7]),\n",
    "                                'f' : np.array([1, 10, 8, 4, 5, 6, 7]),\n",
    "                                'g' : np.array([1, 10, 8, 4, 5, 6, 7]),\n",
    "                                'h' : np.array([1, 10, 8, 4, 5, 6, 7]),\n",
    "                                'i' : np.array([1, 10, 8, 4, 5, 6, 7]),\n",
    "                                'j' : np.array([3, 24, 64, 42, 23, 5, 32]),}\n",
    "                                )\n",
    "\n",
    "data3.columns = ['Genes','a', 'a','a', 'a','a', 'a','a', 'a']\n",
    "data3['a'] = data3['a'].astype(float)\n",
    "data3['Genes'] = data3['Genes'].astype('string')\n"
   ]
  },
  {
   "cell_type": "code",
   "execution_count": 5,
   "metadata": {},
   "outputs": [],
   "source": [
    "# create test data 2\n",
    "data2 = pd.DataFrame({'a' : np.array(['PRDX2', 'CA2', 'CAT', 'd', 'e', 'f', 'g']),\n",
    "                            'b' : np.array([1, 2, 3, 4, 5, 6, 7]),\n",
    "                            'c' : np.array([2, 2, 9, 5, 8, 7, 4]),\n",
    "                            'e' : np.array([1, 10, 8, 4, 5, 6, 7]),\n",
    "                            'f' : np.array([1, 10, 8, 4, 5, 6, 7]),\n",
    "                            'g' : np.array([1, 10, 8, 4, 5, 6, 7]),\n",
    "                            'h' : np.array([1, 10, 8, 4, 5, 6, 7]),\n",
    "                            'i' : np.array([1, 10, 8, 4, 5, 6, 7]),\n",
    "                            'j' : np.array([412, 231, 234, 5, 1, 3, 4]),\n",
    "                            }\n",
    "                )\n",
    "                \n",
    "data2.columns = ['Genes','a', 'a','a', 'a','a', 'a','a', 'a']\n",
    "data2['a'] = data2['a'].astype('float')\n",
    "data2['Genes'] = data2['Genes'].astype('string')\n"
   ]
  },
  {
   "cell_type": "code",
   "execution_count": 6,
   "metadata": {},
   "outputs": [],
   "source": [
    "data = pd.DataFrame({\n",
    "            \"Genes\": list(\"abcdefg\"), \n",
    "            \"b\": [1., 2, 3, 4, 5, 6, 7],\n",
    "            \"c\": [2., 2, 9, 5, 8, 7, 4],\n",
    "            \"d\": [1., 10, 8, 4, 5, 6, 7],\n",
    "            \"e\": [100., 8218, 8959, 4833, 485, 45, 485]\n",
    "        })\n",
    "data.columns = [\"Genes\",\"a\", \"a\", \"a\", \"a\"]\n",
    "data[\"a\"] = data[\"a\"].astype(\"float\")\n",
    "data[\"Genes\"] = data[\"Genes\"].astype(\"string\")\n"
   ]
  },
  {
   "cell_type": "code",
   "execution_count": 7,
   "metadata": {},
   "outputs": [],
   "source": [
    "data5 = pd.DataFrame({\"a\" : np.array([\"a\", \"b\", \"c\",]),\n",
    "                                \"b\" : np.array([1, 1, 1]),\n",
    "                                \"c\" : np.array([2, 2, 2]),\n",
    "                                \"e\" : np.array([3, 3, 3]),\n",
    "                                \"f\" : np.array([4, 4, 4]),\n",
    "                                \"g\" : np.array([5, 5, 5]),\n",
    "                                \"h\" : np.array([6, 6, 6]),\n",
    "                                \"i\" : np.array([7, 7, 7]),\n",
    "                                \"j\" : np.array([8, 8, 8]),}\n",
    "                                )\n",
    "\n",
    "data5.columns = [\"Genes\", \"a\", \"b\", \"a\", \"b\", \"a\", \"b\", \"a\", \"b\"]\n",
    "data5[\"a\"] = data5[\"a\"].astype(\"float\")\n",
    "data5[\"b\"] = data5[\"b\"].astype(\"float\")\n",
    "\n",
    "data5[\"Genes\"] = data5[\"Genes\"].astype(\"string\")\n"
   ]
  },
  {
   "cell_type": "code",
   "execution_count": 41,
   "metadata": {},
   "outputs": [
    {
     "data": {
      "text/plain": [
       "(array([8.54228710e-09, 7.63566673e-01, 9.99763743e-01, 9.97815322e-01,\n",
       "        9.99936310e-01, 9.99500636e-01]),\n",
       " 0.2894214425432424,\n",
       " array([ True, False, False, False, False, False]))"
      ]
     },
     "execution_count": 41,
     "metadata": {},
     "output_type": "execute_result"
    }
   ],
   "source": [
    "data7 = pd.DataFrame({\"Genes\" : np.array([\"FGB\", \"CLU\", \"SERPINA5\", \"d\", \"CDH5\", \"PPBP\", \"LTF\"]),\n",
    "                    \"b\" : np.array([0.0005, 0.0005, 0.0005, 41231, 51123, 11120, 72123]),\n",
    "                    \"c\" : np.array([2029, 3212, 2329, 2325, 8, 7, 4]),\n",
    "                    \"e\" : np.array([32232, 24133, 11342, 1, 5, 8, 2]),\n",
    "                    \"f\" : np.array([2394, 1023, 3434, 4, 3, 1, 7]),\n",
    "                    \"g\" : np.array([415322, 112323, 82332, 2, 1, 3, 2]),\n",
    "                    \"h\" : np.array([133224, 12453, 11323, 4, 2, 3, 1]),\n",
    "                    \"i\" : np.array([12452, 1023, 8542, 2, 2, 6, 1]),\n",
    "                    \"j\" : np.array([13234, 23342, 32333, 3, 1, 3, 1]),\n",
    "                    }\n",
    "        )\n",
    "\n",
    "data7.columns = [\"Genes\", \"a\", \"a\", \"a\", \"a\", \"b\", \"a\", \"a\", \"b\"]\n",
    "data7[\"a\"] = data7[\"a\"].astype(\"float\")\n",
    "data7[\"b\"] = data7[\"b\"].astype(\"float\")\n",
    "data7[\"Genes\"] = data7[\"Genes\"].astype(\"string\")\n",
    "\n",
    "contam._compute_contamination_outlier(data7[[\"Genes\", \"a\"]], contam_type=\"Coagulation_Down\")"
   ]
  },
  {
   "cell_type": "code",
   "execution_count": 42,
   "metadata": {},
   "outputs": [
    {
     "name": "stdout",
     "output_type": "stream",
     "text": [
      "[ True False False False False False False False]\n"
     ]
    },
    {
     "data": {
      "text/html": [
       "<div>\n",
       "<style scoped>\n",
       "    .dataframe tbody tr th:only-of-type {\n",
       "        vertical-align: middle;\n",
       "    }\n",
       "\n",
       "    .dataframe tbody tr th {\n",
       "        vertical-align: top;\n",
       "    }\n",
       "\n",
       "    .dataframe thead th {\n",
       "        text-align: right;\n",
       "    }\n",
       "</style>\n",
       "<table border=\"1\" class=\"dataframe\">\n",
       "  <thead>\n",
       "    <tr style=\"text-align: right;\">\n",
       "      <th></th>\n",
       "      <th>a</th>\n",
       "      <th>a</th>\n",
       "      <th>a</th>\n",
       "      <th>b</th>\n",
       "      <th>a</th>\n",
       "      <th>a</th>\n",
       "      <th>b</th>\n",
       "    </tr>\n",
       "    <tr>\n",
       "      <th>Genes</th>\n",
       "      <th></th>\n",
       "      <th></th>\n",
       "      <th></th>\n",
       "      <th></th>\n",
       "      <th></th>\n",
       "      <th></th>\n",
       "      <th></th>\n",
       "    </tr>\n",
       "  </thead>\n",
       "  <tbody>\n",
       "    <tr>\n",
       "      <th>FGB</th>\n",
       "      <td>2029.0</td>\n",
       "      <td>32232.0</td>\n",
       "      <td>2394.0</td>\n",
       "      <td>415322.0</td>\n",
       "      <td>133224.0</td>\n",
       "      <td>12452.0</td>\n",
       "      <td>13234.0</td>\n",
       "    </tr>\n",
       "    <tr>\n",
       "      <th>CLU</th>\n",
       "      <td>3212.0</td>\n",
       "      <td>24133.0</td>\n",
       "      <td>1023.0</td>\n",
       "      <td>112323.0</td>\n",
       "      <td>12453.0</td>\n",
       "      <td>1023.0</td>\n",
       "      <td>23342.0</td>\n",
       "    </tr>\n",
       "    <tr>\n",
       "      <th>SERPINA5</th>\n",
       "      <td>2329.0</td>\n",
       "      <td>11342.0</td>\n",
       "      <td>3434.0</td>\n",
       "      <td>82332.0</td>\n",
       "      <td>11323.0</td>\n",
       "      <td>8542.0</td>\n",
       "      <td>32333.0</td>\n",
       "    </tr>\n",
       "    <tr>\n",
       "      <th>d</th>\n",
       "      <td>2325.0</td>\n",
       "      <td>1.0</td>\n",
       "      <td>4.0</td>\n",
       "      <td>2.0</td>\n",
       "      <td>4.0</td>\n",
       "      <td>2.0</td>\n",
       "      <td>3.0</td>\n",
       "    </tr>\n",
       "    <tr>\n",
       "      <th>CDH5</th>\n",
       "      <td>8.0</td>\n",
       "      <td>5.0</td>\n",
       "      <td>3.0</td>\n",
       "      <td>1.0</td>\n",
       "      <td>2.0</td>\n",
       "      <td>2.0</td>\n",
       "      <td>1.0</td>\n",
       "    </tr>\n",
       "    <tr>\n",
       "      <th>PPBP</th>\n",
       "      <td>7.0</td>\n",
       "      <td>8.0</td>\n",
       "      <td>1.0</td>\n",
       "      <td>3.0</td>\n",
       "      <td>3.0</td>\n",
       "      <td>6.0</td>\n",
       "      <td>3.0</td>\n",
       "    </tr>\n",
       "    <tr>\n",
       "      <th>LTF</th>\n",
       "      <td>4.0</td>\n",
       "      <td>2.0</td>\n",
       "      <td>7.0</td>\n",
       "      <td>2.0</td>\n",
       "      <td>1.0</td>\n",
       "      <td>1.0</td>\n",
       "      <td>1.0</td>\n",
       "    </tr>\n",
       "  </tbody>\n",
       "</table>\n",
       "</div>"
      ],
      "text/plain": [
       "               a        a       a         b         a        a        b\n",
       "Genes                                                                  \n",
       "FGB       2029.0  32232.0  2394.0  415322.0  133224.0  12452.0  13234.0\n",
       "CLU       3212.0  24133.0  1023.0  112323.0   12453.0   1023.0  23342.0\n",
       "SERPINA5  2329.0  11342.0  3434.0   82332.0   11323.0   8542.0  32333.0\n",
       "d         2325.0      1.0     4.0       2.0       4.0      2.0      3.0\n",
       "CDH5         8.0      5.0     3.0       1.0       2.0      2.0      1.0\n",
       "PPBP         7.0      8.0     1.0       3.0       3.0      6.0      3.0\n",
       "LTF          4.0      2.0     7.0       2.0       1.0      1.0      1.0"
      ]
     },
     "execution_count": 42,
     "metadata": {},
     "output_type": "execute_result"
    }
   ],
   "source": [
    "contam.outlier(data7, kind=\"contamination\", remove=True, contam_type=\"Coagulation_Down\")"
   ]
  }
 ],
 "metadata": {
  "kernelspec": {
   "display_name": "DiannOOP",
   "language": "python",
   "name": "python3"
  },
  "language_info": {
   "codemirror_mode": {
    "name": "ipython",
    "version": 3
   },
   "file_extension": ".py",
   "mimetype": "text/x-python",
   "name": "python",
   "nbconvert_exporter": "python",
   "pygments_lexer": "ipython3",
   "version": "3.11.3"
  },
  "orig_nbformat": 4
 },
 "nbformat": 4,
 "nbformat_minor": 2
}
