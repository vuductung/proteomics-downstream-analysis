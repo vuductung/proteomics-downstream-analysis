{
 "cells": [
  {
   "cell_type": "code",
   "execution_count": 1,
   "metadata": {},
   "outputs": [],
   "source": [
    "\n",
    "import pandas as pd\n",
    "import numpy as np\n",
    "import proteomics_downstream_analysis as pda\n",
    "from scipy import stats"
   ]
  },
  {
   "cell_type": "code",
   "execution_count": 2,
   "metadata": {},
   "outputs": [],
   "source": [
    "data = pd.DataFrame({\n",
    "            'Protein.Group': [1, 2, 3, 4, 5],\n",
    "            'Protein.Ids': [112, 115, 118, 119, 120],\n",
    "            'Protein.Names': ['p1', 'p2', 'p3', 'p4', 'p5'],\n",
    "            'Genes': ['g1', 'g2', 'g3', 'g4', 'g5'],\n",
    "            'First.Protein.Description': ['d1', 'd2', 'd3', 'd4', 'd5'],\n",
    "            'WT1': [1.0, 1.0, 1.0, 1.0, 1.0],\n",
    "            'WT2': [1.0, 1.0, 1.0, 1.0, 1.0],\n",
    "            'WT3': [1.0, 1.0, 1.0, 1.0, 1.0],\n",
    "            'KO1': [1.0, 1.0, 1.0, 1.0, 1.0],\n",
    "            'KO2': [1.0, 1.0, 1.0, 1.0, 1.0],\n",
    "            'KO3': [1.0, 1.0, 1.0, 1.0, 1.0],\n",
    "        })\n",
    "data.columns = ['Protein.Group', 'Protein.Ids', 'Protein.Names', 'Genes', 'First.Protein.Description', 'WT', 'WT', 'WT', 'KO', 'KO', 'KO']"
   ]
  },
  {
   "cell_type": "code",
   "execution_count": 3,
   "metadata": {},
   "outputs": [
    {
     "name": "stderr",
     "output_type": "stream",
     "text": [
      "/Users/tungvuduc/Desktop/PhD/projects/proteomics_downstream_analysis/proteomics_downstream_analysis/statistics.py:41: RuntimeWarning: Precision loss occurred in moment calculation due to catastrophic cancellation. This occurs when the data are nearly identical. Results may be unreliable.\n",
      "  t_stats, pvalues = stats.ttest_ind(a=self.data[a], b=self.data[b], axis=1)\n"
     ]
    }
   ],
   "source": [
    "diann_obj = pda.DiannData()\n",
    "diann_obj.data = data\n",
    "\n",
    "comparisons = [('WT', 'KO')]\n",
    "diann_obj.student_ttest(comparisons)"
   ]
  },
  {
   "cell_type": "code",
   "execution_count": 4,
   "metadata": {},
   "outputs": [
    {
     "data": {
      "text/html": [
       "<div>\n",
       "<style scoped>\n",
       "    .dataframe tbody tr th:only-of-type {\n",
       "        vertical-align: middle;\n",
       "    }\n",
       "\n",
       "    .dataframe tbody tr th {\n",
       "        vertical-align: top;\n",
       "    }\n",
       "\n",
       "    .dataframe thead th {\n",
       "        text-align: right;\n",
       "    }\n",
       "</style>\n",
       "<table border=\"1\" class=\"dataframe\">\n",
       "  <thead>\n",
       "    <tr style=\"text-align: right;\">\n",
       "      <th></th>\n",
       "      <th>WT/KO</th>\n",
       "    </tr>\n",
       "  </thead>\n",
       "  <tbody>\n",
       "    <tr>\n",
       "      <th>0</th>\n",
       "      <td>NaN</td>\n",
       "    </tr>\n",
       "    <tr>\n",
       "      <th>1</th>\n",
       "      <td>NaN</td>\n",
       "    </tr>\n",
       "    <tr>\n",
       "      <th>2</th>\n",
       "      <td>NaN</td>\n",
       "    </tr>\n",
       "    <tr>\n",
       "      <th>3</th>\n",
       "      <td>NaN</td>\n",
       "    </tr>\n",
       "    <tr>\n",
       "      <th>4</th>\n",
       "      <td>NaN</td>\n",
       "    </tr>\n",
       "  </tbody>\n",
       "</table>\n",
       "</div>"
      ],
      "text/plain": [
       "   WT/KO\n",
       "0    NaN\n",
       "1    NaN\n",
       "2    NaN\n",
       "3    NaN\n",
       "4    NaN"
      ]
     },
     "execution_count": 4,
     "metadata": {},
     "output_type": "execute_result"
    }
   ],
   "source": [
    "diann_obj.cohensd_data"
   ]
  },
  {
   "cell_type": "code",
   "execution_count": 14,
   "metadata": {},
   "outputs": [
    {
     "ename": "TypeError",
     "evalue": "at least two inputs are required; got 1.",
     "output_type": "error",
     "traceback": [
      "\u001b[0;31m---------------------------------------------------------------------------\u001b[0m",
      "\u001b[0;31mTypeError\u001b[0m                                 Traceback (most recent call last)",
      "Cell \u001b[0;32mIn[14], line 1\u001b[0m\n\u001b[0;32m----> 1\u001b[0m stats\u001b[39m.\u001b[39;49mf_oneway([\u001b[39m*\u001b[39;49mdata[\u001b[39m'\u001b[39;49m\u001b[39mWT\u001b[39;49m\u001b[39m'\u001b[39;49m], data[\u001b[39m'\u001b[39;49m\u001b[39mKO\u001b[39;49m\u001b[39m'\u001b[39;49m]], axis\u001b[39m=\u001b[39;49m\u001b[39m1\u001b[39;49m)\n",
      "File \u001b[0;32m~/opt/anaconda3/envs/DiannOOP/lib/python3.11/site-packages/scipy/stats/_stats_py.py:3843\u001b[0m, in \u001b[0;36mf_oneway\u001b[0;34m(axis, *samples)\u001b[0m\n\u001b[1;32m   3714\u001b[0m \u001b[39m\u001b[39m\u001b[39m\"\"\"Perform one-way ANOVA.\u001b[39;00m\n\u001b[1;32m   3715\u001b[0m \n\u001b[1;32m   3716\u001b[0m \u001b[39mThe one-way ANOVA tests the null hypothesis that two or more groups have\u001b[39;00m\n\u001b[0;32m   (...)\u001b[0m\n\u001b[1;32m   3840\u001b[0m \n\u001b[1;32m   3841\u001b[0m \u001b[39m\"\"\"\u001b[39;00m\n\u001b[1;32m   3842\u001b[0m \u001b[39mif\u001b[39;00m \u001b[39mlen\u001b[39m(samples) \u001b[39m<\u001b[39m \u001b[39m2\u001b[39m:\n\u001b[0;32m-> 3843\u001b[0m     \u001b[39mraise\u001b[39;00m \u001b[39mTypeError\u001b[39;00m(\u001b[39m'\u001b[39m\u001b[39mat least two inputs are required;\u001b[39m\u001b[39m'\u001b[39m\n\u001b[1;32m   3844\u001b[0m                     \u001b[39mf\u001b[39m\u001b[39m'\u001b[39m\u001b[39m got \u001b[39m\u001b[39m{\u001b[39;00m\u001b[39mlen\u001b[39m(samples)\u001b[39m}\u001b[39;00m\u001b[39m.\u001b[39m\u001b[39m'\u001b[39m)\n\u001b[1;32m   3846\u001b[0m samples \u001b[39m=\u001b[39m [np\u001b[39m.\u001b[39masarray(sample, dtype\u001b[39m=\u001b[39m\u001b[39mfloat\u001b[39m) \u001b[39mfor\u001b[39;00m sample \u001b[39min\u001b[39;00m samples]\n\u001b[1;32m   3848\u001b[0m \u001b[39m# ANOVA on N groups, each in its own array\u001b[39;00m\n",
      "\u001b[0;31mTypeError\u001b[0m: at least two inputs are required; got 1."
     ]
    }
   ],
   "source": []
  }
 ],
 "metadata": {
  "kernelspec": {
   "display_name": "DiannOOP",
   "language": "python",
   "name": "python3"
  },
  "language_info": {
   "codemirror_mode": {
    "name": "ipython",
    "version": 3
   },
   "file_extension": ".py",
   "mimetype": "text/x-python",
   "name": "python",
   "nbconvert_exporter": "python",
   "pygments_lexer": "ipython3",
   "version": "3.11.3"
  },
  "orig_nbformat": 4
 },
 "nbformat": 4,
 "nbformat_minor": 2
}
