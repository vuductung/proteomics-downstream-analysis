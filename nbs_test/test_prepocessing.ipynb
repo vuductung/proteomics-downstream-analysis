{
 "cells": [
  {
   "cell_type": "code",
   "execution_count": 1,
   "metadata": {},
   "outputs": [],
   "source": [
    "# set directory for test module import\n",
    "import sys  \n",
    "sys.path.insert(0, '/Users/tungvuduc/Desktop/PhD/projects/proteomics_downstream_analysis/test')\n"
   ]
  },
  {
   "cell_type": "code",
   "execution_count": 2,
   "metadata": {},
   "outputs": [],
   "source": [
    "# import test module\n",
    "import test_preprocessing as test\n",
    "import pandas as pd\n",
    "import numpy as np\n",
    "import proteomics_downstream_analysis as pda"
   ]
  },
  {
   "cell_type": "code",
   "execution_count": 40,
   "metadata": {},
   "outputs": [],
   "source": [
    "data = pd.DataFrame({\n",
    "            'Protein.Group': [1, 2, 3, 4, 5],\n",
    "            'Protein.Ids': [112, 115, 118, 119, 120],\n",
    "            'Protein.Names': ['p1', 'p2', 'p3', 'p4', 'p5'],\n",
    "            'Genes': ['g1', 'g2', 'g3', 'g4', 'g5'],\n",
    "            'First.Protein.Description': ['d1', 'd2', 'd3', 'd4', 'd5'],\n",
    "            'WT1': [1.0, 1.0, 1, 1.0, 1.0],\n",
    "            'WT2': [1.0, 1.0, 1.0, 1.0, 1.0],\n",
    "            'WT3': [1.0, 1.0, 1.0, 1.0, 1.0],\n",
    "            'KO1': [1.0, 1.0, 1.0, 1.0, 1.0],\n",
    "            'KO2': [1.0, 1.0, 1.0, 1.0, 1.0],\n",
    "            'KO3': [1.0, 1.0, 1.0, 1.0, 1.0],\n",
    "        })\n",
    "data.columns = ['Protein.Group', 'Protein.Ids', 'Protein.Names', 'Genes', 'First.Protein.Description', 'WT', 'WT', 'WT', 'KO', 'KO', 'KO']"
   ]
  }
 ],
 "metadata": {
  "kernelspec": {
   "display_name": "DiannOOP",
   "language": "python",
   "name": "python3"
  },
  "language_info": {
   "codemirror_mode": {
    "name": "ipython",
    "version": 3
   },
   "file_extension": ".py",
   "mimetype": "text/x-python",
   "name": "python",
   "nbconvert_exporter": "python",
   "pygments_lexer": "ipython3",
   "version": "3.11.3"
  },
  "orig_nbformat": 4
 },
 "nbformat": 4,
 "nbformat_minor": 2
}
