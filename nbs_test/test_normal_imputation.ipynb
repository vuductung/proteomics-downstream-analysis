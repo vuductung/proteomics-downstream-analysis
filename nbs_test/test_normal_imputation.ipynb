{
 "cells": [
  {
   "cell_type": "code",
   "execution_count": 1,
   "metadata": {},
   "outputs": [],
   "source": [
    "import pandas as pd\n",
    "import numpy as np\n",
    "import proteomics_downstream_analysis as pda\n",
    "from scipy import stats"
   ]
  },
  {
   "cell_type": "code",
   "execution_count": 2,
   "metadata": {},
   "outputs": [],
   "source": [
    "data = pd.DataFrame({\n",
    "            'Protein.Names': ['p1', 'p2', 'p3', 'p4', 'p5'],\n",
    "            'Genes': ['g1', 'g2', 'g3', 'g4', 'g5'],\n",
    "            'First.Protein.Description': ['d1', 'd2', 'd3', 'd4', 'd5'],\n",
    "            'WT1': [5.0, np.nan, 12.0, 18.0, 12.0],\n",
    "            'WT2': [11.0, 13.0, np.nan, 13.0, 15.0],\n",
    "            'WT3': [13.0, np.nan, np.nan, 19.0, 10.0],\n",
    "            'KO1': [12.0, 14.0, 9.0, 7.0, 11.0],\n",
    "            'KO2': [11.0, 15.0, np.nan, np.nan, 18.0],\n",
    "            'KO3': [12.0, 17.0, 14.0, 12.0, np.nan],\n",
    "        })\n",
    "data.columns = ['Protein.Names', 'Genes',\n",
    "                'First.Protein.Description',\n",
    "                'WT', 'WT', 'WT',\n",
    "                'KO', 'KO', 'KO']\n",
    "data[['Protein.Names', 'Genes', 'First.Protein.Description']] = data[['Protein.Names', 'Genes', 'First.Protein.Description']].astype('string')\n"
   ]
  },
  {
   "cell_type": "code",
   "execution_count": 61,
   "metadata": {},
   "outputs": [],
   "source": [
    "# select only float data\n",
    "\n",
    "def normal_imputation(data, axis, shift=1.8, width=0.3, seed=42):\n",
    "\n",
    "     # split data\n",
    "     float_data, string_data = float_string_split(data)\n",
    "\n",
    "     # impute data\n",
    "     nan_max = float_data.isnull().sum(axis=axis).max()\n",
    "     means = float_data.mean(axis=axis).values\n",
    "     stds = float_data.std(axis=axis).values\n",
    "\n",
    "     # set a seed or reproducibility\n",
    "     np.random.seed(seed)\n",
    "\n",
    "     samples = np.random.normal(loc=means-shift*stds,\n",
    "                              scale=width*stds,\n",
    "                              size=(float_data.shape[axis],\n",
    "                                   float_data.shape[abs(axis-1)]))\n",
    "\n",
    "     vals = float_data.values\n",
    "     mask = np.isnan(vals)\n",
    "     if axis == 0:\n",
    "          vals[mask] = samples[mask]\n",
    "\n",
    "     elif axis == 1:\n",
    "          vals[mask] = samples.T[mask]\n",
    "\n",
    "     # create new imputed data\n",
    "     new_data = pd.DataFrame(vals)\n",
    "     new_data.columns = float_data.columns\n",
    "     new_data = pd.concat([string_data, new_data], axis=1)\n",
    "     \n",
    "     return new_data\n"
   ]
  },
  {
   "cell_type": "code",
   "execution_count": 84,
   "metadata": {},
   "outputs": [],
   "source": [
    "# split data\n",
    "axis=1\n",
    "seed=42\n",
    "shift=1.8\n",
    "width=0.3\n",
    "\n",
    "float_data, string_data = float_string_split(data)\n",
    "\n",
    "# impute data\n",
    "nan_max = float_data.isnull().sum(axis=axis).max()\n",
    "means = float_data.mean(axis=axis).values\n",
    "stds = float_data.std(axis=axis).values\n",
    "\n",
    "# set a seed or reproducibility\n",
    "np.random.seed(seed)\n",
    "\n",
    "samples = np.random.normal(loc=means-shift*stds,\n",
    "                        scale=width*stds,\n",
    "                        size=(float_data.shape[axis],\n",
    "                            float_data.shape[abs(axis-1)]))"
   ]
  },
  {
   "cell_type": "code",
   "execution_count": 85,
   "metadata": {},
   "outputs": [
    {
     "data": {
      "text/plain": [
       "array([11.6050754 , 11.43729928,  7.71616652,  7.31944351,  7.18774868,\n",
       "        2.95630842,  7.02579964])"
      ]
     },
     "execution_count": 85,
     "metadata": {},
     "output_type": "execute_result"
    }
   ],
   "source": [
    "samples.T[mask]\n"
   ]
  },
  {
   "cell_type": "code",
   "execution_count": 83,
   "metadata": {},
   "outputs": [
    {
     "data": {
      "text/plain": [
       "array([4.70095814, 5.10594318, 9.12330024, 3.37999379, 7.27819062,\n",
       "       8.41641979, 9.2899923 ])"
      ]
     },
     "execution_count": 83,
     "metadata": {},
     "output_type": "execute_result"
    }
   ],
   "source": [
    "na_mask = data.select_dtypes(float).isnull()\n",
    "\n"
   ]
  }
 ],
 "metadata": {
  "kernelspec": {
   "display_name": "DiannOOP",
   "language": "python",
   "name": "python3"
  },
  "language_info": {
   "codemirror_mode": {
    "name": "ipython",
    "version": 3
   },
   "file_extension": ".py",
   "mimetype": "text/x-python",
   "name": "python",
   "nbconvert_exporter": "python",
   "pygments_lexer": "ipython3",
   "version": "3.11.3"
  },
  "orig_nbformat": 4
 },
 "nbformat": 4,
 "nbformat_minor": 2
}
