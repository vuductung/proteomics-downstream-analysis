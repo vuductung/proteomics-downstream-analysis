{
 "cells": [
  {
   "cell_type": "code",
   "execution_count": 1,
   "metadata": {},
   "outputs": [],
   "source": [
    "# load libraries\n",
    "import pandas as pd\n",
    "import numpy as np\n",
    "import matplotlib.pyplot as plt\n",
    "import seaborn as sns\n",
    "\n",
    "from goatools.obo_parser import GODag\n",
    "from goatools.associations import read_gaf\n",
    "from goatools.associations import dnld_assc\n",
    "from goatools.semantic import semantic_similarity\n",
    "from goatools.semantic import TermCounts, get_info_content\n",
    "from goatools.semantic import resnik_sim\n",
    "from goatools.semantic import lin_sim\n",
    "from goatools.semantic import deepest_common_ancestor\n",
    "\n",
    "from sklearn.manifold import MDS\n",
    "from sklearn.decomposition import PCA\n",
    "from sklearn.cluster import KMeans\n",
    "from adjustText import adjust_text\n",
    "import textwrap\n",
    "\n",
    "import proteomics_downstream_analysis as pda\n",
    "\n",
    "import plotly.express as px\n",
    "import plotly.io as pio\n"
   ]
  },
  {
   "cell_type": "code",
   "execution_count": 2,
   "metadata": {},
   "outputs": [
    {
     "name": "stdout",
     "output_type": "stream",
     "text": [
      "go-basic.obo: fmt(1.2) rel(2023-03-06) 46,579 Terms\n",
      "HMS:0:00:08.795923 630,196 annotations READ: goa_human.gaf \n",
      "17543 IDs in loaded association branch, BP\n"
     ]
    }
   ],
   "source": [
    "# dependencies\n",
    "godag = GODag(\"go-basic.obo\")\n",
    "\n",
    "# read annotationsfile\n",
    "associations = read_gaf(\"goa_human.gaf\")\n",
    "\n",
    "# First get the counts of each GO term.\n",
    "termcounts = TermCounts(godag, associations)"
   ]
  },
  {
   "cell_type": "code",
   "execution_count": 3,
   "metadata": {},
   "outputs": [],
   "source": [
    "# read files\n",
    "filepaths = ['/Users/tungvuduc/Desktop/PhD/projects/PPMI-urine/urine_analysis/pv_data.csv',\n",
    "             '/Users/tungvuduc/Desktop/PhD/projects/PPMI-urine/urine_analysis/qv_data.csv', \n",
    "             '/Users/tungvuduc/Desktop/PhD/projects/PPMI-urine/urine_analysis/fc_data.csv']\n",
    "\n",
    "# read files\n",
    "data = [pd.read_csv(filepath).iloc[:,1:] for filepath in filepaths]\n",
    "pv_data, qv_data, fc_data = data"
   ]
  },
  {
   "cell_type": "code",
   "execution_count": 4,
   "metadata": {},
   "outputs": [
    {
     "name": "stdout",
     "output_type": "stream",
     "text": [
      "go-basic.obo: fmt(1.2) rel(2023-03-06) 46,579 Terms\n",
      "HMS:0:00:10.553614 630,196 annotations READ: goa_human.gaf \n",
      "17543 IDs in loaded association branch, BP\n"
     ]
    }
   ],
   "source": [
    "# perform enrichment analysis\n",
    "comparison = 'Control/Prodromal'\n",
    "cond1 = fc_data[comparison] < 0\n",
    "cond2 = qv_data[comparison] < 0.05\n",
    "genes = fc_data[cond1 & cond2]['Genes'].tolist()\n",
    "\n",
    "enr = pda.EnrichmentAnalysis('go-basic.obo', 'goa_human.gaf')\n",
    "go_datasets = enr.array_enrichment_analysis(genes, 'human', False)"
   ]
  },
  {
   "cell_type": "code",
   "execution_count": 5,
   "metadata": {},
   "outputs": [],
   "source": [
    "# functions\n",
    "def filter_go_data(go_data, godag):\n",
    "    return go_data[go_data['GO term ID'].isin(godag.keys())]\n",
    "\n",
    "def calculate_semantic_similarity_between_go_terms(go_data, godag,termcounts):\n",
    "\n",
    "    go_data = filter_go_data(go_data, godag)\n",
    "    go_termids = go_data['GO term ID'].tolist()\n",
    "\n",
    "    sem_sims = np.zeros((len(go_termids), len(go_termids)))\n",
    "    for ax1, i in enumerate(go_termids):\n",
    "        for ax2, j in enumerate(go_termids):\n",
    "            sem_sims[ax1, ax2] = lin_sim(i, j, godag, termcounts)\n",
    "\n",
    "    return sem_sims\n",
    "\n",
    "def perform_mds(sem_sims):\n",
    "    \n",
    "    np.random.seed(42)\n",
    "    embedding = MDS(n_components=2,\n",
    "                    normalized_stress='auto', \n",
    "                    dissimilarity='euclidean')\n",
    "\n",
    "    X_transformed = embedding.fit_transform(np.nan_to_num(sem_sims, 0))\n",
    "\n",
    "    return X_transformed\n",
    "\n",
    "def cluster_mds_scores(x, n_clusters=25):\n",
    "\n",
    "    knn = KMeans(n_clusters=n_clusters, \n",
    "                n_init=10,\n",
    "                random_state=42)\n",
    "    output = knn.fit(x)\n",
    "\n",
    "    labels = output.labels_\n",
    "    hue = [str(i) for i in labels] \n",
    "\n",
    "    return labels, hue\n",
    "\n",
    "def calculate_deepest_common_ancestor(go_data, labels, godag, ):\n",
    "    \n",
    "    deepest_common_ancestors = []\n",
    "    for i in range(len(np.unique(labels))):\n",
    "        id_cluster = go_data[labels == i]['GO term ID'].tolist()\n",
    "        go_root = deepest_common_ancestor(id_cluster, godag)\n",
    "        dca = godag[go_root].name\n",
    "        deepest_common_ancestors.append(dca)\n",
    "    return deepest_common_ancestors\n",
    "\n",
    "def calculate_center(x, labels):\n",
    "\n",
    "    center = []\n",
    "    for i in range(len(np.unique(labels))):\n",
    "        x_cluster = x[labels == i]\n",
    "        center.append(np.mean(x_cluster, axis=0))\n",
    "    return center\n",
    "\n",
    "def customwrap(s, width=15):\n",
    "    return \"<br>\".join(textwrap.wrap(s,width=width))\n",
    "\n",
    "def plot_enrichment_mds(x, hue, names, centers, pvalues, title=None,\n",
    "                        figsize=(8,8), savefig=True,\n",
    "                        dir='enrichment_mds.pdf'):\n",
    "\n",
    "    plt.figure(figsize=figsize)\n",
    "    sns.scatterplot(x=x[:,0],\n",
    "                    y=x[:,1], \n",
    "                    hue=hue,\n",
    "                    size=pvalues,\n",
    "                    sizes=(50, 200),\n",
    "                    )\n",
    "    plt.xlabel('MDS1')\n",
    "    plt.ylabel('MDS2')\n",
    "    plt.legend().set_visible(False)\n",
    "    texts = [plt.text(center[0], center[1], names[idx], ha='center', va='center', fontsize=9)\n",
    "             for idx, center in enumerate(centers)]    \n",
    "    adjust_text(texts, arrowprops = dict(arrowstyle = '-', color = 'black'))\n",
    "\n",
    "    if savefig == True:\n",
    "        plt.savefig(dir, bbox_inches='tight')\n",
    "    plt.title(title)\n",
    "    plt.show()\n",
    "\n",
    "# def interactive_plotting_data\n",
    "def create_plotly_data(x, hue, go_data, godag):\n",
    "    \n",
    "    go_data = filter_go_data(go_data, godag)\n",
    "    data = pd.DataFrame(x, columns=['MDS1', 'MDS2'])\n",
    "    data['hue'] = hue\n",
    "    data['Term'] = go_data['Term'].tolist()\n",
    "    data['Adjusted P-value'] = go_data['Adjusted P-value'].tolist()\n",
    "\n",
    "    return data\n",
    "\n",
    "# plot interactive enrichment_plot\n",
    "\n",
    "def plot_interactive_enrichment_mds(data, labels, centers, names,\n",
    "                                    title=None, figsize=(700, 700),\n",
    "                                    save=False, dir='int_enrichment.html'):\n",
    "    fig = px.scatter(data,\n",
    "                    x='MDS1',\n",
    "                    y='MDS2',\n",
    "                    color='hue',\n",
    "                    size='Adjusted P-value',\n",
    "                    hover_data={'Term': True,\n",
    "                                'MDS1': False, # hide\n",
    "                                'MDS2': False, # hide\n",
    "                                'hue':False, # hide\n",
    "                                'Adjusted P-value':False}, # hide\n",
    "                    color_discrete_sequence=px.colors.qualitative.Vivid,\n",
    "                    title=title)\n",
    "\n",
    "    fig.update_layout(template='simple_white',\n",
    "                            height=figsize[0],\n",
    "                            width=figsize[1],\n",
    "                            showlegend=False)\n",
    "\n",
    "    for i in range(len(np.unique(labels))):\n",
    "        fig.add_annotation(x=centers[i][0],\n",
    "                            y=centers[i][1],\n",
    "                            text=list(map(customwrap, names))[i],\n",
    "                            showarrow=True,\n",
    "                            arrowhead=0)\n",
    "\n",
    "    if save == True:\n",
    "        # Save the plot as an HTML file\n",
    "        pio.write_html(fig, f'{dir}')\n",
    "\n",
    "    fig.show()\n",
    "\n",
    "\n",
    "def prepare_data_for_enrichment_mds(go_data, godag, termcounts):\n",
    "\n",
    "    # filter the go_data to only contain go terms in the godag\n",
    "    go_data = filter_go_data(go_data, godag)\n",
    "\n",
    "    # calculate the semantic similarity between given go terms\n",
    "    sem_sims = calculate_semantic_similarity_between_go_terms(go_data, godag, termcounts)\n",
    "\n",
    "    # perform mds on the semantic similarity matrix\n",
    "    X_transformed = perform_mds(sem_sims)\n",
    "\n",
    "    # cluster the mds scores\n",
    "    labels, hue = cluster_mds_scores(X_transformed)\n",
    "\n",
    "    # calculate the center of each cluster\n",
    "    centers = calculate_center(X_transformed, labels)\n",
    "\n",
    "    # calculate the deepest common ancestor of each cluster\n",
    "    dca = calculate_deepest_common_ancestor(go_data, labels, godag)\n",
    "\n",
    "    # get the names of the go terms and the pvalues\n",
    "    names = [textwrap.fill(i, 15) for i in dca]\n",
    "    pvalues = go_data['Adjusted P-value'].tolist()\n",
    "\n",
    "    return X_transformed, hue, labels, names, centers, pvalues\n",
    "\n"
   ]
  },
  {
   "cell_type": "code",
   "execution_count": null,
   "metadata": {},
   "outputs": [],
   "source": [
    "X_transformed, hue, labels, names, centers, pvalues = prepare_data_for_enrichment_mds(go_datasets[0], godag, termcounts)\n",
    "plot_enrichment_mds(X_transformed, hue, names, centers, pvalues)"
   ]
  },
  {
   "cell_type": "code",
   "execution_count": 7,
   "metadata": {},
   "outputs": [
    {
     "data": {
      "application/vnd.plotly.v1+json": {
       "config": {
        "plotlyServerURL": "https://plot.ly"
       },
       "data": [
        {
         "customdata": [
          [
           "glucuronate catabolic process",
           "0",
           3.9946680044135814
          ],
          [
           "glucuronate catabolic process to xylulose 5-phosphate",
           "0",
           3.9946680044135814
          ],
          [
           "dicarboxylic acid catabolic process",
           "0",
           2.2453920524511286
          ],
          [
           "N-acetylneuraminate metabolic process",
           "0",
           1.663465592409348
          ]
         ],
         "hovertemplate": "Term=%{customdata[0]}<extra></extra>",
         "legendgroup": "0",
         "marker": {
          "color": "rgb(229, 134, 6)",
          "size": [
           3.9946680044135814,
           3.9946680044135814,
           2.2453920524511286,
           1.663465592409348
          ],
          "sizemode": "area",
          "sizeref": 0.05874786280498522,
          "symbol": "circle"
         },
         "mode": "markers",
         "name": "0",
         "orientation": "v",
         "showlegend": true,
         "type": "scatter",
         "x": [
          -2.267962550503942,
          -2.4440432433324335,
          -2.7482231460868807,
          -2.3359474239291282
         ],
         "xaxis": "x",
         "y": [
          0.8882638917780332,
          1.7561147497994383,
          0.9374222305028247,
          1.3227687396344214
         ],
         "yaxis": "y"
        },
        {
         "customdata": [
          [
           "fructose catabolic process",
           "2",
           3.9946680044135814
          ],
          [
           "glycerol metabolic process",
           "2",
           4.947180607399261
          ],
          [
           "glycerol biosynthetic process",
           "2",
           2.4707519301816157
          ],
          [
           "glycoside metabolic process",
           "2",
           2.275579487586028
          ],
          [
           "amino sugar biosynthetic process",
           "2",
           2.452230656912849
          ],
          [
           "hexose biosynthetic process",
           "2",
           4.155333192023665
          ],
          [
           "N-acetylglucosamine metabolic process",
           "2",
           2.047249576308915
          ],
          [
           "glucan biosynthetic process",
           "2",
           1.3901341018401616
          ],
          [
           "glycogen biosynthetic process",
           "2",
           1.3901341018401616
          ]
         ],
         "hovertemplate": "Term=%{customdata[0]}<extra></extra>",
         "legendgroup": "2",
         "marker": {
          "color": "rgb(93, 105, 177)",
          "size": [
           3.9946680044135814,
           4.947180607399261,
           2.4707519301816157,
           2.275579487586028,
           2.452230656912849,
           4.155333192023665,
           2.047249576308915,
           1.3901341018401616,
           1.3901341018401616
          ],
          "sizemode": "area",
          "sizeref": 0.05874786280498522,
          "symbol": "circle"
         },
         "mode": "markers",
         "name": "2",
         "orientation": "v",
         "showlegend": true,
         "type": "scatter",
         "x": [
          0.35286301411289384,
          0.6201403019491005,
          0.7258056280867092,
          0.3043806819407129,
          0.47421016394720983,
          0.8605405162483734,
          0.5598434451799665,
          0.6654887425858184,
          0.49475209631092454
         ],
         "xaxis": "x",
         "y": [
          2.5681864755398056,
          1.486707873113532,
          1.7443723547871113,
          1.9228055797184351,
          2.430256558676529,
          2.750428897594508,
          2.3121665799813034,
          1.9200918235560462,
          2.0202522075386593
         ],
         "yaxis": "y"
        },
        {
         "customdata": [
          [
           "fructose catabolic process to hydroxyacetone phosphate and glyceraldehyde-3-phosphate",
           "15",
           3.9946680044135814
          ],
          [
           "amino sugar catabolic process",
           "15",
           3.2730376789504736
          ],
          [
           "glycosyl compound catabolic process",
           "15",
           2.275579487586028
          ],
          [
           "UDP-N-acetylglucosamine biosynthetic process",
           "15",
           2.5637932505232017
          ],
          [
           "glycolipid metabolic process",
           "15",
           5.172648086065803
          ],
          [
           "glycoside catabolic process",
           "15",
           1.9165527146877104
          ],
          [
           "UDP-N-acetylglucosamine metabolic process",
           "15",
           2.3159167865209183
          ],
          [
           "glycosphingolipid metabolic process",
           "15",
           3.9594726508943414
          ]
         ],
         "hovertemplate": "Term=%{customdata[0]}<extra></extra>",
         "legendgroup": "15",
         "marker": {
          "color": "rgb(82, 188, 163)",
          "size": [
           3.9946680044135814,
           3.2730376789504736,
           2.275579487586028,
           2.5637932505232017,
           5.172648086065803,
           1.9165527146877104,
           2.3159167865209183,
           3.9594726508943414
          ],
          "sizemode": "area",
          "sizeref": 0.05874786280498522,
          "symbol": "circle"
         },
         "mode": "markers",
         "name": "15",
         "orientation": "v",
         "showlegend": true,
         "type": "scatter",
         "x": [
          -0.3021181313111406,
          -0.4772669988152621,
          -0.7212195254410996,
          0.11132987870444666,
          -0.2309154153671464,
          -0.5383098464863456,
          0.0920813539557357,
          -0.24366785309512295
         ],
         "xaxis": "x",
         "y": [
          3.1445784642021115,
          3.068763008598032,
          2.9271436562215305,
          2.7085573249443717,
          2.8322946521869956,
          2.6398716407338525,
          2.565289239847067,
          2.543028433957294
         ],
         "yaxis": "y"
        },
        {
         "customdata": [
          [
           "xylulose 5-phosphate biosynthetic process",
           "19",
           3.9946680044135814
          ],
          [
           "glyceraldehyde-3-phosphate metabolic process",
           "19",
           4.7604951606800405
          ],
          [
           "nucleotide-sugar biosynthetic process",
           "19",
           4.702935350468987
          ],
          [
           "glycerol-3-phosphate metabolic process",
           "19",
           2.275579487586028
          ],
          [
           "fructose 1,6-bisphosphate metabolic process",
           "19",
           1.784173665407266
          ],
          [
           "fructose 6-phosphate metabolic process",
           "19",
           1.663465592409348
          ],
          [
           "pentose-phosphate shunt",
           "19",
           1.3901341018401616
          ],
          [
           "sphingolipid metabolic process",
           "19",
           2.925279175330719
          ],
          [
           "glycosaminoglycan metabolic process",
           "19",
           1.5585631221712406
          ],
          [
           "glycerophospholipid metabolic process",
           "19",
           1.369388028683449
          ]
         ],
         "hovertemplate": "Term=%{customdata[0]}<extra></extra>",
         "legendgroup": "19",
         "marker": {
          "color": "rgb(153, 201, 69)",
          "size": [
           3.9946680044135814,
           4.7604951606800405,
           4.702935350468987,
           2.275579487586028,
           1.784173665407266,
           1.663465592409348,
           1.3901341018401616,
           2.925279175330719,
           1.5585631221712406,
           1.369388028683449
          ],
          "sizemode": "area",
          "sizeref": 0.05874786280498522,
          "symbol": "circle"
         },
         "mode": "markers",
         "name": "19",
         "orientation": "v",
         "showlegend": true,
         "type": "scatter",
         "x": [
          -0.09993994147421553,
          0.04080482623784567,
          -0.26697773328718044,
          -0.10069771977119378,
          -0.0903179151924091,
          -0.0996605202150539,
          -0.30104020335050424,
          -0.6301638515973333,
          -0.15061802635484425,
          -0.5524412902267124
         ],
         "xaxis": "x",
         "y": [
          1.7527592998758783,
          1.564350925179058,
          2.1779955381405625,
          1.4616297689967677,
          1.421295734984387,
          1.5053043060753875,
          1.5350194501883334,
          1.715246959183347,
          2.117302107441255,
          1.8030255700859568
         ],
         "yaxis": "y"
        },
        {
         "customdata": [
          [
           "proteasomal ubiquitin-independent protein catabolic process",
           "12",
           6.473944923977604
          ],
          [
           "peptide catabolic process",
           "12",
           4.927295493366325
          ],
          [
           "hydrogen peroxide catabolic process",
           "12",
           2.4786662140198716
          ],
          [
           "phosphate-containing compound metabolic process",
           "12",
           6.110384111366355
          ],
          [
           "proteolysis",
           "12",
           6.527164677865696
          ],
          [
           "anaphase-promoting complex-dependent catabolic process",
           "12",
           4.155333192023665
          ],
          [
           "lipoprotein catabolic process",
           "12",
           1.5599864685605187
          ],
          [
           "organophosphate biosynthetic process",
           "12",
           2.830864092683771
          ],
          [
           "sulfur compound catabolic process",
           "12",
           2.7678451145938627
          ],
          [
           "SCF-dependent proteasomal ubiquitin-dependent protein catabolic process",
           "12",
           3.9490867142391335
          ],
          [
           "NAD biosynthetic process",
           "12",
           1.663465592409348
          ]
         ],
         "hovertemplate": "Term=%{customdata[0]}<extra></extra>",
         "legendgroup": "12",
         "marker": {
          "color": "rgb(204, 97, 176)",
          "size": [
           6.473944923977604,
           4.927295493366325,
           2.4786662140198716,
           6.110384111366355,
           6.527164677865696,
           4.155333192023665,
           1.5599864685605187,
           2.830864092683771,
           2.7678451145938627,
           3.9490867142391335,
           1.663465592409348
          ],
          "sizemode": "area",
          "sizeref": 0.05874786280498522,
          "symbol": "circle"
         },
         "mode": "markers",
         "name": "12",
         "orientation": "v",
         "showlegend": true,
         "type": "scatter",
         "x": [
          -0.8660117837053453,
          -1.5112743016689842,
          -1.104315536147853,
          -1.1236918008448789,
          -1.4184591362913248,
          -1.3764453489878448,
          -1.1592294721070941,
          -1.3690333344555525,
          -1.2212985099647042,
          -1.5455454548576846,
          -0.8419650325243513
         ],
         "xaxis": "x",
         "y": [
          1.0873112252884798,
          1.511273723698383,
          1.4354988907566497,
          1.0159815094388571,
          0.7787583110577436,
          1.5083936175363535,
          1.3215715346615078,
          1.1127191926246376,
          1.5692032390529966,
          1.7050138681722484,
          1.2526687017082343
         ],
         "yaxis": "y"
        },
        {
         "customdata": [
          [
           "carnitine biosynthetic process",
           "24",
           2.4707519301816157
          ],
          [
           "amino-acid betaine biosynthetic process",
           "24",
           2.4707519301816157
          ],
          [
           "folic acid-containing compound metabolic process",
           "24",
           4.619206970795189
          ],
          [
           "carnitine metabolic process",
           "24",
           1.4744106075476986
          ],
          [
           "cellular modified amino acid biosynthetic process",
           "24",
           1.7286400972311322
          ]
         ],
         "hovertemplate": "Term=%{customdata[0]}<extra></extra>",
         "legendgroup": "24",
         "marker": {
          "color": "rgb(36, 121, 108)",
          "size": [
           2.4707519301816157,
           2.4707519301816157,
           4.619206970795189,
           1.4744106075476986,
           1.7286400972311322
          ],
          "sizemode": "area",
          "sizeref": 0.05874786280498522,
          "symbol": "circle"
         },
         "mode": "markers",
         "name": "24",
         "orientation": "v",
         "showlegend": true,
         "type": "scatter",
         "x": [
          -1.2606078267671779,
          -1.3147493305646383,
          -1.1368742172308997,
          -1.0606401099203635,
          -1.3711694632449565
         ],
         "xaxis": "x",
         "y": [
          -0.6108552149946155,
          -0.594104606521399,
          -0.28866490759127433,
          -0.47953641169708583,
          -0.39260455225359175
         ],
         "yaxis": "y"
        },
        {
         "customdata": [
          [
           "oxaloacetate metabolic process",
           "6",
           2.4707519301816157
          ],
          [
           "aspartate metabolic process",
           "6",
           2.275579487586028
          ],
          [
           "dicarboxylic acid metabolic process",
           "6",
           6.48787314275457
          ],
          [
           "L-phenylalanine metabolic process",
           "6",
           1.784173665407266
          ],
          [
           "oligosaccharide catabolic process",
           "6",
           1.784173665407266
          ],
          [
           "folic acid metabolic process",
           "6",
           2.6374520154235097
          ],
          [
           "dicarboxylic acid biosynthetic process",
           "6",
           1.663465592409348
          ],
          [
           "sulfur amino acid metabolic process",
           "6",
           2.275579487586028
          ],
          [
           "tricarboxylic acid metabolic process",
           "6",
           1.4744106075476986
          ],
          [
           "glycine metabolic process",
           "6",
           1.4744106075476986
          ],
          [
           "water-soluble vitamin metabolic process",
           "6",
           2.0054890946839365
          ],
          [
           "pyruvate metabolic process",
           "6",
           1.521784353843472
          ]
         ],
         "hovertemplate": "Term=%{customdata[0]}<extra></extra>",
         "legendgroup": "6",
         "marker": {
          "color": "rgb(218, 165, 27)",
          "size": [
           2.4707519301816157,
           2.275579487586028,
           6.48787314275457,
           1.784173665407266,
           1.784173665407266,
           2.6374520154235097,
           1.663465592409348,
           2.275579487586028,
           1.4744106075476986,
           1.4744106075476986,
           2.0054890946839365,
           1.521784353843472
          ],
          "sizemode": "area",
          "sizeref": 0.05874786280498522,
          "symbol": "circle"
         },
         "mode": "markers",
         "name": "6",
         "orientation": "v",
         "showlegend": true,
         "type": "scatter",
         "x": [
          -2.1122276749716686,
          -2.698618370275716,
          -2.7852880899502774,
          -2.5330199101182242,
          -2.26873718053009,
          -2.8825142648448834,
          -2.4794504100450396,
          -2.193291511619999,
          -1.8716153873841732,
          -2.499336924374911,
          -1.9261925929387744,
          -2.717728965545862
         ],
         "xaxis": "x",
         "y": [
          -0.29825021584636785,
          -0.24809286116932003,
          -0.2358119633701776,
          0.045457590644472884,
          -0.7029173700531995,
          -0.5881899226178671,
          -0.33189882707915647,
          0.22757760515495404,
          -0.0642450409072113,
          0.08315693622661481,
          -0.1937318249218817,
          -0.12860702298079796
         ],
         "yaxis": "y"
        },
        {
         "customdata": [
          [
           "pyridine-containing compound metabolic process",
           "11",
           2.4707519301816157
          ],
          [
           "angiotensin maturation",
           "11",
           1.4744106075476986
          ],
          [
           "retinoid metabolic process",
           "11",
           1.563564239958154
          ]
         ],
         "hovertemplate": "Term=%{customdata[0]}<extra></extra>",
         "legendgroup": "11",
         "marker": {
          "color": "rgb(47, 138, 196)",
          "size": [
           2.4707519301816157,
           1.4744106075476986,
           1.563564239958154
          ],
          "sizemode": "area",
          "sizeref": 0.05874786280498522,
          "symbol": "circle"
         },
         "mode": "markers",
         "name": "11",
         "orientation": "v",
         "showlegend": true,
         "type": "scatter",
         "x": [
          -0.4870094583032206,
          0.21311692018479866,
          -0.2700477137983775
         ],
         "xaxis": "x",
         "y": [
          0.6117682565238088,
          0.6588420118041383,
          0.7897145527676495
         ],
         "yaxis": "y"
        },
        {
         "customdata": [
          [
           "fructose metabolic process",
           "20",
           3.0286294316721887
          ],
          [
           "hexose metabolic process",
           "20",
           6.86536333430273
          ],
          [
           "pentose metabolic process",
           "20",
           2.0737739652690284
          ],
          [
           "glucose metabolic process",
           "20",
           5.20992248553492
          ],
          [
           "gluconeogenesis",
           "20",
           4.378366242189803
          ],
          [
           "galactose metabolic process",
           "20",
           1.784173665407266
          ]
         ],
         "hovertemplate": "Term=%{customdata[0]}<extra></extra>",
         "legendgroup": "20",
         "marker": {
          "color": "rgb(118, 78, 159)",
          "size": [
           3.0286294316721887,
           6.86536333430273,
           2.0737739652690284,
           5.20992248553492,
           4.378366242189803,
           1.784173665407266
          ],
          "sizemode": "area",
          "sizeref": 0.05874786280498522,
          "symbol": "circle"
         },
         "mode": "markers",
         "name": "20",
         "orientation": "v",
         "showlegend": true,
         "type": "scatter",
         "x": [
          -1.8695195245352059,
          -2.3189739969668843,
          -1.6309862647094535,
          -2.2715977867054984,
          -2.544825474933605,
          -1.627802775812034
         ],
         "xaxis": "x",
         "y": [
          -1.4661850479799186,
          -1.4946798539004658,
          -1.2750112153955246,
          -1.501769828802892,
          -1.4933897219731145,
          -1.3159774766803836
         ],
         "yaxis": "y"
        },
        {
         "customdata": [
          [
           "neutrophil degranulation",
           "23",
           23.49914512199409
          ],
          [
           "neutrophil activation involved in immune response",
           "23",
           23.49914512199409
          ],
          [
           "neutrophil mediated immunity",
           "23",
           23.49914512199409
          ],
          [
           "antigen processing and presentation of exogenous peptide antigen via MHC class I, TAP-dependent",
           "23",
           6.159220015705854
          ],
          [
           "NIK/NF-kappaB signaling",
           "23",
           4.650835448009355
          ],
          [
           "semaphorin-plexin signaling pathway involved in neuron projection guidance",
           "23",
           1.3901341018401616
          ],
          [
           "antigen processing and presentation of endogenous peptide antigen",
           "23",
           1.308524993676384
          ]
         ],
         "hovertemplate": "Term=%{customdata[0]}<extra></extra>",
         "legendgroup": "23",
         "marker": {
          "color": "rgb(237, 100, 90)",
          "size": [
           23.49914512199409,
           23.49914512199409,
           23.49914512199409,
           6.159220015705854,
           4.650835448009355,
           1.3901341018401616,
           1.308524993676384
          ],
          "sizemode": "area",
          "sizeref": 0.05874786280498522,
          "symbol": "circle"
         },
         "mode": "markers",
         "name": "23",
         "orientation": "v",
         "showlegend": true,
         "type": "scatter",
         "x": [
          1.655078886852026,
          1.672873645934462,
          1.7748264837130707,
          1.8208916606059216,
          1.4621772352846143,
          1.989711934997695,
          1.9374196544860454
         ],
         "xaxis": "x",
         "y": [
          0.024383747734567893,
          0.07204224575344789,
          -0.22788260577085204,
          -0.31400477249815084,
          -0.46350394963484387,
          -0.024919058769977253,
          -0.2596621079297073
         ],
         "yaxis": "y"
        },
        {
         "customdata": [
          [
           "tyrosine catabolic process",
           "18",
           2.275579487586028
          ],
          [
           "aromatic amino acid family catabolic process",
           "18",
           2.9278695913393147
          ],
          [
           "aspartate family amino acid catabolic process",
           "18",
           2.6374520154235097
          ],
          [
           "cellular amino acid catabolic process",
           "18",
           5.172648086065803
          ],
          [
           "alpha-amino acid catabolic process",
           "18",
           2.635460774575678
          ],
          [
           "canonical glycolysis",
           "18",
           2.275579487586028
          ],
          [
           "glucose catabolic process to pyruvate",
           "18",
           2.275579487586028
          ],
          [
           "glycolytic process through glucose-6-phosphate",
           "18",
           2.2216927485117903
          ],
          [
           "carboxylic acid catabolic process",
           "18",
           1.4744106075476986
          ],
          [
           "glycolytic process",
           "18",
           1.9711700943309918
          ]
         ],
         "hovertemplate": "Term=%{customdata[0]}<extra></extra>",
         "legendgroup": "18",
         "marker": {
          "color": "rgb(165, 170, 153)",
          "size": [
           2.275579487586028,
           2.9278695913393147,
           2.6374520154235097,
           5.172648086065803,
           2.635460774575678,
           2.275579487586028,
           2.275579487586028,
           2.2216927485117903,
           1.4744106075476986,
           1.9711700943309918
          ],
          "sizemode": "area",
          "sizeref": 0.05874786280498522,
          "symbol": "circle"
         },
         "mode": "markers",
         "name": "18",
         "orientation": "v",
         "showlegend": true,
         "type": "scatter",
         "x": [
          -2.9007473257206633,
          -3.058281592360568,
          -3.124364811792658,
          -3.554552831401954,
          -3.6051260226967767,
          -3.2214516571512815,
          -3.1674404529821847,
          -3.0085162272461594,
          -3.36163601324243,
          -3.246926577978305
         ],
         "xaxis": "x",
         "y": [
          1.02013240661771,
          1.1377580357384238,
          1.0212959142100333,
          1.3613587642746132,
          1.2873618377842306,
          1.7031424360729217,
          1.6701217290759733,
          1.4919395657392458,
          1.3625059789158274,
          1.6456937601286574
         ],
         "yaxis": "y"
        },
        {
         "customdata": [
          [
           "N-acetylneuraminate catabolic process",
           "22",
           2.275579487586028
          ],
          [
           "organonitrogen compound catabolic process",
           "22",
           6.712419629167327
          ],
          [
           "carbohydrate catabolic process",
           "22",
           5.172648086065803
          ],
          [
           "nucleotide catabolic process",
           "22",
           2.047249576308915
          ],
          [
           "protein catabolic process",
           "22",
           1.8022803024063505
          ],
          [
           "proteasomal protein catabolic process",
           "22",
           1.9736668337566676
          ]
         ],
         "hovertemplate": "Term=%{customdata[0]}<extra></extra>",
         "legendgroup": "22",
         "marker": {
          "color": "rgb(229, 134, 6)",
          "size": [
           2.275579487586028,
           6.712419629167327,
           5.172648086065803,
           2.047249576308915,
           1.8022803024063505,
           1.9736668337566676
          ],
          "sizemode": "area",
          "sizeref": 0.05874786280498522,
          "symbol": "circle"
         },
         "mode": "markers",
         "name": "22",
         "orientation": "v",
         "showlegend": true,
         "type": "scatter",
         "x": [
          -2.4088604669253253,
          -2.066246088064374,
          -2.240271461428694,
          -1.6893493736479808,
          -2.0493892050945988,
          -2.0738703916145647
         ],
         "xaxis": "x",
         "y": [
          2.695748411859254,
          2.329715941968234,
          2.0779350124075564,
          2.0687305208688342,
          2.508615512565238,
          2.4261681060235074
         ],
         "yaxis": "y"
        },
        {
         "customdata": [
          [
           "inclusion body assembly",
           "17",
           2.275579487586028
          ],
          [
           "pre-replicative complex assembly",
           "17",
           5.172648086065803
          ],
          [
           "lytic vacuole organization",
           "17",
           3.2366977492901947
          ],
          [
           "Arp2/3 complex-mediated actin nucleation",
           "17",
           2.1434764046602903
          ],
          [
           "membrane raft organization",
           "17",
           2.1434764046602903
          ],
          [
           "phagosome maturation",
           "17",
           2.9450164906800893
          ],
          [
           "lysosome organization",
           "17",
           2.89595520187425
          ],
          [
           "actin filament depolymerization",
           "17",
           1.5599864685605187
          ],
          [
           "vesicle transport along actin filament",
           "17",
           1.792532960068137
          ],
          [
           "transferrin transport",
           "17",
           2.297350862463496
          ],
          [
           "actin nucleation",
           "17",
           1.663465592409348
          ],
          [
           "actin filament-based transport",
           "17",
           1.663465592409348
          ],
          [
           "cellular protein catabolic process",
           "17",
           2.542553306618908
          ],
          [
           "protein homotetramerization",
           "17",
           1.6261116865803087
          ],
          [
           "protein-DNA complex assembly",
           "17",
           2.2757180359267566
          ],
          [
           "cell-cell junction organization",
           "17",
           1.3174084414076181
          ]
         ],
         "hovertemplate": "Term=%{customdata[0]}<extra></extra>",
         "legendgroup": "17",
         "marker": {
          "color": "rgb(93, 105, 177)",
          "size": [
           2.275579487586028,
           5.172648086065803,
           3.2366977492901947,
           2.1434764046602903,
           2.1434764046602903,
           2.9450164906800893,
           2.89595520187425,
           1.5599864685605187,
           1.792532960068137,
           2.297350862463496,
           1.663465592409348,
           1.663465592409348,
           2.542553306618908,
           1.6261116865803087,
           2.2757180359267566,
           1.3174084414076181
          ],
          "sizemode": "area",
          "sizeref": 0.05874786280498522,
          "symbol": "circle"
         },
         "mode": "markers",
         "name": "17",
         "orientation": "v",
         "showlegend": true,
         "type": "scatter",
         "x": [
          0.7391373596100647,
          0.9176975698153813,
          0.25610439982097616,
          0.1645895015547508,
          0.7936337396367026,
          0.6815148939393076,
          0.2561043998209755,
          0.37552454175147365,
          0.42032356893388084,
          0.5877692860889256,
          0.1540231773657095,
          0.4851226399689913,
          0.8480320324574163,
          0.5649047729172139,
          0.5042558855794148,
          0.6928701940164533
         ],
         "xaxis": "x",
         "y": [
          -1.0669015758299674,
          -1.3847119940409474,
          -1.5924613676366601,
          -1.7682421467163774,
          -0.9409021546121351,
          -1.121187852403472,
          -1.592461367636661,
          -1.5116377062731907,
          -1.7696234245713145,
          -1.4638034264951874,
          -1.769177989656592,
          -1.6188558853573147,
          -1.3731192649802015,
          -1.2162665472298275,
          -1.2401029169010467,
          -0.9835933899371212
         ],
         "yaxis": "y"
        },
        {
         "customdata": [
          [
           "negative regulation of establishment of protein localization to mitochondrion",
           "13",
           2.275579487586028
          ],
          [
           "positive regulation of establishment of protein localization to telomere",
           "13",
           2.6811758782619783
          ],
          [
           "regulation of establishment of protein localization to telomere",
           "13",
           2.5637932505232017
          ],
          [
           "regulation of protein localization to Cajal body",
           "13",
           2.5637932505232017
          ],
          [
           "positive regulation of protein localization to Cajal body",
           "13",
           2.5637932505232017
          ],
          [
           "positive regulation of protein localization to chromosome, telomeric region",
           "13",
           2.452230656912849
          ],
          [
           "positive regulation of telomerase RNA localization to Cajal body",
           "13",
           2.1434764046602903
          ],
          [
           "regulation of telomerase RNA localization to Cajal body",
           "13",
           1.8660134723568638
          ],
          [
           "positive regulation of establishment of protein localization",
           "13",
           1.792532960068137
          ],
          [
           "regulation of mRNA catabolic process",
           "13",
           3.939270287234412
          ],
          [
           "regulation of mRNA stability",
           "13",
           3.724532842596748
          ],
          [
           "regulation of macroautophagy",
           "13",
           2.5459069993647243
          ],
          [
           "regulation of autophagy",
           "13",
           3.0540133427813627
          ]
         ],
         "hovertemplate": "Term=%{customdata[0]}<extra></extra>",
         "legendgroup": "13",
         "marker": {
          "color": "rgb(82, 188, 163)",
          "size": [
           2.275579487586028,
           2.6811758782619783,
           2.5637932505232017,
           2.5637932505232017,
           2.5637932505232017,
           2.452230656912849,
           2.1434764046602903,
           1.8660134723568638,
           1.792532960068137,
           3.939270287234412,
           3.724532842596748,
           2.5459069993647243,
           3.0540133427813627
          ],
          "sizemode": "area",
          "sizeref": 0.05874786280498522,
          "symbol": "circle"
         },
         "mode": "markers",
         "name": "13",
         "orientation": "v",
         "showlegend": true,
         "type": "scatter",
         "x": [
          1.7510172695065676,
          2.2544943781338183,
          2.0643385271605994,
          1.8405369239914167,
          2.064111280200988,
          2.231873098194739,
          1.7712717594046983,
          1.626953105587262,
          2.332981234652618,
          2.377962595583853,
          2.5167845687599857,
          2.2374241725845714,
          2.342642662585574
         ],
         "xaxis": "x",
         "y": [
          -1.6302714764106223,
          -1.8432467808152317,
          -1.933162274190422,
          -1.7811715068560794,
          -1.69534699824718,
          -1.8216548588280201,
          -1.4461889965597612,
          -1.7008256711654144,
          -1.6414884969040384,
          -1.2824612907007198,
          -1.3470062932590714,
          -1.2268368285515157,
          -1.246886326127166
         ],
         "yaxis": "y"
        },
        {
         "customdata": [
          [
           "glycosylceramide catabolic process",
           "7",
           2.275579487586028
          ],
          [
           "glycosphingolipid catabolic process",
           "7",
           2.6811758782619783
          ],
          [
           "membrane lipid catabolic process",
           "7",
           2.6811758782619783
          ],
          [
           "ganglioside catabolic process",
           "7",
           2.0737739652690284
          ],
          [
           "carbohydrate derivative catabolic process",
           "7",
           2.6374520154235097
          ],
          [
           "ceramide catabolic process",
           "7",
           2.047249576308915
          ],
          [
           "phospholipid catabolic process",
           "7",
           2.275579487586028
          ],
          [
           "nucleoside catabolic process",
           "7",
           1.4744106075476986
          ],
          [
           "keratan sulfate catabolic process",
           "7",
           1.4744106075476986
          ],
          [
           "chondroitin sulfate catabolic process",
           "7",
           1.3901341018401616
          ],
          [
           "glycosaminoglycan catabolic process",
           "7",
           2.6811758782619783
          ],
          [
           "aminoglycan catabolic process",
           "7",
           1.8485413606829164
          ]
         ],
         "hovertemplate": "Term=%{customdata[0]}<extra></extra>",
         "legendgroup": "7",
         "marker": {
          "color": "rgb(153, 201, 69)",
          "size": [
           2.275579487586028,
           2.6811758782619783,
           2.6811758782619783,
           2.0737739652690284,
           2.6374520154235097,
           2.047249576308915,
           2.275579487586028,
           1.4744106075476986,
           1.4744106075476986,
           1.3901341018401616,
           2.6811758782619783,
           1.8485413606829164
          ],
          "sizemode": "area",
          "sizeref": 0.05874786280498522,
          "symbol": "circle"
         },
         "mode": "markers",
         "name": "7",
         "orientation": "v",
         "showlegend": true,
         "type": "scatter",
         "x": [
          -1.051457640282901,
          -1.2062154934955498,
          -1.2636594902730316,
          -1.0835652264007516,
          -1.0152445177591942,
          -1.4143305698847868,
          -1.3884318894978616,
          -1.4794985587637586,
          -0.863306089409454,
          -0.9555495089478329,
          -1.201053421868561,
          -1.2474817621393604
         ],
         "xaxis": "x",
         "y": [
          3.015792116369358,
          3.175556327396938,
          2.3363210479618024,
          3.0592081706768752,
          3.203979327922777,
          2.4638499418187947,
          2.251106920671876,
          2.8882985154798804,
          2.3925925612972168,
          2.5607397842338497,
          2.9080638834757853,
          2.9451461103613408
         ],
         "yaxis": "y"
        },
        {
         "customdata": [
          [
           "regulation of cellular amino acid metabolic process",
           "3",
           6.6262657058285
          ],
          [
           "regulation of cellular amine metabolic process",
           "3",
           6.138160699617006
          ],
          [
           "regulation of cellular ketone metabolic process",
           "3",
           5.172648086065803
          ],
          [
           "regulation of hematopoietic progenitor cell differentiation",
           "3",
           4.62353515697788
          ],
          [
           "regulation of establishment of planar polarity",
           "3",
           4.650835448009355
          ],
          [
           "regulation of stem cell differentiation",
           "3",
           3.8625681174617212
          ],
          [
           "regulation of plasminogen activation",
           "3",
           1.4744106075476986
          ],
          [
           "regulation of angiotensin levels in blood",
           "3",
           1.4744106075476986
          ],
          [
           "positive regulation of nitric oxide metabolic process",
           "3",
           2.025347068425906
          ],
          [
           "regulation of primary metabolic process",
           "3",
           3.0461822074377882
          ],
          [
           "regulation of proteolysis involved in cellular protein catabolic process",
           "3",
           1.4327831627911147
          ],
          [
           "regulation of cholesterol transport",
           "3",
           1.4327831627911147
          ],
          [
           "positive regulation of nitric oxide biosynthetic process",
           "3",
           1.330889200823063
          ],
          [
           "protein stabilization",
           "3",
           2.822726503416225
          ],
          [
           "regulation of axonogenesis",
           "3",
           1.663465592409348
          ],
          [
           "regulation of mitochondrial membrane potential",
           "3",
           1.410223503418421
          ],
          [
           "positive regulation of stress fiber assembly",
           "3",
           1.304216306586947
          ]
         ],
         "hovertemplate": "Term=%{customdata[0]}<extra></extra>",
         "legendgroup": "3",
         "marker": {
          "color": "rgb(204, 97, 176)",
          "size": [
           6.6262657058285,
           6.138160699617006,
           5.172648086065803,
           4.62353515697788,
           4.650835448009355,
           3.8625681174617212,
           1.4744106075476986,
           1.4744106075476986,
           2.025347068425906,
           3.0461822074377882,
           1.4327831627911147,
           1.4327831627911147,
           1.330889200823063,
           2.822726503416225,
           1.663465592409348,
           1.410223503418421,
           1.304216306586947
          ],
          "sizemode": "area",
          "sizeref": 0.05874786280498522,
          "symbol": "circle"
         },
         "mode": "markers",
         "name": "3",
         "orientation": "v",
         "showlegend": true,
         "type": "scatter",
         "x": [
          1.9315214511024257,
          1.7088960528605532,
          1.845411197045739,
          1.7219519711854154,
          1.5218386361495735,
          1.5648201562341366,
          1.5445043596921586,
          1.2273933985744527,
          2.133820905200919,
          2.081277133299994,
          1.7105582946576987,
          1.5506864311857973,
          2.2087955476031502,
          1.3906338618601854,
          1.880249911243324,
          1.3570666617584457,
          1.9416233133296315
         ],
         "xaxis": "x",
         "y": [
          -1.2227857059854828,
          -1.1313154746373466,
          -1.049404442747362,
          -0.837824927015374,
          -1.4851881424152718,
          -1.385199857590533,
          -0.9583897908555224,
          -1.0577882112430013,
          -0.8328228693735894,
          -1.0348694459768975,
          -0.9896970137860235,
          -1.3296018182445126,
          -0.8497779124963011,
          -1.0800469214850275,
          -0.7944917515949849,
          -0.9941849755033081,
          -0.7285434108259315
         ],
         "yaxis": "y"
        },
        {
         "customdata": [
          [
           "removal of superoxide radicals",
           "16",
           2.6811758782619783
          ],
          [
           "mycotoxin metabolic process",
           "16",
           2.1434764046602903
          ],
          [
           "aflatoxin metabolic process",
           "16",
           2.1434764046602903
          ],
          [
           "organic heteropentacyclic compound metabolic process",
           "16",
           2.1434764046602903
          ],
          [
           "hydrogen peroxide metabolic process",
           "16",
           2.6811758782619783
          ],
          [
           "ethanol oxidation",
           "16",
           1.4744106075476986
          ],
          [
           "neurotransmitter biosynthetic process",
           "16",
           1.308524993676384
          ],
          [
           "glutathione metabolic process",
           "16",
           1.9838226343609555
          ],
          [
           "DNA-dependent DNA replication",
           "16",
           2.59133395515045
          ]
         ],
         "hovertemplate": "Term=%{customdata[0]}<extra></extra>",
         "legendgroup": "16",
         "marker": {
          "color": "rgb(36, 121, 108)",
          "size": [
           2.6811758782619783,
           2.1434764046602903,
           2.1434764046602903,
           2.1434764046602903,
           2.6811758782619783,
           1.4744106075476986,
           1.308524993676384,
           1.9838226343609555,
           2.59133395515045
          ],
          "sizemode": "area",
          "sizeref": 0.05874786280498522,
          "symbol": "circle"
         },
         "mode": "markers",
         "name": "16",
         "orientation": "v",
         "showlegend": true,
         "type": "scatter",
         "x": [
          -0.13666186913891779,
          -0.21708442262320435,
          -0.5598594966951268,
          -0.3668397312559088,
          -0.2456275593156964,
          -0.042022640509762295,
          0.0853819448073697,
          -0.051490104523994454,
          -0.49175892760926265
         ],
         "xaxis": "x",
         "y": [
          0.06475283871905706,
          -0.22967815276933393,
          -0.337300116165329,
          -0.14180684515646122,
          0.23429686729276528,
          0.19741371444356356,
          0.29352437193194797,
          -0.06464431989728318,
          0.2287307225066614
         ],
         "yaxis": "y"
        },
        {
         "customdata": [
          [
           "cellular response to superoxide",
           "8",
           2.5637932505232017
          ],
          [
           "regulation of transcription from RNA polymerase II promoter in response to stress",
           "8",
           4.686902891670399
          ],
          [
           "cellular response to hypoxia",
           "8",
           3.6285829095679247
          ],
          [
           "response to chemokine",
           "8",
           1.308524993676384
          ],
          [
           "response to unfolded protein",
           "8",
           2.3592993426387587
          ],
          [
           "cellular response to amino acid starvation",
           "8",
           2.606724113456691
          ],
          [
           "response to amino acid starvation",
           "8",
           2.569846691753553
          ],
          [
           "cellular response to insulin stimulus",
           "8",
           3.061888356891306
          ],
          [
           "cellular response to oxidative stress",
           "8",
           2.6811758782619783
          ],
          [
           "cellular response to interleukin-12",
           "8",
           1.7787403286105206
          ],
          [
           "cellular response to chemical stress",
           "8",
           2.330865120167693
          ],
          [
           "response to insulin",
           "8",
           1.7787403286105206
          ],
          [
           "cellular response to interleukin-1",
           "8",
           2.047249576308915
          ],
          [
           "cellular response to tumor necrosis factor",
           "8",
           2.155176761239257
          ],
          [
           "cellular response to starvation",
           "8",
           1.9934878834222294
          ]
         ],
         "hovertemplate": "Term=%{customdata[0]}<extra></extra>",
         "legendgroup": "8",
         "marker": {
          "color": "rgb(218, 165, 27)",
          "size": [
           2.5637932505232017,
           4.686902891670399,
           3.6285829095679247,
           1.308524993676384,
           2.3592993426387587,
           2.606724113456691,
           2.569846691753553,
           3.061888356891306,
           2.6811758782619783,
           1.7787403286105206,
           2.330865120167693,
           1.7787403286105206,
           2.047249576308915,
           2.155176761239257,
           1.9934878834222294
          ],
          "sizemode": "area",
          "sizeref": 0.05874786280498522,
          "symbol": "circle"
         },
         "mode": "markers",
         "name": "8",
         "orientation": "v",
         "showlegend": true,
         "type": "scatter",
         "x": [
          0.024727199425425467,
          0.5947994919686241,
          -0.09454579321482426,
          0.2489887680813082,
          0.289578536170323,
          -0.1803217416442095,
          0.2009214267594213,
          -0.1496330961917806,
          -0.1671754180335443,
          0.08164599885119217,
          -0.26719543993619743,
          0.15173807384870996,
          -0.13621749598670269,
          -0.18759668916606667,
          -0.23707299832076822
         ],
         "xaxis": "x",
         "y": [
          -2.2772534130976205,
          -2.465364455807662,
          -2.3415353241712187,
          -2.3828837834171233,
          -2.396239716650316,
          -2.605949606760954,
          -2.678081103846573,
          -2.498681698379633,
          -2.689741962605178,
          -2.155089522642004,
          -2.681174926124872,
          -2.6185972236070993,
          -2.413246729386757,
          -2.4513241088550215,
          -2.5985085795159653
         ],
         "yaxis": "y"
        },
        {
         "customdata": [
          [
           "antigen processing and presentation of exogenous peptide antigen via MHC class I",
           "1",
           6.545375477433479
          ],
          [
           "regulation of hematopoietic stem cell differentiation",
           "1",
           4.761144553549814
          ],
          [
           "regulation of transcription from RNA polymerase II promoter in response to hypoxia",
           "1",
           4.62353515697788
          ],
          [
           "phagosome acidification",
           "1",
           2.753896128503152
          ],
          [
           "cellular response to lectin",
           "1",
           4.761144553549814
          ],
          [
           "iron ion transport",
           "1",
           2.9450164906800893
          ],
          [
           "intracellular pH reduction",
           "1",
           2.352858604909358
          ],
          [
           "lysosome localization",
           "1",
           2.275579487586028
          ],
          [
           "cellular iron ion homeostasis",
           "1",
           1.4327831627911147
          ]
         ],
         "hovertemplate": "Term=%{customdata[0]}<extra></extra>",
         "legendgroup": "1",
         "marker": {
          "color": "rgb(47, 138, 196)",
          "size": [
           6.545375477433479,
           4.761144553549814,
           4.62353515697788,
           2.753896128503152,
           4.761144553549814,
           2.9450164906800893,
           2.352858604909358,
           2.275579487586028,
           1.4327831627911147
          ],
          "sizemode": "area",
          "sizeref": 0.05874786280498522,
          "symbol": "circle"
         },
         "mode": "markers",
         "name": "1",
         "orientation": "v",
         "showlegend": true,
         "type": "scatter",
         "x": [
          1.107171025924991,
          1.5143667595946373,
          0.6281974363638463,
          1.2257372743394301,
          0.564064042055255,
          0.7103792648546948,
          1.2757342494255217,
          0.7601967011306869,
          0.9106185107195801
         ],
         "xaxis": "x",
         "y": [
          -2.13123347906085,
          -1.8344924897888086,
          -2.3491896034987656,
          -1.7310174029999554,
          -2.2050380534255343,
          -1.9271694124593335,
          -1.835999219913059,
          -1.699980582416051,
          -1.776843937133013
         ],
         "yaxis": "y"
        },
        {
         "customdata": [
          [
           "negative regulation of cell cycle G2/M phase transition",
           "10",
           5.615495252400847
          ],
          [
           "negative regulation of G2/M transition of mitotic cell cycle",
           "10",
           5.037779139695817
          ],
          [
           "negative regulation of mitotic cell cycle phase transition",
           "10",
           3.820136284181757
          ],
          [
           "regulation of cell cycle phase transition",
           "10",
           3.696028960527599
          ],
          [
           "regulation of G2/M transition of mitotic cell cycle",
           "10",
           3.0461822074377882
          ],
          [
           "regulation of mitotic cell cycle",
           "10",
           2.452230656912849
          ],
          [
           "regulation of mitotic cell cycle phase transition",
           "10",
           2.275579487586028
          ]
         ],
         "hovertemplate": "Term=%{customdata[0]}<extra></extra>",
         "legendgroup": "10",
         "marker": {
          "color": "rgb(118, 78, 159)",
          "size": [
           5.615495252400847,
           5.037779139695817,
           3.820136284181757,
           3.696028960527599,
           3.0461822074377882,
           2.452230656912849,
           2.275579487586028
          ],
          "sizemode": "area",
          "sizeref": 0.05874786280498522,
          "symbol": "circle"
         },
         "mode": "markers",
         "name": "10",
         "orientation": "v",
         "showlegend": true,
         "type": "scatter",
         "x": [
          1.5317381187490275,
          1.5387672045799772,
          1.6456149694392386,
          1.6450814991578373,
          1.51441900511878,
          1.6520559746525263,
          1.629510963863686
         ],
         "xaxis": "x",
         "y": [
          -2.690246725937868,
          -2.7883869543875788,
          -2.7244747202304693,
          -2.634714315796898,
          -2.7593604188747665,
          -2.539625091971067,
          -2.7414315951890074
         ],
         "yaxis": "y"
        },
        {
         "customdata": [
          [
           "tyrosine metabolic process",
           "9",
           2.452230656912849
          ],
          [
           "alpha-amino acid biosynthetic process",
           "9",
           1.784173665407266
          ],
          [
           "aspartate family amino acid metabolic process",
           "9",
           2.6374520154235097
          ],
          [
           "tRNA aminoacylation",
           "9",
           2.89595520187425
          ],
          [
           "tRNA aminoacylation for protein translation",
           "9",
           2.629200674387133
          ],
          [
           "carboxylic acid biosynthetic process",
           "9",
           1.3901341018401616
          ],
          [
           "glutamine family amino acid metabolic process",
           "9",
           2.275579487586028
          ],
          [
           "oxoacid metabolic process",
           "9",
           1.659104471497674
          ],
          [
           "alpha-amino acid metabolic process",
           "9",
           1.8485413606829164
          ],
          [
           "monocarboxylic acid metabolic process",
           "9",
           1.4307632476130405
          ]
         ],
         "hovertemplate": "Term=%{customdata[0]}<extra></extra>",
         "legendgroup": "9",
         "marker": {
          "color": "rgb(237, 100, 90)",
          "size": [
           2.452230656912849,
           1.784173665407266,
           2.6374520154235097,
           2.89595520187425,
           2.629200674387133,
           1.3901341018401616,
           2.275579487586028,
           1.659104471497674,
           1.8485413606829164,
           1.4307632476130405
          ],
          "sizemode": "area",
          "sizeref": 0.05874786280498522,
          "symbol": "circle"
         },
         "mode": "markers",
         "name": "9",
         "orientation": "v",
         "showlegend": true,
         "type": "scatter",
         "x": [
          -2.77237563364595,
          -3.370078640245057,
          -2.9662838547863246,
          -2.8101417747368127,
          -2.7872059041240975,
          -3.2368720477649022,
          -2.999822295367758,
          -3.224348160642406,
          -3.388562074561451,
          -3.145201106406636
         ],
         "xaxis": "x",
         "y": [
          0.08561498645349218,
          0.02882651121096428,
          0.06584179550725276,
          0.23939781609623142,
          0.23558708071341444,
          -0.03579163485416645,
          0.15770021093075992,
          0.3020384335165342,
          0.23404226560614666,
          0.2506197441139996
         ],
         "yaxis": "y"
        },
        {
         "customdata": [
          [
           "nonribosomal peptide biosynthetic process",
           "4",
           2.452230656912849
          ],
          [
           "glutathione biosynthetic process",
           "4",
           1.5599864685605187
          ],
          [
           "peptide metabolic process",
           "4",
           3.533194878529468
          ],
          [
           "proteolysis involved in cellular protein catabolic process",
           "4",
           2.606724113456691
          ],
          [
           "sulfur compound biosynthetic process",
           "4",
           2.047249576308915
          ],
          [
           "cellular amide metabolic process",
           "4",
           2.0000310014386025
          ],
          [
           "protein deubiquitination",
           "4",
           1.7787403286105206
          ],
          [
           "protein modification by small protein removal",
           "4",
           1.6585847653672243
          ]
         ],
         "hovertemplate": "Term=%{customdata[0]}<extra></extra>",
         "legendgroup": "4",
         "marker": {
          "color": "rgb(165, 170, 153)",
          "size": [
           2.452230656912849,
           1.5599864685605187,
           3.533194878529468,
           2.606724113456691,
           2.047249576308915,
           2.0000310014386025,
           1.7787403286105206,
           1.6585847653672243
          ],
          "sizemode": "area",
          "sizeref": 0.05874786280498522,
          "symbol": "circle"
         },
         "mode": "markers",
         "name": "4",
         "orientation": "v",
         "showlegend": true,
         "type": "scatter",
         "x": [
          -1.0317233947799218,
          -1.1958356215667294,
          -1.1001114705719197,
          -1.3064569550022107,
          -0.8709293516297073,
          -1.1453731800630045,
          -0.761778378233364,
          -0.7896294933021746
         ],
         "xaxis": "x",
         "y": [
          0.0915252446256238,
          -0.024407912681313322,
          0.3220377420948861,
          0.7133698990901078,
          0.31135592144076074,
          0.427995815411075,
          0.5449343363563982,
          0.5604037565639213
         ],
         "yaxis": "y"
        },
        {
         "customdata": [
          [
           "Wnt signaling pathway, planar cell polarity pathway",
           "5",
           4.761144553549814
          ],
          [
           "ephrin receptor signaling pathway",
           "5",
           4.249223364218778
          ],
          [
           "interleukin-1-mediated signaling pathway",
           "5",
           3.728758692232431
          ],
          [
           "tumor necrosis factor-mediated signaling pathway",
           "5",
           3.533194878529468
          ],
          [
           "non-canonical Wnt signaling pathway",
           "5",
           3.2366977492901947
          ],
          [
           "interleukin-12-mediated signaling pathway",
           "5",
           1.8485413606829164
          ],
          [
           "vascular endothelial growth factor receptor signaling pathway",
           "5",
           1.7184411616759694
          ],
          [
           "transmembrane receptor protein tyrosine kinase signaling pathway",
           "5",
           2.9261423091417704
          ],
          [
           "insulin receptor signaling pathway",
           "5",
           1.544130749408653
          ],
          [
           "cytokine-mediated signaling pathway",
           "5",
           1.348271240030304
          ]
         ],
         "hovertemplate": "Term=%{customdata[0]}<extra></extra>",
         "legendgroup": "5",
         "marker": {
          "color": "rgb(229, 134, 6)",
          "size": [
           4.761144553549814,
           4.249223364218778,
           3.728758692232431,
           3.533194878529468,
           3.2366977492901947,
           1.8485413606829164,
           1.7184411616759694,
           2.9261423091417704,
           1.544130749408653,
           1.348271240030304
          ],
          "sizemode": "area",
          "sizeref": 0.05874786280498522,
          "symbol": "circle"
         },
         "mode": "markers",
         "name": "5",
         "orientation": "v",
         "showlegend": true,
         "type": "scatter",
         "x": [
          2.5035793698450566,
          2.3108277282865726,
          2.204250425360269,
          2.3408862138628823,
          2.2456938210767357,
          2.119821614414855,
          2.2561992904659753,
          2.5726962089815837,
          2.3481074391051013,
          2.557049825433309
         ],
         "xaxis": "x",
         "y": [
          0.5622143383163081,
          0.2623518618066663,
          0.11747650133139555,
          0.17915495134622741,
          0.3016059853998825,
          0.07193235849725159,
          0.2151396153027209,
          0.4683623509235346,
          0.30281716359036126,
          0.3962520684823054
         ],
         "yaxis": "y"
        },
        {
         "customdata": [
          [
           "stimulatory C-type lectin receptor signaling pathway",
           "21",
           4.761144553549814
          ],
          [
           "innate immune response activating cell surface receptor signaling pathway",
           "21",
           4.650835448009355
          ],
          [
           "Fc-epsilon receptor signaling pathway",
           "21",
           4.320364107835985
          ],
          [
           "Fc receptor signaling pathway",
           "21",
           4.283572471354121
          ],
          [
           "T cell receptor signaling pathway",
           "21",
           2.830864092683771
          ],
          [
           "antigen receptor-mediated signaling pathway",
           "21",
           2.297350862463496
          ],
          [
           "Fc-gamma receptor signaling pathway involved in phagocytosis",
           "21",
           1.5985437949202912
          ],
          [
           "Fc-gamma receptor signaling pathway",
           "21",
           1.565609293344208
          ],
          [
           "Fc receptor mediated stimulatory signaling pathway",
           "21",
           1.5144982925412014
          ]
         ],
         "hovertemplate": "Term=%{customdata[0]}<extra></extra>",
         "legendgroup": "21",
         "marker": {
          "color": "rgb(93, 105, 177)",
          "size": [
           4.761144553549814,
           4.650835448009355,
           4.320364107835985,
           4.283572471354121,
           2.830864092683771,
           2.297350862463496,
           1.5985437949202912,
           1.565609293344208,
           1.5144982925412014
          ],
          "sizemode": "area",
          "sizeref": 0.05874786280498522,
          "symbol": "circle"
         },
         "mode": "markers",
         "name": "21",
         "orientation": "v",
         "showlegend": true,
         "type": "scatter",
         "x": [
          3.110056755547086,
          3.106534409651314,
          2.8893172767300475,
          2.978194959402751,
          3.197486644870583,
          3.2549987421926816,
          3.2469488281243617,
          2.923719507471161,
          3.000982498854534
         ],
         "xaxis": "x",
         "y": [
          0.6632871927870009,
          0.5165408861098648,
          0.6329700275116263,
          0.7324127200234137,
          0.5935086402319711,
          0.6482649995149119,
          0.7951927728893776,
          0.6791841408801578,
          0.4571650728069371
         ],
         "yaxis": "y"
        },
        {
         "customdata": [
          [
           "positive regulation of canonical Wnt signaling pathway",
           "14",
           3.6600800557731907
          ],
          [
           "positive regulation of telomere maintenance via telomerase",
           "14",
           1.7540720878043419
          ],
          [
           "positive regulation of Wnt signaling pathway",
           "14",
           2.9450164906800893
          ],
          [
           "positive regulation of telomere maintenance via telomere lengthening",
           "14",
           1.6098033958176576
          ],
          [
           "positive regulation of DNA biosynthetic process",
           "14",
           1.3461870654924417
          ],
          [
           "negative regulation of canonical Wnt signaling pathway",
           "14",
           1.8485413606829164
          ],
          [
           "negative regulation of Wnt signaling pathway",
           "14",
           1.7976646627838253
          ],
          [
           "regulation of canonical Wnt signaling pathway",
           "14",
           1.975462687255
          ]
         ],
         "hovertemplate": "Term=%{customdata[0]}<extra></extra>",
         "legendgroup": "14",
         "marker": {
          "color": "rgb(82, 188, 163)",
          "size": [
           3.6600800557731907,
           1.7540720878043419,
           2.9450164906800893,
           1.6098033958176576,
           1.3461870654924417,
           1.8485413606829164,
           1.7976646627838253,
           1.975462687255
          ],
          "sizemode": "area",
          "sizeref": 0.05874786280498522,
          "symbol": "circle"
         },
         "mode": "markers",
         "name": "14",
         "orientation": "v",
         "showlegend": true,
         "type": "scatter",
         "x": [
          2.958413525922171,
          2.5768280645726724,
          2.9632445514228065,
          2.4736735955675573,
          2.3814354238810163,
          2.8720369968400346,
          2.85947137110267,
          2.8650082803592785
         ],
         "xaxis": "x",
         "y": [
          -0.4611723480838287,
          -1.0241929009105335,
          -0.454154556389109,
          -0.970585456326616,
          -0.9386468529390293,
          -0.5200685457475407,
          -0.5155262167325911,
          -0.44247528934915453
         ],
         "yaxis": "y"
        }
       ],
       "layout": {
        "annotations": [
         {
          "arrowhead": 0,
          "showarrow": true,
          "text": "carboxylic acid<br>metabolic<br>process",
          "x": -2.4490440909630964,
          "y": 1.2261424029286794
         },
         {
          "arrowhead": 0,
          "showarrow": true,
          "text": "biological_proc<br>ess",
          "x": 0.9662739182676271,
          "y": -1.943440464521708
         },
         {
          "arrowhead": 0,
          "showarrow": true,
          "text": "organic<br>substance<br>metabolic<br>process",
          "x": 0.5620027322624122,
          "y": 2.1283631500562143
         },
         {
          "arrowhead": 0,
          "showarrow": true,
          "text": "biological<br>regulation",
          "x": 1.7247676048813882,
          "y": -1.0448195689280277
         },
         {
          "arrowhead": 0,
          "showarrow": true,
          "text": "metabolic<br>process",
          "x": -1.025229730643629,
          "y": 0.36840185036268247
         },
         {
          "arrowhead": 0,
          "showarrow": true,
          "text": "cell surface<br>receptor<br>signaling<br>pathway",
          "x": 2.3459111936832344,
          "y": 0.28773071949966533
         },
         {
          "arrowhead": 0,
          "showarrow": true,
          "text": "metabolic<br>process",
          "x": -2.414001773549969,
          "y": -0.2029627430766615
         },
         {
          "arrowhead": 0,
          "showarrow": true,
          "text": "organic<br>substance<br>catabolic<br>process",
          "x": -1.1808161807269204,
          "y": 2.7667212256388747
         },
         {
          "arrowhead": 0,
          "showarrow": true,
          "text": "response to<br>stimulus",
          "x": 0.011509388174060687,
          "y": -2.4835781436578666
         },
         {
          "arrowhead": 0,
          "showarrow": true,
          "text": "oxoacid<br>metabolic<br>process",
          "x": -3.0700891492281395,
          "y": 0.1563877209294629
         },
         {
          "arrowhead": 0,
          "showarrow": true,
          "text": "regulation of<br>cell cycle",
          "x": 1.5938839622230103,
          "y": -2.6968914031982365
         },
         {
          "arrowhead": 0,
          "showarrow": true,
          "text": "organic<br>substance<br>metabolic<br>process",
          "x": -0.18131341730559983,
          "y": 0.6867749403651988
         },
         {
          "arrowhead": 0,
          "showarrow": true,
          "text": "metabolic<br>process",
          "x": -1.2306608828686927,
          "y": 1.2998539830905538
         },
         {
          "arrowhead": 0,
          "showarrow": true,
          "text": "regulation of<br>biological<br>process",
          "x": 2.1086455058728224,
          "y": -1.5843498306627108
         },
         {
          "arrowhead": 0,
          "showarrow": true,
          "text": "regulation of<br>cellular<br>process",
          "x": 2.743763976208526,
          "y": -0.6658527708098003
         },
         {
          "arrowhead": 0,
          "showarrow": true,
          "text": "carbohydrate<br>derivative<br>metabolic<br>process",
          "x": -0.2887608172319918,
          "y": 2.8036908025864067
         },
         {
          "arrowhead": 0,
          "showarrow": true,
          "text": "metabolic<br>process",
          "x": -0.22510697854050044,
          "y": 0.02725434232284309
         },
         {
          "arrowhead": 0,
          "showarrow": true,
          "text": "biological_proc<br>ess",
          "x": 0.5276004977048524,
          "y": -1.4008155631423762
         },
         {
          "arrowhead": 0,
          "showarrow": true,
          "text": "carboxylic acid<br>metabolic<br>process",
          "x": -3.2249043512572984,
          "y": 1.3701310428557636
         },
         {
          "arrowhead": 0,
          "showarrow": true,
          "text": "organic<br>substance<br>metabolic<br>process",
          "x": -0.22510523752316014,
          "y": 1.705392966015093
         },
         {
          "arrowhead": 0,
          "showarrow": true,
          "text": "monosaccharide<br>metabolic<br>process",
          "x": -2.043950970610447,
          "y": -1.4245021907887168
         },
         {
          "arrowhead": 0,
          "showarrow": true,
          "text": "immune<br>response-<br>regulating cell<br>surface<br>receptor<br>signaling<br>pathway",
          "x": 3.0786932914271694,
          "y": 0.6353918280839178
         },
         {
          "arrowhead": 0,
          "showarrow": true,
          "text": "organic<br>substance<br>catabolic<br>process",
          "x": -2.087997831129256,
          "y": 2.3511522509487706
         },
         {
          "arrowhead": 0,
          "showarrow": true,
          "text": "biological_proc<br>ess",
          "x": 1.7589970716962622,
          "y": -0.17050664301650223
         },
         {
          "arrowhead": 0,
          "showarrow": true,
          "text": "cellular<br>modified amino<br>acid metabolic<br>process",
          "x": -1.228808189545607,
          "y": -0.47315313861159325
         }
        ],
        "height": 700,
        "legend": {
         "itemsizing": "constant",
         "title": {
          "text": "hue"
         },
         "tracegroupgap": 0
        },
        "margin": {
         "t": 60
        },
        "showlegend": false,
        "template": {
         "data": {
          "bar": [
           {
            "error_x": {
             "color": "rgb(36,36,36)"
            },
            "error_y": {
             "color": "rgb(36,36,36)"
            },
            "marker": {
             "line": {
              "color": "white",
              "width": 0.5
             },
             "pattern": {
              "fillmode": "overlay",
              "size": 10,
              "solidity": 0.2
             }
            },
            "type": "bar"
           }
          ],
          "barpolar": [
           {
            "marker": {
             "line": {
              "color": "white",
              "width": 0.5
             },
             "pattern": {
              "fillmode": "overlay",
              "size": 10,
              "solidity": 0.2
             }
            },
            "type": "barpolar"
           }
          ],
          "carpet": [
           {
            "aaxis": {
             "endlinecolor": "rgb(36,36,36)",
             "gridcolor": "white",
             "linecolor": "white",
             "minorgridcolor": "white",
             "startlinecolor": "rgb(36,36,36)"
            },
            "baxis": {
             "endlinecolor": "rgb(36,36,36)",
             "gridcolor": "white",
             "linecolor": "white",
             "minorgridcolor": "white",
             "startlinecolor": "rgb(36,36,36)"
            },
            "type": "carpet"
           }
          ],
          "choropleth": [
           {
            "colorbar": {
             "outlinewidth": 1,
             "tickcolor": "rgb(36,36,36)",
             "ticks": "outside"
            },
            "type": "choropleth"
           }
          ],
          "contour": [
           {
            "colorbar": {
             "outlinewidth": 1,
             "tickcolor": "rgb(36,36,36)",
             "ticks": "outside"
            },
            "colorscale": [
             [
              0,
              "#440154"
             ],
             [
              0.1111111111111111,
              "#482878"
             ],
             [
              0.2222222222222222,
              "#3e4989"
             ],
             [
              0.3333333333333333,
              "#31688e"
             ],
             [
              0.4444444444444444,
              "#26828e"
             ],
             [
              0.5555555555555556,
              "#1f9e89"
             ],
             [
              0.6666666666666666,
              "#35b779"
             ],
             [
              0.7777777777777778,
              "#6ece58"
             ],
             [
              0.8888888888888888,
              "#b5de2b"
             ],
             [
              1,
              "#fde725"
             ]
            ],
            "type": "contour"
           }
          ],
          "contourcarpet": [
           {
            "colorbar": {
             "outlinewidth": 1,
             "tickcolor": "rgb(36,36,36)",
             "ticks": "outside"
            },
            "type": "contourcarpet"
           }
          ],
          "heatmap": [
           {
            "colorbar": {
             "outlinewidth": 1,
             "tickcolor": "rgb(36,36,36)",
             "ticks": "outside"
            },
            "colorscale": [
             [
              0,
              "#440154"
             ],
             [
              0.1111111111111111,
              "#482878"
             ],
             [
              0.2222222222222222,
              "#3e4989"
             ],
             [
              0.3333333333333333,
              "#31688e"
             ],
             [
              0.4444444444444444,
              "#26828e"
             ],
             [
              0.5555555555555556,
              "#1f9e89"
             ],
             [
              0.6666666666666666,
              "#35b779"
             ],
             [
              0.7777777777777778,
              "#6ece58"
             ],
             [
              0.8888888888888888,
              "#b5de2b"
             ],
             [
              1,
              "#fde725"
             ]
            ],
            "type": "heatmap"
           }
          ],
          "heatmapgl": [
           {
            "colorbar": {
             "outlinewidth": 1,
             "tickcolor": "rgb(36,36,36)",
             "ticks": "outside"
            },
            "colorscale": [
             [
              0,
              "#440154"
             ],
             [
              0.1111111111111111,
              "#482878"
             ],
             [
              0.2222222222222222,
              "#3e4989"
             ],
             [
              0.3333333333333333,
              "#31688e"
             ],
             [
              0.4444444444444444,
              "#26828e"
             ],
             [
              0.5555555555555556,
              "#1f9e89"
             ],
             [
              0.6666666666666666,
              "#35b779"
             ],
             [
              0.7777777777777778,
              "#6ece58"
             ],
             [
              0.8888888888888888,
              "#b5de2b"
             ],
             [
              1,
              "#fde725"
             ]
            ],
            "type": "heatmapgl"
           }
          ],
          "histogram": [
           {
            "marker": {
             "line": {
              "color": "white",
              "width": 0.6
             }
            },
            "type": "histogram"
           }
          ],
          "histogram2d": [
           {
            "colorbar": {
             "outlinewidth": 1,
             "tickcolor": "rgb(36,36,36)",
             "ticks": "outside"
            },
            "colorscale": [
             [
              0,
              "#440154"
             ],
             [
              0.1111111111111111,
              "#482878"
             ],
             [
              0.2222222222222222,
              "#3e4989"
             ],
             [
              0.3333333333333333,
              "#31688e"
             ],
             [
              0.4444444444444444,
              "#26828e"
             ],
             [
              0.5555555555555556,
              "#1f9e89"
             ],
             [
              0.6666666666666666,
              "#35b779"
             ],
             [
              0.7777777777777778,
              "#6ece58"
             ],
             [
              0.8888888888888888,
              "#b5de2b"
             ],
             [
              1,
              "#fde725"
             ]
            ],
            "type": "histogram2d"
           }
          ],
          "histogram2dcontour": [
           {
            "colorbar": {
             "outlinewidth": 1,
             "tickcolor": "rgb(36,36,36)",
             "ticks": "outside"
            },
            "colorscale": [
             [
              0,
              "#440154"
             ],
             [
              0.1111111111111111,
              "#482878"
             ],
             [
              0.2222222222222222,
              "#3e4989"
             ],
             [
              0.3333333333333333,
              "#31688e"
             ],
             [
              0.4444444444444444,
              "#26828e"
             ],
             [
              0.5555555555555556,
              "#1f9e89"
             ],
             [
              0.6666666666666666,
              "#35b779"
             ],
             [
              0.7777777777777778,
              "#6ece58"
             ],
             [
              0.8888888888888888,
              "#b5de2b"
             ],
             [
              1,
              "#fde725"
             ]
            ],
            "type": "histogram2dcontour"
           }
          ],
          "mesh3d": [
           {
            "colorbar": {
             "outlinewidth": 1,
             "tickcolor": "rgb(36,36,36)",
             "ticks": "outside"
            },
            "type": "mesh3d"
           }
          ],
          "parcoords": [
           {
            "line": {
             "colorbar": {
              "outlinewidth": 1,
              "tickcolor": "rgb(36,36,36)",
              "ticks": "outside"
             }
            },
            "type": "parcoords"
           }
          ],
          "pie": [
           {
            "automargin": true,
            "type": "pie"
           }
          ],
          "scatter": [
           {
            "fillpattern": {
             "fillmode": "overlay",
             "size": 10,
             "solidity": 0.2
            },
            "type": "scatter"
           }
          ],
          "scatter3d": [
           {
            "line": {
             "colorbar": {
              "outlinewidth": 1,
              "tickcolor": "rgb(36,36,36)",
              "ticks": "outside"
             }
            },
            "marker": {
             "colorbar": {
              "outlinewidth": 1,
              "tickcolor": "rgb(36,36,36)",
              "ticks": "outside"
             }
            },
            "type": "scatter3d"
           }
          ],
          "scattercarpet": [
           {
            "marker": {
             "colorbar": {
              "outlinewidth": 1,
              "tickcolor": "rgb(36,36,36)",
              "ticks": "outside"
             }
            },
            "type": "scattercarpet"
           }
          ],
          "scattergeo": [
           {
            "marker": {
             "colorbar": {
              "outlinewidth": 1,
              "tickcolor": "rgb(36,36,36)",
              "ticks": "outside"
             }
            },
            "type": "scattergeo"
           }
          ],
          "scattergl": [
           {
            "marker": {
             "colorbar": {
              "outlinewidth": 1,
              "tickcolor": "rgb(36,36,36)",
              "ticks": "outside"
             }
            },
            "type": "scattergl"
           }
          ],
          "scattermapbox": [
           {
            "marker": {
             "colorbar": {
              "outlinewidth": 1,
              "tickcolor": "rgb(36,36,36)",
              "ticks": "outside"
             }
            },
            "type": "scattermapbox"
           }
          ],
          "scatterpolar": [
           {
            "marker": {
             "colorbar": {
              "outlinewidth": 1,
              "tickcolor": "rgb(36,36,36)",
              "ticks": "outside"
             }
            },
            "type": "scatterpolar"
           }
          ],
          "scatterpolargl": [
           {
            "marker": {
             "colorbar": {
              "outlinewidth": 1,
              "tickcolor": "rgb(36,36,36)",
              "ticks": "outside"
             }
            },
            "type": "scatterpolargl"
           }
          ],
          "scatterternary": [
           {
            "marker": {
             "colorbar": {
              "outlinewidth": 1,
              "tickcolor": "rgb(36,36,36)",
              "ticks": "outside"
             }
            },
            "type": "scatterternary"
           }
          ],
          "surface": [
           {
            "colorbar": {
             "outlinewidth": 1,
             "tickcolor": "rgb(36,36,36)",
             "ticks": "outside"
            },
            "colorscale": [
             [
              0,
              "#440154"
             ],
             [
              0.1111111111111111,
              "#482878"
             ],
             [
              0.2222222222222222,
              "#3e4989"
             ],
             [
              0.3333333333333333,
              "#31688e"
             ],
             [
              0.4444444444444444,
              "#26828e"
             ],
             [
              0.5555555555555556,
              "#1f9e89"
             ],
             [
              0.6666666666666666,
              "#35b779"
             ],
             [
              0.7777777777777778,
              "#6ece58"
             ],
             [
              0.8888888888888888,
              "#b5de2b"
             ],
             [
              1,
              "#fde725"
             ]
            ],
            "type": "surface"
           }
          ],
          "table": [
           {
            "cells": {
             "fill": {
              "color": "rgb(237,237,237)"
             },
             "line": {
              "color": "white"
             }
            },
            "header": {
             "fill": {
              "color": "rgb(217,217,217)"
             },
             "line": {
              "color": "white"
             }
            },
            "type": "table"
           }
          ]
         },
         "layout": {
          "annotationdefaults": {
           "arrowhead": 0,
           "arrowwidth": 1
          },
          "autotypenumbers": "strict",
          "coloraxis": {
           "colorbar": {
            "outlinewidth": 1,
            "tickcolor": "rgb(36,36,36)",
            "ticks": "outside"
           }
          },
          "colorscale": {
           "diverging": [
            [
             0,
             "rgb(103,0,31)"
            ],
            [
             0.1,
             "rgb(178,24,43)"
            ],
            [
             0.2,
             "rgb(214,96,77)"
            ],
            [
             0.3,
             "rgb(244,165,130)"
            ],
            [
             0.4,
             "rgb(253,219,199)"
            ],
            [
             0.5,
             "rgb(247,247,247)"
            ],
            [
             0.6,
             "rgb(209,229,240)"
            ],
            [
             0.7,
             "rgb(146,197,222)"
            ],
            [
             0.8,
             "rgb(67,147,195)"
            ],
            [
             0.9,
             "rgb(33,102,172)"
            ],
            [
             1,
             "rgb(5,48,97)"
            ]
           ],
           "sequential": [
            [
             0,
             "#440154"
            ],
            [
             0.1111111111111111,
             "#482878"
            ],
            [
             0.2222222222222222,
             "#3e4989"
            ],
            [
             0.3333333333333333,
             "#31688e"
            ],
            [
             0.4444444444444444,
             "#26828e"
            ],
            [
             0.5555555555555556,
             "#1f9e89"
            ],
            [
             0.6666666666666666,
             "#35b779"
            ],
            [
             0.7777777777777778,
             "#6ece58"
            ],
            [
             0.8888888888888888,
             "#b5de2b"
            ],
            [
             1,
             "#fde725"
            ]
           ],
           "sequentialminus": [
            [
             0,
             "#440154"
            ],
            [
             0.1111111111111111,
             "#482878"
            ],
            [
             0.2222222222222222,
             "#3e4989"
            ],
            [
             0.3333333333333333,
             "#31688e"
            ],
            [
             0.4444444444444444,
             "#26828e"
            ],
            [
             0.5555555555555556,
             "#1f9e89"
            ],
            [
             0.6666666666666666,
             "#35b779"
            ],
            [
             0.7777777777777778,
             "#6ece58"
            ],
            [
             0.8888888888888888,
             "#b5de2b"
            ],
            [
             1,
             "#fde725"
            ]
           ]
          },
          "colorway": [
           "#1F77B4",
           "#FF7F0E",
           "#2CA02C",
           "#D62728",
           "#9467BD",
           "#8C564B",
           "#E377C2",
           "#7F7F7F",
           "#BCBD22",
           "#17BECF"
          ],
          "font": {
           "color": "rgb(36,36,36)"
          },
          "geo": {
           "bgcolor": "white",
           "lakecolor": "white",
           "landcolor": "white",
           "showlakes": true,
           "showland": true,
           "subunitcolor": "white"
          },
          "hoverlabel": {
           "align": "left"
          },
          "hovermode": "closest",
          "mapbox": {
           "style": "light"
          },
          "paper_bgcolor": "white",
          "plot_bgcolor": "white",
          "polar": {
           "angularaxis": {
            "gridcolor": "rgb(232,232,232)",
            "linecolor": "rgb(36,36,36)",
            "showgrid": false,
            "showline": true,
            "ticks": "outside"
           },
           "bgcolor": "white",
           "radialaxis": {
            "gridcolor": "rgb(232,232,232)",
            "linecolor": "rgb(36,36,36)",
            "showgrid": false,
            "showline": true,
            "ticks": "outside"
           }
          },
          "scene": {
           "xaxis": {
            "backgroundcolor": "white",
            "gridcolor": "rgb(232,232,232)",
            "gridwidth": 2,
            "linecolor": "rgb(36,36,36)",
            "showbackground": true,
            "showgrid": false,
            "showline": true,
            "ticks": "outside",
            "zeroline": false,
            "zerolinecolor": "rgb(36,36,36)"
           },
           "yaxis": {
            "backgroundcolor": "white",
            "gridcolor": "rgb(232,232,232)",
            "gridwidth": 2,
            "linecolor": "rgb(36,36,36)",
            "showbackground": true,
            "showgrid": false,
            "showline": true,
            "ticks": "outside",
            "zeroline": false,
            "zerolinecolor": "rgb(36,36,36)"
           },
           "zaxis": {
            "backgroundcolor": "white",
            "gridcolor": "rgb(232,232,232)",
            "gridwidth": 2,
            "linecolor": "rgb(36,36,36)",
            "showbackground": true,
            "showgrid": false,
            "showline": true,
            "ticks": "outside",
            "zeroline": false,
            "zerolinecolor": "rgb(36,36,36)"
           }
          },
          "shapedefaults": {
           "fillcolor": "black",
           "line": {
            "width": 0
           },
           "opacity": 0.3
          },
          "ternary": {
           "aaxis": {
            "gridcolor": "rgb(232,232,232)",
            "linecolor": "rgb(36,36,36)",
            "showgrid": false,
            "showline": true,
            "ticks": "outside"
           },
           "baxis": {
            "gridcolor": "rgb(232,232,232)",
            "linecolor": "rgb(36,36,36)",
            "showgrid": false,
            "showline": true,
            "ticks": "outside"
           },
           "bgcolor": "white",
           "caxis": {
            "gridcolor": "rgb(232,232,232)",
            "linecolor": "rgb(36,36,36)",
            "showgrid": false,
            "showline": true,
            "ticks": "outside"
           }
          },
          "title": {
           "x": 0.05
          },
          "xaxis": {
           "automargin": true,
           "gridcolor": "rgb(232,232,232)",
           "linecolor": "rgb(36,36,36)",
           "showgrid": false,
           "showline": true,
           "ticks": "outside",
           "title": {
            "standoff": 15
           },
           "zeroline": false,
           "zerolinecolor": "rgb(36,36,36)"
          },
          "yaxis": {
           "automargin": true,
           "gridcolor": "rgb(232,232,232)",
           "linecolor": "rgb(36,36,36)",
           "showgrid": false,
           "showline": true,
           "ticks": "outside",
           "title": {
            "standoff": 15
           },
           "zeroline": false,
           "zerolinecolor": "rgb(36,36,36)"
          }
         }
        },
        "width": 700,
        "xaxis": {
         "anchor": "y",
         "domain": [
          0,
          1
         ],
         "title": {
          "text": "MDS1"
         }
        },
        "yaxis": {
         "anchor": "x",
         "domain": [
          0,
          1
         ],
         "title": {
          "text": "MDS2"
         }
        }
       }
      }
     },
     "metadata": {},
     "output_type": "display_data"
    }
   ],
   "source": [
    "data = create_plotly_data(X_transformed, hue, go_datasets[0], godag)\n",
    "plot_interactive_enrichment_mds(data, labels, centers, names)"
   ]
  },
  {
   "cell_type": "code",
   "execution_count": 5,
   "metadata": {},
   "outputs": [
    {
     "name": "stderr",
     "output_type": "stream",
     "text": [
      "/Users/tungvuduc/opt/anaconda3/envs/DiannOOP/lib/python3.11/site-packages/sklearn/manifold/_mds.py:601: UserWarning: The MDS API has changed. ``fit`` now constructs an dissimilarity matrix from data. To use a custom dissimilarity matrix, set ``dissimilarity='precomputed'``.\n",
      "  warnings.warn(\n"
     ]
    },
    {
     "data": {
      "image/png": "[encoded data removed]",
      "text/plain": [
       "<Figure size 800x800 with 1 Axes>"
      ]
     },
     "metadata": {},
     "output_type": "display_data"
    },
    {
     "data": {
      "application/vnd.plotly.v1+json": {
       "config": {
        "plotlyServerURL": "https://plot.ly"
       },
       "data": [
        {
         "customdata": [
          [
           "glucuronate catabolic process",
           "0",
           3.9946680044135814
          ],
          [
           "glucuronate catabolic process to xylulose 5-phosphate",
           "0",
           3.9946680044135814
          ],
          [
           "tyrosine catabolic process",
           "0",
           2.275579487586028
          ],
          [
           "dicarboxylic acid catabolic process",
           "0",
           2.2453920524511286
          ],
          [
           "N-acetylneuraminate metabolic process",
           "0",
           1.663465592409348
          ]
         ],
         "hovertemplate": "Term=%{customdata[0]}<extra></extra>",
         "legendgroup": "0",
         "marker": {
          "color": "rgb(229, 134, 6)",
          "size": [
           3.9946680044135814,
           3.9946680044135814,
           2.275579487586028,
           2.2453920524511286,
           1.663465592409348
          ],
          "sizemode": "area",
          "sizeref": 0.05874786280498522,
          "symbol": "circle"
         },
         "mode": "markers",
         "name": "0",
         "orientation": "v",
         "showlegend": true,
         "type": "scatter",
         "x": [
          2.2545366659692467,
          2.3474086073747764,
          2.8783913859382726,
          2.737801579134313,
          2.3389665720226773
         ],
         "xaxis": "x",
         "y": [
          -1.0496186545808075,
          -1.9162524632196762,
          -1.1804250462314816,
          -1.131819079151355,
          -1.3289192713259386
         ],
         "yaxis": "y"
        },
        {
         "customdata": [
          [
           "fructose catabolic process",
           "2",
           3.9946680044135814
          ],
          [
           "amino sugar catabolic process",
           "2",
           3.2730376789504736
          ],
          [
           "nucleotide-sugar biosynthetic process",
           "2",
           4.702935350468987
          ],
          [
           "UDP-N-acetylglucosamine biosynthetic process",
           "2",
           2.5637932505232017
          ],
          [
           "glycolipid metabolic process",
           "2",
           5.172648086065803
          ],
          [
           "glycoside catabolic process",
           "2",
           1.9165527146877104
          ],
          [
           "UDP-N-acetylglucosamine metabolic process",
           "2",
           2.3159167865209183
          ],
          [
           "glycosphingolipid metabolic process",
           "2",
           3.9594726508943414
          ]
         ],
         "hovertemplate": "Term=%{customdata[0]}<extra></extra>",
         "legendgroup": "2",
         "marker": {
          "color": "rgb(93, 105, 177)",
          "size": [
           3.9946680044135814,
           3.2730376789504736,
           4.702935350468987,
           2.5637932505232017,
           5.172648086065803,
           1.9165527146877104,
           2.3159167865209183,
           3.9594726508943414
          ],
          "sizemode": "area",
          "sizeref": 0.05874786280498522,
          "symbol": "circle"
         },
         "mode": "markers",
         "name": "2",
         "orientation": "v",
         "showlegend": true,
         "type": "scatter",
         "x": [
          -0.4624049102675933,
          0.17501328360364213,
          0.02910874647450933,
          -0.3022207434058793,
          0.023920736330101066,
          0.2995974809459016,
          -0.28411636627304704,
          0.07422182858591188
         ],
         "xaxis": "x",
         "y": [
          -2.916933129745243,
          -3.1137685437476272,
          -2.160705257134477,
          -2.6961563234550265,
          -2.839684318777588,
          -2.6710389888727346,
          -2.589651474425852,
          -2.534314249049253
         ],
         "yaxis": "y"
        },
        {
         "customdata": [
          [
           "fructose catabolic process to hydroxyacetone phosphate and glyceraldehyde-3-phosphate",
           "21",
           3.9946680044135814
          ],
          [
           "glycosylceramide catabolic process",
           "21",
           2.275579487586028
          ],
          [
           "glycosyl compound catabolic process",
           "21",
           2.275579487586028
          ],
          [
           "glycosphingolipid catabolic process",
           "21",
           2.6811758782619783
          ],
          [
           "ganglioside catabolic process",
           "21",
           2.0737739652690284
          ],
          [
           "carbohydrate derivative catabolic process",
           "21",
           2.6374520154235097
          ],
          [
           "nucleoside catabolic process",
           "21",
           1.4744106075476986
          ],
          [
           "glycosaminoglycan catabolic process",
           "21",
           2.6811758782619783
          ],
          [
           "aminoglycan catabolic process",
           "21",
           1.8485413606829164
          ]
         ],
         "hovertemplate": "Term=%{customdata[0]}<extra></extra>",
         "legendgroup": "21",
         "marker": {
          "color": "rgb(82, 188, 163)",
          "size": [
           3.9946680044135814,
           2.275579487586028,
           2.275579487586028,
           2.6811758782619783,
           2.0737739652690284,
           2.6374520154235097,
           1.4744106075476986,
           2.6811758782619783,
           1.8485413606829164
          ],
          "sizemode": "area",
          "sizeref": 0.05874786280498522,
          "symbol": "circle"
         },
         "mode": "markers",
         "name": "21",
         "orientation": "v",
         "showlegend": true,
         "type": "scatter",
         "x": [
          1.1807250946841614,
          0.7258702593860614,
          0.41660191039366073,
          0.8379072546565464,
          0.7466606697827542,
          0.7185495918373678,
          1.23014654855197,
          0.9025625468802169,
          0.943302788186776
         ],
         "xaxis": "x",
         "y": [
          -3.1820365292100634,
          -2.9171627345464666,
          -2.998420217514033,
          -3.111849615299801,
          -2.968471951494759,
          -3.2947529347619247,
          -2.7938812909980504,
          -2.8124871089173635,
          -2.855396298989839
         ],
         "yaxis": "y"
        },
        {
         "customdata": [
          [
           "xylulose 5-phosphate biosynthetic process",
           "13",
           3.9946680044135814
          ],
          [
           "glyceraldehyde-3-phosphate metabolic process",
           "13",
           4.7604951606800405
          ],
          [
           "glycerol-3-phosphate metabolic process",
           "13",
           2.275579487586028
          ],
          [
           "fructose 1,6-bisphosphate metabolic process",
           "13",
           1.784173665407266
          ],
          [
           "fructose 6-phosphate metabolic process",
           "13",
           1.663465592409348
          ],
          [
           "pentose-phosphate shunt",
           "13",
           1.3901341018401616
          ],
          [
           "sphingolipid metabolic process",
           "13",
           2.925279175330719
          ],
          [
           "glycosaminoglycan metabolic process",
           "13",
           1.5585631221712406
          ],
          [
           "glycerophospholipid metabolic process",
           "13",
           1.369388028683449
          ]
         ],
         "hovertemplate": "Term=%{customdata[0]}<extra></extra>",
         "legendgroup": "13",
         "marker": {
          "color": "rgb(153, 201, 69)",
          "size": [
           3.9946680044135814,
           4.7604951606800405,
           2.275579487586028,
           1.784173665407266,
           1.663465592409348,
           1.3901341018401616,
           2.925279175330719,
           1.5585631221712406,
           1.369388028683449
          ],
          "sizemode": "area",
          "sizeref": 0.05874786280498522,
          "symbol": "circle"
         },
         "mode": "markers",
         "name": "13",
         "orientation": "v",
         "showlegend": true,
         "type": "scatter",
         "x": [
          -0.02633497906490258,
          -0.1505005573128542,
          -0.0042531374749032675,
          -0.007749008690304942,
          -0.007593060044999085,
          0.152479466054146,
          0.5732493317077448,
          0.027736158543249692,
          0.4335925685848282
         ],
         "xaxis": "x",
         "y": [
          -1.7213590532112426,
          -1.5339531002405207,
          -1.4417271625626882,
          -1.3981777896176302,
          -1.4868346476611183,
          -1.4787713247100653,
          -1.6483463720554905,
          -2.0640153582007503,
          -1.7542889945878024
         ],
         "yaxis": "y"
        },
        {
         "customdata": [
          [
           "glycerol metabolic process",
           "11",
           4.947180607399261
          ],
          [
           "glycerol biosynthetic process",
           "11",
           2.4707519301816157
          ],
          [
           "fructose metabolic process",
           "11",
           3.0286294316721887
          ],
          [
           "hexose metabolic process",
           "11",
           6.86536333430273
          ],
          [
           "glycoside metabolic process",
           "11",
           2.275579487586028
          ],
          [
           "pentose metabolic process",
           "11",
           2.0737739652690284
          ],
          [
           "amino sugar biosynthetic process",
           "11",
           2.452230656912849
          ],
          [
           "gluconeogenesis",
           "11",
           4.378366242189803
          ],
          [
           "N-acetylglucosamine metabolic process",
           "11",
           2.047249576308915
          ],
          [
           "glucan biosynthetic process",
           "11",
           1.3901341018401616
          ],
          [
           "glycogen biosynthetic process",
           "11",
           1.3901341018401616
          ]
         ],
         "hovertemplate": "Term=%{customdata[0]}<extra></extra>",
         "legendgroup": "11",
         "marker": {
          "color": "rgb(204, 97, 176)",
          "size": [
           4.947180607399261,
           2.4707519301816157,
           3.0286294316721887,
           6.86536333430273,
           2.275579487586028,
           2.0737739652690284,
           2.452230656912849,
           4.378366242189803,
           2.047249576308915,
           1.3901341018401616,
           1.3901341018401616
          ],
          "sizemode": "area",
          "sizeref": 0.05874786280498522,
          "symbol": "circle"
         },
         "mode": "markers",
         "name": "11",
         "orientation": "v",
         "showlegend": true,
         "type": "scatter",
         "x": [
          -0.9726804262837878,
          -1.0363346317966409,
          -1.262644472715197,
          -1.219547270075001,
          -0.4243233327523231,
          -1.063568878618295,
          -0.555874227428036,
          -1.1949092523818756,
          -0.5783560982273838,
          -0.9769056013587405,
          -0.82587028350714
         ],
         "xaxis": "x",
         "y": [
          -1.5611573708925404,
          -1.7747369046668808,
          -1.97247628903759,
          -2.4835988046852,
          -1.8175608636323062,
          -1.6174421360099114,
          -2.370672490809441,
          -2.7044482487238066,
          -2.216978956365131,
          -1.9607779235292475,
          -2.0830970217062417
         ],
         "yaxis": "y"
        },
        {
         "customdata": [
          [
           "proteasomal ubiquitin-independent protein catabolic process",
           "16",
           6.473944923977604
          ],
          [
           "peptide catabolic process",
           "16",
           4.927295493366325
          ],
          [
           "hydrogen peroxide catabolic process",
           "16",
           2.4786662140198716
          ],
          [
           "phosphate-containing compound metabolic process",
           "16",
           6.110384111366355
          ],
          [
           "anaphase-promoting complex-dependent catabolic process",
           "16",
           4.155333192023665
          ],
          [
           "lipoprotein catabolic process",
           "16",
           1.5599864685605187
          ],
          [
           "organophosphate biosynthetic process",
           "16",
           2.830864092683771
          ],
          [
           "sulfur compound catabolic process",
           "16",
           2.7678451145938627
          ],
          [
           "SCF-dependent proteasomal ubiquitin-dependent protein catabolic process",
           "16",
           3.9490867142391335
          ],
          [
           "NAD biosynthetic process",
           "16",
           1.663465592409348
          ]
         ],
         "hovertemplate": "Term=%{customdata[0]}<extra></extra>",
         "legendgroup": "16",
         "marker": {
          "color": "rgb(36, 121, 108)",
          "size": [
           6.473944923977604,
           4.927295493366325,
           2.4786662140198716,
           6.110384111366355,
           4.155333192023665,
           1.5599864685605187,
           2.830864092683771,
           2.7678451145938627,
           3.9490867142391335,
           1.663465592409348
          ],
          "sizemode": "area",
          "sizeref": 0.05874786280498522,
          "symbol": "circle"
         },
         "mode": "markers",
         "name": "16",
         "orientation": "v",
         "showlegend": true,
         "type": "scatter",
         "x": [
          0.8691677414208048,
          1.4568997166381354,
          1.1643965124350124,
          1.0866482705247211,
          1.3128916113538451,
          1.0659636571930209,
          1.3557515801281506,
          1.0624651006251489,
          1.4833804866034885,
          0.5846102663158778
         ],
         "xaxis": "x",
         "y": [
          -1.080975862195714,
          -1.546561963415334,
          -1.3667546420070928,
          -1.0418123274689193,
          -1.5430504857511265,
          -1.3553563312171801,
          -1.1368899885159798,
          -1.5279609926640665,
          -1.7362756278034583,
          -1.2913893198981512
         ],
         "yaxis": "y"
        },
        {
         "customdata": [
          [
           "carnitine biosynthetic process",
           "10",
           2.4707519301816157
          ],
          [
           "amino-acid betaine biosynthetic process",
           "10",
           2.4707519301816157
          ],
          [
           "folic acid-containing compound metabolic process",
           "10",
           4.619206970795189
          ],
          [
           "galactose metabolic process",
           "10",
           1.784173665407266
          ],
          [
           "glutathione biosynthetic process",
           "10",
           1.5599864685605187
          ],
          [
           "carnitine metabolic process",
           "10",
           1.4744106075476986
          ],
          [
           "cellular modified amino acid biosynthetic process",
           "10",
           1.7286400972311322
          ]
         ],
         "hovertemplate": "Term=%{customdata[0]}<extra></extra>",
         "legendgroup": "10",
         "marker": {
          "color": "rgb(218, 165, 27)",
          "size": [
           2.4707519301816157,
           2.4707519301816157,
           4.619206970795189,
           1.784173665407266,
           1.5599864685605187,
           1.4744106075476986,
           1.7286400972311322
          ],
          "sizemode": "area",
          "sizeref": 0.05874786280498522,
          "symbol": "circle"
         },
         "mode": "markers",
         "name": "10",
         "orientation": "v",
         "showlegend": true,
         "type": "scatter",
         "x": [
          1.4034592066588467,
          1.4576168935432596,
          1.173868899660622,
          1.676560419302658,
          1.2966641671119519,
          1.182026033854888,
          1.4887225390035528
         ],
         "xaxis": "x",
         "y": [
          0.5822993063667721,
          0.5677608650657746,
          0.30521686294955,
          1.0582137560709175,
          0.05674366150957997,
          0.46102953987643497,
          0.37526676073977683
         ],
         "yaxis": "y"
        },
        {
         "customdata": [
          [
           "oxaloacetate metabolic process",
           "19",
           2.4707519301816157
          ],
          [
           "aspartate metabolic process",
           "19",
           2.275579487586028
          ],
          [
           "dicarboxylic acid metabolic process",
           "19",
           6.48787314275457
          ],
          [
           "L-phenylalanine metabolic process",
           "19",
           1.784173665407266
          ],
          [
           "folic acid metabolic process",
           "19",
           2.6374520154235097
          ],
          [
           "dicarboxylic acid biosynthetic process",
           "19",
           1.663465592409348
          ],
          [
           "sulfur amino acid metabolic process",
           "19",
           2.275579487586028
          ],
          [
           "tricarboxylic acid metabolic process",
           "19",
           1.4744106075476986
          ],
          [
           "glycine metabolic process",
           "19",
           1.4744106075476986
          ],
          [
           "water-soluble vitamin metabolic process",
           "19",
           2.0054890946839365
          ],
          [
           "pyruvate metabolic process",
           "19",
           1.521784353843472
          ]
         ],
         "hovertemplate": "Term=%{customdata[0]}<extra></extra>",
         "legendgroup": "19",
         "marker": {
          "color": "rgb(47, 138, 196)",
          "size": [
           2.4707519301816157,
           2.275579487586028,
           6.48787314275457,
           1.784173665407266,
           2.6374520154235097,
           1.663465592409348,
           2.275579487586028,
           1.4744106075476986,
           1.4744106075476986,
           2.0054890946839365,
           1.521784353843472
          ],
          "sizemode": "area",
          "sizeref": 0.05874786280498522,
          "symbol": "circle"
         },
         "mode": "markers",
         "name": "19",
         "orientation": "v",
         "showlegend": true,
         "type": "scatter",
         "x": [
          2.1794291957341927,
          2.7300993438899996,
          2.806577308249631,
          2.553521628485954,
          2.905292488151224,
          2.514165467732673,
          2.2203875791260654,
          1.941170660308982,
          2.5249742541017293,
          1.9275895286142,
          2.7296821212826594
         ],
         "xaxis": "x",
         "y": [
          0.24431390869229364,
          0.15266805207020107,
          0.1001462314306516,
          -0.09240364269754055,
          0.45517733289631507,
          0.22129406436500557,
          -0.31804002819517857,
          0.04022074829695155,
          -0.1714765733811521,
          -0.08523769180938079,
          -0.03730860975290795
         ],
         "yaxis": "y"
        },
        {
         "customdata": [
          [
           "pyridine-containing compound metabolic process",
           "17",
           2.4707519301816157
          ],
          [
           "removal of superoxide radicals",
           "17",
           2.6811758782619783
          ],
          [
           "mycotoxin metabolic process",
           "17",
           2.1434764046602903
          ],
          [
           "aflatoxin metabolic process",
           "17",
           2.1434764046602903
          ],
          [
           "organic heteropentacyclic compound metabolic process",
           "17",
           2.1434764046602903
          ],
          [
           "hydrogen peroxide metabolic process",
           "17",
           2.6811758782619783
          ],
          [
           "ethanol oxidation",
           "17",
           1.4744106075476986
          ],
          [
           "angiotensin maturation",
           "17",
           1.4744106075476986
          ],
          [
           "neurotransmitter biosynthetic process",
           "17",
           1.308524993676384
          ],
          [
           "glutathione metabolic process",
           "17",
           1.9838226343609555
          ],
          [
           "DNA-dependent DNA replication",
           "17",
           2.59133395515045
          ],
          [
           "retinoid metabolic process",
           "17",
           1.563564239958154
          ]
         ],
         "hovertemplate": "Term=%{customdata[0]}<extra></extra>",
         "legendgroup": "17",
         "marker": {
          "color": "rgb(118, 78, 159)",
          "size": [
           2.4707519301816157,
           2.6811758782619783,
           2.1434764046602903,
           2.1434764046602903,
           2.1434764046602903,
           2.6811758782619783,
           1.4744106075476986,
           1.4744106075476986,
           1.308524993676384,
           1.9838226343609555,
           2.59133395515045,
           1.563564239958154
          ],
          "sizemode": "area",
          "sizeref": 0.05874786280498522,
          "symbol": "circle"
         },
         "mode": "markers",
         "name": "17",
         "orientation": "v",
         "showlegend": true,
         "type": "scatter",
         "x": [
          0.48750237611977304,
          0.3616106059348135,
          0.05171276880492902,
          0.01826790729260156,
          0.2142938515463059,
          0.4928275603602608,
          0.04313546031100392,
          -0.2761450123964633,
          -0.0950468063084499,
          0.17519117466591738,
          0.47657469546871,
          0.23896292835635324
         ],
         "xaxis": "x",
         "y": [
          -0.5943890392573195,
          0.14150174232670662,
          0.025105911814754116,
          -0.33053702763955023,
          -0.07472381799891445,
          0.01240819002434917,
          -0.18497963081196703,
          -0.5953357128262842,
          -0.26590542693312597,
          0.1586640895455134,
          -0.26380161361195836,
          -0.7536514097205856
         ],
         "yaxis": "y"
        },
        {
         "customdata": [
          [
           "neutrophil degranulation",
           "23",
           23.49914512199409
          ],
          [
           "antigen processing and presentation of exogenous peptide antigen via MHC class I, TAP-dependent",
           "23",
           6.159220015705854
          ],
          [
           "regulation of hematopoietic stem cell differentiation",
           "23",
           4.761144553549814
          ],
          [
           "NIK/NF-kappaB signaling",
           "23",
           4.650835448009355
          ],
          [
           "regulation of hematopoietic progenitor cell differentiation",
           "23",
           4.62353515697788
          ],
          [
           "regulation of establishment of planar polarity",
           "23",
           4.650835448009355
          ],
          [
           "regulation of stem cell differentiation",
           "23",
           3.8625681174617212
          ],
          [
           "antigen processing and presentation of endogenous peptide antigen",
           "23",
           1.308524993676384
          ],
          [
           "regulation of axonogenesis",
           "23",
           1.663465592409348
          ],
          [
           "positive regulation of stress fiber assembly",
           "23",
           1.304216306586947
          ]
         ],
         "hovertemplate": "Term=%{customdata[0]}<extra></extra>",
         "legendgroup": "23",
         "marker": {
          "color": "rgb(237, 100, 90)",
          "size": [
           23.49914512199409,
           6.159220015705854,
           4.761144553549814,
           4.650835448009355,
           4.62353515697788,
           4.650835448009355,
           3.8625681174617212,
           1.308524993676384,
           1.663465592409348,
           1.304216306586947
          ],
          "sizemode": "area",
          "sizeref": 0.05874786280498522,
          "symbol": "circle"
         },
         "mode": "markers",
         "name": "23",
         "orientation": "v",
         "showlegend": true,
         "type": "scatter",
         "x": [
          -1.5784147116339604,
          -1.7288733310791193,
          -1.842688985733646,
          -1.3800222855718496,
          -1.557574220001546,
          -1.8376139938987883,
          -1.5399909609774711,
          -1.8454189293976397,
          -1.6858283873080706,
          -1.7618239712421733
         ],
         "xaxis": "x",
         "y": [
          0.24093758535521667,
          0.46471472207185605,
          0.8610517806379316,
          0.6127758824728115,
          0.9246296392888339,
          0.7553392020632801,
          0.9790420729266875,
          0.44398458829357007,
          0.911334979188271,
          1.0589141707734604
         ],
         "yaxis": "y"
        },
        {
         "customdata": [
          [
           "neutrophil activation involved in immune response",
           "1",
           23.49914512199409
          ],
          [
           "inclusion body assembly",
           "1",
           2.275579487586028
          ],
          [
           "pre-replicative complex assembly",
           "1",
           5.172648086065803
          ],
          [
           "lytic vacuole organization",
           "1",
           3.2366977492901947
          ],
          [
           "Arp2/3 complex-mediated actin nucleation",
           "1",
           2.1434764046602903
          ],
          [
           "membrane raft organization",
           "1",
           2.1434764046602903
          ],
          [
           "phagosome maturation",
           "1",
           2.9450164906800893
          ],
          [
           "lysosome organization",
           "1",
           2.89595520187425
          ],
          [
           "actin filament depolymerization",
           "1",
           1.5599864685605187
          ],
          [
           "iron ion transport",
           "1",
           2.9450164906800893
          ],
          [
           "vesicle transport along actin filament",
           "1",
           1.792532960068137
          ],
          [
           "transferrin transport",
           "1",
           2.297350862463496
          ],
          [
           "lysosome localization",
           "1",
           2.275579487586028
          ],
          [
           "actin nucleation",
           "1",
           1.663465592409348
          ],
          [
           "actin filament-based transport",
           "1",
           1.663465592409348
          ],
          [
           "cellular protein catabolic process",
           "1",
           2.542553306618908
          ],
          [
           "protein homotetramerization",
           "1",
           1.6261116865803087
          ],
          [
           "protein-DNA complex assembly",
           "1",
           2.2757180359267566
          ],
          [
           "cellular iron ion homeostasis",
           "1",
           1.4327831627911147
          ],
          [
           "cell-cell junction organization",
           "1",
           1.3174084414076181
          ]
         ],
         "hovertemplate": "Term=%{customdata[0]}<extra></extra>",
         "legendgroup": "1",
         "marker": {
          "color": "rgb(165, 170, 153)",
          "size": [
           23.49914512199409,
           2.275579487586028,
           5.172648086065803,
           3.2366977492901947,
           2.1434764046602903,
           2.1434764046602903,
           2.9450164906800893,
           2.89595520187425,
           1.5599864685605187,
           2.9450164906800893,
           1.792532960068137,
           2.297350862463496,
           2.275579487586028,
           1.663465592409348,
           1.663465592409348,
           2.542553306618908,
           1.6261116865803087,
           2.2757180359267566,
           1.4327831627911147,
           1.3174084414076181
          ],
          "sizemode": "area",
          "sizeref": 0.05874786280498522,
          "symbol": "circle"
         },
         "mode": "markers",
         "name": "1",
         "orientation": "v",
         "showlegend": true,
         "type": "scatter",
         "x": [
          -0.5872751718480144,
          -0.5740814851348205,
          -0.7505111976275042,
          0.008679568009862195,
          0.1282748879088597,
          -0.6370015993791699,
          -0.5073386474584047,
          0.008679568009862566,
          -0.1210366043813046,
          -0.38669418672916395,
          -0.11917909688284765,
          -0.3358487991087564,
          -0.4873238831286944,
          0.1391295596276716,
          -0.21310379497044546,
          -0.5677021348769761,
          -0.37299356795355043,
          -0.3060867921134873,
          -0.6938479597555537,
          -0.5251382353524419
         ],
         "xaxis": "x",
         "y": [
          1.9916956719371428,
          1.1650851178850843,
          1.4042921378398583,
          1.6421146094128425,
          1.8032313908774358,
          1.0524735221609554,
          1.2132825742387947,
          1.6421146094128407,
          1.5738666577061062,
          2.044020172582945,
          1.8391755054351324,
          1.5440220488874847,
          1.7971308598988092,
          1.8032066430618956,
          1.6884592867352295,
          1.5861442987068148,
          1.2942966138735688,
          1.3127338584845825,
          1.8098204983395743,
          1.0872936170220244
         ],
         "yaxis": "y"
        },
        {
         "customdata": [
          [
           "neutrophil mediated immunity",
           "20",
           23.49914512199409
          ],
          [
           "negative regulation of establishment of protein localization to mitochondrion",
           "20",
           2.275579487586028
          ],
          [
           "positive regulation of establishment of protein localization to telomere",
           "20",
           2.6811758782619783
          ],
          [
           "regulation of establishment of protein localization to telomere",
           "20",
           2.5637932505232017
          ],
          [
           "regulation of protein localization to Cajal body",
           "20",
           2.5637932505232017
          ],
          [
           "positive regulation of protein localization to Cajal body",
           "20",
           2.5637932505232017
          ],
          [
           "antigen processing and presentation of exogenous peptide antigen via MHC class I",
           "20",
           6.545375477433479
          ],
          [
           "positive regulation of protein localization to chromosome, telomeric region",
           "20",
           2.452230656912849
          ],
          [
           "regulation of telomerase RNA localization to Cajal body",
           "20",
           1.8660134723568638
          ],
          [
           "positive regulation of establishment of protein localization",
           "20",
           1.792532960068137
          ],
          [
           "intracellular pH reduction",
           "20",
           2.352858604909358
          ]
         ],
         "hovertemplate": "Term=%{customdata[0]}<extra></extra>",
         "legendgroup": "20",
         "marker": {
          "color": "rgb(229, 134, 6)",
          "size": [
           23.49914512199409,
           2.275579487586028,
           2.6811758782619783,
           2.5637932505232017,
           2.5637932505232017,
           2.5637932505232017,
           6.545375477433479,
           2.452230656912849,
           1.8660134723568638,
           1.792532960068137,
           2.352858604909358
          ],
          "sizemode": "area",
          "sizeref": 0.05874786280498522,
          "symbol": "circle"
         },
         "mode": "markers",
         "name": "20",
         "orientation": "v",
         "showlegend": true,
         "type": "scatter",
         "x": [
          -0.7746222399141809,
          -1.3362935290094544,
          -1.3018525705271673,
          -1.175851658989553,
          -1.228709455639193,
          -1.3758029870302149,
          -0.7091984401252487,
          -1.3089513224541094,
          -1.2139540132202529,
          -1.5471046533001014,
          -1.0788179865217902
         ],
         "xaxis": "x",
         "y": [
          2.118043855817816,
          1.9756544113442935,
          2.5838518139625517,
          2.5742577456032363,
          2.2470484121042062,
          2.2743290317092244,
          2.4219893422074503,
          2.545728272660801,
          2.0308172207890838,
          2.335277176102933,
          1.870891789318893
         ],
         "yaxis": "y"
        },
        {
         "customdata": [
          [
           "N-acetylneuraminate catabolic process",
           "9",
           2.275579487586028
          ],
          [
           "organonitrogen compound catabolic process",
           "9",
           6.712419629167327
          ],
          [
           "carbohydrate catabolic process",
           "9",
           5.172648086065803
          ],
          [
           "nucleotide catabolic process",
           "9",
           2.047249576308915
          ],
          [
           "protein catabolic process",
           "9",
           1.8022803024063505
          ],
          [
           "proteasomal protein catabolic process",
           "9",
           1.9736668337566676
          ]
         ],
         "hovertemplate": "Term=%{customdata[0]}<extra></extra>",
         "legendgroup": "9",
         "marker": {
          "color": "rgb(93, 105, 177)",
          "size": [
           2.275579487586028,
           6.712419629167327,
           5.172648086065803,
           2.047249576308915,
           1.8022803024063505,
           1.9736668337566676
          ],
          "sizemode": "area",
          "sizeref": 0.05874786280498522,
          "symbol": "circle"
         },
         "mode": "markers",
         "name": "9",
         "orientation": "v",
         "showlegend": true,
         "type": "scatter",
         "x": [
          2.3634768379359286,
          1.9415872263961713,
          1.5102905656993397,
          1.6123881608165693,
          1.918119006245305,
          1.9494446596577089
         ],
         "xaxis": "x",
         "y": [
          -2.484793020754817,
          -2.42475169913743,
          -2.7974402060813515,
          -2.137684381345149,
          -2.615758930788329,
          -2.526119103553232
         ],
         "yaxis": "y"
        },
        {
         "customdata": [
          [
           "regulation of cellular amino acid metabolic process",
           "22",
           6.6262657058285
          ],
          [
           "regulation of cellular amine metabolic process",
           "22",
           6.138160699617006
          ],
          [
           "regulation of cellular ketone metabolic process",
           "22",
           5.172648086065803
          ],
          [
           "positive regulation of telomerase RNA localization to Cajal body",
           "22",
           2.1434764046602903
          ],
          [
           "phagosome acidification",
           "22",
           2.753896128503152
          ],
          [
           "regulation of plasminogen activation",
           "22",
           1.4744106075476986
          ],
          [
           "regulation of angiotensin levels in blood",
           "22",
           1.4744106075476986
          ],
          [
           "regulation of proteolysis involved in cellular protein catabolic process",
           "22",
           1.4327831627911147
          ],
          [
           "regulation of cholesterol transport",
           "22",
           1.4327831627911147
          ],
          [
           "protein stabilization",
           "22",
           2.822726503416225
          ],
          [
           "regulation of mitochondrial membrane potential",
           "22",
           1.410223503418421
          ]
         ],
         "hovertemplate": "Term=%{customdata[0]}<extra></extra>",
         "legendgroup": "22",
         "marker": {
          "color": "rgb(82, 188, 163)",
          "size": [
           6.6262657058285,
           6.138160699617006,
           5.172648086065803,
           2.1434764046602903,
           2.753896128503152,
           1.4744106075476986,
           1.4744106075476986,
           1.4327831627911147,
           1.4327831627911147,
           2.822726503416225,
           1.410223503418421
          ],
          "sizemode": "area",
          "sizeref": 0.05874786280498522,
          "symbol": "circle"
         },
         "mode": "markers",
         "name": "22",
         "orientation": "v",
         "showlegend": true,
         "type": "scatter",
         "x": [
          -1.6062341899676704,
          -1.454949579164241,
          -1.6031813840781686,
          -1.3824578998424413,
          -1.0484829172474812,
          -1.3711992221753722,
          -1.080454540015159,
          -1.5216760532903353,
          -1.253490958552235,
          -1.231455376695385,
          -1.2127443204002775
         ],
         "xaxis": "x",
         "y": [
          1.6163953406660774,
          1.4669507281802112,
          1.3781646106895706,
          1.8051857998317886,
          1.7463455472836378,
          1.240851560566833,
          1.1782231206172564,
          1.2675111266060737,
          1.6583791547376396,
          1.2482584650231954,
          1.1503231072472657
         ],
         "yaxis": "y"
        },
        {
         "customdata": [
          [
           "membrane lipid catabolic process",
           "24",
           2.6811758782619783
          ],
          [
           "oligosaccharide catabolic process",
           "24",
           1.784173665407266
          ],
          [
           "ceramide catabolic process",
           "24",
           2.047249576308915
          ],
          [
           "phospholipid catabolic process",
           "24",
           2.275579487586028
          ],
          [
           "keratan sulfate catabolic process",
           "24",
           1.4744106075476986
          ],
          [
           "chondroitin sulfate catabolic process",
           "24",
           1.3901341018401616
          ]
         ],
         "hovertemplate": "Term=%{customdata[0]}<extra></extra>",
         "legendgroup": "24",
         "marker": {
          "color": "rgb(153, 201, 69)",
          "size": [
           2.6811758782619783,
           1.784173665407266,
           2.047249576308915,
           2.275579487586028,
           1.4744106075476986,
           1.3901341018401616
          ],
          "sizemode": "area",
          "sizeref": 0.05874786280498522,
          "symbol": "circle"
         },
         "mode": "markers",
         "name": "24",
         "orientation": "v",
         "showlegend": true,
         "type": "scatter",
         "x": [
          1.1594927797342778,
          0.8525697331971953,
          1.309149716894489,
          1.2967735921145847,
          0.6322446753145322,
          0.7153015838654093
         ],
         "xaxis": "x",
         "y": [
          -2.3730920747606588,
          -2.161760008778953,
          -2.5008800789988017,
          -2.2872515650843437,
          -2.2227238081757386,
          -2.4064003687063362
         ],
         "yaxis": "y"
        },
        {
         "customdata": [
          [
           "cellular response to superoxide",
           "7",
           2.5637932505232017
          ],
          [
           "regulation of transcription from RNA polymerase II promoter in response to hypoxia",
           "7",
           4.62353515697788
          ],
          [
           "regulation of transcription from RNA polymerase II promoter in response to stress",
           "7",
           4.686902891670399
          ],
          [
           "cellular response to lectin",
           "7",
           4.761144553549814
          ],
          [
           "cellular response to hypoxia",
           "7",
           3.6285829095679247
          ],
          [
           "response to chemokine",
           "7",
           1.308524993676384
          ],
          [
           "response to unfolded protein",
           "7",
           2.3592993426387587
          ],
          [
           "cellular response to amino acid starvation",
           "7",
           2.606724113456691
          ],
          [
           "response to amino acid starvation",
           "7",
           2.569846691753553
          ],
          [
           "cellular response to insulin stimulus",
           "7",
           3.061888356891306
          ],
          [
           "cellular response to oxidative stress",
           "7",
           2.6811758782619783
          ],
          [
           "cellular response to interleukin-12",
           "7",
           1.7787403286105206
          ],
          [
           "cellular response to chemical stress",
           "7",
           2.330865120167693
          ],
          [
           "response to insulin",
           "7",
           1.7787403286105206
          ],
          [
           "cellular response to interleukin-1",
           "7",
           2.047249576308915
          ],
          [
           "cellular response to tumor necrosis factor",
           "7",
           2.155176761239257
          ],
          [
           "cellular response to starvation",
           "7",
           1.9934878834222294
          ]
         ],
         "hovertemplate": "Term=%{customdata[0]}<extra></extra>",
         "legendgroup": "7",
         "marker": {
          "color": "rgb(204, 97, 176)",
          "size": [
           2.5637932505232017,
           4.62353515697788,
           4.686902891670399,
           4.761144553549814,
           3.6285829095679247,
           1.308524993676384,
           2.3592993426387587,
           2.606724113456691,
           2.569846691753553,
           3.061888356891306,
           2.6811758782619783,
           1.7787403286105206,
           2.330865120167693,
           1.7787403286105206,
           2.047249576308915,
           2.155176761239257,
           1.9934878834222294
          ],
          "sizemode": "area",
          "sizeref": 0.05874786280498522,
          "symbol": "circle"
         },
         "mode": "markers",
         "name": "7",
         "orientation": "v",
         "showlegend": true,
         "type": "scatter",
         "x": [
          0.28500184985923904,
          -0.3180531628697713,
          -0.28641455413399247,
          -0.2532052615140556,
          0.415010479857182,
          0.048281940576166534,
          0.04713913329386269,
          0.4960553045057816,
          0.11017231728713323,
          0.5067992347332291,
          0.49843255754242144,
          0.2178569289713144,
          0.6196016782838252,
          0.1767830415838735,
          0.4659354782611099,
          0.5225386781387172,
          0.5553805235611357
         ],
         "xaxis": "x",
         "y": [
          2.298424857054561,
          2.467435587168719,
          2.5768407477779736,
          2.3150619070919047,
          2.3534825963351933,
          2.424908579767094,
          2.4764940113805207,
          2.5922672381632315,
          2.7128338200258257,
          2.4744164283563252,
          2.6830981077732585,
          2.1793968817844256,
          2.6503965131417493,
          2.6502431702456075,
          2.399393873026185,
          2.4282160363468734,
          2.5802631110949372
         ],
         "yaxis": "y"
        },
        {
         "customdata": [
          [
           "negative regulation of cell cycle G2/M phase transition",
           "14",
           5.615495252400847
          ],
          [
           "negative regulation of G2/M transition of mitotic cell cycle",
           "14",
           5.037779139695817
          ],
          [
           "negative regulation of mitotic cell cycle phase transition",
           "14",
           3.820136284181757
          ],
          [
           "regulation of cell cycle phase transition",
           "14",
           3.696028960527599
          ],
          [
           "regulation of G2/M transition of mitotic cell cycle",
           "14",
           3.0461822074377882
          ],
          [
           "regulation of mitotic cell cycle",
           "14",
           2.452230656912849
          ],
          [
           "regulation of mitotic cell cycle phase transition",
           "14",
           2.275579487586028
          ]
         ],
         "hovertemplate": "Term=%{customdata[0]}<extra></extra>",
         "legendgroup": "14",
         "marker": {
          "color": "rgb(36, 121, 108)",
          "size": [
           5.615495252400847,
           5.037779139695817,
           3.820136284181757,
           3.696028960527599,
           3.0461822074377882,
           2.452230656912849,
           2.275579487586028
          ],
          "sizemode": "area",
          "sizeref": 0.05874786280498522,
          "symbol": "circle"
         },
         "mode": "markers",
         "name": "14",
         "orientation": "v",
         "showlegend": true,
         "type": "scatter",
         "x": [
          -2.1204215442099934,
          -2.2054917505239198,
          -2.2809610397271807,
          -2.2690433192351485,
          -2.1541497649283263,
          -2.2194085707875835,
          -2.339011237166542
         ],
         "xaxis": "x",
         "y": [
          2.2929820264641867,
          2.336623955773897,
          2.2525600815068882,
          2.1502012294230477,
          2.3354560019149058,
          2.083572167769511,
          2.1990590302965463
         ],
         "yaxis": "y"
        },
        {
         "customdata": [
          [
           "aromatic amino acid family catabolic process",
           "12",
           2.9278695913393147
          ],
          [
           "aspartate family amino acid catabolic process",
           "12",
           2.6374520154235097
          ],
          [
           "cellular amino acid catabolic process",
           "12",
           5.172648086065803
          ],
          [
           "alpha-amino acid catabolic process",
           "12",
           2.635460774575678
          ],
          [
           "canonical glycolysis",
           "12",
           2.275579487586028
          ],
          [
           "glucose catabolic process to pyruvate",
           "12",
           2.275579487586028
          ],
          [
           "glycolytic process through glucose-6-phosphate",
           "12",
           2.2216927485117903
          ],
          [
           "carboxylic acid catabolic process",
           "12",
           1.4744106075476986
          ],
          [
           "glycolytic process",
           "12",
           1.9711700943309918
          ]
         ],
         "hovertemplate": "Term=%{customdata[0]}<extra></extra>",
         "legendgroup": "12",
         "marker": {
          "color": "rgb(218, 165, 27)",
          "size": [
           2.9278695913393147,
           2.6374520154235097,
           5.172648086065803,
           2.635460774575678,
           2.275579487586028,
           2.275579487586028,
           2.2216927485117903,
           1.4744106075476986,
           1.9711700943309918
          ],
          "sizemode": "area",
          "sizeref": 0.05874786280498522,
          "symbol": "circle"
         },
         "mode": "markers",
         "name": "12",
         "orientation": "v",
         "showlegend": true,
         "type": "scatter",
         "x": [
          3.014103900860586,
          3.0892743473680526,
          3.4752910620689423,
          3.5301893550603785,
          2.9440961314739447,
          2.9007834113890802,
          2.7970752935940437,
          3.2790781930732966,
          3.0035729220574696
         ],
         "xaxis": "x",
         "y": [
          -1.330417197946226,
          -1.2540371355613833,
          -1.627792677826668,
          -1.5583451493683882,
          -2.1865986939354127,
          -2.1444219702580765,
          -1.8625504903005756,
          -1.656999949680195,
          -2.047081231902903
         ],
         "yaxis": "y"
        },
        {
         "customdata": [
          [
           "tyrosine metabolic process",
           "8",
           2.452230656912849
          ],
          [
           "alpha-amino acid biosynthetic process",
           "8",
           1.784173665407266
          ],
          [
           "aspartate family amino acid metabolic process",
           "8",
           2.6374520154235097
          ],
          [
           "tRNA aminoacylation",
           "8",
           2.89595520187425
          ],
          [
           "tRNA aminoacylation for protein translation",
           "8",
           2.629200674387133
          ],
          [
           "carboxylic acid biosynthetic process",
           "8",
           1.3901341018401616
          ],
          [
           "glutamine family amino acid metabolic process",
           "8",
           2.275579487586028
          ],
          [
           "oxoacid metabolic process",
           "8",
           1.659104471497674
          ],
          [
           "alpha-amino acid metabolic process",
           "8",
           1.8485413606829164
          ],
          [
           "monocarboxylic acid metabolic process",
           "8",
           1.4307632476130405
          ]
         ],
         "hovertemplate": "Term=%{customdata[0]}<extra></extra>",
         "legendgroup": "8",
         "marker": {
          "color": "rgb(47, 138, 196)",
          "size": [
           2.452230656912849,
           1.784173665407266,
           2.6374520154235097,
           2.89595520187425,
           2.629200674387133,
           1.3901341018401616,
           2.275579487586028,
           1.659104471497674,
           1.8485413606829164,
           1.4307632476130405
          ],
          "sizemode": "area",
          "sizeref": 0.05874786280498522,
          "symbol": "circle"
         },
         "mode": "markers",
         "name": "8",
         "orientation": "v",
         "showlegend": true,
         "type": "scatter",
         "x": [
          2.787040092872857,
          3.3622429554411215,
          2.974408407378558,
          2.808096872193923,
          2.7865041984286876,
          3.2261891995229055,
          2.998967860449058,
          3.1997204449206675,
          3.373402762431999,
          3.1205305132920684
         ],
         "xaxis": "x",
         "y": [
          -0.16502837532598308,
          -0.24783294327784666,
          -0.18978842390935335,
          -0.3647080398720738,
          -0.358677218239149,
          -0.2581242864709296,
          -0.2930502884103782,
          -0.5138408141028241,
          -0.42036653752384506,
          -0.46562741969302485
         ],
         "yaxis": "y"
        },
        {
         "customdata": [
          [
           "nonribosomal peptide biosynthetic process",
           "4",
           2.452230656912849
          ],
          [
           "proteolysis",
           "4",
           6.527164677865696
          ],
          [
           "peptide metabolic process",
           "4",
           3.533194878529468
          ],
          [
           "proteolysis involved in cellular protein catabolic process",
           "4",
           2.606724113456691
          ],
          [
           "sulfur compound biosynthetic process",
           "4",
           2.047249576308915
          ],
          [
           "cellular amide metabolic process",
           "4",
           2.0000310014386025
          ],
          [
           "protein deubiquitination",
           "4",
           1.7787403286105206
          ],
          [
           "protein modification by small protein removal",
           "4",
           1.6585847653672243
          ]
         ],
         "hovertemplate": "Term=%{customdata[0]}<extra></extra>",
         "legendgroup": "4",
         "marker": {
          "color": "rgb(118, 78, 159)",
          "size": [
           2.452230656912849,
           6.527164677865696,
           3.533194878529468,
           2.606724113456691,
           2.047249576308915,
           2.0000310014386025,
           1.7787403286105206,
           1.6585847653672243
          ],
          "sizemode": "area",
          "sizeref": 0.05874786280498522,
          "symbol": "circle"
         },
         "mode": "markers",
         "name": "4",
         "orientation": "v",
         "showlegend": true,
         "type": "scatter",
         "x": [
          1.1025158021683703,
          1.4143606302535219,
          1.147087099982318,
          1.3199248807804405,
          0.7041268542195646,
          1.2514641368278203,
          0.895481101244176,
          0.9167932339699181
         ],
         "xaxis": "x",
         "y": [
          -0.07702777741377335,
          -0.7706529439747892,
          -0.2941454006443066,
          -0.6891224435448665,
          -0.5620693355069124,
          -0.33532533956800364,
          -0.3871789707059754,
          -0.4108198916618937
         ],
         "yaxis": "y"
        },
        {
         "customdata": [
          [
           "glucose metabolic process",
           "18",
           5.20992248553492
          ],
          [
           "hexose biosynthetic process",
           "18",
           4.155333192023665
          ]
         ],
         "hovertemplate": "Term=%{customdata[0]}<extra></extra>",
         "legendgroup": "18",
         "marker": {
          "color": "rgb(237, 100, 90)",
          "size": [
           5.20992248553492,
           4.155333192023665
          ],
          "sizemode": "area",
          "sizeref": 0.05874786280498522,
          "symbol": "circle"
         },
         "mode": "markers",
         "name": "18",
         "orientation": "v",
         "showlegend": true,
         "type": "scatter",
         "x": [
          2.359648346441863,
          2.617225217884106
         ],
         "xaxis": "x",
         "y": [
          1.2172782682780903,
          1.2089930540259257
         ],
         "yaxis": "y"
        },
        {
         "customdata": [
          [
           "Wnt signaling pathway, planar cell polarity pathway",
           "15",
           4.761144553549814
          ],
          [
           "ephrin receptor signaling pathway",
           "15",
           4.249223364218778
          ],
          [
           "interleukin-1-mediated signaling pathway",
           "15",
           3.728758692232431
          ],
          [
           "semaphorin-plexin signaling pathway involved in neuron projection guidance",
           "15",
           1.3901341018401616
          ],
          [
           "tumor necrosis factor-mediated signaling pathway",
           "15",
           3.533194878529468
          ],
          [
           "non-canonical Wnt signaling pathway",
           "15",
           3.2366977492901947
          ],
          [
           "interleukin-12-mediated signaling pathway",
           "15",
           1.8485413606829164
          ],
          [
           "vascular endothelial growth factor receptor signaling pathway",
           "15",
           1.7184411616759694
          ],
          [
           "transmembrane receptor protein tyrosine kinase signaling pathway",
           "15",
           2.9261423091417704
          ],
          [
           "insulin receptor signaling pathway",
           "15",
           1.544130749408653
          ],
          [
           "cytokine-mediated signaling pathway",
           "15",
           1.348271240030304
          ]
         ],
         "hovertemplate": "Term=%{customdata[0]}<extra></extra>",
         "legendgroup": "15",
         "marker": {
          "color": "rgb(165, 170, 153)",
          "size": [
           4.761144553549814,
           4.249223364218778,
           3.728758692232431,
           1.3901341018401616,
           3.533194878529468,
           3.2366977492901947,
           1.8485413606829164,
           1.7184411616759694,
           2.9261423091417704,
           1.544130749408653,
           1.348271240030304
          ],
          "sizemode": "area",
          "sizeref": 0.05874786280498522,
          "symbol": "circle"
         },
         "mode": "markers",
         "name": "15",
         "orientation": "v",
         "showlegend": true,
         "type": "scatter",
         "x": [
          -2.5738902341955727,
          -2.3100502471170103,
          -2.1772962868948906,
          -1.9416990003422363,
          -2.3272859486305326,
          -2.252809681276441,
          -2.0863207082180857,
          -2.2481797722937116,
          -2.595804896673834,
          -2.350627180429708,
          -2.570034737951427
         ],
         "xaxis": "x",
         "y": [
          0.06096729713565849,
          0.006413712832669496,
          0.1387670659278912,
          0.24101098582886493,
          0.09564957116949913,
          0.000006712049601527188,
          0.17049730853858336,
          0.0632931230105566,
          -0.1732187262696898,
          -0.029013330299426245,
          -0.11588521696755293
         ],
         "yaxis": "y"
        },
        {
         "customdata": [
          [
           "stimulatory C-type lectin receptor signaling pathway",
           "6",
           4.761144553549814
          ],
          [
           "innate immune response activating cell surface receptor signaling pathway",
           "6",
           4.650835448009355
          ],
          [
           "Fc-epsilon receptor signaling pathway",
           "6",
           4.320364107835985
          ],
          [
           "Fc receptor signaling pathway",
           "6",
           4.283572471354121
          ],
          [
           "T cell receptor signaling pathway",
           "6",
           2.830864092683771
          ],
          [
           "antigen receptor-mediated signaling pathway",
           "6",
           2.297350862463496
          ],
          [
           "Fc-gamma receptor signaling pathway involved in phagocytosis",
           "6",
           1.5985437949202912
          ],
          [
           "Fc-gamma receptor signaling pathway",
           "6",
           1.565609293344208
          ],
          [
           "Fc receptor mediated stimulatory signaling pathway",
           "6",
           1.5144982925412014
          ]
         ],
         "hovertemplate": "Term=%{customdata[0]}<extra></extra>",
         "legendgroup": "6",
         "marker": {
          "color": "rgb(229, 134, 6)",
          "size": [
           4.761144553549814,
           4.650835448009355,
           4.320364107835985,
           4.283572471354121,
           2.830864092683771,
           2.297350862463496,
           1.5985437949202912,
           1.565609293344208,
           1.5144982925412014
          ],
          "sizemode": "area",
          "sizeref": 0.05874786280498522,
          "symbol": "circle"
         },
         "mode": "markers",
         "name": "6",
         "orientation": "v",
         "showlegend": true,
         "type": "scatter",
         "x": [
          -3.177327294806382,
          -3.0996414067568883,
          -2.8767070192767807,
          -2.97969625400054,
          -3.1924080549274194,
          -3.257704627778114,
          -3.29143171405261,
          -2.920164602070952,
          -2.9937046446038047
         ],
         "xaxis": "x",
         "y": [
          -0.07691888703363937,
          -0.18884514658035723,
          -0.32404575800264696,
          -0.3899804176002999,
          -0.25948220991578724,
          -0.2861200262429166,
          -0.3958531586987322,
          -0.3563242812892725,
          -0.12728320782705138
         ],
         "yaxis": "y"
        },
        {
         "customdata": [
          [
           "regulation of mRNA catabolic process",
           "5",
           3.939270287234412
          ],
          [
           "positive regulation of nitric oxide metabolic process",
           "5",
           2.025347068425906
          ],
          [
           "regulation of mRNA stability",
           "5",
           3.724532842596748
          ],
          [
           "regulation of primary metabolic process",
           "5",
           3.0461822074377882
          ],
          [
           "positive regulation of telomere maintenance via telomerase",
           "5",
           1.7540720878043419
          ],
          [
           "positive regulation of telomere maintenance via telomere lengthening",
           "5",
           1.6098033958176576
          ],
          [
           "regulation of macroautophagy",
           "5",
           2.5459069993647243
          ],
          [
           "positive regulation of nitric oxide biosynthetic process",
           "5",
           1.330889200823063
          ],
          [
           "regulation of autophagy",
           "5",
           3.0540133427813627
          ],
          [
           "positive regulation of DNA biosynthetic process",
           "5",
           1.3461870654924417
          ]
         ],
         "hovertemplate": "Term=%{customdata[0]}<extra></extra>",
         "legendgroup": "5",
         "marker": {
          "color": "rgb(93, 105, 177)",
          "size": [
           3.939270287234412,
           2.025347068425906,
           3.724532842596748,
           3.0461822074377882,
           1.7540720878043419,
           1.6098033958176576,
           2.5459069993647243,
           1.330889200823063,
           3.0540133427813627,
           1.3461870654924417
          ],
          "sizemode": "area",
          "sizeref": 0.05874786280498522,
          "symbol": "circle"
         },
         "mode": "markers",
         "name": "5",
         "orientation": "v",
         "showlegend": true,
         "type": "scatter",
         "x": [
          -2.039185014586663,
          -1.9242754528363109,
          -2.272465568772715,
          -1.8547015231649095,
          -2.3862895206634045,
          -2.2860701634028904,
          -1.9301379801865095,
          -2.0085113637858765,
          -2.0494386268537808,
          -2.191807836386192
         ],
         "xaxis": "x",
         "y": [
          1.6249602439254809,
          1.180733093958992,
          1.5681987443305427,
          1.3381766536163981,
          1.2818629673071982,
          1.2292332439700782,
          1.5568190785941096,
          1.190346367566349,
          1.5591038277534504,
          1.208489362112195
         ],
         "yaxis": "y"
        },
        {
         "customdata": [
          [
           "positive regulation of canonical Wnt signaling pathway",
           "3",
           3.6600800557731907
          ],
          [
           "positive regulation of Wnt signaling pathway",
           "3",
           2.9450164906800893
          ],
          [
           "negative regulation of canonical Wnt signaling pathway",
           "3",
           1.8485413606829164
          ],
          [
           "negative regulation of Wnt signaling pathway",
           "3",
           1.7976646627838253
          ],
          [
           "regulation of canonical Wnt signaling pathway",
           "3",
           1.975462687255
          ]
         ],
         "hovertemplate": "Term=%{customdata[0]}<extra></extra>",
         "legendgroup": "3",
         "marker": {
          "color": "rgb(82, 188, 163)",
          "size": [
           3.6600800557731907,
           2.9450164906800893,
           1.8485413606829164,
           1.7976646627838253,
           1.975462687255
          ],
          "sizemode": "area",
          "sizeref": 0.05874786280498522,
          "symbol": "circle"
         },
         "mode": "markers",
         "name": "3",
         "orientation": "v",
         "showlegend": true,
         "type": "scatter",
         "x": [
          -2.8289125696715476,
          -2.8329088334665373,
          -2.6507242559626114,
          -2.6316526088855117,
          -2.6278964539651244
         ],
         "xaxis": "x",
         "y": [
          0.8580035368376403,
          0.8522183861272781,
          0.9837657243886455,
          0.9801547781864639,
          0.9139765776080093
         ],
         "yaxis": "y"
        }
       ],
       "layout": {
        "annotations": [
         {
          "arrowhead": 0,
          "showarrow": true,
          "text": "carboxylic acid<br>metabolic<br>process",
          "x": 2.511420962087857,
          "y": -1.3214069029018518
         },
         {
          "arrowhead": 0,
          "showarrow": true,
          "text": "biological_proc<br>ess",
          "x": -0.34501997865724393,
          "y": 1.564722984724956
         },
         {
          "arrowhead": 0,
          "showarrow": true,
          "text": "organic<br>substance<br>metabolic<br>process",
          "x": -0.0558599930008067,
          "y": -2.6902815356509753
         },
         {
          "arrowhead": 0,
          "showarrow": true,
          "text": "regulation of<br>Wnt signaling<br>pathway",
          "x": -2.7144189443902667,
          "y": 0.9176238006296075
         },
         {
          "arrowhead": 0,
          "showarrow": true,
          "text": "metabolic<br>process",
          "x": 1.0939692174307662,
          "y": -0.4407927628775651
         },
         {
          "arrowhead": 0,
          "showarrow": true,
          "text": "regulation of<br>metabolic<br>process",
          "x": -2.0942883050639254,
          "y": 1.3737923583134795
         },
         {
          "arrowhead": 0,
          "showarrow": true,
          "text": "immune<br>response-<br>regulating cell<br>surface<br>receptor<br>signaling<br>pathway",
          "x": -3.0876428464748322,
          "y": -0.2672058992434115
         },
         {
          "arrowhead": 0,
          "showarrow": true,
          "text": "response to<br>stimulus",
          "x": 0.24160683340806893,
          "y": 2.4860690274431994
         },
         {
          "arrowhead": 0,
          "showarrow": true,
          "text": "oxoacid<br>metabolic<br>process",
          "x": 3.0637103306931843,
          "y": -0.3277044346825408
         },
         {
          "arrowhead": 0,
          "showarrow": true,
          "text": "organic<br>substance<br>catabolic<br>process",
          "x": 1.8825510761251705,
          "y": -2.497757890276718
         },
         {
          "arrowhead": 0,
          "showarrow": true,
          "text": "organic<br>substance<br>metabolic<br>process",
          "x": 1.382702594162254,
          "y": 0.48664725036840084
         },
         {
          "arrowhead": 0,
          "showarrow": true,
          "text": "organic<br>substance<br>metabolic<br>process",
          "x": -0.9191831341040381,
          "y": -2.0511770009143904
         },
         {
          "arrowhead": 0,
          "showarrow": true,
          "text": "carboxylic acid<br>metabolic<br>process",
          "x": 3.1148294018828664,
          "y": -1.7409160551977587
         },
         {
          "arrowhead": 0,
          "showarrow": true,
          "text": "organic<br>substance<br>metabolic<br>process",
          "x": 0.11006964247800052,
          "y": -1.6141637558719233
         },
         {
          "arrowhead": 0,
          "showarrow": true,
          "text": "regulation of<br>cell cycle",
          "x": -2.226926746654099,
          "y": 2.2357792133069974
         },
         {
          "arrowhead": 0,
          "showarrow": true,
          "text": "cell surface<br>receptor<br>signaling<br>pathway",
          "x": -2.312181699456677,
          "y": 0.041680772996059615
         },
         {
          "arrowhead": 0,
          "showarrow": true,
          "text": "metabolic<br>process",
          "x": 1.1442174943238206,
          "y": -1.3627027540937022
         },
         {
          "arrowhead": 0,
          "showarrow": true,
          "text": "metabolic<br>process",
          "x": 0.1824072925129796,
          "y": -0.22713697875736516
         },
         {
          "arrowhead": 0,
          "showarrow": true,
          "text": "hexose<br>metabolic<br>process",
          "x": 2.4884367821629843,
          "y": 1.213135661152008
         },
         {
          "arrowhead": 0,
          "showarrow": true,
          "text": "small molecule<br>metabolic<br>process",
          "x": 2.457535415970664,
          "y": 0.04630489017411443
         },
         {
          "arrowhead": 0,
          "showarrow": true,
          "text": "biological_proc<br>ess",
          "x": -1.1864689869755696,
          "y": 2.2707171883291357
         },
         {
          "arrowhead": 0,
          "showarrow": true,
          "text": "carbohydrate<br>derivative<br>metabolic<br>process",
          "x": 0.8558140738177239,
          "y": -2.9927176313035893
         },
         {
          "arrowhead": 0,
          "showarrow": true,
          "text": "biological<br>regulation",
          "x": -1.3423933128571603,
          "y": 1.4324171419499587
         },
         {
          "arrowhead": 0,
          "showarrow": true,
          "text": "biological_proc<br>ess",
          "x": -1.6758249776844267,
          "y": 0.7252724623071918
         },
         {
          "arrowhead": 0,
          "showarrow": true,
          "text": "organic<br>substance<br>catabolic<br>process",
          "x": 0.9942553468534148,
          "y": -2.325351317417472
         }
        ],
        "height": 700,
        "legend": {
         "itemsizing": "constant",
         "title": {
          "text": "hue"
         },
         "tracegroupgap": 0
        },
        "margin": {
         "t": 60
        },
        "showlegend": false,
        "template": {
         "data": {
          "bar": [
           {
            "error_x": {
             "color": "rgb(36,36,36)"
            },
            "error_y": {
             "color": "rgb(36,36,36)"
            },
            "marker": {
             "line": {
              "color": "white",
              "width": 0.5
             },
             "pattern": {
              "fillmode": "overlay",
              "size": 10,
              "solidity": 0.2
             }
            },
            "type": "bar"
           }
          ],
          "barpolar": [
           {
            "marker": {
             "line": {
              "color": "white",
              "width": 0.5
             },
             "pattern": {
              "fillmode": "overlay",
              "size": 10,
              "solidity": 0.2
             }
            },
            "type": "barpolar"
           }
          ],
          "carpet": [
           {
            "aaxis": {
             "endlinecolor": "rgb(36,36,36)",
             "gridcolor": "white",
             "linecolor": "white",
             "minorgridcolor": "white",
             "startlinecolor": "rgb(36,36,36)"
            },
            "baxis": {
             "endlinecolor": "rgb(36,36,36)",
             "gridcolor": "white",
             "linecolor": "white",
             "minorgridcolor": "white",
             "startlinecolor": "rgb(36,36,36)"
            },
            "type": "carpet"
           }
          ],
          "choropleth": [
           {
            "colorbar": {
             "outlinewidth": 1,
             "tickcolor": "rgb(36,36,36)",
             "ticks": "outside"
            },
            "type": "choropleth"
           }
          ],
          "contour": [
           {
            "colorbar": {
             "outlinewidth": 1,
             "tickcolor": "rgb(36,36,36)",
             "ticks": "outside"
            },
            "colorscale": [
             [
              0,
              "#440154"
             ],
             [
              0.1111111111111111,
              "#482878"
             ],
             [
              0.2222222222222222,
              "#3e4989"
             ],
             [
              0.3333333333333333,
              "#31688e"
             ],
             [
              0.4444444444444444,
              "#26828e"
             ],
             [
              0.5555555555555556,
              "#1f9e89"
             ],
             [
              0.6666666666666666,
              "#35b779"
             ],
             [
              0.7777777777777778,
              "#6ece58"
             ],
             [
              0.8888888888888888,
              "#b5de2b"
             ],
             [
              1,
              "#fde725"
             ]
            ],
            "type": "contour"
           }
          ],
          "contourcarpet": [
           {
            "colorbar": {
             "outlinewidth": 1,
             "tickcolor": "rgb(36,36,36)",
             "ticks": "outside"
            },
            "type": "contourcarpet"
           }
          ],
          "heatmap": [
           {
            "colorbar": {
             "outlinewidth": 1,
             "tickcolor": "rgb(36,36,36)",
             "ticks": "outside"
            },
            "colorscale": [
             [
              0,
              "#440154"
             ],
             [
              0.1111111111111111,
              "#482878"
             ],
             [
              0.2222222222222222,
              "#3e4989"
             ],
             [
              0.3333333333333333,
              "#31688e"
             ],
             [
              0.4444444444444444,
              "#26828e"
             ],
             [
              0.5555555555555556,
              "#1f9e89"
             ],
             [
              0.6666666666666666,
              "#35b779"
             ],
             [
              0.7777777777777778,
              "#6ece58"
             ],
             [
              0.8888888888888888,
              "#b5de2b"
             ],
             [
              1,
              "#fde725"
             ]
            ],
            "type": "heatmap"
           }
          ],
          "heatmapgl": [
           {
            "colorbar": {
             "outlinewidth": 1,
             "tickcolor": "rgb(36,36,36)",
             "ticks": "outside"
            },
            "colorscale": [
             [
              0,
              "#440154"
             ],
             [
              0.1111111111111111,
              "#482878"
             ],
             [
              0.2222222222222222,
              "#3e4989"
             ],
             [
              0.3333333333333333,
              "#31688e"
             ],
             [
              0.4444444444444444,
              "#26828e"
             ],
             [
              0.5555555555555556,
              "#1f9e89"
             ],
             [
              0.6666666666666666,
              "#35b779"
             ],
             [
              0.7777777777777778,
              "#6ece58"
             ],
             [
              0.8888888888888888,
              "#b5de2b"
             ],
             [
              1,
              "#fde725"
             ]
            ],
            "type": "heatmapgl"
           }
          ],
          "histogram": [
           {
            "marker": {
             "line": {
              "color": "white",
              "width": 0.6
             }
            },
            "type": "histogram"
           }
          ],
          "histogram2d": [
           {
            "colorbar": {
             "outlinewidth": 1,
             "tickcolor": "rgb(36,36,36)",
             "ticks": "outside"
            },
            "colorscale": [
             [
              0,
              "#440154"
             ],
             [
              0.1111111111111111,
              "#482878"
             ],
             [
              0.2222222222222222,
              "#3e4989"
             ],
             [
              0.3333333333333333,
              "#31688e"
             ],
             [
              0.4444444444444444,
              "#26828e"
             ],
             [
              0.5555555555555556,
              "#1f9e89"
             ],
             [
              0.6666666666666666,
              "#35b779"
             ],
             [
              0.7777777777777778,
              "#6ece58"
             ],
             [
              0.8888888888888888,
              "#b5de2b"
             ],
             [
              1,
              "#fde725"
             ]
            ],
            "type": "histogram2d"
           }
          ],
          "histogram2dcontour": [
           {
            "colorbar": {
             "outlinewidth": 1,
             "tickcolor": "rgb(36,36,36)",
             "ticks": "outside"
            },
            "colorscale": [
             [
              0,
              "#440154"
             ],
             [
              0.1111111111111111,
              "#482878"
             ],
             [
              0.2222222222222222,
              "#3e4989"
             ],
             [
              0.3333333333333333,
              "#31688e"
             ],
             [
              0.4444444444444444,
              "#26828e"
             ],
             [
              0.5555555555555556,
              "#1f9e89"
             ],
             [
              0.6666666666666666,
              "#35b779"
             ],
             [
              0.7777777777777778,
              "#6ece58"
             ],
             [
              0.8888888888888888,
              "#b5de2b"
             ],
             [
              1,
              "#fde725"
             ]
            ],
            "type": "histogram2dcontour"
           }
          ],
          "mesh3d": [
           {
            "colorbar": {
             "outlinewidth": 1,
             "tickcolor": "rgb(36,36,36)",
             "ticks": "outside"
            },
            "type": "mesh3d"
           }
          ],
          "parcoords": [
           {
            "line": {
             "colorbar": {
              "outlinewidth": 1,
              "tickcolor": "rgb(36,36,36)",
              "ticks": "outside"
             }
            },
            "type": "parcoords"
           }
          ],
          "pie": [
           {
            "automargin": true,
            "type": "pie"
           }
          ],
          "scatter": [
           {
            "fillpattern": {
             "fillmode": "overlay",
             "size": 10,
             "solidity": 0.2
            },
            "type": "scatter"
           }
          ],
          "scatter3d": [
           {
            "line": {
             "colorbar": {
              "outlinewidth": 1,
              "tickcolor": "rgb(36,36,36)",
              "ticks": "outside"
             }
            },
            "marker": {
             "colorbar": {
              "outlinewidth": 1,
              "tickcolor": "rgb(36,36,36)",
              "ticks": "outside"
             }
            },
            "type": "scatter3d"
           }
          ],
          "scattercarpet": [
           {
            "marker": {
             "colorbar": {
              "outlinewidth": 1,
              "tickcolor": "rgb(36,36,36)",
              "ticks": "outside"
             }
            },
            "type": "scattercarpet"
           }
          ],
          "scattergeo": [
           {
            "marker": {
             "colorbar": {
              "outlinewidth": 1,
              "tickcolor": "rgb(36,36,36)",
              "ticks": "outside"
             }
            },
            "type": "scattergeo"
           }
          ],
          "scattergl": [
           {
            "marker": {
             "colorbar": {
              "outlinewidth": 1,
              "tickcolor": "rgb(36,36,36)",
              "ticks": "outside"
             }
            },
            "type": "scattergl"
           }
          ],
          "scattermapbox": [
           {
            "marker": {
             "colorbar": {
              "outlinewidth": 1,
              "tickcolor": "rgb(36,36,36)",
              "ticks": "outside"
             }
            },
            "type": "scattermapbox"
           }
          ],
          "scatterpolar": [
           {
            "marker": {
             "colorbar": {
              "outlinewidth": 1,
              "tickcolor": "rgb(36,36,36)",
              "ticks": "outside"
             }
            },
            "type": "scatterpolar"
           }
          ],
          "scatterpolargl": [
           {
            "marker": {
             "colorbar": {
              "outlinewidth": 1,
              "tickcolor": "rgb(36,36,36)",
              "ticks": "outside"
             }
            },
            "type": "scatterpolargl"
           }
          ],
          "scatterternary": [
           {
            "marker": {
             "colorbar": {
              "outlinewidth": 1,
              "tickcolor": "rgb(36,36,36)",
              "ticks": "outside"
             }
            },
            "type": "scatterternary"
           }
          ],
          "surface": [
           {
            "colorbar": {
             "outlinewidth": 1,
             "tickcolor": "rgb(36,36,36)",
             "ticks": "outside"
            },
            "colorscale": [
             [
              0,
              "#440154"
             ],
             [
              0.1111111111111111,
              "#482878"
             ],
             [
              0.2222222222222222,
              "#3e4989"
             ],
             [
              0.3333333333333333,
              "#31688e"
             ],
             [
              0.4444444444444444,
              "#26828e"
             ],
             [
              0.5555555555555556,
              "#1f9e89"
             ],
             [
              0.6666666666666666,
              "#35b779"
             ],
             [
              0.7777777777777778,
              "#6ece58"
             ],
             [
              0.8888888888888888,
              "#b5de2b"
             ],
             [
              1,
              "#fde725"
             ]
            ],
            "type": "surface"
           }
          ],
          "table": [
           {
            "cells": {
             "fill": {
              "color": "rgb(237,237,237)"
             },
             "line": {
              "color": "white"
             }
            },
            "header": {
             "fill": {
              "color": "rgb(217,217,217)"
             },
             "line": {
              "color": "white"
             }
            },
            "type": "table"
           }
          ]
         },
         "layout": {
          "annotationdefaults": {
           "arrowhead": 0,
           "arrowwidth": 1
          },
          "autotypenumbers": "strict",
          "coloraxis": {
           "colorbar": {
            "outlinewidth": 1,
            "tickcolor": "rgb(36,36,36)",
            "ticks": "outside"
           }
          },
          "colorscale": {
           "diverging": [
            [
             0,
             "rgb(103,0,31)"
            ],
            [
             0.1,
             "rgb(178,24,43)"
            ],
            [
             0.2,
             "rgb(214,96,77)"
            ],
            [
             0.3,
             "rgb(244,165,130)"
            ],
            [
             0.4,
             "rgb(253,219,199)"
            ],
            [
             0.5,
             "rgb(247,247,247)"
            ],
            [
             0.6,
             "rgb(209,229,240)"
            ],
            [
             0.7,
             "rgb(146,197,222)"
            ],
            [
             0.8,
             "rgb(67,147,195)"
            ],
            [
             0.9,
             "rgb(33,102,172)"
            ],
            [
             1,
             "rgb(5,48,97)"
            ]
           ],
           "sequential": [
            [
             0,
             "#440154"
            ],
            [
             0.1111111111111111,
             "#482878"
            ],
            [
             0.2222222222222222,
             "#3e4989"
            ],
            [
             0.3333333333333333,
             "#31688e"
            ],
            [
             0.4444444444444444,
             "#26828e"
            ],
            [
             0.5555555555555556,
             "#1f9e89"
            ],
            [
             0.6666666666666666,
             "#35b779"
            ],
            [
             0.7777777777777778,
             "#6ece58"
            ],
            [
             0.8888888888888888,
             "#b5de2b"
            ],
            [
             1,
             "#fde725"
            ]
           ],
           "sequentialminus": [
            [
             0,
             "#440154"
            ],
            [
             0.1111111111111111,
             "#482878"
            ],
            [
             0.2222222222222222,
             "#3e4989"
            ],
            [
             0.3333333333333333,
             "#31688e"
            ],
            [
             0.4444444444444444,
             "#26828e"
            ],
            [
             0.5555555555555556,
             "#1f9e89"
            ],
            [
             0.6666666666666666,
             "#35b779"
            ],
            [
             0.7777777777777778,
             "#6ece58"
            ],
            [
             0.8888888888888888,
             "#b5de2b"
            ],
            [
             1,
             "#fde725"
            ]
           ]
          },
          "colorway": [
           "#1F77B4",
           "#FF7F0E",
           "#2CA02C",
           "#D62728",
           "#9467BD",
           "#8C564B",
           "#E377C2",
           "#7F7F7F",
           "#BCBD22",
           "#17BECF"
          ],
          "font": {
           "color": "rgb(36,36,36)"
          },
          "geo": {
           "bgcolor": "white",
           "lakecolor": "white",
           "landcolor": "white",
           "showlakes": true,
           "showland": true,
           "subunitcolor": "white"
          },
          "hoverlabel": {
           "align": "left"
          },
          "hovermode": "closest",
          "mapbox": {
           "style": "light"
          },
          "paper_bgcolor": "white",
          "plot_bgcolor": "white",
          "polar": {
           "angularaxis": {
            "gridcolor": "rgb(232,232,232)",
            "linecolor": "rgb(36,36,36)",
            "showgrid": false,
            "showline": true,
            "ticks": "outside"
           },
           "bgcolor": "white",
           "radialaxis": {
            "gridcolor": "rgb(232,232,232)",
            "linecolor": "rgb(36,36,36)",
            "showgrid": false,
            "showline": true,
            "ticks": "outside"
           }
          },
          "scene": {
           "xaxis": {
            "backgroundcolor": "white",
            "gridcolor": "rgb(232,232,232)",
            "gridwidth": 2,
            "linecolor": "rgb(36,36,36)",
            "showbackground": true,
            "showgrid": false,
            "showline": true,
            "ticks": "outside",
            "zeroline": false,
            "zerolinecolor": "rgb(36,36,36)"
           },
           "yaxis": {
            "backgroundcolor": "white",
            "gridcolor": "rgb(232,232,232)",
            "gridwidth": 2,
            "linecolor": "rgb(36,36,36)",
            "showbackground": true,
            "showgrid": false,
            "showline": true,
            "ticks": "outside",
            "zeroline": false,
            "zerolinecolor": "rgb(36,36,36)"
           },
           "zaxis": {
            "backgroundcolor": "white",
            "gridcolor": "rgb(232,232,232)",
            "gridwidth": 2,
            "linecolor": "rgb(36,36,36)",
            "showbackground": true,
            "showgrid": false,
            "showline": true,
            "ticks": "outside",
            "zeroline": false,
            "zerolinecolor": "rgb(36,36,36)"
           }
          },
          "shapedefaults": {
           "fillcolor": "black",
           "line": {
            "width": 0
           },
           "opacity": 0.3
          },
          "ternary": {
           "aaxis": {
            "gridcolor": "rgb(232,232,232)",
            "linecolor": "rgb(36,36,36)",
            "showgrid": false,
            "showline": true,
            "ticks": "outside"
           },
           "baxis": {
            "gridcolor": "rgb(232,232,232)",
            "linecolor": "rgb(36,36,36)",
            "showgrid": false,
            "showline": true,
            "ticks": "outside"
           },
           "bgcolor": "white",
           "caxis": {
            "gridcolor": "rgb(232,232,232)",
            "linecolor": "rgb(36,36,36)",
            "showgrid": false,
            "showline": true,
            "ticks": "outside"
           }
          },
          "title": {
           "x": 0.05
          },
          "xaxis": {
           "automargin": true,
           "gridcolor": "rgb(232,232,232)",
           "linecolor": "rgb(36,36,36)",
           "showgrid": false,
           "showline": true,
           "ticks": "outside",
           "title": {
            "standoff": 15
           },
           "zeroline": false,
           "zerolinecolor": "rgb(36,36,36)"
          },
          "yaxis": {
           "automargin": true,
           "gridcolor": "rgb(232,232,232)",
           "linecolor": "rgb(36,36,36)",
           "showgrid": false,
           "showline": true,
           "ticks": "outside",
           "title": {
            "standoff": 15
           },
           "zeroline": false,
           "zerolinecolor": "rgb(36,36,36)"
          }
         }
        },
        "width": 700,
        "xaxis": {
         "anchor": "y",
         "domain": [
          0,
          1
         ],
         "title": {
          "text": "MDS1"
         }
        },
        "yaxis": {
         "anchor": "x",
         "domain": [
          0,
          1
         ],
         "title": {
          "text": "MDS2"
         }
        }
       }
      }
     },
     "metadata": {},
     "output_type": "display_data"
    }
   ],
   "source": [
    "#\n",
    "X_transformed, hue, labels, names, centers, pvalues = enr.prepare_data_for_enrichment_mds(go_datasets[0], godag, termcounts)\n",
    "enr.plot_enrichment_mds(X_transformed, hue, names, centers, pvalues)\n",
    "data = enr.create_plotly_data(X_transformed, hue, go_datasets[0], godag)\n",
    "enr.plot_interactive_enrichment_mds(data, labels, centers, names)"
   ]
  },
  {
   "cell_type": "code",
   "execution_count": null,
   "metadata": {},
   "outputs": [],
   "source": []
  }
 ],
 "metadata": {
  "kernelspec": {
   "display_name": "DiannOOP",
   "language": "python",
   "name": "python3"
  },
  "language_info": {
   "codemirror_mode": {
    "name": "ipython",
    "version": 3
   },
   "file_extension": ".py",
   "mimetype": "text/x-python",
   "name": "python",
   "nbconvert_exporter": "python",
   "pygments_lexer": "ipython3",
   "version": "3.11.3"
  }
 },
 "nbformat": 4,
 "nbformat_minor": 2
}
